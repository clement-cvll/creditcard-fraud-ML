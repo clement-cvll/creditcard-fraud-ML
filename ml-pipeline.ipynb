{
 "cells": [
  {
   "attachments": {},
   "cell_type": "markdown",
   "metadata": {},
   "source": [
    "# Pipeline"
   ]
  },
  {
   "attachments": {},
   "cell_type": "markdown",
   "metadata": {},
   "source": [
    "### Data input"
   ]
  },
  {
   "cell_type": "code",
   "execution_count": 42,
   "metadata": {},
   "outputs": [],
   "source": [
    "import pandas as pd\n",
    "import matplotlib.pyplot as plt\n",
    "\n",
    "# Importing the dataset\n",
    "df = pd.read_csv('creditcard.csv')\n",
    "df = df.drop(['Time'], axis=1)\n",
    "df.reset_index(drop=True, inplace=True)"
   ]
  },
  {
   "attachments": {},
   "cell_type": "markdown",
   "metadata": {},
   "source": [
    "### Data preprocessing"
   ]
  },
  {
   "attachments": {},
   "cell_type": "markdown",
   "metadata": {},
   "source": [
    "### Model hyperparameter tuning"
   ]
  },
  {
   "cell_type": "code",
   "execution_count": 43,
   "metadata": {},
   "outputs": [],
   "source": [
    "from sklearn.preprocessing import RobustScaler\n",
    "from sklearn.pipeline import make_pipeline\n",
    "from sklearn.model_selection import GridSearchCV\n",
    "from sklearn.feature_selection import SelectKBest\n",
    "from sklearn.linear_model import LogisticRegression\n",
    "from sklearn.metrics import f1_score, make_scorer \n",
    "\n",
    "pipeline = make_pipeline(\n",
    "    RobustScaler(),\n",
    "    SelectKBest(),\n",
    "    LogisticRegression()\n",
    ")\n",
    "\n",
    "params_grid = {\n",
    "    'selectkbest__k': [5, 15, 25],\n",
    "    'logisticregression__C': [ 0.1, 1, 5, 10, 25, 50, 100],\n",
    "    'logisticregression__solver': ['lbfgs', 'liblinear', 'sag', 'saga'],\n",
    "    'logisticregression__max_iter': [100, 200, 500],\n",
    "}"
   ]
  },
  {
   "attachments": {},
   "cell_type": "markdown",
   "metadata": {},
   "source": [
    "As the data set in very unbalanced, we will use the F1 score as the metric to evaluate the model performance."
   ]
  },
  {
   "cell_type": "code",
   "execution_count": 44,
   "metadata": {},
   "outputs": [
    {
     "name": "stdout",
     "output_type": "stream",
     "text": [
      "Fitting 5 folds for each of 10 candidates, totalling 50 fits\n"
     ]
    }
   ],
   "source": [
    "from sklearn.model_selection import train_test_split\n",
    "from sklearn.model_selection import RandomizedSearchCV\n",
    "\n",
    "# Split data\n",
    "X_train, X_test, y_train, y_test = train_test_split(df.drop(['Class'], axis=1), df['Class'], test_size=0.2, random_state=42)\n",
    "\n",
    "# Train model\n",
    "grid = RandomizedSearchCV(pipeline, params_grid, scoring=make_scorer(f1_score, average='macro'), cv=5, n_jobs=-1, n_iter=10, verbose=2).fit(X_train, y_train)\n",
    "model = grid.best_estimator_\n",
    "\n",
    "# Evaluate model\n",
    "X_train, X_test, y_train, y_test = train_test_split(df.drop(['Class'], axis=1), df['Class'], test_size=0.2, random_state=42)\n",
    "model.fit(X_train, y_train)\n",
    "y_pred = pd.DataFrame(model.predict_proba(X_test)[:,-1] > 0.5)\n",
    "y_test = pd.DataFrame(y_test)\n",
    "f1_score_ = f1_score(y_test, y_pred)"
   ]
  },
  {
   "cell_type": "code",
   "execution_count": 45,
   "metadata": {},
   "outputs": [
    {
     "data": {
      "text/html": [
       "<div>\n",
       "<style scoped>\n",
       "    .dataframe tbody tr th:only-of-type {\n",
       "        vertical-align: middle;\n",
       "    }\n",
       "\n",
       "    .dataframe tbody tr th {\n",
       "        vertical-align: top;\n",
       "    }\n",
       "\n",
       "    .dataframe thead th {\n",
       "        text-align: right;\n",
       "    }\n",
       "</style>\n",
       "<table border=\"1\" class=\"dataframe\">\n",
       "  <thead>\n",
       "    <tr style=\"text-align: right;\">\n",
       "      <th></th>\n",
       "      <th>Not Fraud</th>\n",
       "      <th>Fraud</th>\n",
       "      <th>accuracy</th>\n",
       "      <th>macro avg</th>\n",
       "      <th>weighted avg</th>\n",
       "    </tr>\n",
       "  </thead>\n",
       "  <tbody>\n",
       "    <tr>\n",
       "      <th>precision</th>\n",
       "      <td>0.999262</td>\n",
       "      <td>0.861538</td>\n",
       "      <td>0.999105</td>\n",
       "      <td>0.930400</td>\n",
       "      <td>0.999025</td>\n",
       "    </tr>\n",
       "    <tr>\n",
       "      <th>recall</th>\n",
       "      <td>0.999842</td>\n",
       "      <td>0.571429</td>\n",
       "      <td>0.999105</td>\n",
       "      <td>0.785635</td>\n",
       "      <td>0.999105</td>\n",
       "    </tr>\n",
       "    <tr>\n",
       "      <th>f1-score</th>\n",
       "      <td>0.999552</td>\n",
       "      <td>0.687117</td>\n",
       "      <td>0.999105</td>\n",
       "      <td>0.843334</td>\n",
       "      <td>0.999014</td>\n",
       "    </tr>\n",
       "    <tr>\n",
       "      <th>support</th>\n",
       "      <td>56864.000000</td>\n",
       "      <td>98.000000</td>\n",
       "      <td>0.999105</td>\n",
       "      <td>56962.000000</td>\n",
       "      <td>56962.000000</td>\n",
       "    </tr>\n",
       "  </tbody>\n",
       "</table>\n",
       "</div>"
      ],
      "text/plain": [
       "              Not Fraud      Fraud  accuracy     macro avg  weighted avg\n",
       "precision      0.999262   0.861538  0.999105      0.930400      0.999025\n",
       "recall         0.999842   0.571429  0.999105      0.785635      0.999105\n",
       "f1-score       0.999552   0.687117  0.999105      0.843334      0.999014\n",
       "support    56864.000000  98.000000  0.999105  56962.000000  56962.000000"
      ]
     },
     "execution_count": 45,
     "metadata": {},
     "output_type": "execute_result"
    }
   ],
   "source": [
    "from sklearn.metrics import classification_report\n",
    "pd.DataFrame(classification_report(y_test, y_pred, output_dict=True, target_names=['Not Fraud', 'Fraud'], digits=4))"
   ]
  },
  {
   "cell_type": "markdown",
   "metadata": {},
   "source": [
    "For LogisticRegression, we manage to have an average f1 score of 0.84."
   ]
  },
  {
   "cell_type": "code",
   "execution_count": 46,
   "metadata": {},
   "outputs": [],
   "source": [
    "import xgboost as xgb\n",
    "\n",
    "pipeline = make_pipeline(\n",
    "    RobustScaler(),\n",
    "    SelectKBest(),\n",
    "    xgb.XGBClassifier(early_stopping_rounds=2, tree_method='hist')\n",
    ")\n",
    "\n",
    "params_grid = {\n",
    "    'selectkbest__k': [5, 15, 25],\n",
    "    'xgbclassifier__max_depth': [3, 5, 7],\n",
    "    'xgbclassifier__learning_rate': [0.1, 0.01, 0.05],\n",
    "}"
   ]
  },
  {
   "cell_type": "code",
   "execution_count": 47,
   "metadata": {},
   "outputs": [
    {
     "name": "stderr",
     "output_type": "stream",
     "text": [
      "c:\\Users\\cleme\\Desktop\\projects\\creditcard-fraud-ML\\venv\\Lib\\site-packages\\xgboost\\data.py:335: FutureWarning: is_sparse is deprecated and will be removed in a future version. Check `isinstance(dtype, pd.SparseDtype)` instead.\n",
      "  if is_sparse(dtype):\n",
      "c:\\Users\\cleme\\Desktop\\projects\\creditcard-fraud-ML\\venv\\Lib\\site-packages\\xgboost\\data.py:338: FutureWarning: is_categorical_dtype is deprecated and will be removed in a future version. Use isinstance(dtype, CategoricalDtype) instead\n",
      "  is_categorical_dtype(dtype) or is_pa_ext_categorical_dtype(dtype)\n",
      "c:\\Users\\cleme\\Desktop\\projects\\creditcard-fraud-ML\\venv\\Lib\\site-packages\\xgboost\\data.py:384: FutureWarning: is_categorical_dtype is deprecated and will be removed in a future version. Use isinstance(dtype, CategoricalDtype) instead\n",
      "  if is_categorical_dtype(dtype):\n",
      "c:\\Users\\cleme\\Desktop\\projects\\creditcard-fraud-ML\\venv\\Lib\\site-packages\\xgboost\\data.py:359: FutureWarning: is_categorical_dtype is deprecated and will be removed in a future version. Use isinstance(dtype, CategoricalDtype) instead\n",
      "  return is_int or is_bool or is_float or is_categorical_dtype(dtype)\n",
      "c:\\Users\\cleme\\Desktop\\projects\\creditcard-fraud-ML\\venv\\Lib\\site-packages\\xgboost\\data.py:520: FutureWarning: is_sparse is deprecated and will be removed in a future version. Check `isinstance(dtype, pd.SparseDtype)` instead.\n",
      "  if is_sparse(data):\n",
      "c:\\Users\\cleme\\Desktop\\projects\\creditcard-fraud-ML\\venv\\Lib\\site-packages\\xgboost\\data.py:335: FutureWarning: is_sparse is deprecated and will be removed in a future version. Check `isinstance(dtype, pd.SparseDtype)` instead.\n",
      "  if is_sparse(dtype):\n",
      "c:\\Users\\cleme\\Desktop\\projects\\creditcard-fraud-ML\\venv\\Lib\\site-packages\\xgboost\\data.py:338: FutureWarning: is_categorical_dtype is deprecated and will be removed in a future version. Use isinstance(dtype, CategoricalDtype) instead\n",
      "  is_categorical_dtype(dtype) or is_pa_ext_categorical_dtype(dtype)\n",
      "c:\\Users\\cleme\\Desktop\\projects\\creditcard-fraud-ML\\venv\\Lib\\site-packages\\xgboost\\data.py:384: FutureWarning: is_categorical_dtype is deprecated and will be removed in a future version. Use isinstance(dtype, CategoricalDtype) instead\n",
      "  if is_categorical_dtype(dtype):\n",
      "c:\\Users\\cleme\\Desktop\\projects\\creditcard-fraud-ML\\venv\\Lib\\site-packages\\xgboost\\data.py:359: FutureWarning: is_categorical_dtype is deprecated and will be removed in a future version. Use isinstance(dtype, CategoricalDtype) instead\n",
      "  return is_int or is_bool or is_float or is_categorical_dtype(dtype)\n",
      "c:\\Users\\cleme\\Desktop\\projects\\creditcard-fraud-ML\\venv\\Lib\\site-packages\\xgboost\\data.py:520: FutureWarning: is_sparse is deprecated and will be removed in a future version. Check `isinstance(dtype, pd.SparseDtype)` instead.\n",
      "  if is_sparse(data):\n",
      "c:\\Users\\cleme\\Desktop\\projects\\creditcard-fraud-ML\\venv\\Lib\\site-packages\\xgboost\\data.py:335: FutureWarning: is_sparse is deprecated and will be removed in a future version. Check `isinstance(dtype, pd.SparseDtype)` instead.\n",
      "  if is_sparse(dtype):\n",
      "c:\\Users\\cleme\\Desktop\\projects\\creditcard-fraud-ML\\venv\\Lib\\site-packages\\xgboost\\data.py:338: FutureWarning: is_categorical_dtype is deprecated and will be removed in a future version. Use isinstance(dtype, CategoricalDtype) instead\n",
      "  is_categorical_dtype(dtype) or is_pa_ext_categorical_dtype(dtype)\n",
      "c:\\Users\\cleme\\Desktop\\projects\\creditcard-fraud-ML\\venv\\Lib\\site-packages\\xgboost\\data.py:384: FutureWarning: is_categorical_dtype is deprecated and will be removed in a future version. Use isinstance(dtype, CategoricalDtype) instead\n",
      "  if is_categorical_dtype(dtype):\n",
      "c:\\Users\\cleme\\Desktop\\projects\\creditcard-fraud-ML\\venv\\Lib\\site-packages\\xgboost\\data.py:359: FutureWarning: is_categorical_dtype is deprecated and will be removed in a future version. Use isinstance(dtype, CategoricalDtype) instead\n",
      "  return is_int or is_bool or is_float or is_categorical_dtype(dtype)\n",
      "c:\\Users\\cleme\\Desktop\\projects\\creditcard-fraud-ML\\venv\\Lib\\site-packages\\xgboost\\data.py:520: FutureWarning: is_sparse is deprecated and will be removed in a future version. Check `isinstance(dtype, pd.SparseDtype)` instead.\n",
      "  if is_sparse(data):\n",
      "c:\\Users\\cleme\\Desktop\\projects\\creditcard-fraud-ML\\venv\\Lib\\site-packages\\xgboost\\core.py:726: FutureWarning: Pass `evals` as keyword args.\n",
      "  warnings.warn(msg, FutureWarning)\n"
     ]
    },
    {
     "name": "stdout",
     "output_type": "stream",
     "text": [
      "[0]\teval-logloss:0.12364\ttrain-logloss:0.12442\n",
      "[10]\teval-logloss:0.07350\ttrain-logloss:0.07384\n",
      "[20]\teval-logloss:0.04465\ttrain-logloss:0.04485\n",
      "[30]\teval-logloss:0.02767\ttrain-logloss:0.02780\n",
      "[40]\teval-logloss:0.01758\ttrain-logloss:0.01766\n",
      "[50]\teval-logloss:0.01155\ttrain-logloss:0.01159\n",
      "[60]\teval-logloss:0.00793\ttrain-logloss:0.00793\n",
      "[70]\teval-logloss:0.00578\ttrain-logloss:0.00573\n",
      "[80]\teval-logloss:0.00453\ttrain-logloss:0.00440\n",
      "[90]\teval-logloss:0.00378\ttrain-logloss:0.00358\n",
      "[99]\teval-logloss:0.00338\ttrain-logloss:0.00311\n"
     ]
    },
    {
     "name": "stderr",
     "output_type": "stream",
     "text": [
      "c:\\Users\\cleme\\Desktop\\projects\\creditcard-fraud-ML\\venv\\Lib\\site-packages\\xgboost\\core.py:726: FutureWarning: Pass `evals` as keyword args.\n",
      "  warnings.warn(msg, FutureWarning)\n"
     ]
    },
    {
     "name": "stdout",
     "output_type": "stream",
     "text": [
      "[0]\teval-logloss:0.12363\ttrain-logloss:0.12441\n",
      "[10]\teval-logloss:0.07352\ttrain-logloss:0.07383\n",
      "[20]\teval-logloss:0.04465\ttrain-logloss:0.04481\n",
      "[30]\teval-logloss:0.02766\ttrain-logloss:0.02773\n",
      "[40]\teval-logloss:0.01755\ttrain-logloss:0.01756\n",
      "[50]\teval-logloss:0.01151\ttrain-logloss:0.01148\n",
      "[60]\teval-logloss:0.00789\ttrain-logloss:0.00782\n",
      "[70]\teval-logloss:0.00577\ttrain-logloss:0.00561\n",
      "[80]\teval-logloss:0.00452\ttrain-logloss:0.00428\n",
      "[90]\teval-logloss:0.00379\ttrain-logloss:0.00347\n",
      "[99]\teval-logloss:0.00340\ttrain-logloss:0.00300\n"
     ]
    },
    {
     "name": "stderr",
     "output_type": "stream",
     "text": [
      "c:\\Users\\cleme\\Desktop\\projects\\creditcard-fraud-ML\\venv\\Lib\\site-packages\\xgboost\\core.py:726: FutureWarning: Pass `evals` as keyword args.\n",
      "  warnings.warn(msg, FutureWarning)\n"
     ]
    },
    {
     "name": "stdout",
     "output_type": "stream",
     "text": [
      "[0]\teval-logloss:0.12364\ttrain-logloss:0.12442\n",
      "[10]\teval-logloss:0.07350\ttrain-logloss:0.07384\n",
      "[20]\teval-logloss:0.04465\ttrain-logloss:0.04485\n",
      "[30]\teval-logloss:0.02767\ttrain-logloss:0.02780\n",
      "[40]\teval-logloss:0.01758\ttrain-logloss:0.01766\n",
      "[50]\teval-logloss:0.01155\ttrain-logloss:0.01159\n",
      "[60]\teval-logloss:0.00793\ttrain-logloss:0.00793\n",
      "[70]\teval-logloss:0.00578\ttrain-logloss:0.00573\n",
      "[80]\teval-logloss:0.00453\ttrain-logloss:0.00440\n",
      "[90]\teval-logloss:0.00378\ttrain-logloss:0.00358\n",
      "[99]\teval-logloss:0.00338\ttrain-logloss:0.00311\n",
      "[0]\teval-logloss:0.12362\ttrain-logloss:0.12440\n",
      "[10]\teval-logloss:0.07342\ttrain-logloss:0.07367\n"
     ]
    },
    {
     "name": "stderr",
     "output_type": "stream",
     "text": [
      "c:\\Users\\cleme\\Desktop\\projects\\creditcard-fraud-ML\\venv\\Lib\\site-packages\\xgboost\\core.py:726: FutureWarning: Pass `evals` as keyword args.\n",
      "  warnings.warn(msg, FutureWarning)\n"
     ]
    },
    {
     "name": "stdout",
     "output_type": "stream",
     "text": [
      "[20]\teval-logloss:0.04451\ttrain-logloss:0.04458\n",
      "[30]\teval-logloss:0.02748\ttrain-logloss:0.02736\n",
      "[40]\teval-logloss:0.01735\ttrain-logloss:0.01707\n",
      "[50]\teval-logloss:0.01130\ttrain-logloss:0.01084\n",
      "[60]\teval-logloss:0.00771\ttrain-logloss:0.00706\n",
      "[70]\teval-logloss:0.00557\ttrain-logloss:0.00473\n",
      "[80]\teval-logloss:0.00427\ttrain-logloss:0.00327\n",
      "[90]\teval-logloss:0.00352\ttrain-logloss:0.00236\n",
      "[99]\teval-logloss:0.00313\ttrain-logloss:0.00182\n",
      "[0]\teval-logloss:0.12363\ttrain-logloss:0.12439\n"
     ]
    },
    {
     "name": "stderr",
     "output_type": "stream",
     "text": [
      "c:\\Users\\cleme\\Desktop\\projects\\creditcard-fraud-ML\\venv\\Lib\\site-packages\\xgboost\\core.py:726: FutureWarning: Pass `evals` as keyword args.\n",
      "  warnings.warn(msg, FutureWarning)\n"
     ]
    },
    {
     "name": "stdout",
     "output_type": "stream",
     "text": [
      "[10]\teval-logloss:0.07343\ttrain-logloss:0.07366\n",
      "[20]\teval-logloss:0.04453\ttrain-logloss:0.04456\n",
      "[30]\teval-logloss:0.02752\ttrain-logloss:0.02736\n",
      "[40]\teval-logloss:0.01740\ttrain-logloss:0.01706\n",
      "[50]\teval-logloss:0.01137\ttrain-logloss:0.01085\n",
      "[60]\teval-logloss:0.00779\ttrain-logloss:0.00706\n",
      "[70]\teval-logloss:0.00565\ttrain-logloss:0.00473\n",
      "[80]\teval-logloss:0.00438\ttrain-logloss:0.00328\n",
      "[90]\teval-logloss:0.00362\ttrain-logloss:0.00237\n",
      "[99]\teval-logloss:0.00322\ttrain-logloss:0.00181\n"
     ]
    },
    {
     "name": "stderr",
     "output_type": "stream",
     "text": [
      "c:\\Users\\cleme\\Desktop\\projects\\creditcard-fraud-ML\\venv\\Lib\\site-packages\\xgboost\\core.py:726: FutureWarning: Pass `evals` as keyword args.\n",
      "  warnings.warn(msg, FutureWarning)\n"
     ]
    },
    {
     "name": "stdout",
     "output_type": "stream",
     "text": [
      "[0]\teval-logloss:0.12362\ttrain-logloss:0.12440\n",
      "[10]\teval-logloss:0.07342\ttrain-logloss:0.07367\n",
      "[20]\teval-logloss:0.04451\ttrain-logloss:0.04458\n",
      "[30]\teval-logloss:0.02748\ttrain-logloss:0.02736\n",
      "[40]\teval-logloss:0.01735\ttrain-logloss:0.01707\n",
      "[50]\teval-logloss:0.01130\ttrain-logloss:0.01084\n",
      "[60]\teval-logloss:0.00771\ttrain-logloss:0.00706\n",
      "[70]\teval-logloss:0.00557\ttrain-logloss:0.00473\n",
      "[80]\teval-logloss:0.00427\ttrain-logloss:0.00327\n",
      "[90]\teval-logloss:0.00352\ttrain-logloss:0.00236\n",
      "[99]\teval-logloss:0.00313\ttrain-logloss:0.00182\n",
      "[0]\teval-logloss:0.11712\ttrain-logloss:0.11776\n"
     ]
    },
    {
     "name": "stderr",
     "output_type": "stream",
     "text": [
      "c:\\Users\\cleme\\Desktop\\projects\\creditcard-fraud-ML\\venv\\Lib\\site-packages\\xgboost\\core.py:726: FutureWarning: Pass `evals` as keyword args.\n",
      "  warnings.warn(msg, FutureWarning)\n"
     ]
    },
    {
     "name": "stdout",
     "output_type": "stream",
     "text": [
      "[10]\teval-logloss:0.04242\ttrain-logloss:0.04259\n",
      "[20]\teval-logloss:0.01677\ttrain-logloss:0.01684\n",
      "[30]\teval-logloss:0.00763\ttrain-logloss:0.00763\n",
      "[40]\teval-logloss:0.00442\ttrain-logloss:0.00428\n",
      "[50]\teval-logloss:0.00331\ttrain-logloss:0.00302\n",
      "[60]\teval-logloss:0.00294\ttrain-logloss:0.00249\n",
      "[70]\teval-logloss:0.00283\ttrain-logloss:0.00221\n",
      "[80]\teval-logloss:0.00276\ttrain-logloss:0.00203\n",
      "[90]\teval-logloss:0.00272\ttrain-logloss:0.00189\n",
      "[99]\teval-logloss:0.00270\ttrain-logloss:0.00174\n",
      "[0]\teval-logloss:0.11709\ttrain-logloss:0.11775\n"
     ]
    },
    {
     "name": "stderr",
     "output_type": "stream",
     "text": [
      "c:\\Users\\cleme\\Desktop\\projects\\creditcard-fraud-ML\\venv\\Lib\\site-packages\\xgboost\\core.py:726: FutureWarning: Pass `evals` as keyword args.\n",
      "  warnings.warn(msg, FutureWarning)\n"
     ]
    },
    {
     "name": "stdout",
     "output_type": "stream",
     "text": [
      "[10]\teval-logloss:0.04240\ttrain-logloss:0.04255\n",
      "[20]\teval-logloss:0.01672\ttrain-logloss:0.01674\n",
      "[30]\teval-logloss:0.00759\ttrain-logloss:0.00751\n",
      "[40]\teval-logloss:0.00440\ttrain-logloss:0.00415\n",
      "[50]\teval-logloss:0.00331\ttrain-logloss:0.00290\n",
      "[60]\teval-logloss:0.00295\ttrain-logloss:0.00238\n",
      "[70]\teval-logloss:0.00284\ttrain-logloss:0.00211\n",
      "[80]\teval-logloss:0.00279\ttrain-logloss:0.00193\n",
      "[90]\teval-logloss:0.00277\ttrain-logloss:0.00180\n",
      "[99]\teval-logloss:0.00276\ttrain-logloss:0.00169\n"
     ]
    },
    {
     "name": "stderr",
     "output_type": "stream",
     "text": [
      "c:\\Users\\cleme\\Desktop\\projects\\creditcard-fraud-ML\\venv\\Lib\\site-packages\\xgboost\\core.py:726: FutureWarning: Pass `evals` as keyword args.\n",
      "  warnings.warn(msg, FutureWarning)\n"
     ]
    },
    {
     "name": "stdout",
     "output_type": "stream",
     "text": [
      "[0]\teval-logloss:0.11712\ttrain-logloss:0.11776\n",
      "[10]\teval-logloss:0.04242\ttrain-logloss:0.04259\n",
      "[20]\teval-logloss:0.01677\ttrain-logloss:0.01684\n",
      "[30]\teval-logloss:0.00763\ttrain-logloss:0.00763\n",
      "[40]\teval-logloss:0.00442\ttrain-logloss:0.00428\n",
      "[50]\teval-logloss:0.00331\ttrain-logloss:0.00302\n",
      "[60]\teval-logloss:0.00294\ttrain-logloss:0.00249\n",
      "[70]\teval-logloss:0.00283\ttrain-logloss:0.00221\n",
      "[80]\teval-logloss:0.00276\ttrain-logloss:0.00203\n",
      "[90]\teval-logloss:0.00272\ttrain-logloss:0.00189\n",
      "[99]\teval-logloss:0.00270\ttrain-logloss:0.00174\n",
      "[0]\teval-logloss:0.11708\ttrain-logloss:0.11772\n",
      "[10]\teval-logloss:0.04225\ttrain-logloss:0.04232\n"
     ]
    },
    {
     "name": "stderr",
     "output_type": "stream",
     "text": [
      "c:\\Users\\cleme\\Desktop\\projects\\creditcard-fraud-ML\\venv\\Lib\\site-packages\\xgboost\\core.py:726: FutureWarning: Pass `evals` as keyword args.\n",
      "  warnings.warn(msg, FutureWarning)\n"
     ]
    },
    {
     "name": "stdout",
     "output_type": "stream",
     "text": [
      "[20]\teval-logloss:0.01652\ttrain-logloss:0.01625\n",
      "[30]\teval-logloss:0.00738\ttrain-logloss:0.00675\n",
      "[40]\teval-logloss:0.00415\ttrain-logloss:0.00316\n",
      "[50]\teval-logloss:0.00303\ttrain-logloss:0.00172\n",
      "[60]\teval-logloss:0.00268\ttrain-logloss:0.00107\n",
      "[70]\teval-logloss:0.00258\ttrain-logloss:0.00073\n",
      "[80]\teval-logloss:0.00258\ttrain-logloss:0.00052\n",
      "[90]\teval-logloss:0.00256\ttrain-logloss:0.00038\n",
      "[99]\teval-logloss:0.00260\ttrain-logloss:0.00030\n",
      "[0]\teval-logloss:0.11709\ttrain-logloss:0.11771\n"
     ]
    },
    {
     "name": "stderr",
     "output_type": "stream",
     "text": [
      "c:\\Users\\cleme\\Desktop\\projects\\creditcard-fraud-ML\\venv\\Lib\\site-packages\\xgboost\\core.py:726: FutureWarning: Pass `evals` as keyword args.\n",
      "  warnings.warn(msg, FutureWarning)\n"
     ]
    },
    {
     "name": "stdout",
     "output_type": "stream",
     "text": [
      "[10]\teval-logloss:0.04227\ttrain-logloss:0.04225\n",
      "[20]\teval-logloss:0.01660\ttrain-logloss:0.01622\n",
      "[30]\teval-logloss:0.00751\ttrain-logloss:0.00675\n",
      "[40]\teval-logloss:0.00429\ttrain-logloss:0.00316\n",
      "[50]\teval-logloss:0.00316\ttrain-logloss:0.00172\n",
      "[60]\teval-logloss:0.00282\ttrain-logloss:0.00107\n",
      "[70]\teval-logloss:0.00273\ttrain-logloss:0.00072\n",
      "[80]\teval-logloss:0.00272\ttrain-logloss:0.00051\n",
      "[90]\teval-logloss:0.00271\ttrain-logloss:0.00036\n",
      "[99]\teval-logloss:0.00273\ttrain-logloss:0.00028\n"
     ]
    },
    {
     "name": "stderr",
     "output_type": "stream",
     "text": [
      "c:\\Users\\cleme\\Desktop\\projects\\creditcard-fraud-ML\\venv\\Lib\\site-packages\\xgboost\\core.py:726: FutureWarning: Pass `evals` as keyword args.\n",
      "  warnings.warn(msg, FutureWarning)\n"
     ]
    },
    {
     "name": "stdout",
     "output_type": "stream",
     "text": [
      "[0]\teval-logloss:0.11708\ttrain-logloss:0.11772\n",
      "[10]\teval-logloss:0.04225\ttrain-logloss:0.04232\n",
      "[20]\teval-logloss:0.01652\ttrain-logloss:0.01625\n",
      "[30]\teval-logloss:0.00738\ttrain-logloss:0.00675\n",
      "[40]\teval-logloss:0.00415\ttrain-logloss:0.00316\n",
      "[50]\teval-logloss:0.00303\ttrain-logloss:0.00172\n",
      "[60]\teval-logloss:0.00268\ttrain-logloss:0.00107\n",
      "[70]\teval-logloss:0.00258\ttrain-logloss:0.00073\n",
      "[80]\teval-logloss:0.00258\ttrain-logloss:0.00052\n",
      "[90]\teval-logloss:0.00256\ttrain-logloss:0.00038\n",
      "[99]\teval-logloss:0.00260\ttrain-logloss:0.00030\n",
      "[0]\teval-logloss:0.07590\ttrain-logloss:0.07599\n",
      "[10]\teval-logloss:0.00311\ttrain-logloss:0.00269\n"
     ]
    },
    {
     "name": "stderr",
     "output_type": "stream",
     "text": [
      "c:\\Users\\cleme\\Desktop\\projects\\creditcard-fraud-ML\\venv\\Lib\\site-packages\\xgboost\\core.py:726: FutureWarning: Pass `evals` as keyword args.\n",
      "  warnings.warn(msg, FutureWarning)\n"
     ]
    },
    {
     "name": "stdout",
     "output_type": "stream",
     "text": [
      "[20]\teval-logloss:0.00275\ttrain-logloss:0.00167\n",
      "[30]\teval-logloss:0.00279\ttrain-logloss:0.00123\n",
      "[40]\teval-logloss:0.00281\ttrain-logloss:0.00089\n",
      "[50]\teval-logloss:0.00287\ttrain-logloss:0.00065\n",
      "[60]\teval-logloss:0.00294\ttrain-logloss:0.00043\n",
      "[70]\teval-logloss:0.00300\ttrain-logloss:0.00031\n",
      "[80]\teval-logloss:0.00308\ttrain-logloss:0.00022\n",
      "[90]\teval-logloss:0.00320\ttrain-logloss:0.00017\n",
      "[99]\teval-logloss:0.00326\ttrain-logloss:0.00014\n",
      "[0]\teval-logloss:0.07594\ttrain-logloss:0.07597\n"
     ]
    },
    {
     "name": "stderr",
     "output_type": "stream",
     "text": [
      "c:\\Users\\cleme\\Desktop\\projects\\creditcard-fraud-ML\\venv\\Lib\\site-packages\\xgboost\\core.py:726: FutureWarning: Pass `evals` as keyword args.\n",
      "  warnings.warn(msg, FutureWarning)\n"
     ]
    },
    {
     "name": "stdout",
     "output_type": "stream",
     "text": [
      "[10]\teval-logloss:0.00318\ttrain-logloss:0.00259\n",
      "[20]\teval-logloss:0.00286\ttrain-logloss:0.00151\n",
      "[30]\teval-logloss:0.00287\ttrain-logloss:0.00101\n",
      "[40]\teval-logloss:0.00298\ttrain-logloss:0.00061\n",
      "[50]\teval-logloss:0.00303\ttrain-logloss:0.00040\n",
      "[60]\teval-logloss:0.00314\ttrain-logloss:0.00028\n",
      "[70]\teval-logloss:0.00326\ttrain-logloss:0.00019\n",
      "[80]\teval-logloss:0.00336\ttrain-logloss:0.00014\n",
      "[90]\teval-logloss:0.00344\ttrain-logloss:0.00011\n",
      "[99]\teval-logloss:0.00346\ttrain-logloss:0.00009\n"
     ]
    },
    {
     "name": "stderr",
     "output_type": "stream",
     "text": [
      "c:\\Users\\cleme\\Desktop\\projects\\creditcard-fraud-ML\\venv\\Lib\\site-packages\\xgboost\\core.py:726: FutureWarning: Pass `evals` as keyword args.\n",
      "  warnings.warn(msg, FutureWarning)\n"
     ]
    },
    {
     "name": "stdout",
     "output_type": "stream",
     "text": [
      "[0]\teval-logloss:0.07590\ttrain-logloss:0.07599\n",
      "[10]\teval-logloss:0.00311\ttrain-logloss:0.00269\n",
      "[20]\teval-logloss:0.00275\ttrain-logloss:0.00167\n",
      "[30]\teval-logloss:0.00279\ttrain-logloss:0.00123\n",
      "[40]\teval-logloss:0.00281\ttrain-logloss:0.00089\n",
      "[50]\teval-logloss:0.00287\ttrain-logloss:0.00065\n",
      "[60]\teval-logloss:0.00294\ttrain-logloss:0.00043\n",
      "[70]\teval-logloss:0.00300\ttrain-logloss:0.00031\n",
      "[80]\teval-logloss:0.00308\ttrain-logloss:0.00022\n",
      "[90]\teval-logloss:0.00320\ttrain-logloss:0.00017\n",
      "[99]\teval-logloss:0.00326\ttrain-logloss:0.00014\n",
      "[0]\teval-logloss:0.07576\ttrain-logloss:0.07582\n"
     ]
    },
    {
     "name": "stderr",
     "output_type": "stream",
     "text": [
      "c:\\Users\\cleme\\Desktop\\projects\\creditcard-fraud-ML\\venv\\Lib\\site-packages\\xgboost\\core.py:726: FutureWarning: Pass `evals` as keyword args.\n",
      "  warnings.warn(msg, FutureWarning)\n"
     ]
    },
    {
     "name": "stdout",
     "output_type": "stream",
     "text": [
      "[10]\teval-logloss:0.00298\ttrain-logloss:0.00145\n",
      "[20]\teval-logloss:0.00283\ttrain-logloss:0.00026\n",
      "[30]\teval-logloss:0.00305\ttrain-logloss:0.00011\n",
      "[40]\teval-logloss:0.00311\ttrain-logloss:0.00007\n",
      "[50]\teval-logloss:0.00318\ttrain-logloss:0.00006\n",
      "[60]\teval-logloss:0.00322\ttrain-logloss:0.00005\n",
      "[70]\teval-logloss:0.00326\ttrain-logloss:0.00004\n",
      "[80]\teval-logloss:0.00331\ttrain-logloss:0.00004\n",
      "[90]\teval-logloss:0.00334\ttrain-logloss:0.00003\n",
      "[99]\teval-logloss:0.00336\ttrain-logloss:0.00003\n",
      "[0]\teval-logloss:0.07582\ttrain-logloss:0.07580\n"
     ]
    },
    {
     "name": "stderr",
     "output_type": "stream",
     "text": [
      "c:\\Users\\cleme\\Desktop\\projects\\creditcard-fraud-ML\\venv\\Lib\\site-packages\\xgboost\\core.py:726: FutureWarning: Pass `evals` as keyword args.\n",
      "  warnings.warn(msg, FutureWarning)\n"
     ]
    },
    {
     "name": "stdout",
     "output_type": "stream",
     "text": [
      "[10]\teval-logloss:0.00321\ttrain-logloss:0.00141\n",
      "[20]\teval-logloss:0.00297\ttrain-logloss:0.00026\n",
      "[30]\teval-logloss:0.00324\ttrain-logloss:0.00010\n",
      "[40]\teval-logloss:0.00336\ttrain-logloss:0.00007\n",
      "[50]\teval-logloss:0.00342\ttrain-logloss:0.00005\n",
      "[60]\teval-logloss:0.00346\ttrain-logloss:0.00004\n",
      "[70]\teval-logloss:0.00351\ttrain-logloss:0.00004\n",
      "[80]\teval-logloss:0.00356\ttrain-logloss:0.00004\n",
      "[90]\teval-logloss:0.00358\ttrain-logloss:0.00003\n",
      "[99]\teval-logloss:0.00360\ttrain-logloss:0.00003\n"
     ]
    },
    {
     "name": "stderr",
     "output_type": "stream",
     "text": [
      "c:\\Users\\cleme\\Desktop\\projects\\creditcard-fraud-ML\\venv\\Lib\\site-packages\\xgboost\\core.py:726: FutureWarning: Pass `evals` as keyword args.\n",
      "  warnings.warn(msg, FutureWarning)\n"
     ]
    },
    {
     "name": "stdout",
     "output_type": "stream",
     "text": [
      "[0]\teval-logloss:0.07576\ttrain-logloss:0.07582\n",
      "[10]\teval-logloss:0.00298\ttrain-logloss:0.00145\n",
      "[20]\teval-logloss:0.00283\ttrain-logloss:0.00026\n",
      "[30]\teval-logloss:0.00305\ttrain-logloss:0.00011\n",
      "[40]\teval-logloss:0.00311\ttrain-logloss:0.00007\n",
      "[50]\teval-logloss:0.00318\ttrain-logloss:0.00006\n",
      "[60]\teval-logloss:0.00322\ttrain-logloss:0.00005\n",
      "[70]\teval-logloss:0.00326\ttrain-logloss:0.00004\n",
      "[80]\teval-logloss:0.00331\ttrain-logloss:0.00004\n",
      "[90]\teval-logloss:0.00334\ttrain-logloss:0.00003\n",
      "[99]\teval-logloss:0.00336\ttrain-logloss:0.00003\n"
     ]
    }
   ],
   "source": [
    "# Split data\n",
    "from sklearn.model_selection import train_test_split\n",
    "train, test = train_test_split(df, test_size=0.2, random_state=42)\n",
    "train, validation = train_test_split(train, test_size=0.2)\n",
    "Dtrain = xgb.DMatrix(train.drop(['Class'], axis=1), label=train['Class'])\n",
    "Dval = xgb.DMatrix(validation.drop(['Class'], axis=1), label=validation['Class'])\n",
    "Dtest = xgb.DMatrix(test.drop(['Class'], axis=1), label=test['Class'])\n",
    "\n",
    "search_cv = []\n",
    "\n",
    "for eta in [0.05, 0.1, 0.5]:\n",
    "    for mdepth in [3, 7]:\n",
    "        for tree_method in ['hist', 'approx', 'auto']:\n",
    "            # Train model\n",
    "            param = {\n",
    "                'max_depth': mdepth,\n",
    "                'eta': eta,\n",
    "                'objective': 'binary:logistic',\n",
    "                'tree_method': tree_method,\n",
    "            }\n",
    "\n",
    "            # Evaluate model\n",
    "            num_round = 100\n",
    "            eval_list = [(Dval, 'eval'), (Dtrain, 'train')]\n",
    "            bst = xgb.train(param, Dtrain, num_round, eval_list, early_stopping_rounds=5, verbose_eval=10)\n",
    "\n",
    "            # Model evaluation\n",
    "            y_pred = pd.DataFrame(bst.predict(Dval) > 0.5)\n",
    "            y_val = pd.DataFrame(validation['Class'])\n",
    "            search_cv.append([param, f1_score(y_val, y_pred)])"
   ]
  },
  {
   "cell_type": "code",
   "execution_count": 48,
   "metadata": {},
   "outputs": [],
   "source": [
    "def best_param_xgb(search_cv):\n",
    "    best = 0\n",
    "    for m in search_cv:\n",
    "        if m[1] > best:\n",
    "            best = m[1]\n",
    "            param = m[0]\n",
    "    return param"
   ]
  },
  {
   "cell_type": "code",
   "execution_count": 49,
   "metadata": {},
   "outputs": [
    {
     "name": "stdout",
     "output_type": "stream",
     "text": [
      "[0]\teval-logloss:0.11712\ttrain-logloss:0.11776\n"
     ]
    },
    {
     "name": "stdout",
     "output_type": "stream",
     "text": [
      "[10]\teval-logloss:0.04242\ttrain-logloss:0.04259\n"
     ]
    },
    {
     "name": "stderr",
     "output_type": "stream",
     "text": [
      "c:\\Users\\cleme\\Desktop\\projects\\creditcard-fraud-ML\\venv\\Lib\\site-packages\\xgboost\\core.py:726: FutureWarning: Pass `evals` as keyword args.\n",
      "  warnings.warn(msg, FutureWarning)\n"
     ]
    },
    {
     "name": "stdout",
     "output_type": "stream",
     "text": [
      "[20]\teval-logloss:0.01677\ttrain-logloss:0.01684\n",
      "[30]\teval-logloss:0.00763\ttrain-logloss:0.00763\n",
      "[40]\teval-logloss:0.00442\ttrain-logloss:0.00428\n",
      "[50]\teval-logloss:0.00331\ttrain-logloss:0.00302\n",
      "[60]\teval-logloss:0.00294\ttrain-logloss:0.00249\n",
      "[70]\teval-logloss:0.00283\ttrain-logloss:0.00221\n",
      "[80]\teval-logloss:0.00276\ttrain-logloss:0.00203\n",
      "[90]\teval-logloss:0.00272\ttrain-logloss:0.00189\n",
      "[99]\teval-logloss:0.00270\ttrain-logloss:0.00174\n"
     ]
    }
   ],
   "source": [
    "b_param = best_param_xgb(search_cv)\n",
    "eval_list = [(Dval, 'eval'), (Dtrain, 'train')]\n",
    "best_bst = xgb.train(b_param, Dtrain, num_round, eval_list, early_stopping_rounds=5, verbose_eval=10)\n",
    "y_pred = pd.DataFrame(best_bst.predict(Dtest) > 0.5)\n",
    "y_test = pd.DataFrame(test['Class'])"
   ]
  },
  {
   "attachments": {},
   "cell_type": "markdown",
   "metadata": {},
   "source": [
    "### Model evaluation & results visualization"
   ]
  },
  {
   "cell_type": "code",
   "execution_count": 50,
   "metadata": {},
   "outputs": [
    {
     "data": {
      "text/html": [
       "<div>\n",
       "<style scoped>\n",
       "    .dataframe tbody tr th:only-of-type {\n",
       "        vertical-align: middle;\n",
       "    }\n",
       "\n",
       "    .dataframe tbody tr th {\n",
       "        vertical-align: top;\n",
       "    }\n",
       "\n",
       "    .dataframe thead th {\n",
       "        text-align: right;\n",
       "    }\n",
       "</style>\n",
       "<table border=\"1\" class=\"dataframe\">\n",
       "  <thead>\n",
       "    <tr style=\"text-align: right;\">\n",
       "      <th></th>\n",
       "      <th>Not Fraud</th>\n",
       "      <th>Fraud</th>\n",
       "      <th>accuracy</th>\n",
       "      <th>macro avg</th>\n",
       "      <th>weighted avg</th>\n",
       "    </tr>\n",
       "  </thead>\n",
       "  <tbody>\n",
       "    <tr>\n",
       "      <th>precision</th>\n",
       "      <td>0.999666</td>\n",
       "      <td>0.940476</td>\n",
       "      <td>0.999579</td>\n",
       "      <td>0.970071</td>\n",
       "      <td>0.999564</td>\n",
       "    </tr>\n",
       "    <tr>\n",
       "      <th>recall</th>\n",
       "      <td>0.999912</td>\n",
       "      <td>0.806122</td>\n",
       "      <td>0.999579</td>\n",
       "      <td>0.903017</td>\n",
       "      <td>0.999579</td>\n",
       "    </tr>\n",
       "    <tr>\n",
       "      <th>f1-score</th>\n",
       "      <td>0.999789</td>\n",
       "      <td>0.868132</td>\n",
       "      <td>0.999579</td>\n",
       "      <td>0.933960</td>\n",
       "      <td>0.999562</td>\n",
       "    </tr>\n",
       "    <tr>\n",
       "      <th>support</th>\n",
       "      <td>56864.000000</td>\n",
       "      <td>98.000000</td>\n",
       "      <td>0.999579</td>\n",
       "      <td>56962.000000</td>\n",
       "      <td>56962.000000</td>\n",
       "    </tr>\n",
       "  </tbody>\n",
       "</table>\n",
       "</div>"
      ],
      "text/plain": [
       "              Not Fraud      Fraud  accuracy     macro avg  weighted avg\n",
       "precision      0.999666   0.940476  0.999579      0.970071      0.999564\n",
       "recall         0.999912   0.806122  0.999579      0.903017      0.999579\n",
       "f1-score       0.999789   0.868132  0.999579      0.933960      0.999562\n",
       "support    56864.000000  98.000000  0.999579  56962.000000  56962.000000"
      ]
     },
     "execution_count": 50,
     "metadata": {},
     "output_type": "execute_result"
    }
   ],
   "source": [
    "pd.DataFrame(classification_report(y_test, y_pred, output_dict=True, target_names=['Not Fraud', 'Fraud'], digits=4))"
   ]
  },
  {
   "cell_type": "markdown",
   "metadata": {},
   "source": [
    "We got an average f1 score of 0.92 for XGBoostClassifier."
   ]
  },
  {
   "cell_type": "code",
   "execution_count": 51,
   "metadata": {},
   "outputs": [
    {
     "data": {
      "image/png": "[encoded data removed]",
      "text/plain": [
       "<Figure size 640x480 with 2 Axes>"
      ]
     },
     "metadata": {},
     "output_type": "display_data"
    }
   ],
   "source": [
    "import seaborn as sns\n",
    "confusion_matrix = pd.crosstab(y_test.values.T, y_pred.values.T, rownames=['Actual'], colnames=['Predicted'])\n",
    "sns.heatmap(confusion_matrix, annot=True, cmap='Purples', fmt='g')\n",
    "plt.title('Confusion Matrix')\n",
    "plt.savefig('ressources/plots/confusion_matrix_ml.png')"
   ]
  }
 ],
 "metadata": {
  "kernelspec": {
   "display_name": "venv",
   "language": "python",
   "name": "python3"
  },
  "language_info": {
   "codemirror_mode": {
    "name": "ipython",
    "version": 3
   },
   "file_extension": ".py",
   "mimetype": "text/x-python",
   "name": "python",
   "nbconvert_exporter": "python",
   "pygments_lexer": "ipython3",
   "version": "3.11.6"
  },
  "orig_nbformat": 4
 },
 "nbformat": 4,
 "nbformat_minor": 2
}
