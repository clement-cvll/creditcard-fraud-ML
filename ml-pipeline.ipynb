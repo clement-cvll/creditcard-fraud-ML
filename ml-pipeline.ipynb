{
 "cells": [
  {
   "attachments": {},
   "cell_type": "markdown",
   "metadata": {},
   "source": [
    "# Pipeline"
   ]
  },
  {
   "attachments": {},
   "cell_type": "markdown",
   "metadata": {},
   "source": [
    "### Data input"
   ]
  },
  {
   "cell_type": "code",
   "execution_count": 2,
   "metadata": {},
   "outputs": [],
   "source": [
    "import pandas as pd\n",
    "import matplotlib.pyplot as plt\n",
    "\n",
    "# Importing the dataset\n",
    "df = pd.read_csv('data/creditcard.csv')\n",
    "df = df.drop(['Time'], axis=1)\n",
    "df.reset_index(drop=True, inplace=True)"
   ]
  },
  {
   "attachments": {},
   "cell_type": "markdown",
   "metadata": {},
   "source": [
    "### Data preprocessing"
   ]
  },
  {
   "attachments": {},
   "cell_type": "markdown",
   "metadata": {},
   "source": [
    "### Model hyperparameter tuning"
   ]
  },
  {
   "cell_type": "code",
   "execution_count": 3,
   "metadata": {},
   "outputs": [],
   "source": [
    "from sklearn.preprocessing import RobustScaler\n",
    "from sklearn.pipeline import make_pipeline\n",
    "from sklearn.model_selection import GridSearchCV\n",
    "from sklearn.feature_selection import SelectKBest\n",
    "from sklearn.linear_model import LogisticRegression\n",
    "from sklearn.metrics import f1_score, make_scorer \n",
    "\n",
    "pipeline = make_pipeline(\n",
    "    RobustScaler(),\n",
    "    SelectKBest(),\n",
    "    LogisticRegression()\n",
    ")\n",
    "\n",
    "params_grid = {\n",
    "    'selectkbest__k': [5, 15, 25],\n",
    "    'logisticregression__C': [ 0.1, 1, 5],\n",
    "    'logisticregression__solver': ['lbfgs', 'liblinear'],\n",
    "}"
   ]
  },
  {
   "attachments": {},
   "cell_type": "markdown",
   "metadata": {},
   "source": [
    "As the data set in really unbalanced, we will use the F1 score as the metric to evaluate the model performance."
   ]
  },
  {
   "cell_type": "code",
   "execution_count": 4,
   "metadata": {},
   "outputs": [
    {
     "name": "stdout",
     "output_type": "stream",
     "text": [
      "Fitting 4 folds for each of 18 candidates, totalling 72 fits\n",
      "[CV 1/4] END logisticregression__C=0.1, logisticregression__solver=lbfgs, selectkbest__k=5;, score=0.781 total time=  12.6s\n",
      "[CV 2/4] END logisticregression__C=0.1, logisticregression__solver=lbfgs, selectkbest__k=5;, score=0.671 total time=   0.4s\n",
      "[CV 3/4] END logisticregression__C=0.1, logisticregression__solver=lbfgs, selectkbest__k=5;, score=0.659 total time=   0.4s\n",
      "[CV 4/4] END logisticregression__C=0.1, logisticregression__solver=lbfgs, selectkbest__k=5;, score=0.752 total time=   0.4s\n",
      "[CV 1/4] END logisticregression__C=0.1, logisticregression__solver=lbfgs, selectkbest__k=15;, score=0.756 total time=   0.6s\n",
      "[CV 2/4] END logisticregression__C=0.1, logisticregression__solver=lbfgs, selectkbest__k=15;, score=0.679 total time=   0.6s\n",
      "[CV 3/4] END logisticregression__C=0.1, logisticregression__solver=lbfgs, selectkbest__k=15;, score=0.663 total time=   0.6s\n",
      "[CV 4/4] END logisticregression__C=0.1, logisticregression__solver=lbfgs, selectkbest__k=15;, score=0.762 total time=   0.5s\n",
      "[CV 1/4] END logisticregression__C=0.1, logisticregression__solver=lbfgs, selectkbest__k=25;, score=0.774 total time=   0.9s\n",
      "[CV 2/4] END logisticregression__C=0.1, logisticregression__solver=lbfgs, selectkbest__k=25;, score=0.671 total time=   0.9s\n",
      "[CV 3/4] END logisticregression__C=0.1, logisticregression__solver=lbfgs, selectkbest__k=25;, score=0.667 total time=   0.9s\n",
      "[CV 4/4] END logisticregression__C=0.1, logisticregression__solver=lbfgs, selectkbest__k=25;, score=0.791 total time=   1.0s\n",
      "[CV 1/4] END logisticregression__C=0.1, logisticregression__solver=liblinear, selectkbest__k=5;, score=0.766 total time=   0.4s\n",
      "[CV 2/4] END logisticregression__C=0.1, logisticregression__solver=liblinear, selectkbest__k=5;, score=0.662 total time=   0.4s\n",
      "[CV 3/4] END logisticregression__C=0.1, logisticregression__solver=liblinear, selectkbest__k=5;, score=0.651 total time=   0.4s\n",
      "[CV 4/4] END logisticregression__C=0.1, logisticregression__solver=liblinear, selectkbest__k=5;, score=0.752 total time=   0.4s\n",
      "[CV 1/4] END logisticregression__C=0.1, logisticregression__solver=liblinear, selectkbest__k=15;, score=0.778 total time=   0.8s\n",
      "[CV 2/4] END logisticregression__C=0.1, logisticregression__solver=liblinear, selectkbest__k=15;, score=0.654 total time=   0.9s\n",
      "[CV 3/4] END logisticregression__C=0.1, logisticregression__solver=liblinear, selectkbest__k=15;, score=0.663 total time=   0.9s\n",
      "[CV 4/4] END logisticregression__C=0.1, logisticregression__solver=liblinear, selectkbest__k=15;, score=0.759 total time=   0.8s\n",
      "[CV 1/4] END logisticregression__C=0.1, logisticregression__solver=liblinear, selectkbest__k=25;, score=0.774 total time=   2.0s\n",
      "[CV 2/4] END logisticregression__C=0.1, logisticregression__solver=liblinear, selectkbest__k=25;, score=0.662 total time=   1.5s\n",
      "[CV 3/4] END logisticregression__C=0.1, logisticregression__solver=liblinear, selectkbest__k=25;, score=0.663 total time=   1.5s\n",
      "[CV 4/4] END logisticregression__C=0.1, logisticregression__solver=liblinear, selectkbest__k=25;, score=0.766 total time=   1.5s\n",
      "[CV 1/4] END logisticregression__C=1, logisticregression__solver=lbfgs, selectkbest__k=5;, score=0.781 total time=   0.4s\n",
      "[CV 2/4] END logisticregression__C=1, logisticregression__solver=lbfgs, selectkbest__k=5;, score=0.671 total time=   0.4s\n",
      "[CV 3/4] END logisticregression__C=1, logisticregression__solver=lbfgs, selectkbest__k=5;, score=0.659 total time=   0.4s\n",
      "[CV 4/4] END logisticregression__C=1, logisticregression__solver=lbfgs, selectkbest__k=5;, score=0.752 total time=   0.3s\n",
      "[CV 1/4] END logisticregression__C=1, logisticregression__solver=lbfgs, selectkbest__k=15;, score=0.764 total time=   0.6s\n",
      "[CV 2/4] END logisticregression__C=1, logisticregression__solver=lbfgs, selectkbest__k=15;, score=0.679 total time=   0.6s\n",
      "[CV 3/4] END logisticregression__C=1, logisticregression__solver=lbfgs, selectkbest__k=15;, score=0.659 total time=   0.6s\n",
      "[CV 4/4] END logisticregression__C=1, logisticregression__solver=lbfgs, selectkbest__k=15;, score=0.765 total time=   0.7s\n",
      "[CV 1/4] END logisticregression__C=1, logisticregression__solver=lbfgs, selectkbest__k=25;, score=0.781 total time=   1.1s\n",
      "[CV 2/4] END logisticregression__C=1, logisticregression__solver=lbfgs, selectkbest__k=25;, score=0.679 total time=   1.0s\n",
      "[CV 3/4] END logisticregression__C=1, logisticregression__solver=lbfgs, selectkbest__k=25;, score=0.674 total time=   1.0s\n",
      "[CV 4/4] END logisticregression__C=1, logisticregression__solver=lbfgs, selectkbest__k=25;, score=0.791 total time=   1.0s\n",
      "[CV 1/4] END logisticregression__C=1, logisticregression__solver=liblinear, selectkbest__k=5;, score=0.781 total time=   0.5s\n",
      "[CV 2/4] END logisticregression__C=1, logisticregression__solver=liblinear, selectkbest__k=5;, score=0.671 total time=   0.5s\n",
      "[CV 3/4] END logisticregression__C=1, logisticregression__solver=liblinear, selectkbest__k=5;, score=0.659 total time=   0.5s\n",
      "[CV 4/4] END logisticregression__C=1, logisticregression__solver=liblinear, selectkbest__k=5;, score=0.752 total time=   0.5s\n",
      "[CV 1/4] END logisticregression__C=1, logisticregression__solver=liblinear, selectkbest__k=15;, score=0.764 total time=   1.0s\n",
      "[CV 2/4] END logisticregression__C=1, logisticregression__solver=liblinear, selectkbest__k=15;, score=0.688 total time=   1.0s\n",
      "[CV 3/4] END logisticregression__C=1, logisticregression__solver=liblinear, selectkbest__k=15;, score=0.667 total time=   1.0s\n",
      "[CV 4/4] END logisticregression__C=1, logisticregression__solver=liblinear, selectkbest__k=15;, score=0.769 total time=   1.0s\n",
      "[CV 1/4] END logisticregression__C=1, logisticregression__solver=liblinear, selectkbest__k=25;, score=0.781 total time=   2.0s\n",
      "[CV 2/4] END logisticregression__C=1, logisticregression__solver=liblinear, selectkbest__k=25;, score=0.671 total time=   1.8s\n",
      "[CV 3/4] END logisticregression__C=1, logisticregression__solver=liblinear, selectkbest__k=25;, score=0.674 total time=   2.0s\n",
      "[CV 4/4] END logisticregression__C=1, logisticregression__solver=liblinear, selectkbest__k=25;, score=0.791 total time=   2.1s\n",
      "[CV 1/4] END logisticregression__C=5, logisticregression__solver=lbfgs, selectkbest__k=5;, score=0.781 total time=   0.4s\n",
      "[CV 2/4] END logisticregression__C=5, logisticregression__solver=lbfgs, selectkbest__k=5;, score=0.671 total time=   0.4s\n",
      "[CV 3/4] END logisticregression__C=5, logisticregression__solver=lbfgs, selectkbest__k=5;, score=0.659 total time=   0.4s\n",
      "[CV 4/4] END logisticregression__C=5, logisticregression__solver=lbfgs, selectkbest__k=5;, score=0.752 total time=   0.4s\n",
      "[CV 1/4] END logisticregression__C=5, logisticregression__solver=lbfgs, selectkbest__k=15;, score=0.764 total time=   0.7s\n",
      "[CV 2/4] END logisticregression__C=5, logisticregression__solver=lbfgs, selectkbest__k=15;, score=0.679 total time=   0.6s\n",
      "[CV 3/4] END logisticregression__C=5, logisticregression__solver=lbfgs, selectkbest__k=15;, score=0.659 total time=   0.6s\n",
      "[CV 4/4] END logisticregression__C=5, logisticregression__solver=lbfgs, selectkbest__k=15;, score=0.765 total time=   0.6s\n"
     ]
    },
    {
     "name": "stderr",
     "output_type": "stream",
     "text": [
      "c:\\Users\\cleme\\Desktop\\personal-projects\\creditcard-fraud-ML\\venv\\lib\\site-packages\\sklearn\\linear_model\\_logistic.py:458: ConvergenceWarning: lbfgs failed to converge (status=1):\n",
      "STOP: TOTAL NO. of ITERATIONS REACHED LIMIT.\n",
      "\n",
      "Increase the number of iterations (max_iter) or scale the data as shown in:\n",
      "    https://scikit-learn.org/stable/modules/preprocessing.html\n",
      "Please also refer to the documentation for alternative solver options:\n",
      "    https://scikit-learn.org/stable/modules/linear_model.html#logistic-regression\n",
      "  n_iter_i = _check_optimize_result(\n"
     ]
    },
    {
     "name": "stdout",
     "output_type": "stream",
     "text": [
      "[CV 1/4] END logisticregression__C=5, logisticregression__solver=lbfgs, selectkbest__k=25;, score=0.781 total time=   1.2s\n",
      "[CV 2/4] END logisticregression__C=5, logisticregression__solver=lbfgs, selectkbest__k=25;, score=0.679 total time=   1.1s\n",
      "[CV 3/4] END logisticregression__C=5, logisticregression__solver=lbfgs, selectkbest__k=25;, score=0.674 total time=   1.1s\n",
      "[CV 4/4] END logisticregression__C=5, logisticregression__solver=lbfgs, selectkbest__k=25;, score=0.791 total time=   1.2s\n",
      "[CV 1/4] END logisticregression__C=5, logisticregression__solver=liblinear, selectkbest__k=5;, score=0.781 total time=   0.5s\n",
      "[CV 2/4] END logisticregression__C=5, logisticregression__solver=liblinear, selectkbest__k=5;, score=0.671 total time=   0.5s\n",
      "[CV 3/4] END logisticregression__C=5, logisticregression__solver=liblinear, selectkbest__k=5;, score=0.659 total time=   0.5s\n",
      "[CV 4/4] END logisticregression__C=5, logisticregression__solver=liblinear, selectkbest__k=5;, score=0.752 total time=   0.5s\n",
      "[CV 1/4] END logisticregression__C=5, logisticregression__solver=liblinear, selectkbest__k=15;, score=0.764 total time=   1.0s\n",
      "[CV 2/4] END logisticregression__C=5, logisticregression__solver=liblinear, selectkbest__k=15;, score=0.679 total time=   1.1s\n",
      "[CV 3/4] END logisticregression__C=5, logisticregression__solver=liblinear, selectkbest__k=15;, score=0.659 total time=   1.0s\n",
      "[CV 4/4] END logisticregression__C=5, logisticregression__solver=liblinear, selectkbest__k=15;, score=0.765 total time=   1.0s\n",
      "[CV 1/4] END logisticregression__C=5, logisticregression__solver=liblinear, selectkbest__k=25;, score=0.781 total time=   2.4s\n",
      "[CV 2/4] END logisticregression__C=5, logisticregression__solver=liblinear, selectkbest__k=25;, score=0.679 total time=   2.1s\n",
      "[CV 3/4] END logisticregression__C=5, logisticregression__solver=liblinear, selectkbest__k=25;, score=0.674 total time=   2.0s\n",
      "[CV 4/4] END logisticregression__C=5, logisticregression__solver=liblinear, selectkbest__k=25;, score=0.791 total time=   2.1s\n"
     ]
    },
    {
     "name": "stderr",
     "output_type": "stream",
     "text": [
      "c:\\Users\\cleme\\Desktop\\personal-projects\\creditcard-fraud-ML\\venv\\lib\\site-packages\\sklearn\\linear_model\\_logistic.py:458: ConvergenceWarning: lbfgs failed to converge (status=1):\n",
      "STOP: TOTAL NO. of ITERATIONS REACHED LIMIT.\n",
      "\n",
      "Increase the number of iterations (max_iter) or scale the data as shown in:\n",
      "    https://scikit-learn.org/stable/modules/preprocessing.html\n",
      "Please also refer to the documentation for alternative solver options:\n",
      "    https://scikit-learn.org/stable/modules/linear_model.html#logistic-regression\n",
      "  n_iter_i = _check_optimize_result(\n",
      "c:\\Users\\cleme\\Desktop\\personal-projects\\creditcard-fraud-ML\\venv\\lib\\site-packages\\sklearn\\linear_model\\_logistic.py:458: ConvergenceWarning: lbfgs failed to converge (status=1):\n",
      "STOP: TOTAL NO. of ITERATIONS REACHED LIMIT.\n",
      "\n",
      "Increase the number of iterations (max_iter) or scale the data as shown in:\n",
      "    https://scikit-learn.org/stable/modules/preprocessing.html\n",
      "Please also refer to the documentation for alternative solver options:\n",
      "    https://scikit-learn.org/stable/modules/linear_model.html#logistic-regression\n",
      "  n_iter_i = _check_optimize_result(\n",
      "c:\\Users\\cleme\\Desktop\\personal-projects\\creditcard-fraud-ML\\venv\\lib\\site-packages\\sklearn\\linear_model\\_logistic.py:458: ConvergenceWarning: lbfgs failed to converge (status=1):\n",
      "STOP: TOTAL NO. of ITERATIONS REACHED LIMIT.\n",
      "\n",
      "Increase the number of iterations (max_iter) or scale the data as shown in:\n",
      "    https://scikit-learn.org/stable/modules/preprocessing.html\n",
      "Please also refer to the documentation for alternative solver options:\n",
      "    https://scikit-learn.org/stable/modules/linear_model.html#logistic-regression\n",
      "  n_iter_i = _check_optimize_result(\n",
      "c:\\Users\\cleme\\Desktop\\personal-projects\\creditcard-fraud-ML\\venv\\lib\\site-packages\\sklearn\\linear_model\\_logistic.py:458: ConvergenceWarning: lbfgs failed to converge (status=1):\n",
      "STOP: TOTAL NO. of ITERATIONS REACHED LIMIT.\n",
      "\n",
      "Increase the number of iterations (max_iter) or scale the data as shown in:\n",
      "    https://scikit-learn.org/stable/modules/preprocessing.html\n",
      "Please also refer to the documentation for alternative solver options:\n",
      "    https://scikit-learn.org/stable/modules/linear_model.html#logistic-regression\n",
      "  n_iter_i = _check_optimize_result(\n"
     ]
    }
   ],
   "source": [
    "from sklearn.model_selection import train_test_split\n",
    "f1_score_list_lg = []\n",
    "k=5\n",
    "\n",
    "# Split data\n",
    "X_train, X_test, y_train, y_test = train_test_split(df.drop(['Class'], axis=1), df['Class'], test_size=0.2)\n",
    "\n",
    "# Train model\n",
    "grid = GridSearchCV(pipeline, param_grid=params_grid, cv=4, scoring=\"f1\", verbose=3)\n",
    "grid.fit(X_train, y_train)\n",
    "model = grid.best_estimator_\n",
    "\n",
    "for _ in range(k):\n",
    "    # Evaluate model\n",
    "    X_train, X_test, y_train, y_test = train_test_split(df.drop(['Class'], axis=1), df['Class'], test_size=0.2)\n",
    "    model.fit(X_train, y_train)\n",
    "    y_pred = pd.DataFrame(model.predict_proba(X_test)[:,-1] > 0.2)\n",
    "    y_test = pd.DataFrame(y_test)\n",
    "    f1_score_list_lg.append(f1_score(y_test, y_pred))"
   ]
  },
  {
   "cell_type": "code",
   "execution_count": 5,
   "metadata": {},
   "outputs": [
    {
     "name": "stdout",
     "output_type": "stream",
     "text": [
      "The average f1 score for 5 LogisticRegression is: 0.7765472344065489, with the following parameters:\n",
      " {'logisticregression__C': 1, 'logisticregression__solver': 'lbfgs', 'selectkbest__k': 25}\n"
     ]
    }
   ],
   "source": [
    "print(f\"The average f1 score for {k} LogisticRegression is: {sum(f1_score_list_lg)/k}, with the following parameters:\\n {grid.best_params_}\")"
   ]
  },
  {
   "cell_type": "markdown",
   "metadata": {},
   "source": [
    "For LogisticRegression, we manage to have an average f1 score of 0.78 for 5 differents train/test splits. We take 0.2 as the threshold of the model, to better recognize the fraud."
   ]
  },
  {
   "cell_type": "code",
   "execution_count": 6,
   "metadata": {},
   "outputs": [],
   "source": [
    "import xgboost as xgb\n",
    "\n",
    "pipeline = make_pipeline(\n",
    "    RobustScaler(),\n",
    "    SelectKBest(),\n",
    "    xgb.XGBClassifier(early_stopping_rounds=2, tree_method='hist')\n",
    ")\n",
    "\n",
    "params_grid = {\n",
    "    'selectkbest__k': [5, 15, 25],\n",
    "    'xgbclassifier__max_depth': [3, 5, 7],\n",
    "    'xgbclassifier__learning_rate': [0.1, 0.01, 0.05],\n",
    "}"
   ]
  },
  {
   "cell_type": "code",
   "execution_count": 7,
   "metadata": {},
   "outputs": [
    {
     "name": "stderr",
     "output_type": "stream",
     "text": [
      "c:\\Users\\cleme\\Desktop\\personal-projects\\creditcard-fraud-ML\\venv\\lib\\site-packages\\xgboost\\core.py:617: FutureWarning: Pass `evals` as keyword args.\n",
      "  warnings.warn(msg, FutureWarning)\n"
     ]
    },
    {
     "name": "stdout",
     "output_type": "stream",
     "text": [
      "[0]\teval-logloss:0.64449\ttrain-logloss:0.64451\n",
      "[10]\teval-logloss:0.33739\ttrain-logloss:0.33757\n",
      "[20]\teval-logloss:0.19064\ttrain-logloss:0.19093\n",
      "[30]\teval-logloss:0.11163\ttrain-logloss:0.11201\n",
      "[40]\teval-logloss:0.06676\ttrain-logloss:0.06721\n",
      "[50]\teval-logloss:0.04058\ttrain-logloss:0.04109\n",
      "[60]\teval-logloss:0.02506\ttrain-logloss:0.02563\n",
      "[70]\teval-logloss:0.01579\ttrain-logloss:0.01641\n",
      "[80]\teval-logloss:0.01022\ttrain-logloss:0.01088\n",
      "[90]\teval-logloss:0.00688\ttrain-logloss:0.00756\n",
      "[99]\teval-logloss:0.00503\ttrain-logloss:0.00572\n",
      "[0]\teval-logloss:0.64449\ttrain-logloss:0.64451\n"
     ]
    },
    {
     "name": "stderr",
     "output_type": "stream",
     "text": [
      "c:\\Users\\cleme\\Desktop\\personal-projects\\creditcard-fraud-ML\\venv\\lib\\site-packages\\xgboost\\core.py:617: FutureWarning: Pass `evals` as keyword args.\n",
      "  warnings.warn(msg, FutureWarning)\n"
     ]
    },
    {
     "name": "stdout",
     "output_type": "stream",
     "text": [
      "[10]\teval-logloss:0.33739\ttrain-logloss:0.33757\n",
      "[20]\teval-logloss:0.19064\ttrain-logloss:0.19093\n",
      "[30]\teval-logloss:0.11163\ttrain-logloss:0.11201\n",
      "[40]\teval-logloss:0.06676\ttrain-logloss:0.06721\n",
      "[50]\teval-logloss:0.04058\ttrain-logloss:0.04109\n",
      "[60]\teval-logloss:0.02506\ttrain-logloss:0.02563\n",
      "[70]\teval-logloss:0.01579\ttrain-logloss:0.01641\n",
      "[80]\teval-logloss:0.01022\ttrain-logloss:0.01088\n",
      "[90]\teval-logloss:0.00688\ttrain-logloss:0.00756\n",
      "[99]\teval-logloss:0.00503\ttrain-logloss:0.00572\n",
      "[0]\teval-logloss:0.64449\ttrain-logloss:0.64451\n"
     ]
    },
    {
     "name": "stderr",
     "output_type": "stream",
     "text": [
      "c:\\Users\\cleme\\Desktop\\personal-projects\\creditcard-fraud-ML\\venv\\lib\\site-packages\\xgboost\\core.py:617: FutureWarning: Pass `evals` as keyword args.\n",
      "  warnings.warn(msg, FutureWarning)\n"
     ]
    },
    {
     "name": "stdout",
     "output_type": "stream",
     "text": [
      "[10]\teval-logloss:0.33739\ttrain-logloss:0.33757\n",
      "[20]\teval-logloss:0.19064\ttrain-logloss:0.19093\n",
      "[30]\teval-logloss:0.11163\ttrain-logloss:0.11201\n",
      "[40]\teval-logloss:0.06676\ttrain-logloss:0.06721\n",
      "[50]\teval-logloss:0.04058\ttrain-logloss:0.04109\n",
      "[60]\teval-logloss:0.02506\ttrain-logloss:0.02563\n",
      "[70]\teval-logloss:0.01579\ttrain-logloss:0.01641\n",
      "[80]\teval-logloss:0.01022\ttrain-logloss:0.01088\n",
      "[90]\teval-logloss:0.00688\ttrain-logloss:0.00756\n",
      "[99]\teval-logloss:0.00503\ttrain-logloss:0.00572\n",
      "[0]\teval-logloss:0.64449\ttrain-logloss:0.64451\n",
      "[10]\teval-logloss:0.33739\ttrain-logloss:0.33757\n"
     ]
    },
    {
     "name": "stderr",
     "output_type": "stream",
     "text": [
      "c:\\Users\\cleme\\Desktop\\personal-projects\\creditcard-fraud-ML\\venv\\lib\\site-packages\\xgboost\\core.py:617: FutureWarning: Pass `evals` as keyword args.\n",
      "  warnings.warn(msg, FutureWarning)\n"
     ]
    },
    {
     "name": "stdout",
     "output_type": "stream",
     "text": [
      "[20]\teval-logloss:0.19064\ttrain-logloss:0.19093\n",
      "[30]\teval-logloss:0.11163\ttrain-logloss:0.11201\n",
      "[40]\teval-logloss:0.06676\ttrain-logloss:0.06721\n",
      "[50]\teval-logloss:0.04058\ttrain-logloss:0.04109\n",
      "[60]\teval-logloss:0.02506\ttrain-logloss:0.02563\n",
      "[70]\teval-logloss:0.01579\ttrain-logloss:0.01641\n",
      "[80]\teval-logloss:0.01022\ttrain-logloss:0.01088\n",
      "[90]\teval-logloss:0.00688\ttrain-logloss:0.00756\n",
      "[99]\teval-logloss:0.00503\ttrain-logloss:0.00572\n"
     ]
    },
    {
     "name": "stderr",
     "output_type": "stream",
     "text": [
      "c:\\Users\\cleme\\Desktop\\personal-projects\\creditcard-fraud-ML\\venv\\lib\\site-packages\\xgboost\\core.py:617: FutureWarning: Pass `evals` as keyword args.\n",
      "  warnings.warn(msg, FutureWarning)\n"
     ]
    },
    {
     "name": "stdout",
     "output_type": "stream",
     "text": [
      "[0]\teval-logloss:0.64449\ttrain-logloss:0.64451\n",
      "[10]\teval-logloss:0.33738\ttrain-logloss:0.33756\n",
      "[20]\teval-logloss:0.19063\ttrain-logloss:0.19092\n",
      "[30]\teval-logloss:0.11160\ttrain-logloss:0.11198\n",
      "[40]\teval-logloss:0.06671\ttrain-logloss:0.06715\n",
      "[50]\teval-logloss:0.04050\ttrain-logloss:0.04100\n",
      "[60]\teval-logloss:0.02497\ttrain-logloss:0.02553\n",
      "[70]\teval-logloss:0.01569\ttrain-logloss:0.01629\n",
      "[80]\teval-logloss:0.01013\ttrain-logloss:0.01077\n",
      "[90]\teval-logloss:0.00680\ttrain-logloss:0.00745\n",
      "[99]\teval-logloss:0.00497\ttrain-logloss:0.00561\n",
      "[0]\teval-logloss:0.64449\ttrain-logloss:0.64451\n"
     ]
    },
    {
     "name": "stderr",
     "output_type": "stream",
     "text": [
      "c:\\Users\\cleme\\Desktop\\personal-projects\\creditcard-fraud-ML\\venv\\lib\\site-packages\\xgboost\\core.py:617: FutureWarning: Pass `evals` as keyword args.\n",
      "  warnings.warn(msg, FutureWarning)\n"
     ]
    },
    {
     "name": "stdout",
     "output_type": "stream",
     "text": [
      "[10]\teval-logloss:0.33738\ttrain-logloss:0.33756\n",
      "[20]\teval-logloss:0.19063\ttrain-logloss:0.19092\n",
      "[30]\teval-logloss:0.11160\ttrain-logloss:0.11198\n",
      "[40]\teval-logloss:0.06671\ttrain-logloss:0.06715\n",
      "[50]\teval-logloss:0.04050\ttrain-logloss:0.04100\n",
      "[60]\teval-logloss:0.02497\ttrain-logloss:0.02553\n",
      "[70]\teval-logloss:0.01569\ttrain-logloss:0.01629\n",
      "[80]\teval-logloss:0.01013\ttrain-logloss:0.01077\n",
      "[90]\teval-logloss:0.00680\ttrain-logloss:0.00745\n",
      "[99]\teval-logloss:0.00497\ttrain-logloss:0.00561\n",
      "[0]\teval-logloss:0.64449\ttrain-logloss:0.64451\n"
     ]
    },
    {
     "name": "stderr",
     "output_type": "stream",
     "text": [
      "c:\\Users\\cleme\\Desktop\\personal-projects\\creditcard-fraud-ML\\venv\\lib\\site-packages\\xgboost\\core.py:617: FutureWarning: Pass `evals` as keyword args.\n",
      "  warnings.warn(msg, FutureWarning)\n"
     ]
    },
    {
     "name": "stdout",
     "output_type": "stream",
     "text": [
      "[10]\teval-logloss:0.33738\ttrain-logloss:0.33756\n",
      "[20]\teval-logloss:0.19063\ttrain-logloss:0.19092\n",
      "[30]\teval-logloss:0.11160\ttrain-logloss:0.11198\n",
      "[40]\teval-logloss:0.06671\ttrain-logloss:0.06715\n",
      "[50]\teval-logloss:0.04050\ttrain-logloss:0.04100\n",
      "[60]\teval-logloss:0.02497\ttrain-logloss:0.02553\n",
      "[70]\teval-logloss:0.01569\ttrain-logloss:0.01629\n",
      "[80]\teval-logloss:0.01013\ttrain-logloss:0.01077\n",
      "[90]\teval-logloss:0.00680\ttrain-logloss:0.00745\n",
      "[99]\teval-logloss:0.00497\ttrain-logloss:0.00561\n",
      "[0]\teval-logloss:0.64449\ttrain-logloss:0.64451\n"
     ]
    },
    {
     "name": "stderr",
     "output_type": "stream",
     "text": [
      "c:\\Users\\cleme\\Desktop\\personal-projects\\creditcard-fraud-ML\\venv\\lib\\site-packages\\xgboost\\core.py:617: FutureWarning: Pass `evals` as keyword args.\n",
      "  warnings.warn(msg, FutureWarning)\n"
     ]
    },
    {
     "name": "stdout",
     "output_type": "stream",
     "text": [
      "[10]\teval-logloss:0.33738\ttrain-logloss:0.33756\n",
      "[20]\teval-logloss:0.19063\ttrain-logloss:0.19092\n",
      "[30]\teval-logloss:0.11160\ttrain-logloss:0.11198\n",
      "[40]\teval-logloss:0.06671\ttrain-logloss:0.06715\n",
      "[50]\teval-logloss:0.04050\ttrain-logloss:0.04100\n",
      "[60]\teval-logloss:0.02497\ttrain-logloss:0.02553\n",
      "[70]\teval-logloss:0.01569\ttrain-logloss:0.01629\n",
      "[80]\teval-logloss:0.01013\ttrain-logloss:0.01077\n",
      "[90]\teval-logloss:0.00680\ttrain-logloss:0.00745\n",
      "[99]\teval-logloss:0.00497\ttrain-logloss:0.00561\n"
     ]
    },
    {
     "name": "stderr",
     "output_type": "stream",
     "text": [
      "c:\\Users\\cleme\\Desktop\\personal-projects\\creditcard-fraud-ML\\venv\\lib\\site-packages\\xgboost\\core.py:617: FutureWarning: Pass `evals` as keyword args.\n",
      "  warnings.warn(msg, FutureWarning)\n"
     ]
    },
    {
     "name": "stdout",
     "output_type": "stream",
     "text": [
      "[0]\teval-logloss:0.64451\ttrain-logloss:0.64453\n",
      "[10]\teval-logloss:0.33750\ttrain-logloss:0.33762\n",
      "[20]\teval-logloss:0.19072\ttrain-logloss:0.19093\n",
      "[30]\teval-logloss:0.11168\ttrain-logloss:0.11197\n",
      "[40]\teval-logloss:0.06676\ttrain-logloss:0.06713\n",
      "[50]\teval-logloss:0.04052\ttrain-logloss:0.04098\n",
      "[60]\teval-logloss:0.02499\ttrain-logloss:0.02551\n",
      "[70]\teval-logloss:0.01569\ttrain-logloss:0.01628\n",
      "[80]\teval-logloss:0.01014\ttrain-logloss:0.01076\n",
      "[90]\teval-logloss:0.00681\ttrain-logloss:0.00744\n",
      "[99]\teval-logloss:0.00498\ttrain-logloss:0.00559\n"
     ]
    },
    {
     "name": "stderr",
     "output_type": "stream",
     "text": [
      "c:\\Users\\cleme\\Desktop\\personal-projects\\creditcard-fraud-ML\\venv\\lib\\site-packages\\xgboost\\core.py:617: FutureWarning: Pass `evals` as keyword args.\n",
      "  warnings.warn(msg, FutureWarning)\n"
     ]
    },
    {
     "name": "stdout",
     "output_type": "stream",
     "text": [
      "[0]\teval-logloss:0.64451\ttrain-logloss:0.64453\n",
      "[10]\teval-logloss:0.33750\ttrain-logloss:0.33762\n",
      "[20]\teval-logloss:0.19072\ttrain-logloss:0.19093\n",
      "[30]\teval-logloss:0.11168\ttrain-logloss:0.11197\n",
      "[40]\teval-logloss:0.06676\ttrain-logloss:0.06713\n",
      "[50]\teval-logloss:0.04052\ttrain-logloss:0.04098\n",
      "[60]\teval-logloss:0.02499\ttrain-logloss:0.02551\n",
      "[70]\teval-logloss:0.01569\ttrain-logloss:0.01628\n",
      "[80]\teval-logloss:0.01014\ttrain-logloss:0.01076\n",
      "[90]\teval-logloss:0.00681\ttrain-logloss:0.00744\n",
      "[99]\teval-logloss:0.00498\ttrain-logloss:0.00559\n"
     ]
    },
    {
     "name": "stderr",
     "output_type": "stream",
     "text": [
      "c:\\Users\\cleme\\Desktop\\personal-projects\\creditcard-fraud-ML\\venv\\lib\\site-packages\\xgboost\\core.py:617: FutureWarning: Pass `evals` as keyword args.\n",
      "  warnings.warn(msg, FutureWarning)\n"
     ]
    },
    {
     "name": "stdout",
     "output_type": "stream",
     "text": [
      "[0]\teval-logloss:0.64451\ttrain-logloss:0.64453\n",
      "[10]\teval-logloss:0.33750\ttrain-logloss:0.33762\n",
      "[20]\teval-logloss:0.19072\ttrain-logloss:0.19093\n",
      "[30]\teval-logloss:0.11168\ttrain-logloss:0.11197\n",
      "[40]\teval-logloss:0.06676\ttrain-logloss:0.06713\n",
      "[50]\teval-logloss:0.04052\ttrain-logloss:0.04098\n",
      "[60]\teval-logloss:0.02499\ttrain-logloss:0.02551\n",
      "[70]\teval-logloss:0.01569\ttrain-logloss:0.01628\n",
      "[80]\teval-logloss:0.01014\ttrain-logloss:0.01076\n",
      "[90]\teval-logloss:0.00681\ttrain-logloss:0.00744\n",
      "[99]\teval-logloss:0.00498\ttrain-logloss:0.00559\n"
     ]
    },
    {
     "name": "stderr",
     "output_type": "stream",
     "text": [
      "c:\\Users\\cleme\\Desktop\\personal-projects\\creditcard-fraud-ML\\venv\\lib\\site-packages\\xgboost\\core.py:617: FutureWarning: Pass `evals` as keyword args.\n",
      "  warnings.warn(msg, FutureWarning)\n"
     ]
    },
    {
     "name": "stdout",
     "output_type": "stream",
     "text": [
      "[0]\teval-logloss:0.64451\ttrain-logloss:0.64453\n",
      "[10]\teval-logloss:0.33750\ttrain-logloss:0.33762\n",
      "[20]\teval-logloss:0.19072\ttrain-logloss:0.19093\n",
      "[30]\teval-logloss:0.11168\ttrain-logloss:0.11197\n",
      "[40]\teval-logloss:0.06676\ttrain-logloss:0.06713\n",
      "[50]\teval-logloss:0.04052\ttrain-logloss:0.04098\n",
      "[60]\teval-logloss:0.02499\ttrain-logloss:0.02551\n",
      "[70]\teval-logloss:0.01569\ttrain-logloss:0.01628\n",
      "[80]\teval-logloss:0.01014\ttrain-logloss:0.01076\n",
      "[90]\teval-logloss:0.00681\ttrain-logloss:0.00744\n",
      "[99]\teval-logloss:0.00498\ttrain-logloss:0.00559\n"
     ]
    },
    {
     "name": "stderr",
     "output_type": "stream",
     "text": [
      "c:\\Users\\cleme\\Desktop\\personal-projects\\creditcard-fraud-ML\\venv\\lib\\site-packages\\xgboost\\core.py:617: FutureWarning: Pass `evals` as keyword args.\n",
      "  warnings.warn(msg, FutureWarning)\n"
     ]
    },
    {
     "name": "stdout",
     "output_type": "stream",
     "text": [
      "[0]\teval-logloss:0.64450\ttrain-logloss:0.64448\n",
      "[10]\teval-logloss:0.33734\ttrain-logloss:0.33732\n",
      "[20]\teval-logloss:0.19054\ttrain-logloss:0.19056\n",
      "[30]\teval-logloss:0.11152\ttrain-logloss:0.11156\n",
      "[40]\teval-logloss:0.06664\ttrain-logloss:0.06672\n",
      "[50]\teval-logloss:0.04045\ttrain-logloss:0.04055\n",
      "[60]\teval-logloss:0.02492\ttrain-logloss:0.02500\n",
      "[70]\teval-logloss:0.01564\ttrain-logloss:0.01568\n",
      "[80]\teval-logloss:0.01008\ttrain-logloss:0.01006\n",
      "[90]\teval-logloss:0.00674\ttrain-logloss:0.00663\n",
      "[99]\teval-logloss:0.00489\ttrain-logloss:0.00469\n",
      "[0]\teval-logloss:0.64450\ttrain-logloss:0.64448\n"
     ]
    },
    {
     "name": "stderr",
     "output_type": "stream",
     "text": [
      "c:\\Users\\cleme\\Desktop\\personal-projects\\creditcard-fraud-ML\\venv\\lib\\site-packages\\xgboost\\core.py:617: FutureWarning: Pass `evals` as keyword args.\n",
      "  warnings.warn(msg, FutureWarning)\n"
     ]
    },
    {
     "name": "stdout",
     "output_type": "stream",
     "text": [
      "[10]\teval-logloss:0.33734\ttrain-logloss:0.33732\n",
      "[20]\teval-logloss:0.19054\ttrain-logloss:0.19056\n",
      "[30]\teval-logloss:0.11152\ttrain-logloss:0.11156\n",
      "[40]\teval-logloss:0.06664\ttrain-logloss:0.06672\n",
      "[50]\teval-logloss:0.04045\ttrain-logloss:0.04055\n",
      "[60]\teval-logloss:0.02492\ttrain-logloss:0.02500\n",
      "[70]\teval-logloss:0.01564\ttrain-logloss:0.01568\n",
      "[80]\teval-logloss:0.01008\ttrain-logloss:0.01006\n",
      "[90]\teval-logloss:0.00674\ttrain-logloss:0.00663\n",
      "[99]\teval-logloss:0.00489\ttrain-logloss:0.00469\n",
      "[0]\teval-logloss:0.64450\ttrain-logloss:0.64448\n"
     ]
    },
    {
     "name": "stderr",
     "output_type": "stream",
     "text": [
      "c:\\Users\\cleme\\Desktop\\personal-projects\\creditcard-fraud-ML\\venv\\lib\\site-packages\\xgboost\\core.py:617: FutureWarning: Pass `evals` as keyword args.\n",
      "  warnings.warn(msg, FutureWarning)\n"
     ]
    },
    {
     "name": "stdout",
     "output_type": "stream",
     "text": [
      "[10]\teval-logloss:0.33734\ttrain-logloss:0.33732\n",
      "[20]\teval-logloss:0.19054\ttrain-logloss:0.19056\n",
      "[30]\teval-logloss:0.11152\ttrain-logloss:0.11156\n",
      "[40]\teval-logloss:0.06664\ttrain-logloss:0.06672\n",
      "[50]\teval-logloss:0.04045\ttrain-logloss:0.04055\n",
      "[60]\teval-logloss:0.02492\ttrain-logloss:0.02500\n",
      "[70]\teval-logloss:0.01564\ttrain-logloss:0.01568\n",
      "[80]\teval-logloss:0.01008\ttrain-logloss:0.01006\n",
      "[90]\teval-logloss:0.00674\ttrain-logloss:0.00663\n",
      "[99]\teval-logloss:0.00489\ttrain-logloss:0.00469\n",
      "[0]\teval-logloss:0.64450\ttrain-logloss:0.64448\n"
     ]
    },
    {
     "name": "stderr",
     "output_type": "stream",
     "text": [
      "c:\\Users\\cleme\\Desktop\\personal-projects\\creditcard-fraud-ML\\venv\\lib\\site-packages\\xgboost\\core.py:617: FutureWarning: Pass `evals` as keyword args.\n",
      "  warnings.warn(msg, FutureWarning)\n"
     ]
    },
    {
     "name": "stdout",
     "output_type": "stream",
     "text": [
      "[10]\teval-logloss:0.33734\ttrain-logloss:0.33732\n",
      "[20]\teval-logloss:0.19054\ttrain-logloss:0.19056\n",
      "[30]\teval-logloss:0.11152\ttrain-logloss:0.11156\n",
      "[40]\teval-logloss:0.06664\ttrain-logloss:0.06672\n",
      "[50]\teval-logloss:0.04045\ttrain-logloss:0.04055\n",
      "[60]\teval-logloss:0.02492\ttrain-logloss:0.02500\n",
      "[70]\teval-logloss:0.01564\ttrain-logloss:0.01568\n",
      "[80]\teval-logloss:0.01008\ttrain-logloss:0.01006\n",
      "[90]\teval-logloss:0.00674\ttrain-logloss:0.00663\n",
      "[99]\teval-logloss:0.00489\ttrain-logloss:0.00469\n"
     ]
    },
    {
     "name": "stderr",
     "output_type": "stream",
     "text": [
      "c:\\Users\\cleme\\Desktop\\personal-projects\\creditcard-fraud-ML\\venv\\lib\\site-packages\\xgboost\\core.py:617: FutureWarning: Pass `evals` as keyword args.\n",
      "  warnings.warn(msg, FutureWarning)\n"
     ]
    },
    {
     "name": "stdout",
     "output_type": "stream",
     "text": [
      "[0]\teval-logloss:0.64450\ttrain-logloss:0.64448\n",
      "[10]\teval-logloss:0.33732\ttrain-logloss:0.33731\n",
      "[20]\teval-logloss:0.19052\ttrain-logloss:0.19056\n",
      "[30]\teval-logloss:0.11146\ttrain-logloss:0.11157\n",
      "[40]\teval-logloss:0.06655\ttrain-logloss:0.06672\n",
      "[50]\teval-logloss:0.04034\ttrain-logloss:0.04053\n",
      "[60]\teval-logloss:0.02482\ttrain-logloss:0.02498\n",
      "[70]\teval-logloss:0.01553\ttrain-logloss:0.01568\n",
      "[80]\teval-logloss:0.00997\ttrain-logloss:0.01007\n",
      "[90]\teval-logloss:0.00664\ttrain-logloss:0.00666\n",
      "[99]\teval-logloss:0.00479\ttrain-logloss:0.00472\n"
     ]
    },
    {
     "name": "stderr",
     "output_type": "stream",
     "text": [
      "c:\\Users\\cleme\\Desktop\\personal-projects\\creditcard-fraud-ML\\venv\\lib\\site-packages\\xgboost\\core.py:617: FutureWarning: Pass `evals` as keyword args.\n",
      "  warnings.warn(msg, FutureWarning)\n"
     ]
    },
    {
     "name": "stdout",
     "output_type": "stream",
     "text": [
      "[0]\teval-logloss:0.64450\ttrain-logloss:0.64448\n",
      "[10]\teval-logloss:0.33732\ttrain-logloss:0.33731\n",
      "[20]\teval-logloss:0.19052\ttrain-logloss:0.19056\n",
      "[30]\teval-logloss:0.11146\ttrain-logloss:0.11157\n",
      "[40]\teval-logloss:0.06655\ttrain-logloss:0.06672\n",
      "[50]\teval-logloss:0.04034\ttrain-logloss:0.04053\n",
      "[60]\teval-logloss:0.02482\ttrain-logloss:0.02498\n",
      "[70]\teval-logloss:0.01553\ttrain-logloss:0.01568\n",
      "[80]\teval-logloss:0.00997\ttrain-logloss:0.01007\n",
      "[90]\teval-logloss:0.00664\ttrain-logloss:0.00666\n",
      "[99]\teval-logloss:0.00479\ttrain-logloss:0.00472\n"
     ]
    },
    {
     "name": "stderr",
     "output_type": "stream",
     "text": [
      "c:\\Users\\cleme\\Desktop\\personal-projects\\creditcard-fraud-ML\\venv\\lib\\site-packages\\xgboost\\core.py:617: FutureWarning: Pass `evals` as keyword args.\n",
      "  warnings.warn(msg, FutureWarning)\n"
     ]
    },
    {
     "name": "stdout",
     "output_type": "stream",
     "text": [
      "[0]\teval-logloss:0.64450\ttrain-logloss:0.64448\n",
      "[10]\teval-logloss:0.33732\ttrain-logloss:0.33731\n",
      "[20]\teval-logloss:0.19052\ttrain-logloss:0.19056\n",
      "[30]\teval-logloss:0.11146\ttrain-logloss:0.11157\n",
      "[40]\teval-logloss:0.06655\ttrain-logloss:0.06672\n",
      "[50]\teval-logloss:0.04034\ttrain-logloss:0.04053\n",
      "[60]\teval-logloss:0.02482\ttrain-logloss:0.02498\n",
      "[70]\teval-logloss:0.01553\ttrain-logloss:0.01568\n",
      "[80]\teval-logloss:0.00997\ttrain-logloss:0.01007\n",
      "[90]\teval-logloss:0.00664\ttrain-logloss:0.00666\n",
      "[99]\teval-logloss:0.00479\ttrain-logloss:0.00472\n"
     ]
    },
    {
     "name": "stderr",
     "output_type": "stream",
     "text": [
      "c:\\Users\\cleme\\Desktop\\personal-projects\\creditcard-fraud-ML\\venv\\lib\\site-packages\\xgboost\\core.py:617: FutureWarning: Pass `evals` as keyword args.\n",
      "  warnings.warn(msg, FutureWarning)\n"
     ]
    },
    {
     "name": "stdout",
     "output_type": "stream",
     "text": [
      "[0]\teval-logloss:0.64450\ttrain-logloss:0.64448\n",
      "[10]\teval-logloss:0.33732\ttrain-logloss:0.33731\n",
      "[20]\teval-logloss:0.19052\ttrain-logloss:0.19056\n",
      "[30]\teval-logloss:0.11146\ttrain-logloss:0.11157\n",
      "[40]\teval-logloss:0.06655\ttrain-logloss:0.06672\n",
      "[50]\teval-logloss:0.04034\ttrain-logloss:0.04053\n",
      "[60]\teval-logloss:0.02482\ttrain-logloss:0.02498\n",
      "[70]\teval-logloss:0.01553\ttrain-logloss:0.01568\n",
      "[80]\teval-logloss:0.00997\ttrain-logloss:0.01007\n",
      "[90]\teval-logloss:0.00664\ttrain-logloss:0.00666\n",
      "[99]\teval-logloss:0.00479\ttrain-logloss:0.00472\n"
     ]
    },
    {
     "name": "stderr",
     "output_type": "stream",
     "text": [
      "c:\\Users\\cleme\\Desktop\\personal-projects\\creditcard-fraud-ML\\venv\\lib\\site-packages\\xgboost\\core.py:617: FutureWarning: Pass `evals` as keyword args.\n",
      "  warnings.warn(msg, FutureWarning)\n"
     ]
    },
    {
     "name": "stdout",
     "output_type": "stream",
     "text": [
      "[0]\teval-logloss:0.64449\ttrain-logloss:0.64448\n",
      "[10]\teval-logloss:0.33735\ttrain-logloss:0.33733\n",
      "[20]\teval-logloss:0.19058\ttrain-logloss:0.19057\n",
      "[30]\teval-logloss:0.11155\ttrain-logloss:0.11157\n",
      "[40]\teval-logloss:0.06664\ttrain-logloss:0.06673\n",
      "[50]\teval-logloss:0.04044\ttrain-logloss:0.04057\n",
      "[60]\teval-logloss:0.02490\ttrain-logloss:0.02503\n",
      "[70]\teval-logloss:0.01561\ttrain-logloss:0.01571\n",
      "[80]\teval-logloss:0.01002\ttrain-logloss:0.01010\n",
      "[90]\teval-logloss:0.00667\ttrain-logloss:0.00668\n",
      "[99]\teval-logloss:0.00482\ttrain-logloss:0.00474\n"
     ]
    },
    {
     "name": "stderr",
     "output_type": "stream",
     "text": [
      "c:\\Users\\cleme\\Desktop\\personal-projects\\creditcard-fraud-ML\\venv\\lib\\site-packages\\xgboost\\core.py:617: FutureWarning: Pass `evals` as keyword args.\n",
      "  warnings.warn(msg, FutureWarning)\n"
     ]
    },
    {
     "name": "stdout",
     "output_type": "stream",
     "text": [
      "[0]\teval-logloss:0.64449\ttrain-logloss:0.64448\n",
      "[10]\teval-logloss:0.33735\ttrain-logloss:0.33733\n",
      "[20]\teval-logloss:0.19058\ttrain-logloss:0.19057\n",
      "[30]\teval-logloss:0.11155\ttrain-logloss:0.11157\n",
      "[40]\teval-logloss:0.06664\ttrain-logloss:0.06673\n",
      "[50]\teval-logloss:0.04044\ttrain-logloss:0.04057\n",
      "[60]\teval-logloss:0.02490\ttrain-logloss:0.02503\n",
      "[70]\teval-logloss:0.01561\ttrain-logloss:0.01571\n",
      "[80]\teval-logloss:0.01002\ttrain-logloss:0.01010\n",
      "[90]\teval-logloss:0.00667\ttrain-logloss:0.00668\n",
      "[99]\teval-logloss:0.00482\ttrain-logloss:0.00474\n"
     ]
    },
    {
     "name": "stderr",
     "output_type": "stream",
     "text": [
      "c:\\Users\\cleme\\Desktop\\personal-projects\\creditcard-fraud-ML\\venv\\lib\\site-packages\\xgboost\\core.py:617: FutureWarning: Pass `evals` as keyword args.\n",
      "  warnings.warn(msg, FutureWarning)\n"
     ]
    },
    {
     "name": "stdout",
     "output_type": "stream",
     "text": [
      "[0]\teval-logloss:0.64449\ttrain-logloss:0.64448\n",
      "[10]\teval-logloss:0.33735\ttrain-logloss:0.33733\n",
      "[20]\teval-logloss:0.19058\ttrain-logloss:0.19057\n",
      "[30]\teval-logloss:0.11155\ttrain-logloss:0.11157\n",
      "[40]\teval-logloss:0.06664\ttrain-logloss:0.06673\n",
      "[50]\teval-logloss:0.04044\ttrain-logloss:0.04057\n",
      "[60]\teval-logloss:0.02490\ttrain-logloss:0.02503\n",
      "[70]\teval-logloss:0.01561\ttrain-logloss:0.01571\n",
      "[80]\teval-logloss:0.01002\ttrain-logloss:0.01010\n",
      "[90]\teval-logloss:0.00667\ttrain-logloss:0.00668\n",
      "[99]\teval-logloss:0.00482\ttrain-logloss:0.00474\n"
     ]
    },
    {
     "name": "stderr",
     "output_type": "stream",
     "text": [
      "c:\\Users\\cleme\\Desktop\\personal-projects\\creditcard-fraud-ML\\venv\\lib\\site-packages\\xgboost\\core.py:617: FutureWarning: Pass `evals` as keyword args.\n",
      "  warnings.warn(msg, FutureWarning)\n"
     ]
    },
    {
     "name": "stdout",
     "output_type": "stream",
     "text": [
      "[0]\teval-logloss:0.64449\ttrain-logloss:0.64448\n",
      "[10]\teval-logloss:0.33735\ttrain-logloss:0.33733\n",
      "[20]\teval-logloss:0.19058\ttrain-logloss:0.19057\n",
      "[30]\teval-logloss:0.11155\ttrain-logloss:0.11157\n",
      "[40]\teval-logloss:0.06664\ttrain-logloss:0.06673\n",
      "[50]\teval-logloss:0.04044\ttrain-logloss:0.04057\n",
      "[60]\teval-logloss:0.02490\ttrain-logloss:0.02503\n",
      "[70]\teval-logloss:0.01561\ttrain-logloss:0.01571\n",
      "[80]\teval-logloss:0.01002\ttrain-logloss:0.01010\n",
      "[90]\teval-logloss:0.00667\ttrain-logloss:0.00668\n",
      "[99]\teval-logloss:0.00482\ttrain-logloss:0.00474\n"
     ]
    },
    {
     "name": "stderr",
     "output_type": "stream",
     "text": [
      "c:\\Users\\cleme\\Desktop\\personal-projects\\creditcard-fraud-ML\\venv\\lib\\site-packages\\xgboost\\core.py:617: FutureWarning: Pass `evals` as keyword args.\n",
      "  warnings.warn(msg, FutureWarning)\n"
     ]
    },
    {
     "name": "stdout",
     "output_type": "stream",
     "text": [
      "[0]\teval-logloss:0.59833\ttrain-logloss:0.59837\n",
      "[10]\teval-logloss:0.17781\ttrain-logloss:0.17811\n",
      "[20]\teval-logloss:0.06241\ttrain-logloss:0.06287\n",
      "[30]\teval-logloss:0.02350\ttrain-logloss:0.02408\n",
      "[40]\teval-logloss:0.00965\ttrain-logloss:0.01031\n",
      "[50]\teval-logloss:0.00466\ttrain-logloss:0.00535\n",
      "[60]\teval-logloss:0.00286\ttrain-logloss:0.00353\n",
      "[70]\teval-logloss:0.00221\ttrain-logloss:0.00282\n",
      "[80]\teval-logloss:0.00196\ttrain-logloss:0.00248\n",
      "[90]\teval-logloss:0.00187\ttrain-logloss:0.00227\n",
      "[99]\teval-logloss:0.00184\ttrain-logloss:0.00212\n",
      "[0]\teval-logloss:0.59833\ttrain-logloss:0.59837\n"
     ]
    },
    {
     "name": "stderr",
     "output_type": "stream",
     "text": [
      "c:\\Users\\cleme\\Desktop\\personal-projects\\creditcard-fraud-ML\\venv\\lib\\site-packages\\xgboost\\core.py:617: FutureWarning: Pass `evals` as keyword args.\n",
      "  warnings.warn(msg, FutureWarning)\n"
     ]
    },
    {
     "name": "stdout",
     "output_type": "stream",
     "text": [
      "[10]\teval-logloss:0.17781\ttrain-logloss:0.17811\n",
      "[20]\teval-logloss:0.06241\ttrain-logloss:0.06287\n",
      "[30]\teval-logloss:0.02350\ttrain-logloss:0.02408\n",
      "[40]\teval-logloss:0.00965\ttrain-logloss:0.01031\n",
      "[50]\teval-logloss:0.00466\ttrain-logloss:0.00535\n",
      "[60]\teval-logloss:0.00286\ttrain-logloss:0.00353\n",
      "[70]\teval-logloss:0.00221\ttrain-logloss:0.00282\n",
      "[80]\teval-logloss:0.00196\ttrain-logloss:0.00248\n",
      "[90]\teval-logloss:0.00187\ttrain-logloss:0.00227\n",
      "[99]\teval-logloss:0.00184\ttrain-logloss:0.00212\n",
      "[0]\teval-logloss:0.59833\ttrain-logloss:0.59837\n"
     ]
    },
    {
     "name": "stderr",
     "output_type": "stream",
     "text": [
      "c:\\Users\\cleme\\Desktop\\personal-projects\\creditcard-fraud-ML\\venv\\lib\\site-packages\\xgboost\\core.py:617: FutureWarning: Pass `evals` as keyword args.\n",
      "  warnings.warn(msg, FutureWarning)\n"
     ]
    },
    {
     "name": "stdout",
     "output_type": "stream",
     "text": [
      "[10]\teval-logloss:0.17781\ttrain-logloss:0.17811\n",
      "[20]\teval-logloss:0.06241\ttrain-logloss:0.06287\n",
      "[30]\teval-logloss:0.02350\ttrain-logloss:0.02408\n",
      "[40]\teval-logloss:0.00965\ttrain-logloss:0.01031\n",
      "[50]\teval-logloss:0.00466\ttrain-logloss:0.00535\n",
      "[60]\teval-logloss:0.00286\ttrain-logloss:0.00353\n",
      "[70]\teval-logloss:0.00221\ttrain-logloss:0.00282\n",
      "[80]\teval-logloss:0.00196\ttrain-logloss:0.00248\n",
      "[90]\teval-logloss:0.00187\ttrain-logloss:0.00227\n",
      "[99]\teval-logloss:0.00184\ttrain-logloss:0.00212\n",
      "[0]\teval-logloss:0.59833\ttrain-logloss:0.59837\n"
     ]
    },
    {
     "name": "stderr",
     "output_type": "stream",
     "text": [
      "c:\\Users\\cleme\\Desktop\\personal-projects\\creditcard-fraud-ML\\venv\\lib\\site-packages\\xgboost\\core.py:617: FutureWarning: Pass `evals` as keyword args.\n",
      "  warnings.warn(msg, FutureWarning)\n"
     ]
    },
    {
     "name": "stdout",
     "output_type": "stream",
     "text": [
      "[10]\teval-logloss:0.17781\ttrain-logloss:0.17811\n",
      "[20]\teval-logloss:0.06241\ttrain-logloss:0.06287\n",
      "[30]\teval-logloss:0.02350\ttrain-logloss:0.02408\n",
      "[40]\teval-logloss:0.00965\ttrain-logloss:0.01031\n",
      "[50]\teval-logloss:0.00466\ttrain-logloss:0.00535\n",
      "[60]\teval-logloss:0.00286\ttrain-logloss:0.00353\n",
      "[70]\teval-logloss:0.00221\ttrain-logloss:0.00282\n",
      "[80]\teval-logloss:0.00196\ttrain-logloss:0.00248\n",
      "[90]\teval-logloss:0.00187\ttrain-logloss:0.00227\n",
      "[99]\teval-logloss:0.00184\ttrain-logloss:0.00212\n"
     ]
    },
    {
     "name": "stderr",
     "output_type": "stream",
     "text": [
      "c:\\Users\\cleme\\Desktop\\personal-projects\\creditcard-fraud-ML\\venv\\lib\\site-packages\\xgboost\\core.py:617: FutureWarning: Pass `evals` as keyword args.\n",
      "  warnings.warn(msg, FutureWarning)\n"
     ]
    },
    {
     "name": "stdout",
     "output_type": "stream",
     "text": [
      "[0]\teval-logloss:0.59833\ttrain-logloss:0.59837\n",
      "[10]\teval-logloss:0.17778\ttrain-logloss:0.17810\n",
      "[20]\teval-logloss:0.06234\ttrain-logloss:0.06280\n",
      "[30]\teval-logloss:0.02339\ttrain-logloss:0.02396\n",
      "[40]\teval-logloss:0.00955\ttrain-logloss:0.01020\n",
      "[50]\teval-logloss:0.00460\ttrain-logloss:0.00523\n",
      "[60]\teval-logloss:0.00284\ttrain-logloss:0.00342\n",
      "[70]\teval-logloss:0.00220\ttrain-logloss:0.00271\n",
      "[80]\teval-logloss:0.00195\ttrain-logloss:0.00237\n",
      "[90]\teval-logloss:0.00186\ttrain-logloss:0.00217\n",
      "[99]\teval-logloss:0.00182\ttrain-logloss:0.00202\n"
     ]
    },
    {
     "name": "stderr",
     "output_type": "stream",
     "text": [
      "c:\\Users\\cleme\\Desktop\\personal-projects\\creditcard-fraud-ML\\venv\\lib\\site-packages\\xgboost\\core.py:617: FutureWarning: Pass `evals` as keyword args.\n",
      "  warnings.warn(msg, FutureWarning)\n"
     ]
    },
    {
     "name": "stdout",
     "output_type": "stream",
     "text": [
      "[0]\teval-logloss:0.59833\ttrain-logloss:0.59837\n",
      "[10]\teval-logloss:0.17778\ttrain-logloss:0.17810\n",
      "[20]\teval-logloss:0.06234\ttrain-logloss:0.06280\n",
      "[30]\teval-logloss:0.02339\ttrain-logloss:0.02396\n",
      "[40]\teval-logloss:0.00955\ttrain-logloss:0.01020\n",
      "[50]\teval-logloss:0.00460\ttrain-logloss:0.00523\n",
      "[60]\teval-logloss:0.00284\ttrain-logloss:0.00342\n",
      "[70]\teval-logloss:0.00220\ttrain-logloss:0.00271\n",
      "[80]\teval-logloss:0.00195\ttrain-logloss:0.00237\n",
      "[90]\teval-logloss:0.00186\ttrain-logloss:0.00217\n",
      "[99]\teval-logloss:0.00182\ttrain-logloss:0.00202\n"
     ]
    },
    {
     "name": "stderr",
     "output_type": "stream",
     "text": [
      "c:\\Users\\cleme\\Desktop\\personal-projects\\creditcard-fraud-ML\\venv\\lib\\site-packages\\xgboost\\core.py:617: FutureWarning: Pass `evals` as keyword args.\n",
      "  warnings.warn(msg, FutureWarning)\n"
     ]
    },
    {
     "name": "stdout",
     "output_type": "stream",
     "text": [
      "[0]\teval-logloss:0.59833\ttrain-logloss:0.59837\n",
      "[10]\teval-logloss:0.17778\ttrain-logloss:0.17810\n",
      "[20]\teval-logloss:0.06234\ttrain-logloss:0.06280\n",
      "[30]\teval-logloss:0.02339\ttrain-logloss:0.02396\n",
      "[40]\teval-logloss:0.00955\ttrain-logloss:0.01020\n",
      "[50]\teval-logloss:0.00460\ttrain-logloss:0.00523\n",
      "[60]\teval-logloss:0.00284\ttrain-logloss:0.00342\n",
      "[70]\teval-logloss:0.00220\ttrain-logloss:0.00271\n",
      "[80]\teval-logloss:0.00195\ttrain-logloss:0.00237\n",
      "[90]\teval-logloss:0.00186\ttrain-logloss:0.00217\n",
      "[99]\teval-logloss:0.00182\ttrain-logloss:0.00202\n"
     ]
    },
    {
     "name": "stderr",
     "output_type": "stream",
     "text": [
      "c:\\Users\\cleme\\Desktop\\personal-projects\\creditcard-fraud-ML\\venv\\lib\\site-packages\\xgboost\\core.py:617: FutureWarning: Pass `evals` as keyword args.\n",
      "  warnings.warn(msg, FutureWarning)\n"
     ]
    },
    {
     "name": "stdout",
     "output_type": "stream",
     "text": [
      "[0]\teval-logloss:0.59833\ttrain-logloss:0.59837\n",
      "[10]\teval-logloss:0.17778\ttrain-logloss:0.17810\n",
      "[20]\teval-logloss:0.06234\ttrain-logloss:0.06280\n",
      "[30]\teval-logloss:0.02339\ttrain-logloss:0.02396\n",
      "[40]\teval-logloss:0.00955\ttrain-logloss:0.01020\n",
      "[50]\teval-logloss:0.00460\ttrain-logloss:0.00523\n",
      "[60]\teval-logloss:0.00284\ttrain-logloss:0.00342\n",
      "[70]\teval-logloss:0.00220\ttrain-logloss:0.00271\n",
      "[80]\teval-logloss:0.00195\ttrain-logloss:0.00237\n",
      "[90]\teval-logloss:0.00186\ttrain-logloss:0.00217\n",
      "[99]\teval-logloss:0.00182\ttrain-logloss:0.00202\n"
     ]
    },
    {
     "name": "stderr",
     "output_type": "stream",
     "text": [
      "c:\\Users\\cleme\\Desktop\\personal-projects\\creditcard-fraud-ML\\venv\\lib\\site-packages\\xgboost\\core.py:617: FutureWarning: Pass `evals` as keyword args.\n",
      "  warnings.warn(msg, FutureWarning)\n"
     ]
    },
    {
     "name": "stdout",
     "output_type": "stream",
     "text": [
      "[0]\teval-logloss:0.59837\ttrain-logloss:0.59839\n",
      "[10]\teval-logloss:0.17789\ttrain-logloss:0.17811\n",
      "[20]\teval-logloss:0.06241\ttrain-logloss:0.06278\n",
      "[30]\teval-logloss:0.02344\ttrain-logloss:0.02395\n",
      "[40]\teval-logloss:0.00959\ttrain-logloss:0.01019\n",
      "[50]\teval-logloss:0.00463\ttrain-logloss:0.00522\n",
      "[60]\teval-logloss:0.00287\ttrain-logloss:0.00339\n",
      "[70]\teval-logloss:0.00223\ttrain-logloss:0.00268\n",
      "[80]\teval-logloss:0.00199\ttrain-logloss:0.00233\n",
      "[90]\teval-logloss:0.00189\ttrain-logloss:0.00212\n",
      "[99]\teval-logloss:0.00183\ttrain-logloss:0.00196\n"
     ]
    },
    {
     "name": "stderr",
     "output_type": "stream",
     "text": [
      "c:\\Users\\cleme\\Desktop\\personal-projects\\creditcard-fraud-ML\\venv\\lib\\site-packages\\xgboost\\core.py:617: FutureWarning: Pass `evals` as keyword args.\n",
      "  warnings.warn(msg, FutureWarning)\n"
     ]
    },
    {
     "name": "stdout",
     "output_type": "stream",
     "text": [
      "[0]\teval-logloss:0.59837\ttrain-logloss:0.59839\n",
      "[10]\teval-logloss:0.17789\ttrain-logloss:0.17811\n",
      "[20]\teval-logloss:0.06241\ttrain-logloss:0.06278\n",
      "[30]\teval-logloss:0.02344\ttrain-logloss:0.02395\n",
      "[40]\teval-logloss:0.00959\ttrain-logloss:0.01019\n",
      "[50]\teval-logloss:0.00463\ttrain-logloss:0.00522\n",
      "[60]\teval-logloss:0.00287\ttrain-logloss:0.00339\n",
      "[70]\teval-logloss:0.00223\ttrain-logloss:0.00268\n",
      "[80]\teval-logloss:0.00199\ttrain-logloss:0.00233\n",
      "[90]\teval-logloss:0.00189\ttrain-logloss:0.00212\n",
      "[99]\teval-logloss:0.00183\ttrain-logloss:0.00196\n",
      "[0]\teval-logloss:0.59837\ttrain-logloss:0.59839\n"
     ]
    },
    {
     "name": "stderr",
     "output_type": "stream",
     "text": [
      "c:\\Users\\cleme\\Desktop\\personal-projects\\creditcard-fraud-ML\\venv\\lib\\site-packages\\xgboost\\core.py:617: FutureWarning: Pass `evals` as keyword args.\n",
      "  warnings.warn(msg, FutureWarning)\n"
     ]
    },
    {
     "name": "stdout",
     "output_type": "stream",
     "text": [
      "[10]\teval-logloss:0.17789\ttrain-logloss:0.17811\n",
      "[20]\teval-logloss:0.06241\ttrain-logloss:0.06278\n",
      "[30]\teval-logloss:0.02344\ttrain-logloss:0.02395\n",
      "[40]\teval-logloss:0.00959\ttrain-logloss:0.01019\n",
      "[50]\teval-logloss:0.00463\ttrain-logloss:0.00522\n",
      "[60]\teval-logloss:0.00287\ttrain-logloss:0.00339\n",
      "[70]\teval-logloss:0.00223\ttrain-logloss:0.00268\n",
      "[80]\teval-logloss:0.00199\ttrain-logloss:0.00233\n",
      "[90]\teval-logloss:0.00189\ttrain-logloss:0.00212\n",
      "[99]\teval-logloss:0.00183\ttrain-logloss:0.00196\n"
     ]
    },
    {
     "name": "stderr",
     "output_type": "stream",
     "text": [
      "c:\\Users\\cleme\\Desktop\\personal-projects\\creditcard-fraud-ML\\venv\\lib\\site-packages\\xgboost\\core.py:617: FutureWarning: Pass `evals` as keyword args.\n",
      "  warnings.warn(msg, FutureWarning)\n"
     ]
    },
    {
     "name": "stdout",
     "output_type": "stream",
     "text": [
      "[0]\teval-logloss:0.59837\ttrain-logloss:0.59839\n",
      "[10]\teval-logloss:0.17789\ttrain-logloss:0.17811\n",
      "[20]\teval-logloss:0.06241\ttrain-logloss:0.06278\n",
      "[30]\teval-logloss:0.02344\ttrain-logloss:0.02395\n",
      "[40]\teval-logloss:0.00959\ttrain-logloss:0.01019\n",
      "[50]\teval-logloss:0.00463\ttrain-logloss:0.00522\n",
      "[60]\teval-logloss:0.00287\ttrain-logloss:0.00339\n",
      "[70]\teval-logloss:0.00223\ttrain-logloss:0.00268\n",
      "[80]\teval-logloss:0.00199\ttrain-logloss:0.00233\n",
      "[90]\teval-logloss:0.00189\ttrain-logloss:0.00212\n",
      "[99]\teval-logloss:0.00183\ttrain-logloss:0.00196\n"
     ]
    },
    {
     "name": "stderr",
     "output_type": "stream",
     "text": [
      "c:\\Users\\cleme\\Desktop\\personal-projects\\creditcard-fraud-ML\\venv\\lib\\site-packages\\xgboost\\core.py:617: FutureWarning: Pass `evals` as keyword args.\n",
      "  warnings.warn(msg, FutureWarning)\n"
     ]
    },
    {
     "name": "stdout",
     "output_type": "stream",
     "text": [
      "[0]\teval-logloss:0.59834\ttrain-logloss:0.59831\n",
      "[10]\teval-logloss:0.17772\ttrain-logloss:0.17772\n",
      "[20]\teval-logloss:0.06231\ttrain-logloss:0.06238\n",
      "[30]\teval-logloss:0.02338\ttrain-logloss:0.02345\n",
      "[40]\teval-logloss:0.00953\ttrain-logloss:0.00949\n",
      "[50]\teval-logloss:0.00454\ttrain-logloss:0.00432\n",
      "[60]\teval-logloss:0.00272\ttrain-logloss:0.00229\n",
      "[70]\teval-logloss:0.00209\ttrain-logloss:0.00137\n",
      "[80]\teval-logloss:0.00187\ttrain-logloss:0.00090\n",
      "[90]\teval-logloss:0.00176\ttrain-logloss:0.00062\n",
      "[99]\teval-logloss:0.00174\ttrain-logloss:0.00046\n",
      "[0]\teval-logloss:0.59834\ttrain-logloss:0.59831\n"
     ]
    },
    {
     "name": "stderr",
     "output_type": "stream",
     "text": [
      "c:\\Users\\cleme\\Desktop\\personal-projects\\creditcard-fraud-ML\\venv\\lib\\site-packages\\xgboost\\core.py:617: FutureWarning: Pass `evals` as keyword args.\n",
      "  warnings.warn(msg, FutureWarning)\n"
     ]
    },
    {
     "name": "stdout",
     "output_type": "stream",
     "text": [
      "[10]\teval-logloss:0.17772\ttrain-logloss:0.17772\n",
      "[20]\teval-logloss:0.06231\ttrain-logloss:0.06238\n",
      "[30]\teval-logloss:0.02338\ttrain-logloss:0.02345\n",
      "[40]\teval-logloss:0.00953\ttrain-logloss:0.00949\n",
      "[50]\teval-logloss:0.00454\ttrain-logloss:0.00432\n",
      "[60]\teval-logloss:0.00272\ttrain-logloss:0.00229\n",
      "[70]\teval-logloss:0.00209\ttrain-logloss:0.00137\n",
      "[80]\teval-logloss:0.00187\ttrain-logloss:0.00090\n",
      "[90]\teval-logloss:0.00176\ttrain-logloss:0.00062\n",
      "[99]\teval-logloss:0.00174\ttrain-logloss:0.00046\n",
      "[0]\teval-logloss:0.59834\ttrain-logloss:0.59831\n"
     ]
    },
    {
     "name": "stderr",
     "output_type": "stream",
     "text": [
      "c:\\Users\\cleme\\Desktop\\personal-projects\\creditcard-fraud-ML\\venv\\lib\\site-packages\\xgboost\\core.py:617: FutureWarning: Pass `evals` as keyword args.\n",
      "  warnings.warn(msg, FutureWarning)\n"
     ]
    },
    {
     "name": "stdout",
     "output_type": "stream",
     "text": [
      "[10]\teval-logloss:0.17772\ttrain-logloss:0.17772\n",
      "[20]\teval-logloss:0.06231\ttrain-logloss:0.06238\n",
      "[30]\teval-logloss:0.02338\ttrain-logloss:0.02345\n",
      "[40]\teval-logloss:0.00953\ttrain-logloss:0.00949\n",
      "[50]\teval-logloss:0.00454\ttrain-logloss:0.00432\n",
      "[60]\teval-logloss:0.00272\ttrain-logloss:0.00229\n",
      "[70]\teval-logloss:0.00209\ttrain-logloss:0.00137\n",
      "[80]\teval-logloss:0.00187\ttrain-logloss:0.00090\n",
      "[90]\teval-logloss:0.00176\ttrain-logloss:0.00062\n",
      "[99]\teval-logloss:0.00174\ttrain-logloss:0.00046\n",
      "[0]\teval-logloss:0.59834\ttrain-logloss:0.59831\n"
     ]
    },
    {
     "name": "stderr",
     "output_type": "stream",
     "text": [
      "c:\\Users\\cleme\\Desktop\\personal-projects\\creditcard-fraud-ML\\venv\\lib\\site-packages\\xgboost\\core.py:617: FutureWarning: Pass `evals` as keyword args.\n",
      "  warnings.warn(msg, FutureWarning)\n"
     ]
    },
    {
     "name": "stdout",
     "output_type": "stream",
     "text": [
      "[10]\teval-logloss:0.17772\ttrain-logloss:0.17772\n",
      "[20]\teval-logloss:0.06231\ttrain-logloss:0.06238\n",
      "[30]\teval-logloss:0.02338\ttrain-logloss:0.02345\n",
      "[40]\teval-logloss:0.00953\ttrain-logloss:0.00949\n",
      "[50]\teval-logloss:0.00454\ttrain-logloss:0.00432\n",
      "[60]\teval-logloss:0.00272\ttrain-logloss:0.00229\n",
      "[70]\teval-logloss:0.00209\ttrain-logloss:0.00137\n",
      "[80]\teval-logloss:0.00187\ttrain-logloss:0.00090\n",
      "[90]\teval-logloss:0.00176\ttrain-logloss:0.00062\n",
      "[99]\teval-logloss:0.00174\ttrain-logloss:0.00046\n",
      "[0]\teval-logloss:0.59834\ttrain-logloss:0.59831\n"
     ]
    },
    {
     "name": "stderr",
     "output_type": "stream",
     "text": [
      "c:\\Users\\cleme\\Desktop\\personal-projects\\creditcard-fraud-ML\\venv\\lib\\site-packages\\xgboost\\core.py:617: FutureWarning: Pass `evals` as keyword args.\n",
      "  warnings.warn(msg, FutureWarning)\n"
     ]
    },
    {
     "name": "stdout",
     "output_type": "stream",
     "text": [
      "[10]\teval-logloss:0.17770\ttrain-logloss:0.17773\n",
      "[20]\teval-logloss:0.06223\ttrain-logloss:0.06238\n",
      "[30]\teval-logloss:0.02329\ttrain-logloss:0.02342\n",
      "[40]\teval-logloss:0.00939\ttrain-logloss:0.00951\n",
      "[50]\teval-logloss:0.00440\ttrain-logloss:0.00434\n",
      "[60]\teval-logloss:0.00262\ttrain-logloss:0.00229\n",
      "[70]\teval-logloss:0.00198\ttrain-logloss:0.00139\n",
      "[80]\teval-logloss:0.00177\ttrain-logloss:0.00092\n",
      "[90]\teval-logloss:0.00167\ttrain-logloss:0.00063\n",
      "[99]\teval-logloss:0.00166\ttrain-logloss:0.00046\n"
     ]
    },
    {
     "name": "stderr",
     "output_type": "stream",
     "text": [
      "c:\\Users\\cleme\\Desktop\\personal-projects\\creditcard-fraud-ML\\venv\\lib\\site-packages\\xgboost\\core.py:617: FutureWarning: Pass `evals` as keyword args.\n",
      "  warnings.warn(msg, FutureWarning)\n"
     ]
    },
    {
     "name": "stdout",
     "output_type": "stream",
     "text": [
      "[0]\teval-logloss:0.59834\ttrain-logloss:0.59831\n",
      "[10]\teval-logloss:0.17770\ttrain-logloss:0.17773\n",
      "[20]\teval-logloss:0.06223\ttrain-logloss:0.06238\n",
      "[30]\teval-logloss:0.02329\ttrain-logloss:0.02342\n",
      "[40]\teval-logloss:0.00939\ttrain-logloss:0.00951\n",
      "[50]\teval-logloss:0.00440\ttrain-logloss:0.00434\n",
      "[60]\teval-logloss:0.00262\ttrain-logloss:0.00229\n",
      "[70]\teval-logloss:0.00198\ttrain-logloss:0.00139\n",
      "[80]\teval-logloss:0.00177\ttrain-logloss:0.00092\n",
      "[90]\teval-logloss:0.00167\ttrain-logloss:0.00063\n",
      "[99]\teval-logloss:0.00166\ttrain-logloss:0.00046\n"
     ]
    },
    {
     "name": "stderr",
     "output_type": "stream",
     "text": [
      "c:\\Users\\cleme\\Desktop\\personal-projects\\creditcard-fraud-ML\\venv\\lib\\site-packages\\xgboost\\core.py:617: FutureWarning: Pass `evals` as keyword args.\n",
      "  warnings.warn(msg, FutureWarning)\n"
     ]
    },
    {
     "name": "stdout",
     "output_type": "stream",
     "text": [
      "[0]\teval-logloss:0.59834\ttrain-logloss:0.59831\n",
      "[10]\teval-logloss:0.17770\ttrain-logloss:0.17773\n",
      "[20]\teval-logloss:0.06223\ttrain-logloss:0.06238\n",
      "[30]\teval-logloss:0.02329\ttrain-logloss:0.02342\n",
      "[40]\teval-logloss:0.00939\ttrain-logloss:0.00951\n",
      "[50]\teval-logloss:0.00440\ttrain-logloss:0.00434\n",
      "[60]\teval-logloss:0.00262\ttrain-logloss:0.00229\n",
      "[70]\teval-logloss:0.00198\ttrain-logloss:0.00139\n",
      "[80]\teval-logloss:0.00177\ttrain-logloss:0.00092\n",
      "[90]\teval-logloss:0.00167\ttrain-logloss:0.00063\n",
      "[99]\teval-logloss:0.00166\ttrain-logloss:0.00046\n",
      "[0]\teval-logloss:0.59834\ttrain-logloss:0.59831\n"
     ]
    },
    {
     "name": "stderr",
     "output_type": "stream",
     "text": [
      "c:\\Users\\cleme\\Desktop\\personal-projects\\creditcard-fraud-ML\\venv\\lib\\site-packages\\xgboost\\core.py:617: FutureWarning: Pass `evals` as keyword args.\n",
      "  warnings.warn(msg, FutureWarning)\n"
     ]
    },
    {
     "name": "stdout",
     "output_type": "stream",
     "text": [
      "[10]\teval-logloss:0.17770\ttrain-logloss:0.17773\n",
      "[20]\teval-logloss:0.06223\ttrain-logloss:0.06238\n",
      "[30]\teval-logloss:0.02329\ttrain-logloss:0.02342\n",
      "[40]\teval-logloss:0.00939\ttrain-logloss:0.00951\n",
      "[50]\teval-logloss:0.00440\ttrain-logloss:0.00434\n",
      "[60]\teval-logloss:0.00262\ttrain-logloss:0.00229\n",
      "[70]\teval-logloss:0.00198\ttrain-logloss:0.00139\n",
      "[80]\teval-logloss:0.00177\ttrain-logloss:0.00092\n",
      "[90]\teval-logloss:0.00167\ttrain-logloss:0.00063\n",
      "[99]\teval-logloss:0.00166\ttrain-logloss:0.00046\n"
     ]
    },
    {
     "name": "stderr",
     "output_type": "stream",
     "text": [
      "c:\\Users\\cleme\\Desktop\\personal-projects\\creditcard-fraud-ML\\venv\\lib\\site-packages\\xgboost\\core.py:617: FutureWarning: Pass `evals` as keyword args.\n",
      "  warnings.warn(msg, FutureWarning)\n"
     ]
    },
    {
     "name": "stdout",
     "output_type": "stream",
     "text": [
      "[0]\teval-logloss:0.59833\ttrain-logloss:0.59831\n",
      "[10]\teval-logloss:0.17774\ttrain-logloss:0.17774\n",
      "[20]\teval-logloss:0.06230\ttrain-logloss:0.06239\n",
      "[30]\teval-logloss:0.02334\ttrain-logloss:0.02348\n",
      "[40]\teval-logloss:0.00945\ttrain-logloss:0.00953\n",
      "[50]\teval-logloss:0.00445\ttrain-logloss:0.00436\n",
      "[60]\teval-logloss:0.00265\ttrain-logloss:0.00229\n",
      "[70]\teval-logloss:0.00200\ttrain-logloss:0.00138\n",
      "[80]\teval-logloss:0.00176\ttrain-logloss:0.00091\n",
      "[90]\teval-logloss:0.00164\ttrain-logloss:0.00061\n",
      "[99]\teval-logloss:0.00161\ttrain-logloss:0.00045\n"
     ]
    },
    {
     "name": "stderr",
     "output_type": "stream",
     "text": [
      "c:\\Users\\cleme\\Desktop\\personal-projects\\creditcard-fraud-ML\\venv\\lib\\site-packages\\xgboost\\core.py:617: FutureWarning: Pass `evals` as keyword args.\n",
      "  warnings.warn(msg, FutureWarning)\n"
     ]
    },
    {
     "name": "stdout",
     "output_type": "stream",
     "text": [
      "[0]\teval-logloss:0.59833\ttrain-logloss:0.59831\n",
      "[10]\teval-logloss:0.17774\ttrain-logloss:0.17774\n",
      "[20]\teval-logloss:0.06230\ttrain-logloss:0.06239\n",
      "[30]\teval-logloss:0.02334\ttrain-logloss:0.02348\n",
      "[40]\teval-logloss:0.00945\ttrain-logloss:0.00953\n",
      "[50]\teval-logloss:0.00445\ttrain-logloss:0.00436\n",
      "[60]\teval-logloss:0.00265\ttrain-logloss:0.00229\n",
      "[70]\teval-logloss:0.00200\ttrain-logloss:0.00138\n",
      "[80]\teval-logloss:0.00176\ttrain-logloss:0.00091\n",
      "[90]\teval-logloss:0.00164\ttrain-logloss:0.00061\n",
      "[99]\teval-logloss:0.00161\ttrain-logloss:0.00045\n"
     ]
    },
    {
     "name": "stderr",
     "output_type": "stream",
     "text": [
      "c:\\Users\\cleme\\Desktop\\personal-projects\\creditcard-fraud-ML\\venv\\lib\\site-packages\\xgboost\\core.py:617: FutureWarning: Pass `evals` as keyword args.\n",
      "  warnings.warn(msg, FutureWarning)\n"
     ]
    },
    {
     "name": "stdout",
     "output_type": "stream",
     "text": [
      "[0]\teval-logloss:0.59833\ttrain-logloss:0.59831\n",
      "[10]\teval-logloss:0.17774\ttrain-logloss:0.17774\n",
      "[20]\teval-logloss:0.06230\ttrain-logloss:0.06239\n",
      "[30]\teval-logloss:0.02334\ttrain-logloss:0.02348\n",
      "[40]\teval-logloss:0.00945\ttrain-logloss:0.00953\n",
      "[50]\teval-logloss:0.00445\ttrain-logloss:0.00436\n",
      "[60]\teval-logloss:0.00265\ttrain-logloss:0.00229\n",
      "[70]\teval-logloss:0.00200\ttrain-logloss:0.00138\n",
      "[80]\teval-logloss:0.00176\ttrain-logloss:0.00091\n",
      "[90]\teval-logloss:0.00164\ttrain-logloss:0.00061\n",
      "[99]\teval-logloss:0.00161\ttrain-logloss:0.00045\n"
     ]
    },
    {
     "name": "stderr",
     "output_type": "stream",
     "text": [
      "c:\\Users\\cleme\\Desktop\\personal-projects\\creditcard-fraud-ML\\venv\\lib\\site-packages\\xgboost\\core.py:617: FutureWarning: Pass `evals` as keyword args.\n",
      "  warnings.warn(msg, FutureWarning)\n"
     ]
    },
    {
     "name": "stdout",
     "output_type": "stream",
     "text": [
      "[0]\teval-logloss:0.59833\ttrain-logloss:0.59831\n",
      "[10]\teval-logloss:0.17774\ttrain-logloss:0.17774\n",
      "[20]\teval-logloss:0.06230\ttrain-logloss:0.06239\n",
      "[30]\teval-logloss:0.02334\ttrain-logloss:0.02348\n",
      "[40]\teval-logloss:0.00945\ttrain-logloss:0.00953\n",
      "[50]\teval-logloss:0.00445\ttrain-logloss:0.00436\n",
      "[60]\teval-logloss:0.00265\ttrain-logloss:0.00229\n",
      "[70]\teval-logloss:0.00200\ttrain-logloss:0.00138\n",
      "[80]\teval-logloss:0.00176\ttrain-logloss:0.00091\n",
      "[90]\teval-logloss:0.00164\ttrain-logloss:0.00061\n",
      "[99]\teval-logloss:0.00161\ttrain-logloss:0.00045\n"
     ]
    },
    {
     "name": "stderr",
     "output_type": "stream",
     "text": [
      "c:\\Users\\cleme\\Desktop\\personal-projects\\creditcard-fraud-ML\\venv\\lib\\site-packages\\xgboost\\core.py:617: FutureWarning: Pass `evals` as keyword args.\n",
      "  warnings.warn(msg, FutureWarning)\n"
     ]
    },
    {
     "name": "stdout",
     "output_type": "stream",
     "text": [
      "[0]\teval-logloss:0.31400\ttrain-logloss:0.31418\n",
      "[10]\teval-logloss:0.00342\ttrain-logloss:0.00407\n",
      "[20]\teval-logloss:0.00182\ttrain-logloss:0.00202\n",
      "[30]\teval-logloss:0.00179\ttrain-logloss:0.00140\n",
      "[40]\teval-logloss:0.00180\ttrain-logloss:0.00100\n",
      "[50]\teval-logloss:0.00176\ttrain-logloss:0.00072\n",
      "[60]\teval-logloss:0.00181\ttrain-logloss:0.00050\n",
      "[70]\teval-logloss:0.00183\ttrain-logloss:0.00036\n",
      "[80]\teval-logloss:0.00185\ttrain-logloss:0.00027\n",
      "[90]\teval-logloss:0.00179\ttrain-logloss:0.00019\n",
      "[99]\teval-logloss:0.00181\ttrain-logloss:0.00015\n",
      "[0]\teval-logloss:0.31400\ttrain-logloss:0.31418\n"
     ]
    },
    {
     "name": "stderr",
     "output_type": "stream",
     "text": [
      "c:\\Users\\cleme\\Desktop\\personal-projects\\creditcard-fraud-ML\\venv\\lib\\site-packages\\xgboost\\core.py:617: FutureWarning: Pass `evals` as keyword args.\n",
      "  warnings.warn(msg, FutureWarning)\n"
     ]
    },
    {
     "name": "stdout",
     "output_type": "stream",
     "text": [
      "[10]\teval-logloss:0.00342\ttrain-logloss:0.00407\n",
      "[20]\teval-logloss:0.00182\ttrain-logloss:0.00202\n",
      "[30]\teval-logloss:0.00179\ttrain-logloss:0.00140\n",
      "[40]\teval-logloss:0.00180\ttrain-logloss:0.00100\n",
      "[50]\teval-logloss:0.00176\ttrain-logloss:0.00072\n",
      "[60]\teval-logloss:0.00181\ttrain-logloss:0.00050\n",
      "[70]\teval-logloss:0.00183\ttrain-logloss:0.00036\n",
      "[80]\teval-logloss:0.00185\ttrain-logloss:0.00027\n",
      "[90]\teval-logloss:0.00179\ttrain-logloss:0.00019\n",
      "[99]\teval-logloss:0.00181\ttrain-logloss:0.00015\n",
      "[0]\teval-logloss:0.31400\ttrain-logloss:0.31418\n"
     ]
    },
    {
     "name": "stderr",
     "output_type": "stream",
     "text": [
      "c:\\Users\\cleme\\Desktop\\personal-projects\\creditcard-fraud-ML\\venv\\lib\\site-packages\\xgboost\\core.py:617: FutureWarning: Pass `evals` as keyword args.\n",
      "  warnings.warn(msg, FutureWarning)\n"
     ]
    },
    {
     "name": "stdout",
     "output_type": "stream",
     "text": [
      "[10]\teval-logloss:0.00342\ttrain-logloss:0.00407\n",
      "[20]\teval-logloss:0.00182\ttrain-logloss:0.00202\n",
      "[30]\teval-logloss:0.00179\ttrain-logloss:0.00140\n",
      "[40]\teval-logloss:0.00180\ttrain-logloss:0.00100\n",
      "[50]\teval-logloss:0.00176\ttrain-logloss:0.00072\n",
      "[60]\teval-logloss:0.00181\ttrain-logloss:0.00050\n",
      "[70]\teval-logloss:0.00183\ttrain-logloss:0.00036\n",
      "[80]\teval-logloss:0.00185\ttrain-logloss:0.00027\n",
      "[90]\teval-logloss:0.00179\ttrain-logloss:0.00019\n",
      "[99]\teval-logloss:0.00181\ttrain-logloss:0.00015\n",
      "[0]\teval-logloss:0.31400\ttrain-logloss:0.31418\n"
     ]
    },
    {
     "name": "stderr",
     "output_type": "stream",
     "text": [
      "c:\\Users\\cleme\\Desktop\\personal-projects\\creditcard-fraud-ML\\venv\\lib\\site-packages\\xgboost\\core.py:617: FutureWarning: Pass `evals` as keyword args.\n",
      "  warnings.warn(msg, FutureWarning)\n"
     ]
    },
    {
     "name": "stdout",
     "output_type": "stream",
     "text": [
      "[10]\teval-logloss:0.00342\ttrain-logloss:0.00407\n",
      "[20]\teval-logloss:0.00182\ttrain-logloss:0.00202\n",
      "[30]\teval-logloss:0.00179\ttrain-logloss:0.00140\n",
      "[40]\teval-logloss:0.00180\ttrain-logloss:0.00100\n",
      "[50]\teval-logloss:0.00176\ttrain-logloss:0.00072\n",
      "[60]\teval-logloss:0.00181\ttrain-logloss:0.00050\n",
      "[70]\teval-logloss:0.00183\ttrain-logloss:0.00036\n",
      "[80]\teval-logloss:0.00185\ttrain-logloss:0.00027\n",
      "[90]\teval-logloss:0.00179\ttrain-logloss:0.00019\n",
      "[99]\teval-logloss:0.00181\ttrain-logloss:0.00015\n",
      "[0]\teval-logloss:0.31400\ttrain-logloss:0.31418\n"
     ]
    },
    {
     "name": "stderr",
     "output_type": "stream",
     "text": [
      "c:\\Users\\cleme\\Desktop\\personal-projects\\creditcard-fraud-ML\\venv\\lib\\site-packages\\xgboost\\core.py:617: FutureWarning: Pass `evals` as keyword args.\n",
      "  warnings.warn(msg, FutureWarning)\n"
     ]
    },
    {
     "name": "stdout",
     "output_type": "stream",
     "text": [
      "[10]\teval-logloss:0.00338\ttrain-logloss:0.00395\n",
      "[20]\teval-logloss:0.00192\ttrain-logloss:0.00192\n",
      "[30]\teval-logloss:0.00188\ttrain-logloss:0.00134\n",
      "[40]\teval-logloss:0.00188\ttrain-logloss:0.00097\n",
      "[50]\teval-logloss:0.00177\ttrain-logloss:0.00067\n",
      "[60]\teval-logloss:0.00167\ttrain-logloss:0.00047\n",
      "[70]\teval-logloss:0.00170\ttrain-logloss:0.00032\n",
      "[80]\teval-logloss:0.00173\ttrain-logloss:0.00023\n",
      "[90]\teval-logloss:0.00176\ttrain-logloss:0.00017\n",
      "[99]\teval-logloss:0.00172\ttrain-logloss:0.00013\n",
      "[0]\teval-logloss:0.31400\ttrain-logloss:0.31418\n"
     ]
    },
    {
     "name": "stderr",
     "output_type": "stream",
     "text": [
      "c:\\Users\\cleme\\Desktop\\personal-projects\\creditcard-fraud-ML\\venv\\lib\\site-packages\\xgboost\\core.py:617: FutureWarning: Pass `evals` as keyword args.\n",
      "  warnings.warn(msg, FutureWarning)\n"
     ]
    },
    {
     "name": "stdout",
     "output_type": "stream",
     "text": [
      "[10]\teval-logloss:0.00338\ttrain-logloss:0.00395\n",
      "[20]\teval-logloss:0.00192\ttrain-logloss:0.00192\n",
      "[30]\teval-logloss:0.00188\ttrain-logloss:0.00134\n",
      "[40]\teval-logloss:0.00188\ttrain-logloss:0.00097\n",
      "[50]\teval-logloss:0.00177\ttrain-logloss:0.00067\n",
      "[60]\teval-logloss:0.00167\ttrain-logloss:0.00047\n",
      "[70]\teval-logloss:0.00170\ttrain-logloss:0.00032\n",
      "[80]\teval-logloss:0.00173\ttrain-logloss:0.00023\n",
      "[90]\teval-logloss:0.00176\ttrain-logloss:0.00017\n",
      "[99]\teval-logloss:0.00172\ttrain-logloss:0.00013\n"
     ]
    },
    {
     "name": "stderr",
     "output_type": "stream",
     "text": [
      "c:\\Users\\cleme\\Desktop\\personal-projects\\creditcard-fraud-ML\\venv\\lib\\site-packages\\xgboost\\core.py:617: FutureWarning: Pass `evals` as keyword args.\n",
      "  warnings.warn(msg, FutureWarning)\n"
     ]
    },
    {
     "name": "stdout",
     "output_type": "stream",
     "text": [
      "[0]\teval-logloss:0.31400\ttrain-logloss:0.31418\n",
      "[10]\teval-logloss:0.00338\ttrain-logloss:0.00395\n",
      "[20]\teval-logloss:0.00192\ttrain-logloss:0.00192\n",
      "[30]\teval-logloss:0.00188\ttrain-logloss:0.00134\n",
      "[40]\teval-logloss:0.00188\ttrain-logloss:0.00097\n",
      "[50]\teval-logloss:0.00177\ttrain-logloss:0.00067\n",
      "[60]\teval-logloss:0.00167\ttrain-logloss:0.00047\n",
      "[70]\teval-logloss:0.00170\ttrain-logloss:0.00032\n",
      "[80]\teval-logloss:0.00173\ttrain-logloss:0.00023\n",
      "[90]\teval-logloss:0.00176\ttrain-logloss:0.00017\n",
      "[99]\teval-logloss:0.00172\ttrain-logloss:0.00013\n",
      "[0]\teval-logloss:0.31400\ttrain-logloss:0.31418\n"
     ]
    },
    {
     "name": "stderr",
     "output_type": "stream",
     "text": [
      "c:\\Users\\cleme\\Desktop\\personal-projects\\creditcard-fraud-ML\\venv\\lib\\site-packages\\xgboost\\core.py:617: FutureWarning: Pass `evals` as keyword args.\n",
      "  warnings.warn(msg, FutureWarning)\n"
     ]
    },
    {
     "name": "stdout",
     "output_type": "stream",
     "text": [
      "[10]\teval-logloss:0.00338\ttrain-logloss:0.00395\n",
      "[20]\teval-logloss:0.00192\ttrain-logloss:0.00192\n",
      "[30]\teval-logloss:0.00188\ttrain-logloss:0.00134\n",
      "[40]\teval-logloss:0.00188\ttrain-logloss:0.00097\n",
      "[50]\teval-logloss:0.00177\ttrain-logloss:0.00067\n",
      "[60]\teval-logloss:0.00167\ttrain-logloss:0.00047\n",
      "[70]\teval-logloss:0.00170\ttrain-logloss:0.00032\n",
      "[80]\teval-logloss:0.00173\ttrain-logloss:0.00023\n",
      "[90]\teval-logloss:0.00176\ttrain-logloss:0.00017\n",
      "[99]\teval-logloss:0.00172\ttrain-logloss:0.00013\n"
     ]
    },
    {
     "name": "stderr",
     "output_type": "stream",
     "text": [
      "c:\\Users\\cleme\\Desktop\\personal-projects\\creditcard-fraud-ML\\venv\\lib\\site-packages\\xgboost\\core.py:617: FutureWarning: Pass `evals` as keyword args.\n",
      "  warnings.warn(msg, FutureWarning)\n"
     ]
    },
    {
     "name": "stdout",
     "output_type": "stream",
     "text": [
      "[0]\teval-logloss:0.31416\ttrain-logloss:0.31427\n",
      "[10]\teval-logloss:0.00337\ttrain-logloss:0.00390\n",
      "[20]\teval-logloss:0.00195\ttrain-logloss:0.00182\n",
      "[30]\teval-logloss:0.00188\ttrain-logloss:0.00125\n",
      "[40]\teval-logloss:0.00183\ttrain-logloss:0.00091\n",
      "[50]\teval-logloss:0.00187\ttrain-logloss:0.00060\n",
      "[60]\teval-logloss:0.00188\ttrain-logloss:0.00039\n",
      "[70]\teval-logloss:0.00193\ttrain-logloss:0.00026\n",
      "[80]\teval-logloss:0.00191\ttrain-logloss:0.00019\n",
      "[90]\teval-logloss:0.00194\ttrain-logloss:0.00015\n",
      "[99]\teval-logloss:0.00194\ttrain-logloss:0.00012\n"
     ]
    },
    {
     "name": "stderr",
     "output_type": "stream",
     "text": [
      "c:\\Users\\cleme\\Desktop\\personal-projects\\creditcard-fraud-ML\\venv\\lib\\site-packages\\xgboost\\core.py:617: FutureWarning: Pass `evals` as keyword args.\n",
      "  warnings.warn(msg, FutureWarning)\n"
     ]
    },
    {
     "name": "stdout",
     "output_type": "stream",
     "text": [
      "[0]\teval-logloss:0.31416\ttrain-logloss:0.31427\n",
      "[10]\teval-logloss:0.00337\ttrain-logloss:0.00390\n",
      "[20]\teval-logloss:0.00195\ttrain-logloss:0.00182\n",
      "[30]\teval-logloss:0.00188\ttrain-logloss:0.00125\n",
      "[40]\teval-logloss:0.00183\ttrain-logloss:0.00091\n",
      "[50]\teval-logloss:0.00187\ttrain-logloss:0.00060\n",
      "[60]\teval-logloss:0.00188\ttrain-logloss:0.00039\n",
      "[70]\teval-logloss:0.00193\ttrain-logloss:0.00026\n",
      "[80]\teval-logloss:0.00191\ttrain-logloss:0.00019\n",
      "[90]\teval-logloss:0.00194\ttrain-logloss:0.00015\n",
      "[99]\teval-logloss:0.00194\ttrain-logloss:0.00012\n"
     ]
    },
    {
     "name": "stderr",
     "output_type": "stream",
     "text": [
      "c:\\Users\\cleme\\Desktop\\personal-projects\\creditcard-fraud-ML\\venv\\lib\\site-packages\\xgboost\\core.py:617: FutureWarning: Pass `evals` as keyword args.\n",
      "  warnings.warn(msg, FutureWarning)\n"
     ]
    },
    {
     "name": "stdout",
     "output_type": "stream",
     "text": [
      "[0]\teval-logloss:0.31416\ttrain-logloss:0.31427\n",
      "[10]\teval-logloss:0.00337\ttrain-logloss:0.00390\n",
      "[20]\teval-logloss:0.00195\ttrain-logloss:0.00182\n",
      "[30]\teval-logloss:0.00188\ttrain-logloss:0.00125\n",
      "[40]\teval-logloss:0.00183\ttrain-logloss:0.00091\n",
      "[50]\teval-logloss:0.00187\ttrain-logloss:0.00060\n",
      "[60]\teval-logloss:0.00188\ttrain-logloss:0.00039\n",
      "[70]\teval-logloss:0.00193\ttrain-logloss:0.00026\n",
      "[80]\teval-logloss:0.00191\ttrain-logloss:0.00019\n",
      "[90]\teval-logloss:0.00194\ttrain-logloss:0.00015\n",
      "[99]\teval-logloss:0.00194\ttrain-logloss:0.00012\n"
     ]
    },
    {
     "name": "stderr",
     "output_type": "stream",
     "text": [
      "c:\\Users\\cleme\\Desktop\\personal-projects\\creditcard-fraud-ML\\venv\\lib\\site-packages\\xgboost\\core.py:617: FutureWarning: Pass `evals` as keyword args.\n",
      "  warnings.warn(msg, FutureWarning)\n"
     ]
    },
    {
     "name": "stdout",
     "output_type": "stream",
     "text": [
      "[0]\teval-logloss:0.31416\ttrain-logloss:0.31427\n",
      "[10]\teval-logloss:0.00337\ttrain-logloss:0.00390\n",
      "[20]\teval-logloss:0.00195\ttrain-logloss:0.00182\n",
      "[30]\teval-logloss:0.00188\ttrain-logloss:0.00125\n",
      "[40]\teval-logloss:0.00183\ttrain-logloss:0.00091\n",
      "[50]\teval-logloss:0.00187\ttrain-logloss:0.00060\n",
      "[60]\teval-logloss:0.00188\ttrain-logloss:0.00039\n",
      "[70]\teval-logloss:0.00193\ttrain-logloss:0.00026\n",
      "[80]\teval-logloss:0.00191\ttrain-logloss:0.00019\n",
      "[90]\teval-logloss:0.00194\ttrain-logloss:0.00015\n",
      "[99]\teval-logloss:0.00194\ttrain-logloss:0.00012\n"
     ]
    },
    {
     "name": "stderr",
     "output_type": "stream",
     "text": [
      "c:\\Users\\cleme\\Desktop\\personal-projects\\creditcard-fraud-ML\\venv\\lib\\site-packages\\xgboost\\core.py:617: FutureWarning: Pass `evals` as keyword args.\n",
      "  warnings.warn(msg, FutureWarning)\n"
     ]
    },
    {
     "name": "stdout",
     "output_type": "stream",
     "text": [
      "[0]\teval-logloss:0.31406\ttrain-logloss:0.31392\n",
      "[10]\teval-logloss:0.00339\ttrain-logloss:0.00301\n",
      "[20]\teval-logloss:0.00184\ttrain-logloss:0.00042\n",
      "[30]\teval-logloss:0.00191\ttrain-logloss:0.00015\n",
      "[40]\teval-logloss:0.00200\ttrain-logloss:0.00009\n",
      "[50]\teval-logloss:0.00205\ttrain-logloss:0.00007\n",
      "[60]\teval-logloss:0.00205\ttrain-logloss:0.00006\n",
      "[70]\teval-logloss:0.00208\ttrain-logloss:0.00005\n",
      "[80]\teval-logloss:0.00210\ttrain-logloss:0.00004\n",
      "[90]\teval-logloss:0.00210\ttrain-logloss:0.00004\n",
      "[99]\teval-logloss:0.00213\ttrain-logloss:0.00004\n",
      "[0]\teval-logloss:0.31406\ttrain-logloss:0.31392\n"
     ]
    },
    {
     "name": "stderr",
     "output_type": "stream",
     "text": [
      "c:\\Users\\cleme\\Desktop\\personal-projects\\creditcard-fraud-ML\\venv\\lib\\site-packages\\xgboost\\core.py:617: FutureWarning: Pass `evals` as keyword args.\n",
      "  warnings.warn(msg, FutureWarning)\n"
     ]
    },
    {
     "name": "stdout",
     "output_type": "stream",
     "text": [
      "[10]\teval-logloss:0.00339\ttrain-logloss:0.00301\n",
      "[20]\teval-logloss:0.00184\ttrain-logloss:0.00042\n",
      "[30]\teval-logloss:0.00191\ttrain-logloss:0.00015\n",
      "[40]\teval-logloss:0.00200\ttrain-logloss:0.00009\n",
      "[50]\teval-logloss:0.00205\ttrain-logloss:0.00007\n",
      "[60]\teval-logloss:0.00205\ttrain-logloss:0.00006\n",
      "[70]\teval-logloss:0.00208\ttrain-logloss:0.00005\n",
      "[80]\teval-logloss:0.00210\ttrain-logloss:0.00004\n",
      "[90]\teval-logloss:0.00210\ttrain-logloss:0.00004\n",
      "[99]\teval-logloss:0.00213\ttrain-logloss:0.00004\n",
      "[0]\teval-logloss:0.31406\ttrain-logloss:0.31392\n"
     ]
    },
    {
     "name": "stderr",
     "output_type": "stream",
     "text": [
      "c:\\Users\\cleme\\Desktop\\personal-projects\\creditcard-fraud-ML\\venv\\lib\\site-packages\\xgboost\\core.py:617: FutureWarning: Pass `evals` as keyword args.\n",
      "  warnings.warn(msg, FutureWarning)\n"
     ]
    },
    {
     "name": "stdout",
     "output_type": "stream",
     "text": [
      "[10]\teval-logloss:0.00339\ttrain-logloss:0.00301\n",
      "[20]\teval-logloss:0.00184\ttrain-logloss:0.00042\n",
      "[30]\teval-logloss:0.00191\ttrain-logloss:0.00015\n",
      "[40]\teval-logloss:0.00200\ttrain-logloss:0.00009\n",
      "[50]\teval-logloss:0.00205\ttrain-logloss:0.00007\n",
      "[60]\teval-logloss:0.00205\ttrain-logloss:0.00006\n",
      "[70]\teval-logloss:0.00208\ttrain-logloss:0.00005\n",
      "[80]\teval-logloss:0.00210\ttrain-logloss:0.00004\n",
      "[90]\teval-logloss:0.00210\ttrain-logloss:0.00004\n",
      "[99]\teval-logloss:0.00213\ttrain-logloss:0.00004\n",
      "[0]\teval-logloss:0.31406\ttrain-logloss:0.31392\n"
     ]
    },
    {
     "name": "stderr",
     "output_type": "stream",
     "text": [
      "c:\\Users\\cleme\\Desktop\\personal-projects\\creditcard-fraud-ML\\venv\\lib\\site-packages\\xgboost\\core.py:617: FutureWarning: Pass `evals` as keyword args.\n",
      "  warnings.warn(msg, FutureWarning)\n"
     ]
    },
    {
     "name": "stdout",
     "output_type": "stream",
     "text": [
      "[10]\teval-logloss:0.00339\ttrain-logloss:0.00301\n",
      "[20]\teval-logloss:0.00184\ttrain-logloss:0.00042\n",
      "[30]\teval-logloss:0.00191\ttrain-logloss:0.00015\n",
      "[40]\teval-logloss:0.00200\ttrain-logloss:0.00009\n",
      "[50]\teval-logloss:0.00205\ttrain-logloss:0.00007\n",
      "[60]\teval-logloss:0.00205\ttrain-logloss:0.00006\n",
      "[70]\teval-logloss:0.00208\ttrain-logloss:0.00005\n",
      "[80]\teval-logloss:0.00210\ttrain-logloss:0.00004\n",
      "[90]\teval-logloss:0.00210\ttrain-logloss:0.00004\n",
      "[99]\teval-logloss:0.00213\ttrain-logloss:0.00004\n",
      "[0]\teval-logloss:0.31406\ttrain-logloss:0.31393\n"
     ]
    },
    {
     "name": "stderr",
     "output_type": "stream",
     "text": [
      "c:\\Users\\cleme\\Desktop\\personal-projects\\creditcard-fraud-ML\\venv\\lib\\site-packages\\xgboost\\core.py:617: FutureWarning: Pass `evals` as keyword args.\n",
      "  warnings.warn(msg, FutureWarning)\n"
     ]
    },
    {
     "name": "stdout",
     "output_type": "stream",
     "text": [
      "[10]\teval-logloss:0.00328\ttrain-logloss:0.00301\n",
      "[20]\teval-logloss:0.00167\ttrain-logloss:0.00039\n",
      "[30]\teval-logloss:0.00175\ttrain-logloss:0.00013\n",
      "[40]\teval-logloss:0.00178\ttrain-logloss:0.00008\n",
      "[50]\teval-logloss:0.00184\ttrain-logloss:0.00006\n",
      "[60]\teval-logloss:0.00185\ttrain-logloss:0.00005\n",
      "[70]\teval-logloss:0.00186\ttrain-logloss:0.00004\n",
      "[80]\teval-logloss:0.00188\ttrain-logloss:0.00004\n",
      "[90]\teval-logloss:0.00189\ttrain-logloss:0.00004\n",
      "[99]\teval-logloss:0.00189\ttrain-logloss:0.00003\n",
      "[0]\teval-logloss:0.31406\ttrain-logloss:0.31393\n"
     ]
    },
    {
     "name": "stderr",
     "output_type": "stream",
     "text": [
      "c:\\Users\\cleme\\Desktop\\personal-projects\\creditcard-fraud-ML\\venv\\lib\\site-packages\\xgboost\\core.py:617: FutureWarning: Pass `evals` as keyword args.\n",
      "  warnings.warn(msg, FutureWarning)\n"
     ]
    },
    {
     "name": "stdout",
     "output_type": "stream",
     "text": [
      "[10]\teval-logloss:0.00328\ttrain-logloss:0.00301\n",
      "[20]\teval-logloss:0.00167\ttrain-logloss:0.00039\n",
      "[30]\teval-logloss:0.00175\ttrain-logloss:0.00013\n",
      "[40]\teval-logloss:0.00178\ttrain-logloss:0.00008\n",
      "[50]\teval-logloss:0.00184\ttrain-logloss:0.00006\n",
      "[60]\teval-logloss:0.00185\ttrain-logloss:0.00005\n",
      "[70]\teval-logloss:0.00186\ttrain-logloss:0.00004\n",
      "[80]\teval-logloss:0.00188\ttrain-logloss:0.00004\n",
      "[90]\teval-logloss:0.00189\ttrain-logloss:0.00004\n",
      "[99]\teval-logloss:0.00189\ttrain-logloss:0.00003\n"
     ]
    },
    {
     "name": "stderr",
     "output_type": "stream",
     "text": [
      "c:\\Users\\cleme\\Desktop\\personal-projects\\creditcard-fraud-ML\\venv\\lib\\site-packages\\xgboost\\core.py:617: FutureWarning: Pass `evals` as keyword args.\n",
      "  warnings.warn(msg, FutureWarning)\n"
     ]
    },
    {
     "name": "stdout",
     "output_type": "stream",
     "text": [
      "[0]\teval-logloss:0.31406\ttrain-logloss:0.31393\n",
      "[10]\teval-logloss:0.00328\ttrain-logloss:0.00301\n",
      "[20]\teval-logloss:0.00167\ttrain-logloss:0.00039\n",
      "[30]\teval-logloss:0.00175\ttrain-logloss:0.00013\n",
      "[40]\teval-logloss:0.00178\ttrain-logloss:0.00008\n",
      "[50]\teval-logloss:0.00184\ttrain-logloss:0.00006\n",
      "[60]\teval-logloss:0.00185\ttrain-logloss:0.00005\n",
      "[70]\teval-logloss:0.00186\ttrain-logloss:0.00004\n",
      "[80]\teval-logloss:0.00188\ttrain-logloss:0.00004\n",
      "[90]\teval-logloss:0.00189\ttrain-logloss:0.00004\n",
      "[99]\teval-logloss:0.00189\ttrain-logloss:0.00003\n"
     ]
    },
    {
     "name": "stderr",
     "output_type": "stream",
     "text": [
      "c:\\Users\\cleme\\Desktop\\personal-projects\\creditcard-fraud-ML\\venv\\lib\\site-packages\\xgboost\\core.py:617: FutureWarning: Pass `evals` as keyword args.\n",
      "  warnings.warn(msg, FutureWarning)\n"
     ]
    },
    {
     "name": "stdout",
     "output_type": "stream",
     "text": [
      "[0]\teval-logloss:0.31406\ttrain-logloss:0.31393\n",
      "[10]\teval-logloss:0.00328\ttrain-logloss:0.00301\n",
      "[20]\teval-logloss:0.00167\ttrain-logloss:0.00039\n",
      "[30]\teval-logloss:0.00175\ttrain-logloss:0.00013\n",
      "[40]\teval-logloss:0.00178\ttrain-logloss:0.00008\n",
      "[50]\teval-logloss:0.00184\ttrain-logloss:0.00006\n",
      "[60]\teval-logloss:0.00185\ttrain-logloss:0.00005\n",
      "[70]\teval-logloss:0.00186\ttrain-logloss:0.00004\n",
      "[80]\teval-logloss:0.00188\ttrain-logloss:0.00004\n",
      "[90]\teval-logloss:0.00189\ttrain-logloss:0.00004\n",
      "[99]\teval-logloss:0.00189\ttrain-logloss:0.00003\n"
     ]
    },
    {
     "name": "stderr",
     "output_type": "stream",
     "text": [
      "c:\\Users\\cleme\\Desktop\\personal-projects\\creditcard-fraud-ML\\venv\\lib\\site-packages\\xgboost\\core.py:617: FutureWarning: Pass `evals` as keyword args.\n",
      "  warnings.warn(msg, FutureWarning)\n"
     ]
    },
    {
     "name": "stdout",
     "output_type": "stream",
     "text": [
      "[0]\teval-logloss:0.31402\ttrain-logloss:0.31392\n",
      "[10]\teval-logloss:0.00323\ttrain-logloss:0.00300\n",
      "[20]\teval-logloss:0.00171\ttrain-logloss:0.00039\n",
      "[30]\teval-logloss:0.00173\ttrain-logloss:0.00013\n",
      "[40]\teval-logloss:0.00183\ttrain-logloss:0.00008\n",
      "[50]\teval-logloss:0.00187\ttrain-logloss:0.00006\n",
      "[60]\teval-logloss:0.00188\ttrain-logloss:0.00005\n",
      "[70]\teval-logloss:0.00191\ttrain-logloss:0.00004\n",
      "[80]\teval-logloss:0.00192\ttrain-logloss:0.00004\n",
      "[90]\teval-logloss:0.00193\ttrain-logloss:0.00004\n",
      "[99]\teval-logloss:0.00194\ttrain-logloss:0.00003\n"
     ]
    },
    {
     "name": "stderr",
     "output_type": "stream",
     "text": [
      "c:\\Users\\cleme\\Desktop\\personal-projects\\creditcard-fraud-ML\\venv\\lib\\site-packages\\xgboost\\core.py:617: FutureWarning: Pass `evals` as keyword args.\n",
      "  warnings.warn(msg, FutureWarning)\n"
     ]
    },
    {
     "name": "stdout",
     "output_type": "stream",
     "text": [
      "[0]\teval-logloss:0.31402\ttrain-logloss:0.31392\n",
      "[10]\teval-logloss:0.00323\ttrain-logloss:0.00300\n",
      "[20]\teval-logloss:0.00171\ttrain-logloss:0.00039\n",
      "[30]\teval-logloss:0.00173\ttrain-logloss:0.00013\n",
      "[40]\teval-logloss:0.00183\ttrain-logloss:0.00008\n",
      "[50]\teval-logloss:0.00187\ttrain-logloss:0.00006\n",
      "[60]\teval-logloss:0.00188\ttrain-logloss:0.00005\n",
      "[70]\teval-logloss:0.00191\ttrain-logloss:0.00004\n",
      "[80]\teval-logloss:0.00192\ttrain-logloss:0.00004\n",
      "[90]\teval-logloss:0.00193\ttrain-logloss:0.00004\n",
      "[99]\teval-logloss:0.00194\ttrain-logloss:0.00003\n"
     ]
    },
    {
     "name": "stderr",
     "output_type": "stream",
     "text": [
      "c:\\Users\\cleme\\Desktop\\personal-projects\\creditcard-fraud-ML\\venv\\lib\\site-packages\\xgboost\\core.py:617: FutureWarning: Pass `evals` as keyword args.\n",
      "  warnings.warn(msg, FutureWarning)\n"
     ]
    },
    {
     "name": "stdout",
     "output_type": "stream",
     "text": [
      "[0]\teval-logloss:0.31402\ttrain-logloss:0.31392\n",
      "[10]\teval-logloss:0.00323\ttrain-logloss:0.00300\n",
      "[20]\teval-logloss:0.00171\ttrain-logloss:0.00039\n",
      "[30]\teval-logloss:0.00173\ttrain-logloss:0.00013\n",
      "[40]\teval-logloss:0.00183\ttrain-logloss:0.00008\n",
      "[50]\teval-logloss:0.00187\ttrain-logloss:0.00006\n",
      "[60]\teval-logloss:0.00188\ttrain-logloss:0.00005\n",
      "[70]\teval-logloss:0.00191\ttrain-logloss:0.00004\n",
      "[80]\teval-logloss:0.00192\ttrain-logloss:0.00004\n",
      "[90]\teval-logloss:0.00193\ttrain-logloss:0.00004\n",
      "[99]\teval-logloss:0.00194\ttrain-logloss:0.00003\n"
     ]
    },
    {
     "name": "stderr",
     "output_type": "stream",
     "text": [
      "c:\\Users\\cleme\\Desktop\\personal-projects\\creditcard-fraud-ML\\venv\\lib\\site-packages\\xgboost\\core.py:617: FutureWarning: Pass `evals` as keyword args.\n",
      "  warnings.warn(msg, FutureWarning)\n"
     ]
    },
    {
     "name": "stdout",
     "output_type": "stream",
     "text": [
      "[0]\teval-logloss:0.31402\ttrain-logloss:0.31392\n",
      "[10]\teval-logloss:0.00323\ttrain-logloss:0.00300\n",
      "[20]\teval-logloss:0.00171\ttrain-logloss:0.00039\n",
      "[30]\teval-logloss:0.00173\ttrain-logloss:0.00013\n",
      "[40]\teval-logloss:0.00183\ttrain-logloss:0.00008\n",
      "[50]\teval-logloss:0.00187\ttrain-logloss:0.00006\n",
      "[60]\teval-logloss:0.00188\ttrain-logloss:0.00005\n",
      "[70]\teval-logloss:0.00191\ttrain-logloss:0.00004\n",
      "[80]\teval-logloss:0.00192\ttrain-logloss:0.00004\n",
      "[90]\teval-logloss:0.00193\ttrain-logloss:0.00004\n",
      "[99]\teval-logloss:0.00194\ttrain-logloss:0.00003\n"
     ]
    }
   ],
   "source": [
    "# Split data\n",
    "from sklearn.model_selection import train_test_split\n",
    "train, test = train_test_split(df, test_size=0.2)\n",
    "train, validation = train_test_split(train, test_size=0.2)\n",
    "Dtrain = xgb.DMatrix(train.drop(['Class'], axis=1), label=train['Class'])\n",
    "Dval = xgb.DMatrix(validation.drop(['Class'], axis=1), label=validation['Class'])\n",
    "Dtest = xgb.DMatrix(test.drop(['Class'], axis=1), label=test['Class'])\n",
    "\n",
    "search_cv = []\n",
    "\n",
    "for eta in [0.05, 0.1, 0.5]:\n",
    "    for mdepth in [3, 7]:\n",
    "        for tree_method in ['hist', 'approx', 'auto']:\n",
    "            for threshold in [0.2, 0.3, 0.4, 0.5]:\n",
    "                # Train model\n",
    "                param = {\n",
    "                    'max_depth': mdepth,\n",
    "                    'eta': eta,\n",
    "                    'objective': 'binary:logistic',\n",
    "                    'tree_method': tree_method,\n",
    "                }\n",
    "\n",
    "                # Evaluate model\n",
    "                num_round = 100\n",
    "                eval_list = [(Dval, 'eval'), (Dtrain, 'train')]\n",
    "                bst = xgb.train(param, Dtrain, num_round, eval_list, early_stopping_rounds=5, verbose_eval=10)\n",
    "\n",
    "                # Model evaluation\n",
    "                y_pred = pd.DataFrame(bst.predict(Dval) > threshold)\n",
    "                y_val = pd.DataFrame(validation['Class'])\n",
    "                f1_score(y_val, y_pred)\n",
    "                search_cv.append([param, f1_score(y_val, y_pred), threshold])"
   ]
  },
  {
   "cell_type": "code",
   "execution_count": 8,
   "metadata": {},
   "outputs": [],
   "source": [
    "def best_param_xgb(search_cv):\n",
    "    best = 0\n",
    "    for m in search_cv:\n",
    "        if m[1] > best:\n",
    "            best = m[1]\n",
    "            param = m[0]\n",
    "            threshold = m[2]\n",
    "    return param, threshold"
   ]
  },
  {
   "cell_type": "code",
   "execution_count": 9,
   "metadata": {},
   "outputs": [
    {
     "name": "stderr",
     "output_type": "stream",
     "text": [
      "c:\\Users\\cleme\\Desktop\\personal-projects\\creditcard-fraud-ML\\venv\\lib\\site-packages\\xgboost\\core.py:617: FutureWarning: Pass `evals` as keyword args.\n",
      "  warnings.warn(msg, FutureWarning)\n"
     ]
    },
    {
     "name": "stdout",
     "output_type": "stream",
     "text": [
      "[0]\teval-logloss:0.59834\ttrain-logloss:0.59831\n",
      "[10]\teval-logloss:0.17770\ttrain-logloss:0.17773\n",
      "[20]\teval-logloss:0.06223\ttrain-logloss:0.06238\n",
      "[30]\teval-logloss:0.02329\ttrain-logloss:0.02342\n",
      "[40]\teval-logloss:0.00939\ttrain-logloss:0.00951\n",
      "[50]\teval-logloss:0.00440\ttrain-logloss:0.00434\n",
      "[60]\teval-logloss:0.00262\ttrain-logloss:0.00229\n",
      "[70]\teval-logloss:0.00198\ttrain-logloss:0.00139\n",
      "[80]\teval-logloss:0.00177\ttrain-logloss:0.00092\n",
      "[90]\teval-logloss:0.00167\ttrain-logloss:0.00063\n",
      "[99]\teval-logloss:0.00166\ttrain-logloss:0.00046\n",
      "We obtain a score of 0.8952380952380952 for xgboost with the following parameters: {'max_depth': 7, 'eta': 0.1, 'objective': 'binary:logistic', 'tree_method': 'approx'} and threshold: 0.5\n"
     ]
    }
   ],
   "source": [
    "b_param, threshold = best_param_xgb(search_cv)\n",
    "eval_list = [(Dval, 'eval'), (Dtrain, 'train')]\n",
    "best_bst = xgb.train(b_param, Dtrain, num_round, eval_list, early_stopping_rounds=5, verbose_eval=10)\n",
    "y_pred = pd.DataFrame(best_bst.predict(Dtest) > threshold)\n",
    "y_test = pd.DataFrame(test['Class'])\n",
    "print(f\"We obtain a score of {f1_score(y_test, y_pred)} for xgboost with the following parameters: {b_param} and threshold: {threshold}\")"
   ]
  },
  {
   "cell_type": "markdown",
   "metadata": {},
   "source": [
    "With the XGBoost model, we manage to have an f1 score of 0.87. We take 0.3 as the threshold of the model, to better recognize the fraud."
   ]
  },
  {
   "attachments": {},
   "cell_type": "markdown",
   "metadata": {},
   "source": [
    "### More model evaluation & results visualization"
   ]
  },
  {
   "cell_type": "code",
   "execution_count": 10,
   "metadata": {},
   "outputs": [
    {
     "data": {
      "text/html": [
       "<div>\n",
       "<style scoped>\n",
       "    .dataframe tbody tr th:only-of-type {\n",
       "        vertical-align: middle;\n",
       "    }\n",
       "\n",
       "    .dataframe tbody tr th {\n",
       "        vertical-align: top;\n",
       "    }\n",
       "\n",
       "    .dataframe thead th {\n",
       "        text-align: right;\n",
       "    }\n",
       "</style>\n",
       "<table border=\"1\" class=\"dataframe\">\n",
       "  <thead>\n",
       "    <tr style=\"text-align: right;\">\n",
       "      <th></th>\n",
       "      <th>Not Fraud</th>\n",
       "      <th>Fraud</th>\n",
       "      <th>accuracy</th>\n",
       "      <th>macro avg</th>\n",
       "      <th>weighted avg</th>\n",
       "    </tr>\n",
       "  </thead>\n",
       "  <tbody>\n",
       "    <tr>\n",
       "      <th>precision</th>\n",
       "      <td>0.999666</td>\n",
       "      <td>0.969072</td>\n",
       "      <td>0.999614</td>\n",
       "      <td>0.984369</td>\n",
       "      <td>0.999605</td>\n",
       "    </tr>\n",
       "    <tr>\n",
       "      <th>recall</th>\n",
       "      <td>0.999947</td>\n",
       "      <td>0.831858</td>\n",
       "      <td>0.999614</td>\n",
       "      <td>0.915903</td>\n",
       "      <td>0.999614</td>\n",
       "    </tr>\n",
       "    <tr>\n",
       "      <th>f1-score</th>\n",
       "      <td>0.999807</td>\n",
       "      <td>0.895238</td>\n",
       "      <td>0.999614</td>\n",
       "      <td>0.947522</td>\n",
       "      <td>0.999599</td>\n",
       "    </tr>\n",
       "    <tr>\n",
       "      <th>support</th>\n",
       "      <td>56849.000000</td>\n",
       "      <td>113.000000</td>\n",
       "      <td>0.999614</td>\n",
       "      <td>56962.000000</td>\n",
       "      <td>56962.000000</td>\n",
       "    </tr>\n",
       "  </tbody>\n",
       "</table>\n",
       "</div>"
      ],
      "text/plain": [
       "              Not Fraud       Fraud  accuracy     macro avg  weighted avg\n",
       "precision      0.999666    0.969072  0.999614      0.984369      0.999605\n",
       "recall         0.999947    0.831858  0.999614      0.915903      0.999614\n",
       "f1-score       0.999807    0.895238  0.999614      0.947522      0.999599\n",
       "support    56849.000000  113.000000  0.999614  56962.000000  56962.000000"
      ]
     },
     "execution_count": 10,
     "metadata": {},
     "output_type": "execute_result"
    }
   ],
   "source": [
    "from sklearn import metrics\n",
    "pd.DataFrame(metrics.classification_report(y_test, y_pred, output_dict=True, target_names=['Not Fraud', 'Fraud']))"
   ]
  },
  {
   "cell_type": "code",
   "execution_count": 11,
   "metadata": {},
   "outputs": [
    {
     "data": {
      "image/png": "[encoded data removed]",
      "text/plain": [
       "<Figure size 640x480 with 2 Axes>"
      ]
     },
     "metadata": {},
     "output_type": "display_data"
    }
   ],
   "source": [
    "import seaborn as sns\n",
    "confusion_matrix = pd.crosstab(y_test.values.T, y_pred.values.T, rownames=['Actual'], colnames=['Predicted'])\n",
    "sns.heatmap(confusion_matrix, annot=True, cmap='Purples', fmt='g')\n",
    "plt.title('Confusion Matrix')\n",
    "plt.savefig('ressources/plots/confusion_matrix_ml.png')"
   ]
  }
 ],
 "metadata": {
  "kernelspec": {
   "display_name": "venv",
   "language": "python",
   "name": "python3"
  },
  "language_info": {
   "codemirror_mode": {
    "name": "ipython",
    "version": 3
   },
   "file_extension": ".py",
   "mimetype": "text/x-python",
   "name": "python",
   "nbconvert_exporter": "python",
   "pygments_lexer": "ipython3",
   "version": "3.9.13"
  },
  "orig_nbformat": 4
 },
 "nbformat": 4,
 "nbformat_minor": 2
}
