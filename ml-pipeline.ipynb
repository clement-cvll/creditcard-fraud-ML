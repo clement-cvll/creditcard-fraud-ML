{
 "cells": [
  {
   "attachments": {},
   "cell_type": "markdown",
   "metadata": {},
   "source": [
    "# Pipeline"
   ]
  },
  {
   "cell_type": "code",
   "execution_count": 122,
   "metadata": {},
   "outputs": [],
   "source": [
    "import pandas as pd\n",
    "import matplotlib.pyplot as plt"
   ]
  },
  {
   "attachments": {},
   "cell_type": "markdown",
   "metadata": {},
   "source": [
    "### Data input"
   ]
  },
  {
   "cell_type": "code",
   "execution_count": 123,
   "metadata": {},
   "outputs": [],
   "source": [
    "import pandas as pd\n",
    "\n",
    "# Importing the dataset\n",
    "df = pd.read_csv('data/creditcard.csv')\n",
    "df = df.drop(['Time'], axis=1)\n",
    "df.reset_index(drop=True, inplace=True)"
   ]
  },
  {
   "attachments": {},
   "cell_type": "markdown",
   "metadata": {},
   "source": [
    "### Data preprocessing"
   ]
  },
  {
   "attachments": {},
   "cell_type": "markdown",
   "metadata": {},
   "source": [
    "### Model hyperparameter tuning"
   ]
  },
  {
   "cell_type": "code",
   "execution_count": 124,
   "metadata": {},
   "outputs": [],
   "source": [
    "from sklearn.preprocessing import RobustScaler\n",
    "from sklearn.pipeline import make_pipeline\n",
    "from sklearn.model_selection import GridSearchCV\n",
    "from sklearn.feature_selection import SelectKBest\n",
    "from sklearn.linear_model import LogisticRegression\n",
    "from sklearn.metrics import f1_score, make_scorer \n",
    "\n",
    "pipeline = make_pipeline(\n",
    "    RobustScaler(),\n",
    "    SelectKBest(),\n",
    "    LogisticRegression()\n",
    ")\n",
    "\n",
    "params_grid = {\n",
    "    'selectkbest__k': [5, 15, 25],\n",
    "    'logisticregression__C': [ 0.1, 1, 5],\n",
    "    'logisticregression__solver': ['lbfgs', 'liblinear'],\n",
    "}"
   ]
  },
  {
   "attachments": {},
   "cell_type": "markdown",
   "metadata": {},
   "source": [
    "As the data set in really unbalanced, we will use the F1 score as the metric to evaluate the model performance."
   ]
  },
  {
   "cell_type": "code",
   "execution_count": 125,
   "metadata": {},
   "outputs": [
    {
     "name": "stdout",
     "output_type": "stream",
     "text": [
      "Fitting 4 folds for each of 18 candidates, totalling 72 fits\n",
      "[CV 1/4] END logisticregression__C=0.1, logisticregression__solver=lbfgs, selectkbest__k=5;, score=0.738 total time=   0.4s\n",
      "[CV 2/4] END logisticregression__C=0.1, logisticregression__solver=lbfgs, selectkbest__k=5;, score=0.702 total time=   0.4s\n",
      "[CV 3/4] END logisticregression__C=0.1, logisticregression__solver=lbfgs, selectkbest__k=5;, score=0.646 total time=   0.3s\n",
      "[CV 4/4] END logisticregression__C=0.1, logisticregression__solver=lbfgs, selectkbest__k=5;, score=0.704 total time=   0.3s\n",
      "[CV 1/4] END logisticregression__C=0.1, logisticregression__solver=lbfgs, selectkbest__k=15;, score=0.786 total time=   0.5s\n",
      "[CV 2/4] END logisticregression__C=0.1, logisticregression__solver=lbfgs, selectkbest__k=15;, score=0.718 total time=   0.5s\n",
      "[CV 3/4] END logisticregression__C=0.1, logisticregression__solver=lbfgs, selectkbest__k=15;, score=0.679 total time=   0.5s\n",
      "[CV 4/4] END logisticregression__C=0.1, logisticregression__solver=lbfgs, selectkbest__k=15;, score=0.696 total time=   0.5s\n",
      "[CV 1/4] END logisticregression__C=0.1, logisticregression__solver=lbfgs, selectkbest__k=25;, score=0.779 total time=   1.0s\n",
      "[CV 2/4] END logisticregression__C=0.1, logisticregression__solver=lbfgs, selectkbest__k=25;, score=0.724 total time=   1.0s\n",
      "[CV 3/4] END logisticregression__C=0.1, logisticregression__solver=lbfgs, selectkbest__k=25;, score=0.658 total time=   1.1s\n",
      "[CV 4/4] END logisticregression__C=0.1, logisticregression__solver=lbfgs, selectkbest__k=25;, score=0.732 total time=   1.0s\n",
      "[CV 1/4] END logisticregression__C=0.1, logisticregression__solver=liblinear, selectkbest__k=5;, score=0.738 total time=   0.5s\n",
      "[CV 2/4] END logisticregression__C=0.1, logisticregression__solver=liblinear, selectkbest__k=5;, score=0.710 total time=   0.4s\n",
      "[CV 3/4] END logisticregression__C=0.1, logisticregression__solver=liblinear, selectkbest__k=5;, score=0.654 total time=   0.4s\n",
      "[CV 4/4] END logisticregression__C=0.1, logisticregression__solver=liblinear, selectkbest__k=5;, score=0.699 total time=   0.4s\n",
      "[CV 1/4] END logisticregression__C=0.1, logisticregression__solver=liblinear, selectkbest__k=15;, score=0.779 total time=   0.8s\n",
      "[CV 2/4] END logisticregression__C=0.1, logisticregression__solver=liblinear, selectkbest__k=15;, score=0.718 total time=   0.8s\n",
      "[CV 3/4] END logisticregression__C=0.1, logisticregression__solver=liblinear, selectkbest__k=15;, score=0.654 total time=   0.8s\n",
      "[CV 4/4] END logisticregression__C=0.1, logisticregression__solver=liblinear, selectkbest__k=15;, score=0.692 total time=   0.8s\n",
      "[CV 1/4] END logisticregression__C=0.1, logisticregression__solver=liblinear, selectkbest__k=25;, score=0.786 total time=   1.8s\n",
      "[CV 2/4] END logisticregression__C=0.1, logisticregression__solver=liblinear, selectkbest__k=25;, score=0.725 total time=   1.9s\n",
      "[CV 3/4] END logisticregression__C=0.1, logisticregression__solver=liblinear, selectkbest__k=25;, score=0.671 total time=   1.7s\n",
      "[CV 4/4] END logisticregression__C=0.1, logisticregression__solver=liblinear, selectkbest__k=25;, score=0.716 total time=   1.6s\n",
      "[CV 1/4] END logisticregression__C=1, logisticregression__solver=lbfgs, selectkbest__k=5;, score=0.738 total time=   0.4s\n",
      "[CV 2/4] END logisticregression__C=1, logisticregression__solver=lbfgs, selectkbest__k=5;, score=0.702 total time=   0.4s\n",
      "[CV 3/4] END logisticregression__C=1, logisticregression__solver=lbfgs, selectkbest__k=5;, score=0.646 total time=   0.4s\n",
      "[CV 4/4] END logisticregression__C=1, logisticregression__solver=lbfgs, selectkbest__k=5;, score=0.708 total time=   0.3s\n",
      "[CV 1/4] END logisticregression__C=1, logisticregression__solver=lbfgs, selectkbest__k=15;, score=0.786 total time=   0.6s\n",
      "[CV 2/4] END logisticregression__C=1, logisticregression__solver=lbfgs, selectkbest__k=15;, score=0.718 total time=   0.6s\n",
      "[CV 3/4] END logisticregression__C=1, logisticregression__solver=lbfgs, selectkbest__k=15;, score=0.691 total time=   0.6s\n",
      "[CV 4/4] END logisticregression__C=1, logisticregression__solver=lbfgs, selectkbest__k=15;, score=0.704 total time=   0.6s\n"
     ]
    },
    {
     "name": "stderr",
     "output_type": "stream",
     "text": [
      "c:\\Users\\cleme\\Desktop\\personal-projects\\ml-personal-train\\venv\\lib\\site-packages\\sklearn\\linear_model\\_logistic.py:458: ConvergenceWarning: lbfgs failed to converge (status=1):\n",
      "STOP: TOTAL NO. of ITERATIONS REACHED LIMIT.\n",
      "\n",
      "Increase the number of iterations (max_iter) or scale the data as shown in:\n",
      "    https://scikit-learn.org/stable/modules/preprocessing.html\n",
      "Please also refer to the documentation for alternative solver options:\n",
      "    https://scikit-learn.org/stable/modules/linear_model.html#logistic-regression\n",
      "  n_iter_i = _check_optimize_result(\n"
     ]
    },
    {
     "name": "stdout",
     "output_type": "stream",
     "text": [
      "[CV 1/4] END logisticregression__C=1, logisticregression__solver=lbfgs, selectkbest__k=25;, score=0.786 total time=   1.2s\n"
     ]
    },
    {
     "name": "stderr",
     "output_type": "stream",
     "text": [
      "c:\\Users\\cleme\\Desktop\\personal-projects\\ml-personal-train\\venv\\lib\\site-packages\\sklearn\\linear_model\\_logistic.py:458: ConvergenceWarning: lbfgs failed to converge (status=1):\n",
      "STOP: TOTAL NO. of ITERATIONS REACHED LIMIT.\n",
      "\n",
      "Increase the number of iterations (max_iter) or scale the data as shown in:\n",
      "    https://scikit-learn.org/stable/modules/preprocessing.html\n",
      "Please also refer to the documentation for alternative solver options:\n",
      "    https://scikit-learn.org/stable/modules/linear_model.html#logistic-regression\n",
      "  n_iter_i = _check_optimize_result(\n"
     ]
    },
    {
     "name": "stdout",
     "output_type": "stream",
     "text": [
      "[CV 2/4] END logisticregression__C=1, logisticregression__solver=lbfgs, selectkbest__k=25;, score=0.724 total time=   1.2s\n",
      "[CV 3/4] END logisticregression__C=1, logisticregression__solver=lbfgs, selectkbest__k=25;, score=0.675 total time=   1.1s\n",
      "[CV 4/4] END logisticregression__C=1, logisticregression__solver=lbfgs, selectkbest__k=25;, score=0.727 total time=   1.2s\n",
      "[CV 1/4] END logisticregression__C=1, logisticregression__solver=liblinear, selectkbest__k=5;, score=0.738 total time=   0.6s\n",
      "[CV 2/4] END logisticregression__C=1, logisticregression__solver=liblinear, selectkbest__k=5;, score=0.702 total time=   0.5s\n",
      "[CV 3/4] END logisticregression__C=1, logisticregression__solver=liblinear, selectkbest__k=5;, score=0.646 total time=   0.5s\n",
      "[CV 4/4] END logisticregression__C=1, logisticregression__solver=liblinear, selectkbest__k=5;, score=0.704 total time=   0.5s\n",
      "[CV 1/4] END logisticregression__C=1, logisticregression__solver=liblinear, selectkbest__k=15;, score=0.786 total time=   0.9s\n",
      "[CV 2/4] END logisticregression__C=1, logisticregression__solver=liblinear, selectkbest__k=15;, score=0.718 total time=   0.9s\n",
      "[CV 3/4] END logisticregression__C=1, logisticregression__solver=liblinear, selectkbest__k=15;, score=0.687 total time=   1.0s\n",
      "[CV 4/4] END logisticregression__C=1, logisticregression__solver=liblinear, selectkbest__k=15;, score=0.696 total time=   1.0s\n",
      "[CV 1/4] END logisticregression__C=1, logisticregression__solver=liblinear, selectkbest__k=25;, score=0.786 total time=   2.0s\n",
      "[CV 2/4] END logisticregression__C=1, logisticregression__solver=liblinear, selectkbest__k=25;, score=0.724 total time=   4.2s\n",
      "[CV 3/4] END logisticregression__C=1, logisticregression__solver=liblinear, selectkbest__k=25;, score=0.675 total time=   3.6s\n",
      "[CV 4/4] END logisticregression__C=1, logisticregression__solver=liblinear, selectkbest__k=25;, score=0.732 total time=   2.1s\n",
      "[CV 1/4] END logisticregression__C=5, logisticregression__solver=lbfgs, selectkbest__k=5;, score=0.738 total time=   0.4s\n",
      "[CV 2/4] END logisticregression__C=5, logisticregression__solver=lbfgs, selectkbest__k=5;, score=0.702 total time=   0.5s\n",
      "[CV 3/4] END logisticregression__C=5, logisticregression__solver=lbfgs, selectkbest__k=5;, score=0.646 total time=   0.5s\n",
      "[CV 4/4] END logisticregression__C=5, logisticregression__solver=lbfgs, selectkbest__k=5;, score=0.708 total time=   0.5s\n",
      "[CV 1/4] END logisticregression__C=5, logisticregression__solver=lbfgs, selectkbest__k=15;, score=0.786 total time=   0.7s\n",
      "[CV 2/4] END logisticregression__C=5, logisticregression__solver=lbfgs, selectkbest__k=15;, score=0.718 total time=   0.7s\n",
      "[CV 3/4] END logisticregression__C=5, logisticregression__solver=lbfgs, selectkbest__k=15;, score=0.691 total time=   0.9s\n",
      "[CV 4/4] END logisticregression__C=5, logisticregression__solver=lbfgs, selectkbest__k=15;, score=0.704 total time=   1.4s\n"
     ]
    },
    {
     "name": "stderr",
     "output_type": "stream",
     "text": [
      "c:\\Users\\cleme\\Desktop\\personal-projects\\ml-personal-train\\venv\\lib\\site-packages\\sklearn\\linear_model\\_logistic.py:458: ConvergenceWarning: lbfgs failed to converge (status=1):\n",
      "STOP: TOTAL NO. of ITERATIONS REACHED LIMIT.\n",
      "\n",
      "Increase the number of iterations (max_iter) or scale the data as shown in:\n",
      "    https://scikit-learn.org/stable/modules/preprocessing.html\n",
      "Please also refer to the documentation for alternative solver options:\n",
      "    https://scikit-learn.org/stable/modules/linear_model.html#logistic-regression\n",
      "  n_iter_i = _check_optimize_result(\n"
     ]
    },
    {
     "name": "stdout",
     "output_type": "stream",
     "text": [
      "[CV 1/4] END logisticregression__C=5, logisticregression__solver=lbfgs, selectkbest__k=25;, score=0.779 total time=   3.3s\n"
     ]
    },
    {
     "name": "stderr",
     "output_type": "stream",
     "text": [
      "c:\\Users\\cleme\\Desktop\\personal-projects\\ml-personal-train\\venv\\lib\\site-packages\\sklearn\\linear_model\\_logistic.py:458: ConvergenceWarning: lbfgs failed to converge (status=1):\n",
      "STOP: TOTAL NO. of ITERATIONS REACHED LIMIT.\n",
      "\n",
      "Increase the number of iterations (max_iter) or scale the data as shown in:\n",
      "    https://scikit-learn.org/stable/modules/preprocessing.html\n",
      "Please also refer to the documentation for alternative solver options:\n",
      "    https://scikit-learn.org/stable/modules/linear_model.html#logistic-regression\n",
      "  n_iter_i = _check_optimize_result(\n"
     ]
    },
    {
     "name": "stdout",
     "output_type": "stream",
     "text": [
      "[CV 2/4] END logisticregression__C=5, logisticregression__solver=lbfgs, selectkbest__k=25;, score=0.724 total time=   3.2s\n",
      "[CV 3/4] END logisticregression__C=5, logisticregression__solver=lbfgs, selectkbest__k=25;, score=0.675 total time=   2.9s\n",
      "[CV 4/4] END logisticregression__C=5, logisticregression__solver=lbfgs, selectkbest__k=25;, score=0.727 total time=   2.2s\n",
      "[CV 1/4] END logisticregression__C=5, logisticregression__solver=liblinear, selectkbest__k=5;, score=0.738 total time=   0.9s\n",
      "[CV 2/4] END logisticregression__C=5, logisticregression__solver=liblinear, selectkbest__k=5;, score=0.702 total time=   0.8s\n",
      "[CV 3/4] END logisticregression__C=5, logisticregression__solver=liblinear, selectkbest__k=5;, score=0.646 total time=   1.8s\n",
      "[CV 4/4] END logisticregression__C=5, logisticregression__solver=liblinear, selectkbest__k=5;, score=0.708 total time=   0.4s\n",
      "[CV 1/4] END logisticregression__C=5, logisticregression__solver=liblinear, selectkbest__k=15;, score=0.786 total time=   0.8s\n",
      "[CV 2/4] END logisticregression__C=5, logisticregression__solver=liblinear, selectkbest__k=15;, score=0.718 total time=   1.4s\n",
      "[CV 3/4] END logisticregression__C=5, logisticregression__solver=liblinear, selectkbest__k=15;, score=0.691 total time=   1.1s\n",
      "[CV 4/4] END logisticregression__C=5, logisticregression__solver=liblinear, selectkbest__k=15;, score=0.704 total time=   1.1s\n",
      "[CV 1/4] END logisticregression__C=5, logisticregression__solver=liblinear, selectkbest__k=25;, score=0.779 total time=   2.1s\n",
      "[CV 2/4] END logisticregression__C=5, logisticregression__solver=liblinear, selectkbest__k=25;, score=0.724 total time=   3.7s\n",
      "[CV 3/4] END logisticregression__C=5, logisticregression__solver=liblinear, selectkbest__k=25;, score=0.675 total time=   2.1s\n",
      "[CV 4/4] END logisticregression__C=5, logisticregression__solver=liblinear, selectkbest__k=25;, score=0.727 total time=   2.3s\n",
      "Fitting 4 folds for each of 18 candidates, totalling 72 fits\n",
      "[CV 1/4] END logisticregression__C=0.1, logisticregression__solver=lbfgs, selectkbest__k=5;, score=0.679 total time=   0.3s\n",
      "[CV 2/4] END logisticregression__C=0.1, logisticregression__solver=lbfgs, selectkbest__k=5;, score=0.736 total time=   0.3s\n",
      "[CV 3/4] END logisticregression__C=0.1, logisticregression__solver=lbfgs, selectkbest__k=5;, score=0.743 total time=   0.3s\n",
      "[CV 4/4] END logisticregression__C=0.1, logisticregression__solver=lbfgs, selectkbest__k=5;, score=0.738 total time=   0.3s\n",
      "[CV 1/4] END logisticregression__C=0.1, logisticregression__solver=lbfgs, selectkbest__k=15;, score=0.707 total time=   0.5s\n",
      "[CV 2/4] END logisticregression__C=0.1, logisticregression__solver=lbfgs, selectkbest__k=15;, score=0.741 total time=   0.5s\n",
      "[CV 3/4] END logisticregression__C=0.1, logisticregression__solver=lbfgs, selectkbest__k=15;, score=0.776 total time=   0.5s\n",
      "[CV 4/4] END logisticregression__C=0.1, logisticregression__solver=lbfgs, selectkbest__k=15;, score=0.746 total time=   0.6s\n"
     ]
    },
    {
     "name": "stderr",
     "output_type": "stream",
     "text": [
      "c:\\Users\\cleme\\Desktop\\personal-projects\\ml-personal-train\\venv\\lib\\site-packages\\sklearn\\linear_model\\_logistic.py:458: ConvergenceWarning: lbfgs failed to converge (status=1):\n",
      "STOP: TOTAL NO. of ITERATIONS REACHED LIMIT.\n",
      "\n",
      "Increase the number of iterations (max_iter) or scale the data as shown in:\n",
      "    https://scikit-learn.org/stable/modules/preprocessing.html\n",
      "Please also refer to the documentation for alternative solver options:\n",
      "    https://scikit-learn.org/stable/modules/linear_model.html#logistic-regression\n",
      "  n_iter_i = _check_optimize_result(\n"
     ]
    },
    {
     "name": "stdout",
     "output_type": "stream",
     "text": [
      "[CV 1/4] END logisticregression__C=0.1, logisticregression__solver=lbfgs, selectkbest__k=25;, score=0.723 total time=   1.2s\n",
      "[CV 2/4] END logisticregression__C=0.1, logisticregression__solver=lbfgs, selectkbest__k=25;, score=0.740 total time=   1.2s\n",
      "[CV 3/4] END logisticregression__C=0.1, logisticregression__solver=lbfgs, selectkbest__k=25;, score=0.757 total time=   1.0s\n",
      "[CV 4/4] END logisticregression__C=0.1, logisticregression__solver=lbfgs, selectkbest__k=25;, score=0.775 total time=   1.2s\n",
      "[CV 1/4] END logisticregression__C=0.1, logisticregression__solver=liblinear, selectkbest__k=5;, score=0.679 total time=   0.5s\n",
      "[CV 2/4] END logisticregression__C=0.1, logisticregression__solver=liblinear, selectkbest__k=5;, score=0.720 total time=   0.5s\n",
      "[CV 3/4] END logisticregression__C=0.1, logisticregression__solver=liblinear, selectkbest__k=5;, score=0.747 total time=   0.4s\n",
      "[CV 4/4] END logisticregression__C=0.1, logisticregression__solver=liblinear, selectkbest__k=5;, score=0.726 total time=   0.5s\n",
      "[CV 1/4] END logisticregression__C=0.1, logisticregression__solver=liblinear, selectkbest__k=15;, score=0.715 total time=   0.8s\n",
      "[CV 2/4] END logisticregression__C=0.1, logisticregression__solver=liblinear, selectkbest__k=15;, score=0.733 total time=   0.7s\n",
      "[CV 3/4] END logisticregression__C=0.1, logisticregression__solver=liblinear, selectkbest__k=15;, score=0.750 total time=   0.8s\n",
      "[CV 4/4] END logisticregression__C=0.1, logisticregression__solver=liblinear, selectkbest__k=15;, score=0.746 total time=   0.7s\n",
      "[CV 1/4] END logisticregression__C=0.1, logisticregression__solver=liblinear, selectkbest__k=25;, score=0.707 total time=   1.9s\n",
      "[CV 2/4] END logisticregression__C=0.1, logisticregression__solver=liblinear, selectkbest__k=25;, score=0.727 total time=   2.1s\n",
      "[CV 3/4] END logisticregression__C=0.1, logisticregression__solver=liblinear, selectkbest__k=25;, score=0.757 total time=   2.4s\n",
      "[CV 4/4] END logisticregression__C=0.1, logisticregression__solver=liblinear, selectkbest__k=25;, score=0.760 total time=   1.7s\n",
      "[CV 1/4] END logisticregression__C=1, logisticregression__solver=lbfgs, selectkbest__k=5;, score=0.687 total time=   0.4s\n",
      "[CV 2/4] END logisticregression__C=1, logisticregression__solver=lbfgs, selectkbest__k=5;, score=0.736 total time=   0.3s\n",
      "[CV 3/4] END logisticregression__C=1, logisticregression__solver=lbfgs, selectkbest__k=5;, score=0.734 total time=   0.4s\n",
      "[CV 4/4] END logisticregression__C=1, logisticregression__solver=lbfgs, selectkbest__k=5;, score=0.746 total time=   0.4s\n",
      "[CV 1/4] END logisticregression__C=1, logisticregression__solver=lbfgs, selectkbest__k=15;, score=0.707 total time=   0.7s\n",
      "[CV 2/4] END logisticregression__C=1, logisticregression__solver=lbfgs, selectkbest__k=15;, score=0.741 total time=   0.6s\n",
      "[CV 3/4] END logisticregression__C=1, logisticregression__solver=lbfgs, selectkbest__k=15;, score=0.784 total time=   0.5s\n",
      "[CV 4/4] END logisticregression__C=1, logisticregression__solver=lbfgs, selectkbest__k=15;, score=0.746 total time=   0.6s\n"
     ]
    },
    {
     "name": "stderr",
     "output_type": "stream",
     "text": [
      "c:\\Users\\cleme\\Desktop\\personal-projects\\ml-personal-train\\venv\\lib\\site-packages\\sklearn\\linear_model\\_logistic.py:458: ConvergenceWarning: lbfgs failed to converge (status=1):\n",
      "STOP: TOTAL NO. of ITERATIONS REACHED LIMIT.\n",
      "\n",
      "Increase the number of iterations (max_iter) or scale the data as shown in:\n",
      "    https://scikit-learn.org/stable/modules/preprocessing.html\n",
      "Please also refer to the documentation for alternative solver options:\n",
      "    https://scikit-learn.org/stable/modules/linear_model.html#logistic-regression\n",
      "  n_iter_i = _check_optimize_result(\n"
     ]
    },
    {
     "name": "stdout",
     "output_type": "stream",
     "text": [
      "[CV 1/4] END logisticregression__C=1, logisticregression__solver=lbfgs, selectkbest__k=25;, score=0.723 total time=   1.1s\n"
     ]
    },
    {
     "name": "stderr",
     "output_type": "stream",
     "text": [
      "c:\\Users\\cleme\\Desktop\\personal-projects\\ml-personal-train\\venv\\lib\\site-packages\\sklearn\\linear_model\\_logistic.py:458: ConvergenceWarning: lbfgs failed to converge (status=1):\n",
      "STOP: TOTAL NO. of ITERATIONS REACHED LIMIT.\n",
      "\n",
      "Increase the number of iterations (max_iter) or scale the data as shown in:\n",
      "    https://scikit-learn.org/stable/modules/preprocessing.html\n",
      "Please also refer to the documentation for alternative solver options:\n",
      "    https://scikit-learn.org/stable/modules/linear_model.html#logistic-regression\n",
      "  n_iter_i = _check_optimize_result(\n"
     ]
    },
    {
     "name": "stdout",
     "output_type": "stream",
     "text": [
      "[CV 2/4] END logisticregression__C=1, logisticregression__solver=lbfgs, selectkbest__k=25;, score=0.740 total time=   1.3s\n"
     ]
    },
    {
     "name": "stderr",
     "output_type": "stream",
     "text": [
      "c:\\Users\\cleme\\Desktop\\personal-projects\\ml-personal-train\\venv\\lib\\site-packages\\sklearn\\linear_model\\_logistic.py:458: ConvergenceWarning: lbfgs failed to converge (status=1):\n",
      "STOP: TOTAL NO. of ITERATIONS REACHED LIMIT.\n",
      "\n",
      "Increase the number of iterations (max_iter) or scale the data as shown in:\n",
      "    https://scikit-learn.org/stable/modules/preprocessing.html\n",
      "Please also refer to the documentation for alternative solver options:\n",
      "    https://scikit-learn.org/stable/modules/linear_model.html#logistic-regression\n",
      "  n_iter_i = _check_optimize_result(\n"
     ]
    },
    {
     "name": "stdout",
     "output_type": "stream",
     "text": [
      "[CV 3/4] END logisticregression__C=1, logisticregression__solver=lbfgs, selectkbest__k=25;, score=0.753 total time=   1.2s\n"
     ]
    },
    {
     "name": "stderr",
     "output_type": "stream",
     "text": [
      "c:\\Users\\cleme\\Desktop\\personal-projects\\ml-personal-train\\venv\\lib\\site-packages\\sklearn\\linear_model\\_logistic.py:458: ConvergenceWarning: lbfgs failed to converge (status=1):\n",
      "STOP: TOTAL NO. of ITERATIONS REACHED LIMIT.\n",
      "\n",
      "Increase the number of iterations (max_iter) or scale the data as shown in:\n",
      "    https://scikit-learn.org/stable/modules/preprocessing.html\n",
      "Please also refer to the documentation for alternative solver options:\n",
      "    https://scikit-learn.org/stable/modules/linear_model.html#logistic-regression\n",
      "  n_iter_i = _check_optimize_result(\n"
     ]
    },
    {
     "name": "stdout",
     "output_type": "stream",
     "text": [
      "[CV 4/4] END logisticregression__C=1, logisticregression__solver=lbfgs, selectkbest__k=25;, score=0.770 total time=   1.2s\n",
      "[CV 1/4] END logisticregression__C=1, logisticregression__solver=liblinear, selectkbest__k=5;, score=0.679 total time=   0.4s\n",
      "[CV 2/4] END logisticregression__C=1, logisticregression__solver=liblinear, selectkbest__k=5;, score=0.736 total time=   0.4s\n",
      "[CV 3/4] END logisticregression__C=1, logisticregression__solver=liblinear, selectkbest__k=5;, score=0.743 total time=   0.4s\n",
      "[CV 4/4] END logisticregression__C=1, logisticregression__solver=liblinear, selectkbest__k=5;, score=0.738 total time=   0.4s\n",
      "[CV 1/4] END logisticregression__C=1, logisticregression__solver=liblinear, selectkbest__k=15;, score=0.707 total time=   0.9s\n",
      "[CV 2/4] END logisticregression__C=1, logisticregression__solver=liblinear, selectkbest__k=15;, score=0.733 total time=   0.9s\n",
      "[CV 3/4] END logisticregression__C=1, logisticregression__solver=liblinear, selectkbest__k=15;, score=0.784 total time=   0.8s\n",
      "[CV 4/4] END logisticregression__C=1, logisticregression__solver=liblinear, selectkbest__k=15;, score=0.746 total time=   0.9s\n",
      "[CV 1/4] END logisticregression__C=1, logisticregression__solver=liblinear, selectkbest__k=25;, score=0.723 total time=   2.0s\n",
      "[CV 2/4] END logisticregression__C=1, logisticregression__solver=liblinear, selectkbest__k=25;, score=0.740 total time=   2.8s\n",
      "[CV 3/4] END logisticregression__C=1, logisticregression__solver=liblinear, selectkbest__k=25;, score=0.757 total time=   2.8s\n",
      "[CV 4/4] END logisticregression__C=1, logisticregression__solver=liblinear, selectkbest__k=25;, score=0.775 total time=   2.0s\n",
      "[CV 1/4] END logisticregression__C=5, logisticregression__solver=lbfgs, selectkbest__k=5;, score=0.687 total time=   0.3s\n",
      "[CV 2/4] END logisticregression__C=5, logisticregression__solver=lbfgs, selectkbest__k=5;, score=0.736 total time=   0.4s\n",
      "[CV 3/4] END logisticregression__C=5, logisticregression__solver=lbfgs, selectkbest__k=5;, score=0.734 total time=   0.4s\n",
      "[CV 4/4] END logisticregression__C=5, logisticregression__solver=lbfgs, selectkbest__k=5;, score=0.746 total time=   0.3s\n",
      "[CV 1/4] END logisticregression__C=5, logisticregression__solver=lbfgs, selectkbest__k=15;, score=0.707 total time=   0.6s\n",
      "[CV 2/4] END logisticregression__C=5, logisticregression__solver=lbfgs, selectkbest__k=15;, score=0.741 total time=   0.5s\n",
      "[CV 3/4] END logisticregression__C=5, logisticregression__solver=lbfgs, selectkbest__k=15;, score=0.784 total time=   0.6s\n",
      "[CV 4/4] END logisticregression__C=5, logisticregression__solver=lbfgs, selectkbest__k=15;, score=0.746 total time=   0.6s\n"
     ]
    },
    {
     "name": "stderr",
     "output_type": "stream",
     "text": [
      "c:\\Users\\cleme\\Desktop\\personal-projects\\ml-personal-train\\venv\\lib\\site-packages\\sklearn\\linear_model\\_logistic.py:458: ConvergenceWarning: lbfgs failed to converge (status=1):\n",
      "STOP: TOTAL NO. of ITERATIONS REACHED LIMIT.\n",
      "\n",
      "Increase the number of iterations (max_iter) or scale the data as shown in:\n",
      "    https://scikit-learn.org/stable/modules/preprocessing.html\n",
      "Please also refer to the documentation for alternative solver options:\n",
      "    https://scikit-learn.org/stable/modules/linear_model.html#logistic-regression\n",
      "  n_iter_i = _check_optimize_result(\n"
     ]
    },
    {
     "name": "stdout",
     "output_type": "stream",
     "text": [
      "[CV 1/4] END logisticregression__C=5, logisticregression__solver=lbfgs, selectkbest__k=25;, score=0.723 total time=   1.3s\n"
     ]
    },
    {
     "name": "stderr",
     "output_type": "stream",
     "text": [
      "c:\\Users\\cleme\\Desktop\\personal-projects\\ml-personal-train\\venv\\lib\\site-packages\\sklearn\\linear_model\\_logistic.py:458: ConvergenceWarning: lbfgs failed to converge (status=1):\n",
      "STOP: TOTAL NO. of ITERATIONS REACHED LIMIT.\n",
      "\n",
      "Increase the number of iterations (max_iter) or scale the data as shown in:\n",
      "    https://scikit-learn.org/stable/modules/preprocessing.html\n",
      "Please also refer to the documentation for alternative solver options:\n",
      "    https://scikit-learn.org/stable/modules/linear_model.html#logistic-regression\n",
      "  n_iter_i = _check_optimize_result(\n"
     ]
    },
    {
     "name": "stdout",
     "output_type": "stream",
     "text": [
      "[CV 2/4] END logisticregression__C=5, logisticregression__solver=lbfgs, selectkbest__k=25;, score=0.740 total time=   1.4s\n"
     ]
    },
    {
     "name": "stderr",
     "output_type": "stream",
     "text": [
      "c:\\Users\\cleme\\Desktop\\personal-projects\\ml-personal-train\\venv\\lib\\site-packages\\sklearn\\linear_model\\_logistic.py:458: ConvergenceWarning: lbfgs failed to converge (status=1):\n",
      "STOP: TOTAL NO. of ITERATIONS REACHED LIMIT.\n",
      "\n",
      "Increase the number of iterations (max_iter) or scale the data as shown in:\n",
      "    https://scikit-learn.org/stable/modules/preprocessing.html\n",
      "Please also refer to the documentation for alternative solver options:\n",
      "    https://scikit-learn.org/stable/modules/linear_model.html#logistic-regression\n",
      "  n_iter_i = _check_optimize_result(\n"
     ]
    },
    {
     "name": "stdout",
     "output_type": "stream",
     "text": [
      "[CV 3/4] END logisticregression__C=5, logisticregression__solver=lbfgs, selectkbest__k=25;, score=0.753 total time=   1.2s\n"
     ]
    },
    {
     "name": "stderr",
     "output_type": "stream",
     "text": [
      "c:\\Users\\cleme\\Desktop\\personal-projects\\ml-personal-train\\venv\\lib\\site-packages\\sklearn\\linear_model\\_logistic.py:458: ConvergenceWarning: lbfgs failed to converge (status=1):\n",
      "STOP: TOTAL NO. of ITERATIONS REACHED LIMIT.\n",
      "\n",
      "Increase the number of iterations (max_iter) or scale the data as shown in:\n",
      "    https://scikit-learn.org/stable/modules/preprocessing.html\n",
      "Please also refer to the documentation for alternative solver options:\n",
      "    https://scikit-learn.org/stable/modules/linear_model.html#logistic-regression\n",
      "  n_iter_i = _check_optimize_result(\n"
     ]
    },
    {
     "name": "stdout",
     "output_type": "stream",
     "text": [
      "[CV 4/4] END logisticregression__C=5, logisticregression__solver=lbfgs, selectkbest__k=25;, score=0.770 total time=   1.3s\n",
      "[CV 1/4] END logisticregression__C=5, logisticregression__solver=liblinear, selectkbest__k=5;, score=0.687 total time=   0.4s\n",
      "[CV 2/4] END logisticregression__C=5, logisticregression__solver=liblinear, selectkbest__k=5;, score=0.736 total time=   0.6s\n",
      "[CV 3/4] END logisticregression__C=5, logisticregression__solver=liblinear, selectkbest__k=5;, score=0.738 total time=   0.4s\n",
      "[CV 4/4] END logisticregression__C=5, logisticregression__solver=liblinear, selectkbest__k=5;, score=0.738 total time=   0.4s\n",
      "[CV 1/4] END logisticregression__C=5, logisticregression__solver=liblinear, selectkbest__k=15;, score=0.707 total time=   0.9s\n",
      "[CV 2/4] END logisticregression__C=5, logisticregression__solver=liblinear, selectkbest__k=15;, score=0.741 total time=   0.9s\n",
      "[CV 3/4] END logisticregression__C=5, logisticregression__solver=liblinear, selectkbest__k=15;, score=0.784 total time=   0.8s\n",
      "[CV 4/4] END logisticregression__C=5, logisticregression__solver=liblinear, selectkbest__k=15;, score=0.746 total time=   0.9s\n",
      "[CV 1/4] END logisticregression__C=5, logisticregression__solver=liblinear, selectkbest__k=25;, score=0.723 total time=   2.1s\n",
      "[CV 2/4] END logisticregression__C=5, logisticregression__solver=liblinear, selectkbest__k=25;, score=0.740 total time=   2.9s\n",
      "[CV 3/4] END logisticregression__C=5, logisticregression__solver=liblinear, selectkbest__k=25;, score=0.757 total time=   2.6s\n",
      "[CV 4/4] END logisticregression__C=5, logisticregression__solver=liblinear, selectkbest__k=25;, score=0.770 total time=   2.6s\n"
     ]
    },
    {
     "name": "stderr",
     "output_type": "stream",
     "text": [
      "c:\\Users\\cleme\\Desktop\\personal-projects\\ml-personal-train\\venv\\lib\\site-packages\\sklearn\\linear_model\\_logistic.py:458: ConvergenceWarning: lbfgs failed to converge (status=1):\n",
      "STOP: TOTAL NO. of ITERATIONS REACHED LIMIT.\n",
      "\n",
      "Increase the number of iterations (max_iter) or scale the data as shown in:\n",
      "    https://scikit-learn.org/stable/modules/preprocessing.html\n",
      "Please also refer to the documentation for alternative solver options:\n",
      "    https://scikit-learn.org/stable/modules/linear_model.html#logistic-regression\n",
      "  n_iter_i = _check_optimize_result(\n",
      "c:\\Users\\cleme\\Desktop\\personal-projects\\ml-personal-train\\venv\\lib\\site-packages\\sklearn\\linear_model\\_logistic.py:458: ConvergenceWarning: lbfgs failed to converge (status=1):\n",
      "STOP: TOTAL NO. of ITERATIONS REACHED LIMIT.\n",
      "\n",
      "Increase the number of iterations (max_iter) or scale the data as shown in:\n",
      "    https://scikit-learn.org/stable/modules/preprocessing.html\n",
      "Please also refer to the documentation for alternative solver options:\n",
      "    https://scikit-learn.org/stable/modules/linear_model.html#logistic-regression\n",
      "  n_iter_i = _check_optimize_result(\n"
     ]
    },
    {
     "name": "stdout",
     "output_type": "stream",
     "text": [
      "Fitting 4 folds for each of 18 candidates, totalling 72 fits\n",
      "[CV 1/4] END logisticregression__C=0.1, logisticregression__solver=lbfgs, selectkbest__k=5;, score=0.711 total time=   0.4s\n",
      "[CV 2/4] END logisticregression__C=0.1, logisticregression__solver=lbfgs, selectkbest__k=5;, score=0.671 total time=   0.3s\n",
      "[CV 3/4] END logisticregression__C=0.1, logisticregression__solver=lbfgs, selectkbest__k=5;, score=0.709 total time=   0.3s\n",
      "[CV 4/4] END logisticregression__C=0.1, logisticregression__solver=lbfgs, selectkbest__k=5;, score=0.646 total time=   0.3s\n",
      "[CV 1/4] END logisticregression__C=0.1, logisticregression__solver=lbfgs, selectkbest__k=15;, score=0.707 total time=   0.5s\n",
      "[CV 2/4] END logisticregression__C=0.1, logisticregression__solver=lbfgs, selectkbest__k=15;, score=0.662 total time=   0.5s\n",
      "[CV 3/4] END logisticregression__C=0.1, logisticregression__solver=lbfgs, selectkbest__k=15;, score=0.717 total time=   0.6s\n",
      "[CV 4/4] END logisticregression__C=0.1, logisticregression__solver=lbfgs, selectkbest__k=15;, score=0.671 total time=   0.7s\n",
      "[CV 1/4] END logisticregression__C=0.1, logisticregression__solver=lbfgs, selectkbest__k=25;, score=0.691 total time=   1.3s\n"
     ]
    },
    {
     "name": "stderr",
     "output_type": "stream",
     "text": [
      "c:\\Users\\cleme\\Desktop\\personal-projects\\ml-personal-train\\venv\\lib\\site-packages\\sklearn\\linear_model\\_logistic.py:458: ConvergenceWarning: lbfgs failed to converge (status=1):\n",
      "STOP: TOTAL NO. of ITERATIONS REACHED LIMIT.\n",
      "\n",
      "Increase the number of iterations (max_iter) or scale the data as shown in:\n",
      "    https://scikit-learn.org/stable/modules/preprocessing.html\n",
      "Please also refer to the documentation for alternative solver options:\n",
      "    https://scikit-learn.org/stable/modules/linear_model.html#logistic-regression\n",
      "  n_iter_i = _check_optimize_result(\n"
     ]
    },
    {
     "name": "stdout",
     "output_type": "stream",
     "text": [
      "[CV 2/4] END logisticregression__C=0.1, logisticregression__solver=lbfgs, selectkbest__k=25;, score=0.650 total time=   1.3s\n",
      "[CV 3/4] END logisticregression__C=0.1, logisticregression__solver=lbfgs, selectkbest__k=25;, score=0.728 total time=   1.3s\n",
      "[CV 4/4] END logisticregression__C=0.1, logisticregression__solver=lbfgs, selectkbest__k=25;, score=0.683 total time=   1.4s\n",
      "[CV 1/4] END logisticregression__C=0.1, logisticregression__solver=liblinear, selectkbest__k=5;, score=0.699 total time=   0.6s\n",
      "[CV 2/4] END logisticregression__C=0.1, logisticregression__solver=liblinear, selectkbest__k=5;, score=0.675 total time=   0.5s\n",
      "[CV 3/4] END logisticregression__C=0.1, logisticregression__solver=liblinear, selectkbest__k=5;, score=0.725 total time=   0.4s\n",
      "[CV 4/4] END logisticregression__C=0.1, logisticregression__solver=liblinear, selectkbest__k=5;, score=0.637 total time=   0.4s\n",
      "[CV 1/4] END logisticregression__C=0.1, logisticregression__solver=liblinear, selectkbest__k=15;, score=0.695 total time=   0.8s\n",
      "[CV 2/4] END logisticregression__C=0.1, logisticregression__solver=liblinear, selectkbest__k=15;, score=0.658 total time=   0.8s\n",
      "[CV 3/4] END logisticregression__C=0.1, logisticregression__solver=liblinear, selectkbest__k=15;, score=0.709 total time=   0.9s\n",
      "[CV 4/4] END logisticregression__C=0.1, logisticregression__solver=liblinear, selectkbest__k=15;, score=0.654 total time=   0.8s\n",
      "[CV 1/4] END logisticregression__C=0.1, logisticregression__solver=liblinear, selectkbest__k=25;, score=0.691 total time=   1.9s\n",
      "[CV 2/4] END logisticregression__C=0.1, logisticregression__solver=liblinear, selectkbest__k=25;, score=0.654 total time=   1.9s\n",
      "[CV 3/4] END logisticregression__C=0.1, logisticregression__solver=liblinear, selectkbest__k=25;, score=0.725 total time=   1.9s\n",
      "[CV 4/4] END logisticregression__C=0.1, logisticregression__solver=liblinear, selectkbest__k=25;, score=0.662 total time=   1.9s\n",
      "[CV 1/4] END logisticregression__C=1, logisticregression__solver=lbfgs, selectkbest__k=5;, score=0.711 total time=   0.5s\n",
      "[CV 2/4] END logisticregression__C=1, logisticregression__solver=lbfgs, selectkbest__k=5;, score=0.671 total time=   0.4s\n",
      "[CV 3/4] END logisticregression__C=1, logisticregression__solver=lbfgs, selectkbest__k=5;, score=0.709 total time=   0.4s\n",
      "[CV 4/4] END logisticregression__C=1, logisticregression__solver=lbfgs, selectkbest__k=5;, score=0.646 total time=   0.4s\n",
      "[CV 1/4] END logisticregression__C=1, logisticregression__solver=lbfgs, selectkbest__k=15;, score=0.715 total time=   0.6s\n",
      "[CV 2/4] END logisticregression__C=1, logisticregression__solver=lbfgs, selectkbest__k=15;, score=0.662 total time=   0.6s\n",
      "[CV 3/4] END logisticregression__C=1, logisticregression__solver=lbfgs, selectkbest__k=15;, score=0.725 total time=   0.6s\n",
      "[CV 4/4] END logisticregression__C=1, logisticregression__solver=lbfgs, selectkbest__k=15;, score=0.671 total time=   0.6s\n"
     ]
    },
    {
     "name": "stderr",
     "output_type": "stream",
     "text": [
      "c:\\Users\\cleme\\Desktop\\personal-projects\\ml-personal-train\\venv\\lib\\site-packages\\sklearn\\linear_model\\_logistic.py:458: ConvergenceWarning: lbfgs failed to converge (status=1):\n",
      "STOP: TOTAL NO. of ITERATIONS REACHED LIMIT.\n",
      "\n",
      "Increase the number of iterations (max_iter) or scale the data as shown in:\n",
      "    https://scikit-learn.org/stable/modules/preprocessing.html\n",
      "Please also refer to the documentation for alternative solver options:\n",
      "    https://scikit-learn.org/stable/modules/linear_model.html#logistic-regression\n",
      "  n_iter_i = _check_optimize_result(\n"
     ]
    },
    {
     "name": "stdout",
     "output_type": "stream",
     "text": [
      "[CV 1/4] END logisticregression__C=1, logisticregression__solver=lbfgs, selectkbest__k=25;, score=0.691 total time=   1.2s\n"
     ]
    },
    {
     "name": "stderr",
     "output_type": "stream",
     "text": [
      "c:\\Users\\cleme\\Desktop\\personal-projects\\ml-personal-train\\venv\\lib\\site-packages\\sklearn\\linear_model\\_logistic.py:458: ConvergenceWarning: lbfgs failed to converge (status=1):\n",
      "STOP: TOTAL NO. of ITERATIONS REACHED LIMIT.\n",
      "\n",
      "Increase the number of iterations (max_iter) or scale the data as shown in:\n",
      "    https://scikit-learn.org/stable/modules/preprocessing.html\n",
      "Please also refer to the documentation for alternative solver options:\n",
      "    https://scikit-learn.org/stable/modules/linear_model.html#logistic-regression\n",
      "  n_iter_i = _check_optimize_result(\n"
     ]
    },
    {
     "name": "stdout",
     "output_type": "stream",
     "text": [
      "[CV 2/4] END logisticregression__C=1, logisticregression__solver=lbfgs, selectkbest__k=25;, score=0.646 total time=   1.2s\n",
      "[CV 3/4] END logisticregression__C=1, logisticregression__solver=lbfgs, selectkbest__k=25;, score=0.724 total time=   1.3s\n"
     ]
    },
    {
     "name": "stderr",
     "output_type": "stream",
     "text": [
      "c:\\Users\\cleme\\Desktop\\personal-projects\\ml-personal-train\\venv\\lib\\site-packages\\sklearn\\linear_model\\_logistic.py:458: ConvergenceWarning: lbfgs failed to converge (status=1):\n",
      "STOP: TOTAL NO. of ITERATIONS REACHED LIMIT.\n",
      "\n",
      "Increase the number of iterations (max_iter) or scale the data as shown in:\n",
      "    https://scikit-learn.org/stable/modules/preprocessing.html\n",
      "Please also refer to the documentation for alternative solver options:\n",
      "    https://scikit-learn.org/stable/modules/linear_model.html#logistic-regression\n",
      "  n_iter_i = _check_optimize_result(\n"
     ]
    },
    {
     "name": "stdout",
     "output_type": "stream",
     "text": [
      "[CV 4/4] END logisticregression__C=1, logisticregression__solver=lbfgs, selectkbest__k=25;, score=0.683 total time=   1.3s\n",
      "[CV 1/4] END logisticregression__C=1, logisticregression__solver=liblinear, selectkbest__k=5;, score=0.711 total time=   0.6s\n",
      "[CV 2/4] END logisticregression__C=1, logisticregression__solver=liblinear, selectkbest__k=5;, score=0.671 total time=   0.4s\n",
      "[CV 3/4] END logisticregression__C=1, logisticregression__solver=liblinear, selectkbest__k=5;, score=0.717 total time=   0.5s\n",
      "[CV 4/4] END logisticregression__C=1, logisticregression__solver=liblinear, selectkbest__k=5;, score=0.646 total time=   0.5s\n",
      "[CV 1/4] END logisticregression__C=1, logisticregression__solver=liblinear, selectkbest__k=15;, score=0.715 total time=   0.9s\n",
      "[CV 2/4] END logisticregression__C=1, logisticregression__solver=liblinear, selectkbest__k=15;, score=0.662 total time=   1.0s\n",
      "[CV 3/4] END logisticregression__C=1, logisticregression__solver=liblinear, selectkbest__k=15;, score=0.717 total time=   1.0s\n",
      "[CV 4/4] END logisticregression__C=1, logisticregression__solver=liblinear, selectkbest__k=15;, score=0.671 total time=   1.0s\n",
      "[CV 1/4] END logisticregression__C=1, logisticregression__solver=liblinear, selectkbest__k=25;, score=0.691 total time=   2.0s\n",
      "[CV 2/4] END logisticregression__C=1, logisticregression__solver=liblinear, selectkbest__k=25;, score=0.650 total time=   2.7s\n",
      "[CV 3/4] END logisticregression__C=1, logisticregression__solver=liblinear, selectkbest__k=25;, score=0.724 total time=   2.3s\n",
      "[CV 4/4] END logisticregression__C=1, logisticregression__solver=liblinear, selectkbest__k=25;, score=0.683 total time=   3.0s\n",
      "[CV 1/4] END logisticregression__C=5, logisticregression__solver=lbfgs, selectkbest__k=5;, score=0.711 total time=   0.4s\n",
      "[CV 2/4] END logisticregression__C=5, logisticregression__solver=lbfgs, selectkbest__k=5;, score=0.671 total time=   0.4s\n",
      "[CV 3/4] END logisticregression__C=5, logisticregression__solver=lbfgs, selectkbest__k=5;, score=0.709 total time=   0.4s\n",
      "[CV 4/4] END logisticregression__C=5, logisticregression__solver=lbfgs, selectkbest__k=5;, score=0.646 total time=   0.4s\n",
      "[CV 1/4] END logisticregression__C=5, logisticregression__solver=lbfgs, selectkbest__k=15;, score=0.715 total time=   0.6s\n",
      "[CV 2/4] END logisticregression__C=5, logisticregression__solver=lbfgs, selectkbest__k=15;, score=0.662 total time=   0.6s\n",
      "[CV 3/4] END logisticregression__C=5, logisticregression__solver=lbfgs, selectkbest__k=15;, score=0.725 total time=   0.6s\n",
      "[CV 4/4] END logisticregression__C=5, logisticregression__solver=lbfgs, selectkbest__k=15;, score=0.671 total time=   0.6s\n",
      "[CV 1/4] END logisticregression__C=5, logisticregression__solver=lbfgs, selectkbest__k=25;, score=0.691 total time=   1.1s\n",
      "[CV 2/4] END logisticregression__C=5, logisticregression__solver=lbfgs, selectkbest__k=25;, score=0.646 total time=   1.3s\n",
      "[CV 3/4] END logisticregression__C=5, logisticregression__solver=lbfgs, selectkbest__k=25;, score=0.724 total time=   1.2s\n"
     ]
    },
    {
     "name": "stderr",
     "output_type": "stream",
     "text": [
      "c:\\Users\\cleme\\Desktop\\personal-projects\\ml-personal-train\\venv\\lib\\site-packages\\sklearn\\linear_model\\_logistic.py:458: ConvergenceWarning: lbfgs failed to converge (status=1):\n",
      "STOP: TOTAL NO. of ITERATIONS REACHED LIMIT.\n",
      "\n",
      "Increase the number of iterations (max_iter) or scale the data as shown in:\n",
      "    https://scikit-learn.org/stable/modules/preprocessing.html\n",
      "Please also refer to the documentation for alternative solver options:\n",
      "    https://scikit-learn.org/stable/modules/linear_model.html#logistic-regression\n",
      "  n_iter_i = _check_optimize_result(\n"
     ]
    },
    {
     "name": "stdout",
     "output_type": "stream",
     "text": [
      "[CV 4/4] END logisticregression__C=5, logisticregression__solver=lbfgs, selectkbest__k=25;, score=0.683 total time=   1.4s\n",
      "[CV 1/4] END logisticregression__C=5, logisticregression__solver=liblinear, selectkbest__k=5;, score=0.711 total time=   0.6s\n",
      "[CV 2/4] END logisticregression__C=5, logisticregression__solver=liblinear, selectkbest__k=5;, score=0.671 total time=   0.4s\n",
      "[CV 3/4] END logisticregression__C=5, logisticregression__solver=liblinear, selectkbest__k=5;, score=0.717 total time=   0.5s\n",
      "[CV 4/4] END logisticregression__C=5, logisticregression__solver=liblinear, selectkbest__k=5;, score=0.646 total time=   0.5s\n",
      "[CV 1/4] END logisticregression__C=5, logisticregression__solver=liblinear, selectkbest__k=15;, score=0.715 total time=   1.0s\n",
      "[CV 2/4] END logisticregression__C=5, logisticregression__solver=liblinear, selectkbest__k=15;, score=0.662 total time=   1.0s\n",
      "[CV 3/4] END logisticregression__C=5, logisticregression__solver=liblinear, selectkbest__k=15;, score=0.725 total time=   1.0s\n",
      "[CV 4/4] END logisticregression__C=5, logisticregression__solver=liblinear, selectkbest__k=15;, score=0.671 total time=   1.0s\n",
      "[CV 1/4] END logisticregression__C=5, logisticregression__solver=liblinear, selectkbest__k=25;, score=0.691 total time=   2.1s\n",
      "[CV 2/4] END logisticregression__C=5, logisticregression__solver=liblinear, selectkbest__k=25;, score=0.646 total time=   2.8s\n",
      "[CV 3/4] END logisticregression__C=5, logisticregression__solver=liblinear, selectkbest__k=25;, score=0.724 total time=   2.3s\n",
      "[CV 4/4] END logisticregression__C=5, logisticregression__solver=liblinear, selectkbest__k=25;, score=0.683 total time=   2.7s\n",
      "Fitting 4 folds for each of 18 candidates, totalling 72 fits\n",
      "[CV 1/4] END logisticregression__C=0.1, logisticregression__solver=lbfgs, selectkbest__k=5;, score=0.703 total time=   0.4s\n",
      "[CV 2/4] END logisticregression__C=0.1, logisticregression__solver=lbfgs, selectkbest__k=5;, score=0.743 total time=   0.4s\n",
      "[CV 3/4] END logisticregression__C=0.1, logisticregression__solver=lbfgs, selectkbest__k=5;, score=0.714 total time=   0.4s\n",
      "[CV 4/4] END logisticregression__C=0.1, logisticregression__solver=lbfgs, selectkbest__k=5;, score=0.739 total time=   0.4s\n",
      "[CV 1/4] END logisticregression__C=0.1, logisticregression__solver=lbfgs, selectkbest__k=15;, score=0.723 total time=   0.6s\n",
      "[CV 2/4] END logisticregression__C=0.1, logisticregression__solver=lbfgs, selectkbest__k=15;, score=0.736 total time=   0.6s\n",
      "[CV 3/4] END logisticregression__C=0.1, logisticregression__solver=lbfgs, selectkbest__k=15;, score=0.744 total time=   0.6s\n",
      "[CV 4/4] END logisticregression__C=0.1, logisticregression__solver=lbfgs, selectkbest__k=15;, score=0.743 total time=   0.7s\n",
      "[CV 1/4] END logisticregression__C=0.1, logisticregression__solver=lbfgs, selectkbest__k=25;, score=0.731 total time=   1.3s\n",
      "[CV 2/4] END logisticregression__C=0.1, logisticregression__solver=lbfgs, selectkbest__k=25;, score=0.747 total time=   1.1s\n",
      "[CV 3/4] END logisticregression__C=0.1, logisticregression__solver=lbfgs, selectkbest__k=25;, score=0.749 total time=   1.0s\n",
      "[CV 4/4] END logisticregression__C=0.1, logisticregression__solver=lbfgs, selectkbest__k=25;, score=0.726 total time=   1.4s\n",
      "[CV 1/4] END logisticregression__C=0.1, logisticregression__solver=liblinear, selectkbest__k=5;, score=0.703 total time=   0.5s\n",
      "[CV 2/4] END logisticregression__C=0.1, logisticregression__solver=liblinear, selectkbest__k=5;, score=0.736 total time=   0.6s\n",
      "[CV 3/4] END logisticregression__C=0.1, logisticregression__solver=liblinear, selectkbest__k=5;, score=0.707 total time=   0.5s\n",
      "[CV 4/4] END logisticregression__C=0.1, logisticregression__solver=liblinear, selectkbest__k=5;, score=0.732 total time=   0.5s\n",
      "[CV 1/4] END logisticregression__C=0.1, logisticregression__solver=liblinear, selectkbest__k=15;, score=0.715 total time=   0.8s\n",
      "[CV 2/4] END logisticregression__C=0.1, logisticregression__solver=liblinear, selectkbest__k=15;, score=0.740 total time=   0.9s\n",
      "[CV 3/4] END logisticregression__C=0.1, logisticregression__solver=liblinear, selectkbest__k=15;, score=0.751 total time=   0.8s\n",
      "[CV 4/4] END logisticregression__C=0.1, logisticregression__solver=liblinear, selectkbest__k=15;, score=0.732 total time=   0.9s\n",
      "[CV 1/4] END logisticregression__C=0.1, logisticregression__solver=liblinear, selectkbest__k=25;, score=0.731 total time=   1.9s\n",
      "[CV 2/4] END logisticregression__C=0.1, logisticregression__solver=liblinear, selectkbest__k=25;, score=0.740 total time=   1.7s\n",
      "[CV 3/4] END logisticregression__C=0.1, logisticregression__solver=liblinear, selectkbest__k=25;, score=0.734 total time=   1.7s\n",
      "[CV 4/4] END logisticregression__C=0.1, logisticregression__solver=liblinear, selectkbest__k=25;, score=0.732 total time=   1.9s\n",
      "[CV 1/4] END logisticregression__C=1, logisticregression__solver=lbfgs, selectkbest__k=5;, score=0.703 total time=   0.4s\n",
      "[CV 2/4] END logisticregression__C=1, logisticregression__solver=lbfgs, selectkbest__k=5;, score=0.743 total time=   0.4s\n",
      "[CV 3/4] END logisticregression__C=1, logisticregression__solver=lbfgs, selectkbest__k=5;, score=0.714 total time=   0.3s\n",
      "[CV 4/4] END logisticregression__C=1, logisticregression__solver=lbfgs, selectkbest__k=5;, score=0.739 total time=   0.3s\n",
      "[CV 1/4] END logisticregression__C=1, logisticregression__solver=lbfgs, selectkbest__k=15;, score=0.723 total time=   0.6s\n",
      "[CV 2/4] END logisticregression__C=1, logisticregression__solver=lbfgs, selectkbest__k=15;, score=0.736 total time=   0.5s\n",
      "[CV 3/4] END logisticregression__C=1, logisticregression__solver=lbfgs, selectkbest__k=15;, score=0.749 total time=   0.6s\n",
      "[CV 4/4] END logisticregression__C=1, logisticregression__solver=lbfgs, selectkbest__k=15;, score=0.746 total time=   0.6s\n"
     ]
    },
    {
     "name": "stderr",
     "output_type": "stream",
     "text": [
      "c:\\Users\\cleme\\Desktop\\personal-projects\\ml-personal-train\\venv\\lib\\site-packages\\sklearn\\linear_model\\_logistic.py:458: ConvergenceWarning: lbfgs failed to converge (status=1):\n",
      "STOP: TOTAL NO. of ITERATIONS REACHED LIMIT.\n",
      "\n",
      "Increase the number of iterations (max_iter) or scale the data as shown in:\n",
      "    https://scikit-learn.org/stable/modules/preprocessing.html\n",
      "Please also refer to the documentation for alternative solver options:\n",
      "    https://scikit-learn.org/stable/modules/linear_model.html#logistic-regression\n",
      "  n_iter_i = _check_optimize_result(\n"
     ]
    },
    {
     "name": "stdout",
     "output_type": "stream",
     "text": [
      "[CV 1/4] END logisticregression__C=1, logisticregression__solver=lbfgs, selectkbest__k=25;, score=0.726 total time=   1.3s\n"
     ]
    },
    {
     "name": "stderr",
     "output_type": "stream",
     "text": [
      "c:\\Users\\cleme\\Desktop\\personal-projects\\ml-personal-train\\venv\\lib\\site-packages\\sklearn\\linear_model\\_logistic.py:458: ConvergenceWarning: lbfgs failed to converge (status=1):\n",
      "STOP: TOTAL NO. of ITERATIONS REACHED LIMIT.\n",
      "\n",
      "Increase the number of iterations (max_iter) or scale the data as shown in:\n",
      "    https://scikit-learn.org/stable/modules/preprocessing.html\n",
      "Please also refer to the documentation for alternative solver options:\n",
      "    https://scikit-learn.org/stable/modules/linear_model.html#logistic-regression\n",
      "  n_iter_i = _check_optimize_result(\n"
     ]
    },
    {
     "name": "stdout",
     "output_type": "stream",
     "text": [
      "[CV 2/4] END logisticregression__C=1, logisticregression__solver=lbfgs, selectkbest__k=25;, score=0.754 total time=   1.2s\n",
      "[CV 3/4] END logisticregression__C=1, logisticregression__solver=lbfgs, selectkbest__k=25;, score=0.759 total time=   1.2s\n"
     ]
    },
    {
     "name": "stderr",
     "output_type": "stream",
     "text": [
      "c:\\Users\\cleme\\Desktop\\personal-projects\\ml-personal-train\\venv\\lib\\site-packages\\sklearn\\linear_model\\_logistic.py:458: ConvergenceWarning: lbfgs failed to converge (status=1):\n",
      "STOP: TOTAL NO. of ITERATIONS REACHED LIMIT.\n",
      "\n",
      "Increase the number of iterations (max_iter) or scale the data as shown in:\n",
      "    https://scikit-learn.org/stable/modules/preprocessing.html\n",
      "Please also refer to the documentation for alternative solver options:\n",
      "    https://scikit-learn.org/stable/modules/linear_model.html#logistic-regression\n",
      "  n_iter_i = _check_optimize_result(\n"
     ]
    },
    {
     "name": "stdout",
     "output_type": "stream",
     "text": [
      "[CV 4/4] END logisticregression__C=1, logisticregression__solver=lbfgs, selectkbest__k=25;, score=0.719 total time=   1.3s\n",
      "[CV 1/4] END logisticregression__C=1, logisticregression__solver=liblinear, selectkbest__k=5;, score=0.703 total time=   0.6s\n",
      "[CV 2/4] END logisticregression__C=1, logisticregression__solver=liblinear, selectkbest__k=5;, score=0.743 total time=   0.5s\n",
      "[CV 3/4] END logisticregression__C=1, logisticregression__solver=liblinear, selectkbest__k=5;, score=0.714 total time=   0.4s\n",
      "[CV 4/4] END logisticregression__C=1, logisticregression__solver=liblinear, selectkbest__k=5;, score=0.739 total time=   0.5s\n",
      "[CV 1/4] END logisticregression__C=1, logisticregression__solver=liblinear, selectkbest__k=15;, score=0.723 total time=   0.9s\n",
      "[CV 2/4] END logisticregression__C=1, logisticregression__solver=liblinear, selectkbest__k=15;, score=0.736 total time=   1.0s\n",
      "[CV 3/4] END logisticregression__C=1, logisticregression__solver=liblinear, selectkbest__k=15;, score=0.749 total time=   0.9s\n",
      "[CV 4/4] END logisticregression__C=1, logisticregression__solver=liblinear, selectkbest__k=15;, score=0.750 total time=   0.9s\n",
      "[CV 1/4] END logisticregression__C=1, logisticregression__solver=liblinear, selectkbest__k=25;, score=0.726 total time=   3.5s\n",
      "[CV 2/4] END logisticregression__C=1, logisticregression__solver=liblinear, selectkbest__k=25;, score=0.754 total time=   2.2s\n",
      "[CV 3/4] END logisticregression__C=1, logisticregression__solver=liblinear, selectkbest__k=25;, score=0.751 total time=   1.9s\n",
      "[CV 4/4] END logisticregression__C=1, logisticregression__solver=liblinear, selectkbest__k=25;, score=0.734 total time=   3.2s\n",
      "[CV 1/4] END logisticregression__C=5, logisticregression__solver=lbfgs, selectkbest__k=5;, score=0.703 total time=   0.4s\n",
      "[CV 2/4] END logisticregression__C=5, logisticregression__solver=lbfgs, selectkbest__k=5;, score=0.743 total time=   0.4s\n",
      "[CV 3/4] END logisticregression__C=5, logisticregression__solver=lbfgs, selectkbest__k=5;, score=0.714 total time=   0.4s\n",
      "[CV 4/4] END logisticregression__C=5, logisticregression__solver=lbfgs, selectkbest__k=5;, score=0.739 total time=   0.4s\n",
      "[CV 1/4] END logisticregression__C=5, logisticregression__solver=lbfgs, selectkbest__k=15;, score=0.723 total time=   0.5s\n",
      "[CV 2/4] END logisticregression__C=5, logisticregression__solver=lbfgs, selectkbest__k=15;, score=0.736 total time=   0.6s\n",
      "[CV 3/4] END logisticregression__C=5, logisticregression__solver=lbfgs, selectkbest__k=15;, score=0.749 total time=   0.6s\n",
      "[CV 4/4] END logisticregression__C=5, logisticregression__solver=lbfgs, selectkbest__k=15;, score=0.746 total time=   0.6s\n"
     ]
    },
    {
     "name": "stderr",
     "output_type": "stream",
     "text": [
      "c:\\Users\\cleme\\Desktop\\personal-projects\\ml-personal-train\\venv\\lib\\site-packages\\sklearn\\linear_model\\_logistic.py:458: ConvergenceWarning: lbfgs failed to converge (status=1):\n",
      "STOP: TOTAL NO. of ITERATIONS REACHED LIMIT.\n",
      "\n",
      "Increase the number of iterations (max_iter) or scale the data as shown in:\n",
      "    https://scikit-learn.org/stable/modules/preprocessing.html\n",
      "Please also refer to the documentation for alternative solver options:\n",
      "    https://scikit-learn.org/stable/modules/linear_model.html#logistic-regression\n",
      "  n_iter_i = _check_optimize_result(\n"
     ]
    },
    {
     "name": "stdout",
     "output_type": "stream",
     "text": [
      "[CV 1/4] END logisticregression__C=5, logisticregression__solver=lbfgs, selectkbest__k=25;, score=0.726 total time=   1.3s\n"
     ]
    },
    {
     "name": "stderr",
     "output_type": "stream",
     "text": [
      "c:\\Users\\cleme\\Desktop\\personal-projects\\ml-personal-train\\venv\\lib\\site-packages\\sklearn\\linear_model\\_logistic.py:458: ConvergenceWarning: lbfgs failed to converge (status=1):\n",
      "STOP: TOTAL NO. of ITERATIONS REACHED LIMIT.\n",
      "\n",
      "Increase the number of iterations (max_iter) or scale the data as shown in:\n",
      "    https://scikit-learn.org/stable/modules/preprocessing.html\n",
      "Please also refer to the documentation for alternative solver options:\n",
      "    https://scikit-learn.org/stable/modules/linear_model.html#logistic-regression\n",
      "  n_iter_i = _check_optimize_result(\n"
     ]
    },
    {
     "name": "stdout",
     "output_type": "stream",
     "text": [
      "[CV 2/4] END logisticregression__C=5, logisticregression__solver=lbfgs, selectkbest__k=25;, score=0.750 total time=   1.3s\n",
      "[CV 3/4] END logisticregression__C=5, logisticregression__solver=lbfgs, selectkbest__k=25;, score=0.759 total time=   1.2s\n"
     ]
    },
    {
     "name": "stderr",
     "output_type": "stream",
     "text": [
      "c:\\Users\\cleme\\Desktop\\personal-projects\\ml-personal-train\\venv\\lib\\site-packages\\sklearn\\linear_model\\_logistic.py:458: ConvergenceWarning: lbfgs failed to converge (status=1):\n",
      "STOP: TOTAL NO. of ITERATIONS REACHED LIMIT.\n",
      "\n",
      "Increase the number of iterations (max_iter) or scale the data as shown in:\n",
      "    https://scikit-learn.org/stable/modules/preprocessing.html\n",
      "Please also refer to the documentation for alternative solver options:\n",
      "    https://scikit-learn.org/stable/modules/linear_model.html#logistic-regression\n",
      "  n_iter_i = _check_optimize_result(\n"
     ]
    },
    {
     "name": "stdout",
     "output_type": "stream",
     "text": [
      "[CV 4/4] END logisticregression__C=5, logisticregression__solver=lbfgs, selectkbest__k=25;, score=0.726 total time=   1.3s\n",
      "[CV 1/4] END logisticregression__C=5, logisticregression__solver=liblinear, selectkbest__k=5;, score=0.703 total time=   0.5s\n",
      "[CV 2/4] END logisticregression__C=5, logisticregression__solver=liblinear, selectkbest__k=5;, score=0.743 total time=   0.5s\n",
      "[CV 3/4] END logisticregression__C=5, logisticregression__solver=liblinear, selectkbest__k=5;, score=0.714 total time=   0.5s\n",
      "[CV 4/4] END logisticregression__C=5, logisticregression__solver=liblinear, selectkbest__k=5;, score=0.739 total time=   0.5s\n",
      "[CV 1/4] END logisticregression__C=5, logisticregression__solver=liblinear, selectkbest__k=15;, score=0.723 total time=   1.0s\n",
      "[CV 2/4] END logisticregression__C=5, logisticregression__solver=liblinear, selectkbest__k=15;, score=0.736 total time=   1.0s\n",
      "[CV 3/4] END logisticregression__C=5, logisticregression__solver=liblinear, selectkbest__k=15;, score=0.749 total time=   1.0s\n",
      "[CV 4/4] END logisticregression__C=5, logisticregression__solver=liblinear, selectkbest__k=15;, score=0.746 total time=   1.0s\n",
      "[CV 1/4] END logisticregression__C=5, logisticregression__solver=liblinear, selectkbest__k=25;, score=0.726 total time=   4.3s\n",
      "[CV 2/4] END logisticregression__C=5, logisticregression__solver=liblinear, selectkbest__k=25;, score=0.754 total time=   2.3s\n",
      "[CV 3/4] END logisticregression__C=5, logisticregression__solver=liblinear, selectkbest__k=25;, score=0.759 total time=   2.1s\n",
      "[CV 4/4] END logisticregression__C=5, logisticregression__solver=liblinear, selectkbest__k=25;, score=0.726 total time=   2.5s\n",
      "Fitting 4 folds for each of 18 candidates, totalling 72 fits\n",
      "[CV 1/4] END logisticregression__C=0.1, logisticregression__solver=lbfgs, selectkbest__k=5;, score=0.726 total time=   0.4s\n",
      "[CV 2/4] END logisticregression__C=0.1, logisticregression__solver=lbfgs, selectkbest__k=5;, score=0.687 total time=   0.4s\n",
      "[CV 3/4] END logisticregression__C=0.1, logisticregression__solver=lbfgs, selectkbest__k=5;, score=0.743 total time=   0.4s\n",
      "[CV 4/4] END logisticregression__C=0.1, logisticregression__solver=lbfgs, selectkbest__k=5;, score=0.734 total time=   0.4s\n",
      "[CV 1/4] END logisticregression__C=0.1, logisticregression__solver=lbfgs, selectkbest__k=15;, score=0.746 total time=   0.5s\n",
      "[CV 2/4] END logisticregression__C=0.1, logisticregression__solver=lbfgs, selectkbest__k=15;, score=0.683 total time=   0.5s\n",
      "[CV 3/4] END logisticregression__C=0.1, logisticregression__solver=lbfgs, selectkbest__k=15;, score=0.778 total time=   0.6s\n",
      "[CV 4/4] END logisticregression__C=0.1, logisticregression__solver=lbfgs, selectkbest__k=15;, score=0.764 total time=   0.6s\n",
      "[CV 1/4] END logisticregression__C=0.1, logisticregression__solver=lbfgs, selectkbest__k=25;, score=0.749 total time=   1.1s\n",
      "[CV 2/4] END logisticregression__C=0.1, logisticregression__solver=lbfgs, selectkbest__k=25;, score=0.687 total time=   1.0s\n",
      "[CV 3/4] END logisticregression__C=0.1, logisticregression__solver=lbfgs, selectkbest__k=25;, score=0.771 total time=   1.3s\n",
      "[CV 4/4] END logisticregression__C=0.1, logisticregression__solver=lbfgs, selectkbest__k=25;, score=0.782 total time=   1.1s\n",
      "[CV 1/4] END logisticregression__C=0.1, logisticregression__solver=liblinear, selectkbest__k=5;, score=0.738 total time=   0.5s\n",
      "[CV 2/4] END logisticregression__C=0.1, logisticregression__solver=liblinear, selectkbest__k=5;, score=0.687 total time=   0.5s\n",
      "[CV 3/4] END logisticregression__C=0.1, logisticregression__solver=liblinear, selectkbest__k=5;, score=0.736 total time=   0.5s\n",
      "[CV 4/4] END logisticregression__C=0.1, logisticregression__solver=liblinear, selectkbest__k=5;, score=0.736 total time=   0.4s\n",
      "[CV 1/4] END logisticregression__C=0.1, logisticregression__solver=liblinear, selectkbest__k=15;, score=0.750 total time=   0.9s\n",
      "[CV 2/4] END logisticregression__C=0.1, logisticregression__solver=liblinear, selectkbest__k=15;, score=0.704 total time=   0.8s\n",
      "[CV 3/4] END logisticregression__C=0.1, logisticregression__solver=liblinear, selectkbest__k=15;, score=0.778 total time=   0.9s\n",
      "[CV 4/4] END logisticregression__C=0.1, logisticregression__solver=liblinear, selectkbest__k=15;, score=0.771 total time=   0.9s\n",
      "[CV 1/4] END logisticregression__C=0.1, logisticregression__solver=liblinear, selectkbest__k=25;, score=0.746 total time=   2.0s\n",
      "[CV 2/4] END logisticregression__C=0.1, logisticregression__solver=liblinear, selectkbest__k=25;, score=0.700 total time=   1.6s\n",
      "[CV 3/4] END logisticregression__C=0.1, logisticregression__solver=liblinear, selectkbest__k=25;, score=0.771 total time=   2.2s\n",
      "[CV 4/4] END logisticregression__C=0.1, logisticregression__solver=liblinear, selectkbest__k=25;, score=0.771 total time=   2.1s\n",
      "[CV 1/4] END logisticregression__C=1, logisticregression__solver=lbfgs, selectkbest__k=5;, score=0.718 total time=   0.5s\n",
      "[CV 2/4] END logisticregression__C=1, logisticregression__solver=lbfgs, selectkbest__k=5;, score=0.687 total time=   0.4s\n",
      "[CV 3/4] END logisticregression__C=1, logisticregression__solver=lbfgs, selectkbest__k=5;, score=0.739 total time=   0.4s\n",
      "[CV 4/4] END logisticregression__C=1, logisticregression__solver=lbfgs, selectkbest__k=5;, score=0.723 total time=   0.5s\n",
      "[CV 1/4] END logisticregression__C=1, logisticregression__solver=lbfgs, selectkbest__k=15;, score=0.757 total time=   0.7s\n",
      "[CV 2/4] END logisticregression__C=1, logisticregression__solver=lbfgs, selectkbest__k=15;, score=0.679 total time=   0.6s\n",
      "[CV 3/4] END logisticregression__C=1, logisticregression__solver=lbfgs, selectkbest__k=15;, score=0.787 total time=   0.6s\n",
      "[CV 4/4] END logisticregression__C=1, logisticregression__solver=lbfgs, selectkbest__k=15;, score=0.771 total time=   0.6s\n"
     ]
    },
    {
     "name": "stderr",
     "output_type": "stream",
     "text": [
      "c:\\Users\\cleme\\Desktop\\personal-projects\\ml-personal-train\\venv\\lib\\site-packages\\sklearn\\linear_model\\_logistic.py:458: ConvergenceWarning: lbfgs failed to converge (status=1):\n",
      "STOP: TOTAL NO. of ITERATIONS REACHED LIMIT.\n",
      "\n",
      "Increase the number of iterations (max_iter) or scale the data as shown in:\n",
      "    https://scikit-learn.org/stable/modules/preprocessing.html\n",
      "Please also refer to the documentation for alternative solver options:\n",
      "    https://scikit-learn.org/stable/modules/linear_model.html#logistic-regression\n",
      "  n_iter_i = _check_optimize_result(\n"
     ]
    },
    {
     "name": "stdout",
     "output_type": "stream",
     "text": [
      "[CV 1/4] END logisticregression__C=1, logisticregression__solver=lbfgs, selectkbest__k=25;, score=0.763 total time=   1.2s\n"
     ]
    },
    {
     "name": "stderr",
     "output_type": "stream",
     "text": [
      "c:\\Users\\cleme\\Desktop\\personal-projects\\ml-personal-train\\venv\\lib\\site-packages\\sklearn\\linear_model\\_logistic.py:458: ConvergenceWarning: lbfgs failed to converge (status=1):\n",
      "STOP: TOTAL NO. of ITERATIONS REACHED LIMIT.\n",
      "\n",
      "Increase the number of iterations (max_iter) or scale the data as shown in:\n",
      "    https://scikit-learn.org/stable/modules/preprocessing.html\n",
      "Please also refer to the documentation for alternative solver options:\n",
      "    https://scikit-learn.org/stable/modules/linear_model.html#logistic-regression\n",
      "  n_iter_i = _check_optimize_result(\n"
     ]
    },
    {
     "name": "stdout",
     "output_type": "stream",
     "text": [
      "[CV 2/4] END logisticregression__C=1, logisticregression__solver=lbfgs, selectkbest__k=25;, score=0.675 total time=   1.3s\n"
     ]
    },
    {
     "name": "stderr",
     "output_type": "stream",
     "text": [
      "c:\\Users\\cleme\\Desktop\\personal-projects\\ml-personal-train\\venv\\lib\\site-packages\\sklearn\\linear_model\\_logistic.py:458: ConvergenceWarning: lbfgs failed to converge (status=1):\n",
      "STOP: TOTAL NO. of ITERATIONS REACHED LIMIT.\n",
      "\n",
      "Increase the number of iterations (max_iter) or scale the data as shown in:\n",
      "    https://scikit-learn.org/stable/modules/preprocessing.html\n",
      "Please also refer to the documentation for alternative solver options:\n",
      "    https://scikit-learn.org/stable/modules/linear_model.html#logistic-regression\n",
      "  n_iter_i = _check_optimize_result(\n"
     ]
    },
    {
     "name": "stdout",
     "output_type": "stream",
     "text": [
      "[CV 3/4] END logisticregression__C=1, logisticregression__solver=lbfgs, selectkbest__k=25;, score=0.778 total time=   1.5s\n"
     ]
    },
    {
     "name": "stderr",
     "output_type": "stream",
     "text": [
      "c:\\Users\\cleme\\Desktop\\personal-projects\\ml-personal-train\\venv\\lib\\site-packages\\sklearn\\linear_model\\_logistic.py:458: ConvergenceWarning: lbfgs failed to converge (status=1):\n",
      "STOP: TOTAL NO. of ITERATIONS REACHED LIMIT.\n",
      "\n",
      "Increase the number of iterations (max_iter) or scale the data as shown in:\n",
      "    https://scikit-learn.org/stable/modules/preprocessing.html\n",
      "Please also refer to the documentation for alternative solver options:\n",
      "    https://scikit-learn.org/stable/modules/linear_model.html#logistic-regression\n",
      "  n_iter_i = _check_optimize_result(\n"
     ]
    },
    {
     "name": "stdout",
     "output_type": "stream",
     "text": [
      "[CV 4/4] END logisticregression__C=1, logisticregression__solver=lbfgs, selectkbest__k=25;, score=0.782 total time=   1.2s\n",
      "[CV 1/4] END logisticregression__C=1, logisticregression__solver=liblinear, selectkbest__k=5;, score=0.726 total time=   0.5s\n",
      "[CV 2/4] END logisticregression__C=1, logisticregression__solver=liblinear, selectkbest__k=5;, score=0.687 total time=   0.6s\n",
      "[CV 3/4] END logisticregression__C=1, logisticregression__solver=liblinear, selectkbest__k=5;, score=0.743 total time=   0.6s\n",
      "[CV 4/4] END logisticregression__C=1, logisticregression__solver=liblinear, selectkbest__k=5;, score=0.734 total time=   0.5s\n",
      "[CV 1/4] END logisticregression__C=1, logisticregression__solver=liblinear, selectkbest__k=15;, score=0.757 total time=   1.1s\n",
      "[CV 2/4] END logisticregression__C=1, logisticregression__solver=liblinear, selectkbest__k=15;, score=0.683 total time=   1.0s\n",
      "[CV 3/4] END logisticregression__C=1, logisticregression__solver=liblinear, selectkbest__k=15;, score=0.796 total time=   1.0s\n",
      "[CV 4/4] END logisticregression__C=1, logisticregression__solver=liblinear, selectkbest__k=15;, score=0.771 total time=   1.3s\n",
      "[CV 1/4] END logisticregression__C=1, logisticregression__solver=liblinear, selectkbest__k=25;, score=0.756 total time=   2.3s\n",
      "[CV 2/4] END logisticregression__C=1, logisticregression__solver=liblinear, selectkbest__k=25;, score=0.675 total time=   2.1s\n",
      "[CV 3/4] END logisticregression__C=1, logisticregression__solver=liblinear, selectkbest__k=25;, score=0.773 total time=   2.9s\n",
      "[CV 4/4] END logisticregression__C=1, logisticregression__solver=liblinear, selectkbest__k=25;, score=0.782 total time=   2.2s\n",
      "[CV 1/4] END logisticregression__C=5, logisticregression__solver=lbfgs, selectkbest__k=5;, score=0.718 total time=   0.4s\n",
      "[CV 2/4] END logisticregression__C=5, logisticregression__solver=lbfgs, selectkbest__k=5;, score=0.687 total time=   0.3s\n",
      "[CV 3/4] END logisticregression__C=5, logisticregression__solver=lbfgs, selectkbest__k=5;, score=0.739 total time=   0.4s\n",
      "[CV 4/4] END logisticregression__C=5, logisticregression__solver=lbfgs, selectkbest__k=5;, score=0.723 total time=   0.4s\n",
      "[CV 1/4] END logisticregression__C=5, logisticregression__solver=lbfgs, selectkbest__k=15;, score=0.757 total time=   0.5s\n",
      "[CV 2/4] END logisticregression__C=5, logisticregression__solver=lbfgs, selectkbest__k=15;, score=0.679 total time=   0.6s\n",
      "[CV 3/4] END logisticregression__C=5, logisticregression__solver=lbfgs, selectkbest__k=15;, score=0.787 total time=   0.6s\n",
      "[CV 4/4] END logisticregression__C=5, logisticregression__solver=lbfgs, selectkbest__k=15;, score=0.771 total time=   0.6s\n"
     ]
    },
    {
     "name": "stderr",
     "output_type": "stream",
     "text": [
      "c:\\Users\\cleme\\Desktop\\personal-projects\\ml-personal-train\\venv\\lib\\site-packages\\sklearn\\linear_model\\_logistic.py:458: ConvergenceWarning: lbfgs failed to converge (status=1):\n",
      "STOP: TOTAL NO. of ITERATIONS REACHED LIMIT.\n",
      "\n",
      "Increase the number of iterations (max_iter) or scale the data as shown in:\n",
      "    https://scikit-learn.org/stable/modules/preprocessing.html\n",
      "Please also refer to the documentation for alternative solver options:\n",
      "    https://scikit-learn.org/stable/modules/linear_model.html#logistic-regression\n",
      "  n_iter_i = _check_optimize_result(\n"
     ]
    },
    {
     "name": "stdout",
     "output_type": "stream",
     "text": [
      "[CV 1/4] END logisticregression__C=5, logisticregression__solver=lbfgs, selectkbest__k=25;, score=0.763 total time=   1.2s\n"
     ]
    },
    {
     "name": "stderr",
     "output_type": "stream",
     "text": [
      "c:\\Users\\cleme\\Desktop\\personal-projects\\ml-personal-train\\venv\\lib\\site-packages\\sklearn\\linear_model\\_logistic.py:458: ConvergenceWarning: lbfgs failed to converge (status=1):\n",
      "STOP: TOTAL NO. of ITERATIONS REACHED LIMIT.\n",
      "\n",
      "Increase the number of iterations (max_iter) or scale the data as shown in:\n",
      "    https://scikit-learn.org/stable/modules/preprocessing.html\n",
      "Please also refer to the documentation for alternative solver options:\n",
      "    https://scikit-learn.org/stable/modules/linear_model.html#logistic-regression\n",
      "  n_iter_i = _check_optimize_result(\n"
     ]
    },
    {
     "name": "stdout",
     "output_type": "stream",
     "text": [
      "[CV 2/4] END logisticregression__C=5, logisticregression__solver=lbfgs, selectkbest__k=25;, score=0.675 total time=   1.2s\n"
     ]
    },
    {
     "name": "stderr",
     "output_type": "stream",
     "text": [
      "c:\\Users\\cleme\\Desktop\\personal-projects\\ml-personal-train\\venv\\lib\\site-packages\\sklearn\\linear_model\\_logistic.py:458: ConvergenceWarning: lbfgs failed to converge (status=1):\n",
      "STOP: TOTAL NO. of ITERATIONS REACHED LIMIT.\n",
      "\n",
      "Increase the number of iterations (max_iter) or scale the data as shown in:\n",
      "    https://scikit-learn.org/stable/modules/preprocessing.html\n",
      "Please also refer to the documentation for alternative solver options:\n",
      "    https://scikit-learn.org/stable/modules/linear_model.html#logistic-regression\n",
      "  n_iter_i = _check_optimize_result(\n"
     ]
    },
    {
     "name": "stdout",
     "output_type": "stream",
     "text": [
      "[CV 3/4] END logisticregression__C=5, logisticregression__solver=lbfgs, selectkbest__k=25;, score=0.773 total time=   1.2s\n"
     ]
    },
    {
     "name": "stderr",
     "output_type": "stream",
     "text": [
      "c:\\Users\\cleme\\Desktop\\personal-projects\\ml-personal-train\\venv\\lib\\site-packages\\sklearn\\linear_model\\_logistic.py:458: ConvergenceWarning: lbfgs failed to converge (status=1):\n",
      "STOP: TOTAL NO. of ITERATIONS REACHED LIMIT.\n",
      "\n",
      "Increase the number of iterations (max_iter) or scale the data as shown in:\n",
      "    https://scikit-learn.org/stable/modules/preprocessing.html\n",
      "Please also refer to the documentation for alternative solver options:\n",
      "    https://scikit-learn.org/stable/modules/linear_model.html#logistic-regression\n",
      "  n_iter_i = _check_optimize_result(\n"
     ]
    },
    {
     "name": "stdout",
     "output_type": "stream",
     "text": [
      "[CV 4/4] END logisticregression__C=5, logisticregression__solver=lbfgs, selectkbest__k=25;, score=0.782 total time=   1.3s\n",
      "[CV 1/4] END logisticregression__C=5, logisticregression__solver=liblinear, selectkbest__k=5;, score=0.718 total time=   0.5s\n",
      "[CV 2/4] END logisticregression__C=5, logisticregression__solver=liblinear, selectkbest__k=5;, score=0.687 total time=   0.5s\n",
      "[CV 3/4] END logisticregression__C=5, logisticregression__solver=liblinear, selectkbest__k=5;, score=0.739 total time=   0.5s\n",
      "[CV 4/4] END logisticregression__C=5, logisticregression__solver=liblinear, selectkbest__k=5;, score=0.723 total time=   0.5s\n",
      "[CV 1/4] END logisticregression__C=5, logisticregression__solver=liblinear, selectkbest__k=15;, score=0.757 total time=   0.9s\n",
      "[CV 2/4] END logisticregression__C=5, logisticregression__solver=liblinear, selectkbest__k=15;, score=0.679 total time=   1.0s\n",
      "[CV 3/4] END logisticregression__C=5, logisticregression__solver=liblinear, selectkbest__k=15;, score=0.791 total time=   0.9s\n",
      "[CV 4/4] END logisticregression__C=5, logisticregression__solver=liblinear, selectkbest__k=15;, score=0.771 total time=   0.9s\n",
      "[CV 1/4] END logisticregression__C=5, logisticregression__solver=liblinear, selectkbest__k=25;, score=0.763 total time=   2.2s\n",
      "[CV 2/4] END logisticregression__C=5, logisticregression__solver=liblinear, selectkbest__k=25;, score=0.675 total time=   2.1s\n",
      "[CV 3/4] END logisticregression__C=5, logisticregression__solver=liblinear, selectkbest__k=25;, score=0.773 total time=   2.6s\n",
      "[CV 4/4] END logisticregression__C=5, logisticregression__solver=liblinear, selectkbest__k=25;, score=0.782 total time=   2.4s\n",
      "Fitting 4 folds for each of 18 candidates, totalling 72 fits\n",
      "[CV 1/4] END logisticregression__C=0.1, logisticregression__solver=lbfgs, selectkbest__k=5;, score=0.605 total time=   0.4s\n",
      "[CV 2/4] END logisticregression__C=0.1, logisticregression__solver=lbfgs, selectkbest__k=5;, score=0.751 total time=   0.4s\n",
      "[CV 3/4] END logisticregression__C=0.1, logisticregression__solver=lbfgs, selectkbest__k=5;, score=0.720 total time=   0.5s\n",
      "[CV 4/4] END logisticregression__C=0.1, logisticregression__solver=lbfgs, selectkbest__k=5;, score=0.707 total time=   0.5s\n",
      "[CV 1/4] END logisticregression__C=0.1, logisticregression__solver=lbfgs, selectkbest__k=15;, score=0.622 total time=   0.7s\n",
      "[CV 2/4] END logisticregression__C=0.1, logisticregression__solver=lbfgs, selectkbest__k=15;, score=0.787 total time=   0.8s\n",
      "[CV 3/4] END logisticregression__C=0.1, logisticregression__solver=lbfgs, selectkbest__k=15;, score=0.744 total time=   0.6s\n",
      "[CV 4/4] END logisticregression__C=0.1, logisticregression__solver=lbfgs, selectkbest__k=15;, score=0.707 total time=   0.7s\n",
      "[CV 1/4] END logisticregression__C=0.1, logisticregression__solver=lbfgs, selectkbest__k=25;, score=0.627 total time=   1.1s\n",
      "[CV 2/4] END logisticregression__C=0.1, logisticregression__solver=lbfgs, selectkbest__k=25;, score=0.766 total time=   1.1s\n",
      "[CV 3/4] END logisticregression__C=0.1, logisticregression__solver=lbfgs, selectkbest__k=25;, score=0.763 total time=   1.1s\n",
      "[CV 4/4] END logisticregression__C=0.1, logisticregression__solver=lbfgs, selectkbest__k=25;, score=0.683 total time=   1.2s\n",
      "[CV 1/4] END logisticregression__C=0.1, logisticregression__solver=liblinear, selectkbest__k=5;, score=0.596 total time=   0.5s\n",
      "[CV 2/4] END logisticregression__C=0.1, logisticregression__solver=liblinear, selectkbest__k=5;, score=0.759 total time=   0.5s\n",
      "[CV 3/4] END logisticregression__C=0.1, logisticregression__solver=liblinear, selectkbest__k=5;, score=0.727 total time=   0.6s\n",
      "[CV 4/4] END logisticregression__C=0.1, logisticregression__solver=liblinear, selectkbest__k=5;, score=0.683 total time=   0.5s\n",
      "[CV 1/4] END logisticregression__C=0.1, logisticregression__solver=liblinear, selectkbest__k=15;, score=0.626 total time=   1.1s\n",
      "[CV 2/4] END logisticregression__C=0.1, logisticregression__solver=liblinear, selectkbest__k=15;, score=0.798 total time=   1.1s\n",
      "[CV 3/4] END logisticregression__C=0.1, logisticregression__solver=liblinear, selectkbest__k=15;, score=0.750 total time=   0.9s\n",
      "[CV 4/4] END logisticregression__C=0.1, logisticregression__solver=liblinear, selectkbest__k=15;, score=0.683 total time=   0.8s\n",
      "[CV 1/4] END logisticregression__C=0.1, logisticregression__solver=liblinear, selectkbest__k=25;, score=0.614 total time=   1.9s\n",
      "[CV 2/4] END logisticregression__C=0.1, logisticregression__solver=liblinear, selectkbest__k=25;, score=0.770 total time=   1.8s\n",
      "[CV 3/4] END logisticregression__C=0.1, logisticregression__solver=liblinear, selectkbest__k=25;, score=0.754 total time=   1.8s\n",
      "[CV 4/4] END logisticregression__C=0.1, logisticregression__solver=liblinear, selectkbest__k=25;, score=0.691 total time=   1.9s\n",
      "[CV 1/4] END logisticregression__C=1, logisticregression__solver=lbfgs, selectkbest__k=5;, score=0.613 total time=   0.4s\n",
      "[CV 2/4] END logisticregression__C=1, logisticregression__solver=lbfgs, selectkbest__k=5;, score=0.751 total time=   0.4s\n",
      "[CV 3/4] END logisticregression__C=1, logisticregression__solver=lbfgs, selectkbest__k=5;, score=0.727 total time=   0.4s\n",
      "[CV 4/4] END logisticregression__C=1, logisticregression__solver=lbfgs, selectkbest__k=5;, score=0.707 total time=   0.3s\n",
      "[CV 1/4] END logisticregression__C=1, logisticregression__solver=lbfgs, selectkbest__k=15;, score=0.626 total time=   0.6s\n",
      "[CV 2/4] END logisticregression__C=1, logisticregression__solver=lbfgs, selectkbest__k=15;, score=0.787 total time=   0.6s\n",
      "[CV 3/4] END logisticregression__C=1, logisticregression__solver=lbfgs, selectkbest__k=15;, score=0.751 total time=   0.7s\n",
      "[CV 4/4] END logisticregression__C=1, logisticregression__solver=lbfgs, selectkbest__k=15;, score=0.711 total time=   0.7s\n",
      "[CV 1/4] END logisticregression__C=1, logisticregression__solver=lbfgs, selectkbest__k=25;, score=0.635 total time=   1.1s\n",
      "[CV 2/4] END logisticregression__C=1, logisticregression__solver=lbfgs, selectkbest__k=25;, score=0.761 total time=   1.1s\n"
     ]
    },
    {
     "name": "stderr",
     "output_type": "stream",
     "text": [
      "c:\\Users\\cleme\\Desktop\\personal-projects\\ml-personal-train\\venv\\lib\\site-packages\\sklearn\\linear_model\\_logistic.py:458: ConvergenceWarning: lbfgs failed to converge (status=1):\n",
      "STOP: TOTAL NO. of ITERATIONS REACHED LIMIT.\n",
      "\n",
      "Increase the number of iterations (max_iter) or scale the data as shown in:\n",
      "    https://scikit-learn.org/stable/modules/preprocessing.html\n",
      "Please also refer to the documentation for alternative solver options:\n",
      "    https://scikit-learn.org/stable/modules/linear_model.html#logistic-regression\n",
      "  n_iter_i = _check_optimize_result(\n"
     ]
    },
    {
     "name": "stdout",
     "output_type": "stream",
     "text": [
      "[CV 3/4] END logisticregression__C=1, logisticregression__solver=lbfgs, selectkbest__k=25;, score=0.756 total time=   1.2s\n"
     ]
    },
    {
     "name": "stderr",
     "output_type": "stream",
     "text": [
      "c:\\Users\\cleme\\Desktop\\personal-projects\\ml-personal-train\\venv\\lib\\site-packages\\sklearn\\linear_model\\_logistic.py:458: ConvergenceWarning: lbfgs failed to converge (status=1):\n",
      "STOP: TOTAL NO. of ITERATIONS REACHED LIMIT.\n",
      "\n",
      "Increase the number of iterations (max_iter) or scale the data as shown in:\n",
      "    https://scikit-learn.org/stable/modules/preprocessing.html\n",
      "Please also refer to the documentation for alternative solver options:\n",
      "    https://scikit-learn.org/stable/modules/linear_model.html#logistic-regression\n",
      "  n_iter_i = _check_optimize_result(\n"
     ]
    },
    {
     "name": "stdout",
     "output_type": "stream",
     "text": [
      "[CV 4/4] END logisticregression__C=1, logisticregression__solver=lbfgs, selectkbest__k=25;, score=0.699 total time=   1.3s\n",
      "[CV 1/4] END logisticregression__C=1, logisticregression__solver=liblinear, selectkbest__k=5;, score=0.613 total time=   0.5s\n",
      "[CV 2/4] END logisticregression__C=1, logisticregression__solver=liblinear, selectkbest__k=5;, score=0.751 total time=   0.4s\n",
      "[CV 3/4] END logisticregression__C=1, logisticregression__solver=liblinear, selectkbest__k=5;, score=0.727 total time=   0.4s\n",
      "[CV 4/4] END logisticregression__C=1, logisticregression__solver=liblinear, selectkbest__k=5;, score=0.707 total time=   0.4s\n",
      "[CV 1/4] END logisticregression__C=1, logisticregression__solver=liblinear, selectkbest__k=15;, score=0.626 total time=   0.9s\n",
      "[CV 2/4] END logisticregression__C=1, logisticregression__solver=liblinear, selectkbest__k=15;, score=0.787 total time=   1.0s\n",
      "[CV 3/4] END logisticregression__C=1, logisticregression__solver=liblinear, selectkbest__k=15;, score=0.744 total time=   1.0s\n",
      "[CV 4/4] END logisticregression__C=1, logisticregression__solver=liblinear, selectkbest__k=15;, score=0.707 total time=   0.9s\n",
      "[CV 1/4] END logisticregression__C=1, logisticregression__solver=liblinear, selectkbest__k=25;, score=0.627 total time=   2.1s\n",
      "[CV 2/4] END logisticregression__C=1, logisticregression__solver=liblinear, selectkbest__k=25;, score=0.761 total time=   2.0s\n",
      "[CV 3/4] END logisticregression__C=1, logisticregression__solver=liblinear, selectkbest__k=25;, score=0.756 total time=   2.2s\n",
      "[CV 4/4] END logisticregression__C=1, logisticregression__solver=liblinear, selectkbest__k=25;, score=0.691 total time=   2.2s\n",
      "[CV 1/4] END logisticregression__C=5, logisticregression__solver=lbfgs, selectkbest__k=5;, score=0.613 total time=   0.4s\n",
      "[CV 2/4] END logisticregression__C=5, logisticregression__solver=lbfgs, selectkbest__k=5;, score=0.751 total time=   0.4s\n",
      "[CV 3/4] END logisticregression__C=5, logisticregression__solver=lbfgs, selectkbest__k=5;, score=0.727 total time=   0.4s\n",
      "[CV 4/4] END logisticregression__C=5, logisticregression__solver=lbfgs, selectkbest__k=5;, score=0.707 total time=   0.3s\n",
      "[CV 1/4] END logisticregression__C=5, logisticregression__solver=lbfgs, selectkbest__k=15;, score=0.634 total time=   0.6s\n",
      "[CV 2/4] END logisticregression__C=5, logisticregression__solver=lbfgs, selectkbest__k=15;, score=0.787 total time=   0.6s\n",
      "[CV 3/4] END logisticregression__C=5, logisticregression__solver=lbfgs, selectkbest__k=15;, score=0.759 total time=   0.6s\n",
      "[CV 4/4] END logisticregression__C=5, logisticregression__solver=lbfgs, selectkbest__k=15;, score=0.711 total time=   0.7s\n"
     ]
    },
    {
     "name": "stderr",
     "output_type": "stream",
     "text": [
      "c:\\Users\\cleme\\Desktop\\personal-projects\\ml-personal-train\\venv\\lib\\site-packages\\sklearn\\linear_model\\_logistic.py:458: ConvergenceWarning: lbfgs failed to converge (status=1):\n",
      "STOP: TOTAL NO. of ITERATIONS REACHED LIMIT.\n",
      "\n",
      "Increase the number of iterations (max_iter) or scale the data as shown in:\n",
      "    https://scikit-learn.org/stable/modules/preprocessing.html\n",
      "Please also refer to the documentation for alternative solver options:\n",
      "    https://scikit-learn.org/stable/modules/linear_model.html#logistic-regression\n",
      "  n_iter_i = _check_optimize_result(\n"
     ]
    },
    {
     "name": "stdout",
     "output_type": "stream",
     "text": [
      "[CV 1/4] END logisticregression__C=5, logisticregression__solver=lbfgs, selectkbest__k=25;, score=0.635 total time=   1.1s\n"
     ]
    },
    {
     "name": "stderr",
     "output_type": "stream",
     "text": [
      "c:\\Users\\cleme\\Desktop\\personal-projects\\ml-personal-train\\venv\\lib\\site-packages\\sklearn\\linear_model\\_logistic.py:458: ConvergenceWarning: lbfgs failed to converge (status=1):\n",
      "STOP: TOTAL NO. of ITERATIONS REACHED LIMIT.\n",
      "\n",
      "Increase the number of iterations (max_iter) or scale the data as shown in:\n",
      "    https://scikit-learn.org/stable/modules/preprocessing.html\n",
      "Please also refer to the documentation for alternative solver options:\n",
      "    https://scikit-learn.org/stable/modules/linear_model.html#logistic-regression\n",
      "  n_iter_i = _check_optimize_result(\n"
     ]
    },
    {
     "name": "stdout",
     "output_type": "stream",
     "text": [
      "[CV 2/4] END logisticregression__C=5, logisticregression__solver=lbfgs, selectkbest__k=25;, score=0.768 total time=   1.2s\n",
      "[CV 3/4] END logisticregression__C=5, logisticregression__solver=lbfgs, selectkbest__k=25;, score=0.756 total time=   1.2s\n"
     ]
    },
    {
     "name": "stderr",
     "output_type": "stream",
     "text": [
      "c:\\Users\\cleme\\Desktop\\personal-projects\\ml-personal-train\\venv\\lib\\site-packages\\sklearn\\linear_model\\_logistic.py:458: ConvergenceWarning: lbfgs failed to converge (status=1):\n",
      "STOP: TOTAL NO. of ITERATIONS REACHED LIMIT.\n",
      "\n",
      "Increase the number of iterations (max_iter) or scale the data as shown in:\n",
      "    https://scikit-learn.org/stable/modules/preprocessing.html\n",
      "Please also refer to the documentation for alternative solver options:\n",
      "    https://scikit-learn.org/stable/modules/linear_model.html#logistic-regression\n",
      "  n_iter_i = _check_optimize_result(\n"
     ]
    },
    {
     "name": "stdout",
     "output_type": "stream",
     "text": [
      "[CV 4/4] END logisticregression__C=5, logisticregression__solver=lbfgs, selectkbest__k=25;, score=0.699 total time=   1.3s\n",
      "[CV 1/4] END logisticregression__C=5, logisticregression__solver=liblinear, selectkbest__k=5;, score=0.613 total time=   0.5s\n",
      "[CV 2/4] END logisticregression__C=5, logisticregression__solver=liblinear, selectkbest__k=5;, score=0.751 total time=   0.5s\n",
      "[CV 3/4] END logisticregression__C=5, logisticregression__solver=liblinear, selectkbest__k=5;, score=0.727 total time=   0.4s\n",
      "[CV 4/4] END logisticregression__C=5, logisticregression__solver=liblinear, selectkbest__k=5;, score=0.707 total time=   0.4s\n",
      "[CV 1/4] END logisticregression__C=5, logisticregression__solver=liblinear, selectkbest__k=15;, score=0.634 total time=   0.9s\n",
      "[CV 2/4] END logisticregression__C=5, logisticregression__solver=liblinear, selectkbest__k=15;, score=0.787 total time=   1.0s\n",
      "[CV 3/4] END logisticregression__C=5, logisticregression__solver=liblinear, selectkbest__k=15;, score=0.744 total time=   1.0s\n",
      "[CV 4/4] END logisticregression__C=5, logisticregression__solver=liblinear, selectkbest__k=15;, score=0.711 total time=   1.0s\n",
      "[CV 1/4] END logisticregression__C=5, logisticregression__solver=liblinear, selectkbest__k=25;, score=0.635 total time=   2.1s\n",
      "[CV 2/4] END logisticregression__C=5, logisticregression__solver=liblinear, selectkbest__k=25;, score=0.768 total time=   2.2s\n",
      "[CV 3/4] END logisticregression__C=5, logisticregression__solver=liblinear, selectkbest__k=25;, score=0.756 total time=   2.1s\n",
      "[CV 4/4] END logisticregression__C=5, logisticregression__solver=liblinear, selectkbest__k=25;, score=0.699 total time=   2.1s\n",
      "Fitting 4 folds for each of 18 candidates, totalling 72 fits\n",
      "[CV 1/4] END logisticregression__C=0.1, logisticregression__solver=lbfgs, selectkbest__k=5;, score=0.698 total time=   0.3s\n",
      "[CV 2/4] END logisticregression__C=0.1, logisticregression__solver=lbfgs, selectkbest__k=5;, score=0.732 total time=   0.4s\n",
      "[CV 3/4] END logisticregression__C=0.1, logisticregression__solver=lbfgs, selectkbest__k=5;, score=0.630 total time=   0.4s\n",
      "[CV 4/4] END logisticregression__C=0.1, logisticregression__solver=lbfgs, selectkbest__k=5;, score=0.693 total time=   0.4s\n",
      "[CV 1/4] END logisticregression__C=0.1, logisticregression__solver=lbfgs, selectkbest__k=15;, score=0.740 total time=   0.6s\n",
      "[CV 2/4] END logisticregression__C=0.1, logisticregression__solver=lbfgs, selectkbest__k=15;, score=0.720 total time=   0.5s\n",
      "[CV 3/4] END logisticregression__C=0.1, logisticregression__solver=lbfgs, selectkbest__k=15;, score=0.626 total time=   0.6s\n",
      "[CV 4/4] END logisticregression__C=0.1, logisticregression__solver=lbfgs, selectkbest__k=15;, score=0.667 total time=   0.6s\n",
      "[CV 1/4] END logisticregression__C=0.1, logisticregression__solver=lbfgs, selectkbest__k=25;, score=0.754 total time=   1.0s\n",
      "[CV 2/4] END logisticregression__C=0.1, logisticregression__solver=lbfgs, selectkbest__k=25;, score=0.741 total time=   1.0s\n",
      "[CV 3/4] END logisticregression__C=0.1, logisticregression__solver=lbfgs, selectkbest__k=25;, score=0.622 total time=   1.2s\n",
      "[CV 4/4] END logisticregression__C=0.1, logisticregression__solver=lbfgs, selectkbest__k=25;, score=0.680 total time=   1.1s\n",
      "[CV 1/4] END logisticregression__C=0.1, logisticregression__solver=liblinear, selectkbest__k=5;, score=0.706 total time=   0.4s\n",
      "[CV 2/4] END logisticregression__C=0.1, logisticregression__solver=liblinear, selectkbest__k=5;, score=0.716 total time=   0.5s\n",
      "[CV 3/4] END logisticregression__C=0.1, logisticregression__solver=liblinear, selectkbest__k=5;, score=0.621 total time=   0.5s\n",
      "[CV 4/4] END logisticregression__C=0.1, logisticregression__solver=liblinear, selectkbest__k=5;, score=0.684 total time=   0.5s\n",
      "[CV 1/4] END logisticregression__C=0.1, logisticregression__solver=liblinear, selectkbest__k=15;, score=0.740 total time=   0.8s\n",
      "[CV 2/4] END logisticregression__C=0.1, logisticregression__solver=liblinear, selectkbest__k=15;, score=0.724 total time=   0.8s\n",
      "[CV 3/4] END logisticregression__C=0.1, logisticregression__solver=liblinear, selectkbest__k=15;, score=0.630 total time=   0.8s\n",
      "[CV 4/4] END logisticregression__C=0.1, logisticregression__solver=liblinear, selectkbest__k=15;, score=0.667 total time=   0.8s\n",
      "[CV 1/4] END logisticregression__C=0.1, logisticregression__solver=liblinear, selectkbest__k=25;, score=0.747 total time=   1.9s\n",
      "[CV 2/4] END logisticregression__C=0.1, logisticregression__solver=liblinear, selectkbest__k=25;, score=0.748 total time=   1.8s\n",
      "[CV 3/4] END logisticregression__C=0.1, logisticregression__solver=liblinear, selectkbest__k=25;, score=0.621 total time=   1.9s\n",
      "[CV 4/4] END logisticregression__C=0.1, logisticregression__solver=liblinear, selectkbest__k=25;, score=0.667 total time=   1.9s\n",
      "[CV 1/4] END logisticregression__C=1, logisticregression__solver=lbfgs, selectkbest__k=5;, score=0.698 total time=   0.4s\n",
      "[CV 2/4] END logisticregression__C=1, logisticregression__solver=lbfgs, selectkbest__k=5;, score=0.736 total time=   0.4s\n",
      "[CV 3/4] END logisticregression__C=1, logisticregression__solver=lbfgs, selectkbest__k=5;, score=0.630 total time=   0.4s\n",
      "[CV 4/4] END logisticregression__C=1, logisticregression__solver=lbfgs, selectkbest__k=5;, score=0.693 total time=   0.4s\n",
      "[CV 1/4] END logisticregression__C=1, logisticregression__solver=lbfgs, selectkbest__k=15;, score=0.740 total time=   0.7s\n",
      "[CV 2/4] END logisticregression__C=1, logisticregression__solver=lbfgs, selectkbest__k=15;, score=0.715 total time=   0.5s\n",
      "[CV 3/4] END logisticregression__C=1, logisticregression__solver=lbfgs, selectkbest__k=15;, score=0.644 total time=   0.6s\n",
      "[CV 4/4] END logisticregression__C=1, logisticregression__solver=lbfgs, selectkbest__k=15;, score=0.671 total time=   0.6s\n",
      "[CV 1/4] END logisticregression__C=1, logisticregression__solver=lbfgs, selectkbest__k=25;, score=0.747 total time=   1.4s\n",
      "[CV 2/4] END logisticregression__C=1, logisticregression__solver=lbfgs, selectkbest__k=25;, score=0.741 total time=   1.3s\n"
     ]
    },
    {
     "name": "stderr",
     "output_type": "stream",
     "text": [
      "c:\\Users\\cleme\\Desktop\\personal-projects\\ml-personal-train\\venv\\lib\\site-packages\\sklearn\\linear_model\\_logistic.py:458: ConvergenceWarning: lbfgs failed to converge (status=1):\n",
      "STOP: TOTAL NO. of ITERATIONS REACHED LIMIT.\n",
      "\n",
      "Increase the number of iterations (max_iter) or scale the data as shown in:\n",
      "    https://scikit-learn.org/stable/modules/preprocessing.html\n",
      "Please also refer to the documentation for alternative solver options:\n",
      "    https://scikit-learn.org/stable/modules/linear_model.html#logistic-regression\n",
      "  n_iter_i = _check_optimize_result(\n"
     ]
    },
    {
     "name": "stdout",
     "output_type": "stream",
     "text": [
      "[CV 3/4] END logisticregression__C=1, logisticregression__solver=lbfgs, selectkbest__k=25;, score=0.631 total time=   1.3s\n"
     ]
    },
    {
     "name": "stderr",
     "output_type": "stream",
     "text": [
      "c:\\Users\\cleme\\Desktop\\personal-projects\\ml-personal-train\\venv\\lib\\site-packages\\sklearn\\linear_model\\_logistic.py:458: ConvergenceWarning: lbfgs failed to converge (status=1):\n",
      "STOP: TOTAL NO. of ITERATIONS REACHED LIMIT.\n",
      "\n",
      "Increase the number of iterations (max_iter) or scale the data as shown in:\n",
      "    https://scikit-learn.org/stable/modules/preprocessing.html\n",
      "Please also refer to the documentation for alternative solver options:\n",
      "    https://scikit-learn.org/stable/modules/linear_model.html#logistic-regression\n",
      "  n_iter_i = _check_optimize_result(\n"
     ]
    },
    {
     "name": "stdout",
     "output_type": "stream",
     "text": [
      "[CV 4/4] END logisticregression__C=1, logisticregression__solver=lbfgs, selectkbest__k=25;, score=0.688 total time=   1.4s\n",
      "[CV 1/4] END logisticregression__C=1, logisticregression__solver=liblinear, selectkbest__k=5;, score=0.698 total time=   0.5s\n",
      "[CV 2/4] END logisticregression__C=1, logisticregression__solver=liblinear, selectkbest__k=5;, score=0.732 total time=   0.5s\n",
      "[CV 3/4] END logisticregression__C=1, logisticregression__solver=liblinear, selectkbest__k=5;, score=0.630 total time=   0.4s\n",
      "[CV 4/4] END logisticregression__C=1, logisticregression__solver=liblinear, selectkbest__k=5;, score=0.693 total time=   0.4s\n",
      "[CV 1/4] END logisticregression__C=1, logisticregression__solver=liblinear, selectkbest__k=15;, score=0.740 total time=   0.9s\n",
      "[CV 2/4] END logisticregression__C=1, logisticregression__solver=liblinear, selectkbest__k=15;, score=0.720 total time=   0.9s\n",
      "[CV 3/4] END logisticregression__C=1, logisticregression__solver=liblinear, selectkbest__k=15;, score=0.635 total time=   0.9s\n",
      "[CV 4/4] END logisticregression__C=1, logisticregression__solver=liblinear, selectkbest__k=15;, score=0.675 total time=   1.0s\n",
      "[CV 1/4] END logisticregression__C=1, logisticregression__solver=liblinear, selectkbest__k=25;, score=0.747 total time=   2.5s\n",
      "[CV 2/4] END logisticregression__C=1, logisticregression__solver=liblinear, selectkbest__k=25;, score=0.741 total time=   2.3s\n",
      "[CV 3/4] END logisticregression__C=1, logisticregression__solver=liblinear, selectkbest__k=25;, score=0.612 total time=   2.4s\n",
      "[CV 4/4] END logisticregression__C=1, logisticregression__solver=liblinear, selectkbest__k=25;, score=0.688 total time=   2.5s\n",
      "[CV 1/4] END logisticregression__C=5, logisticregression__solver=lbfgs, selectkbest__k=5;, score=0.698 total time=   0.5s\n",
      "[CV 2/4] END logisticregression__C=5, logisticregression__solver=lbfgs, selectkbest__k=5;, score=0.736 total time=   0.5s\n",
      "[CV 3/4] END logisticregression__C=5, logisticregression__solver=lbfgs, selectkbest__k=5;, score=0.630 total time=   0.5s\n",
      "[CV 4/4] END logisticregression__C=5, logisticregression__solver=lbfgs, selectkbest__k=5;, score=0.693 total time=   0.6s\n",
      "[CV 1/4] END logisticregression__C=5, logisticregression__solver=lbfgs, selectkbest__k=15;, score=0.747 total time=   0.9s\n",
      "[CV 2/4] END logisticregression__C=5, logisticregression__solver=lbfgs, selectkbest__k=15;, score=0.715 total time=   0.8s\n",
      "[CV 3/4] END logisticregression__C=5, logisticregression__solver=lbfgs, selectkbest__k=15;, score=0.644 total time=   0.9s\n",
      "[CV 4/4] END logisticregression__C=5, logisticregression__solver=lbfgs, selectkbest__k=15;, score=0.671 total time=   0.9s\n"
     ]
    },
    {
     "name": "stderr",
     "output_type": "stream",
     "text": [
      "c:\\Users\\cleme\\Desktop\\personal-projects\\ml-personal-train\\venv\\lib\\site-packages\\sklearn\\linear_model\\_logistic.py:458: ConvergenceWarning: lbfgs failed to converge (status=1):\n",
      "STOP: TOTAL NO. of ITERATIONS REACHED LIMIT.\n",
      "\n",
      "Increase the number of iterations (max_iter) or scale the data as shown in:\n",
      "    https://scikit-learn.org/stable/modules/preprocessing.html\n",
      "Please also refer to the documentation for alternative solver options:\n",
      "    https://scikit-learn.org/stable/modules/linear_model.html#logistic-regression\n",
      "  n_iter_i = _check_optimize_result(\n"
     ]
    },
    {
     "name": "stdout",
     "output_type": "stream",
     "text": [
      "[CV 1/4] END logisticregression__C=5, logisticregression__solver=lbfgs, selectkbest__k=25;, score=0.754 total time=   1.8s\n"
     ]
    },
    {
     "name": "stderr",
     "output_type": "stream",
     "text": [
      "c:\\Users\\cleme\\Desktop\\personal-projects\\ml-personal-train\\venv\\lib\\site-packages\\sklearn\\linear_model\\_logistic.py:458: ConvergenceWarning: lbfgs failed to converge (status=1):\n",
      "STOP: TOTAL NO. of ITERATIONS REACHED LIMIT.\n",
      "\n",
      "Increase the number of iterations (max_iter) or scale the data as shown in:\n",
      "    https://scikit-learn.org/stable/modules/preprocessing.html\n",
      "Please also refer to the documentation for alternative solver options:\n",
      "    https://scikit-learn.org/stable/modules/linear_model.html#logistic-regression\n",
      "  n_iter_i = _check_optimize_result(\n"
     ]
    },
    {
     "name": "stdout",
     "output_type": "stream",
     "text": [
      "[CV 2/4] END logisticregression__C=5, logisticregression__solver=lbfgs, selectkbest__k=25;, score=0.741 total time=   1.7s\n"
     ]
    },
    {
     "name": "stderr",
     "output_type": "stream",
     "text": [
      "c:\\Users\\cleme\\Desktop\\personal-projects\\ml-personal-train\\venv\\lib\\site-packages\\sklearn\\linear_model\\_logistic.py:458: ConvergenceWarning: lbfgs failed to converge (status=1):\n",
      "STOP: TOTAL NO. of ITERATIONS REACHED LIMIT.\n",
      "\n",
      "Increase the number of iterations (max_iter) or scale the data as shown in:\n",
      "    https://scikit-learn.org/stable/modules/preprocessing.html\n",
      "Please also refer to the documentation for alternative solver options:\n",
      "    https://scikit-learn.org/stable/modules/linear_model.html#logistic-regression\n",
      "  n_iter_i = _check_optimize_result(\n"
     ]
    },
    {
     "name": "stdout",
     "output_type": "stream",
     "text": [
      "[CV 3/4] END logisticregression__C=5, logisticregression__solver=lbfgs, selectkbest__k=25;, score=0.631 total time=   1.6s\n"
     ]
    },
    {
     "name": "stderr",
     "output_type": "stream",
     "text": [
      "c:\\Users\\cleme\\Desktop\\personal-projects\\ml-personal-train\\venv\\lib\\site-packages\\sklearn\\linear_model\\_logistic.py:458: ConvergenceWarning: lbfgs failed to converge (status=1):\n",
      "STOP: TOTAL NO. of ITERATIONS REACHED LIMIT.\n",
      "\n",
      "Increase the number of iterations (max_iter) or scale the data as shown in:\n",
      "    https://scikit-learn.org/stable/modules/preprocessing.html\n",
      "Please also refer to the documentation for alternative solver options:\n",
      "    https://scikit-learn.org/stable/modules/linear_model.html#logistic-regression\n",
      "  n_iter_i = _check_optimize_result(\n"
     ]
    },
    {
     "name": "stdout",
     "output_type": "stream",
     "text": [
      "[CV 4/4] END logisticregression__C=5, logisticregression__solver=lbfgs, selectkbest__k=25;, score=0.688 total time=   2.1s\n",
      "[CV 1/4] END logisticregression__C=5, logisticregression__solver=liblinear, selectkbest__k=5;, score=0.698 total time=   0.6s\n",
      "[CV 2/4] END logisticregression__C=5, logisticregression__solver=liblinear, selectkbest__k=5;, score=0.736 total time=   0.7s\n",
      "[CV 3/4] END logisticregression__C=5, logisticregression__solver=liblinear, selectkbest__k=5;, score=0.630 total time=   0.6s\n",
      "[CV 4/4] END logisticregression__C=5, logisticregression__solver=liblinear, selectkbest__k=5;, score=0.693 total time=   0.7s\n",
      "[CV 1/4] END logisticregression__C=5, logisticregression__solver=liblinear, selectkbest__k=15;, score=0.740 total time=   1.2s\n",
      "[CV 2/4] END logisticregression__C=5, logisticregression__solver=liblinear, selectkbest__k=15;, score=0.715 total time=   1.1s\n",
      "[CV 3/4] END logisticregression__C=5, logisticregression__solver=liblinear, selectkbest__k=15;, score=0.644 total time=   1.3s\n",
      "[CV 4/4] END logisticregression__C=5, logisticregression__solver=liblinear, selectkbest__k=15;, score=0.675 total time=   1.3s\n",
      "[CV 1/4] END logisticregression__C=5, logisticregression__solver=liblinear, selectkbest__k=25;, score=0.747 total time=   3.2s\n",
      "[CV 2/4] END logisticregression__C=5, logisticregression__solver=liblinear, selectkbest__k=25;, score=0.741 total time=   3.1s\n",
      "[CV 3/4] END logisticregression__C=5, logisticregression__solver=liblinear, selectkbest__k=25;, score=0.631 total time=   3.7s\n",
      "[CV 4/4] END logisticregression__C=5, logisticregression__solver=liblinear, selectkbest__k=25;, score=0.688 total time=   3.9s\n"
     ]
    },
    {
     "name": "stderr",
     "output_type": "stream",
     "text": [
      "c:\\Users\\cleme\\Desktop\\personal-projects\\ml-personal-train\\venv\\lib\\site-packages\\sklearn\\linear_model\\_logistic.py:458: ConvergenceWarning: lbfgs failed to converge (status=1):\n",
      "STOP: TOTAL NO. of ITERATIONS REACHED LIMIT.\n",
      "\n",
      "Increase the number of iterations (max_iter) or scale the data as shown in:\n",
      "    https://scikit-learn.org/stable/modules/preprocessing.html\n",
      "Please also refer to the documentation for alternative solver options:\n",
      "    https://scikit-learn.org/stable/modules/linear_model.html#logistic-regression\n",
      "  n_iter_i = _check_optimize_result(\n",
      "c:\\Users\\cleme\\Desktop\\personal-projects\\ml-personal-train\\venv\\lib\\site-packages\\sklearn\\linear_model\\_logistic.py:458: ConvergenceWarning: lbfgs failed to converge (status=1):\n",
      "STOP: TOTAL NO. of ITERATIONS REACHED LIMIT.\n",
      "\n",
      "Increase the number of iterations (max_iter) or scale the data as shown in:\n",
      "    https://scikit-learn.org/stable/modules/preprocessing.html\n",
      "Please also refer to the documentation for alternative solver options:\n",
      "    https://scikit-learn.org/stable/modules/linear_model.html#logistic-regression\n",
      "  n_iter_i = _check_optimize_result(\n"
     ]
    },
    {
     "name": "stdout",
     "output_type": "stream",
     "text": [
      "Fitting 4 folds for each of 18 candidates, totalling 72 fits\n",
      "[CV 1/4] END logisticregression__C=0.1, logisticregression__solver=lbfgs, selectkbest__k=5;, score=0.687 total time=   0.5s\n",
      "[CV 2/4] END logisticregression__C=0.1, logisticregression__solver=lbfgs, selectkbest__k=5;, score=0.696 total time=   0.4s\n",
      "[CV 3/4] END logisticregression__C=0.1, logisticregression__solver=lbfgs, selectkbest__k=5;, score=0.667 total time=   0.4s\n",
      "[CV 4/4] END logisticregression__C=0.1, logisticregression__solver=lbfgs, selectkbest__k=5;, score=0.720 total time=   0.4s\n",
      "[CV 1/4] END logisticregression__C=0.1, logisticregression__solver=lbfgs, selectkbest__k=15;, score=0.722 total time=   0.8s\n",
      "[CV 2/4] END logisticregression__C=0.1, logisticregression__solver=lbfgs, selectkbest__k=15;, score=0.704 total time=   0.6s\n",
      "[CV 3/4] END logisticregression__C=0.1, logisticregression__solver=lbfgs, selectkbest__k=15;, score=0.675 total time=   0.6s\n",
      "[CV 4/4] END logisticregression__C=0.1, logisticregression__solver=lbfgs, selectkbest__k=15;, score=0.752 total time=   0.6s\n",
      "[CV 1/4] END logisticregression__C=0.1, logisticregression__solver=lbfgs, selectkbest__k=25;, score=0.709 total time=   1.1s\n",
      "[CV 2/4] END logisticregression__C=0.1, logisticregression__solver=lbfgs, selectkbest__k=25;, score=0.696 total time=   1.8s\n",
      "[CV 3/4] END logisticregression__C=0.1, logisticregression__solver=lbfgs, selectkbest__k=25;, score=0.667 total time=   3.1s\n",
      "[CV 4/4] END logisticregression__C=0.1, logisticregression__solver=lbfgs, selectkbest__k=25;, score=0.744 total time=   3.0s\n",
      "[CV 1/4] END logisticregression__C=0.1, logisticregression__solver=liblinear, selectkbest__k=5;, score=0.687 total time=   1.7s\n",
      "[CV 2/4] END logisticregression__C=0.1, logisticregression__solver=liblinear, selectkbest__k=5;, score=0.688 total time=   1.6s\n",
      "[CV 3/4] END logisticregression__C=0.1, logisticregression__solver=liblinear, selectkbest__k=5;, score=0.658 total time=   1.4s\n",
      "[CV 4/4] END logisticregression__C=0.1, logisticregression__solver=liblinear, selectkbest__k=5;, score=0.736 total time=   1.6s\n",
      "[CV 1/4] END logisticregression__C=0.1, logisticregression__solver=liblinear, selectkbest__k=15;, score=0.714 total time=   1.7s\n",
      "[CV 2/4] END logisticregression__C=0.1, logisticregression__solver=liblinear, selectkbest__k=15;, score=0.688 total time=   1.7s\n",
      "[CV 3/4] END logisticregression__C=0.1, logisticregression__solver=liblinear, selectkbest__k=15;, score=0.684 total time=   2.0s\n",
      "[CV 4/4] END logisticregression__C=0.1, logisticregression__solver=liblinear, selectkbest__k=15;, score=0.752 total time=   1.8s\n",
      "[CV 1/4] END logisticregression__C=0.1, logisticregression__solver=liblinear, selectkbest__k=25;, score=0.709 total time=   6.0s\n",
      "[CV 2/4] END logisticregression__C=0.1, logisticregression__solver=liblinear, selectkbest__k=25;, score=0.696 total time=   5.7s\n",
      "[CV 3/4] END logisticregression__C=0.1, logisticregression__solver=liblinear, selectkbest__k=25;, score=0.688 total time=   3.1s\n",
      "[CV 4/4] END logisticregression__C=0.1, logisticregression__solver=liblinear, selectkbest__k=25;, score=0.744 total time=   2.3s\n",
      "[CV 1/4] END logisticregression__C=1, logisticregression__solver=lbfgs, selectkbest__k=5;, score=0.687 total time=   0.5s\n",
      "[CV 2/4] END logisticregression__C=1, logisticregression__solver=lbfgs, selectkbest__k=5;, score=0.696 total time=   0.4s\n",
      "[CV 3/4] END logisticregression__C=1, logisticregression__solver=lbfgs, selectkbest__k=5;, score=0.662 total time=   0.6s\n",
      "[CV 4/4] END logisticregression__C=1, logisticregression__solver=lbfgs, selectkbest__k=5;, score=0.720 total time=   0.4s\n",
      "[CV 1/4] END logisticregression__C=1, logisticregression__solver=lbfgs, selectkbest__k=15;, score=0.718 total time=   0.8s\n",
      "[CV 2/4] END logisticregression__C=1, logisticregression__solver=lbfgs, selectkbest__k=15;, score=0.704 total time=   0.8s\n",
      "[CV 3/4] END logisticregression__C=1, logisticregression__solver=lbfgs, selectkbest__k=15;, score=0.675 total time=   0.7s\n",
      "[CV 4/4] END logisticregression__C=1, logisticregression__solver=lbfgs, selectkbest__k=15;, score=0.752 total time=   0.7s\n"
     ]
    },
    {
     "name": "stderr",
     "output_type": "stream",
     "text": [
      "c:\\Users\\cleme\\Desktop\\personal-projects\\ml-personal-train\\venv\\lib\\site-packages\\sklearn\\linear_model\\_logistic.py:458: ConvergenceWarning: lbfgs failed to converge (status=1):\n",
      "STOP: TOTAL NO. of ITERATIONS REACHED LIMIT.\n",
      "\n",
      "Increase the number of iterations (max_iter) or scale the data as shown in:\n",
      "    https://scikit-learn.org/stable/modules/preprocessing.html\n",
      "Please also refer to the documentation for alternative solver options:\n",
      "    https://scikit-learn.org/stable/modules/linear_model.html#logistic-regression\n",
      "  n_iter_i = _check_optimize_result(\n"
     ]
    },
    {
     "name": "stdout",
     "output_type": "stream",
     "text": [
      "[CV 1/4] END logisticregression__C=1, logisticregression__solver=lbfgs, selectkbest__k=25;, score=0.709 total time=   1.5s\n"
     ]
    },
    {
     "name": "stderr",
     "output_type": "stream",
     "text": [
      "c:\\Users\\cleme\\Desktop\\personal-projects\\ml-personal-train\\venv\\lib\\site-packages\\sklearn\\linear_model\\_logistic.py:458: ConvergenceWarning: lbfgs failed to converge (status=1):\n",
      "STOP: TOTAL NO. of ITERATIONS REACHED LIMIT.\n",
      "\n",
      "Increase the number of iterations (max_iter) or scale the data as shown in:\n",
      "    https://scikit-learn.org/stable/modules/preprocessing.html\n",
      "Please also refer to the documentation for alternative solver options:\n",
      "    https://scikit-learn.org/stable/modules/linear_model.html#logistic-regression\n",
      "  n_iter_i = _check_optimize_result(\n"
     ]
    },
    {
     "name": "stdout",
     "output_type": "stream",
     "text": [
      "[CV 2/4] END logisticregression__C=1, logisticregression__solver=lbfgs, selectkbest__k=25;, score=0.696 total time=   1.9s\n"
     ]
    },
    {
     "name": "stderr",
     "output_type": "stream",
     "text": [
      "c:\\Users\\cleme\\Desktop\\personal-projects\\ml-personal-train\\venv\\lib\\site-packages\\sklearn\\linear_model\\_logistic.py:458: ConvergenceWarning: lbfgs failed to converge (status=1):\n",
      "STOP: TOTAL NO. of ITERATIONS REACHED LIMIT.\n",
      "\n",
      "Increase the number of iterations (max_iter) or scale the data as shown in:\n",
      "    https://scikit-learn.org/stable/modules/preprocessing.html\n",
      "Please also refer to the documentation for alternative solver options:\n",
      "    https://scikit-learn.org/stable/modules/linear_model.html#logistic-regression\n",
      "  n_iter_i = _check_optimize_result(\n"
     ]
    },
    {
     "name": "stdout",
     "output_type": "stream",
     "text": [
      "[CV 3/4] END logisticregression__C=1, logisticregression__solver=lbfgs, selectkbest__k=25;, score=0.667 total time=   1.7s\n"
     ]
    },
    {
     "name": "stderr",
     "output_type": "stream",
     "text": [
      "c:\\Users\\cleme\\Desktop\\personal-projects\\ml-personal-train\\venv\\lib\\site-packages\\sklearn\\linear_model\\_logistic.py:458: ConvergenceWarning: lbfgs failed to converge (status=1):\n",
      "STOP: TOTAL NO. of ITERATIONS REACHED LIMIT.\n",
      "\n",
      "Increase the number of iterations (max_iter) or scale the data as shown in:\n",
      "    https://scikit-learn.org/stable/modules/preprocessing.html\n",
      "Please also refer to the documentation for alternative solver options:\n",
      "    https://scikit-learn.org/stable/modules/linear_model.html#logistic-regression\n",
      "  n_iter_i = _check_optimize_result(\n"
     ]
    },
    {
     "name": "stdout",
     "output_type": "stream",
     "text": [
      "[CV 4/4] END logisticregression__C=1, logisticregression__solver=lbfgs, selectkbest__k=25;, score=0.744 total time=   1.7s\n",
      "[CV 1/4] END logisticregression__C=1, logisticregression__solver=liblinear, selectkbest__k=5;, score=0.687 total time=   0.7s\n",
      "[CV 2/4] END logisticregression__C=1, logisticregression__solver=liblinear, selectkbest__k=5;, score=0.696 total time=   0.6s\n",
      "[CV 3/4] END logisticregression__C=1, logisticregression__solver=liblinear, selectkbest__k=5;, score=0.667 total time=   0.4s\n",
      "[CV 4/4] END logisticregression__C=1, logisticregression__solver=liblinear, selectkbest__k=5;, score=0.720 total time=   0.5s\n",
      "[CV 1/4] END logisticregression__C=1, logisticregression__solver=liblinear, selectkbest__k=15;, score=0.722 total time=   0.9s\n",
      "[CV 2/4] END logisticregression__C=1, logisticregression__solver=liblinear, selectkbest__k=15;, score=0.704 total time=   0.9s\n",
      "[CV 3/4] END logisticregression__C=1, logisticregression__solver=liblinear, selectkbest__k=15;, score=0.675 total time=   0.9s\n",
      "[CV 4/4] END logisticregression__C=1, logisticregression__solver=liblinear, selectkbest__k=15;, score=0.752 total time=   1.0s\n",
      "[CV 1/4] END logisticregression__C=1, logisticregression__solver=liblinear, selectkbest__k=25;, score=0.705 total time=   2.1s\n",
      "[CV 2/4] END logisticregression__C=1, logisticregression__solver=liblinear, selectkbest__k=25;, score=0.696 total time=   2.9s\n",
      "[CV 3/4] END logisticregression__C=1, logisticregression__solver=liblinear, selectkbest__k=25;, score=0.667 total time=   2.1s\n",
      "[CV 4/4] END logisticregression__C=1, logisticregression__solver=liblinear, selectkbest__k=25;, score=0.744 total time=   2.1s\n",
      "[CV 1/4] END logisticregression__C=5, logisticregression__solver=lbfgs, selectkbest__k=5;, score=0.687 total time=   0.7s\n",
      "[CV 2/4] END logisticregression__C=5, logisticregression__solver=lbfgs, selectkbest__k=5;, score=0.696 total time=   0.5s\n",
      "[CV 3/4] END logisticregression__C=5, logisticregression__solver=lbfgs, selectkbest__k=5;, score=0.662 total time=   0.4s\n",
      "[CV 4/4] END logisticregression__C=5, logisticregression__solver=lbfgs, selectkbest__k=5;, score=0.720 total time=   0.4s\n",
      "[CV 1/4] END logisticregression__C=5, logisticregression__solver=lbfgs, selectkbest__k=15;, score=0.718 total time=   0.6s\n",
      "[CV 2/4] END logisticregression__C=5, logisticregression__solver=lbfgs, selectkbest__k=15;, score=0.704 total time=   0.7s\n",
      "[CV 3/4] END logisticregression__C=5, logisticregression__solver=lbfgs, selectkbest__k=15;, score=0.675 total time=   0.6s\n",
      "[CV 4/4] END logisticregression__C=5, logisticregression__solver=lbfgs, selectkbest__k=15;, score=0.752 total time=   0.8s\n"
     ]
    },
    {
     "name": "stderr",
     "output_type": "stream",
     "text": [
      "c:\\Users\\cleme\\Desktop\\personal-projects\\ml-personal-train\\venv\\lib\\site-packages\\sklearn\\linear_model\\_logistic.py:458: ConvergenceWarning: lbfgs failed to converge (status=1):\n",
      "STOP: TOTAL NO. of ITERATIONS REACHED LIMIT.\n",
      "\n",
      "Increase the number of iterations (max_iter) or scale the data as shown in:\n",
      "    https://scikit-learn.org/stable/modules/preprocessing.html\n",
      "Please also refer to the documentation for alternative solver options:\n",
      "    https://scikit-learn.org/stable/modules/linear_model.html#logistic-regression\n",
      "  n_iter_i = _check_optimize_result(\n"
     ]
    },
    {
     "name": "stdout",
     "output_type": "stream",
     "text": [
      "[CV 1/4] END logisticregression__C=5, logisticregression__solver=lbfgs, selectkbest__k=25;, score=0.709 total time=   1.3s\n"
     ]
    },
    {
     "name": "stderr",
     "output_type": "stream",
     "text": [
      "c:\\Users\\cleme\\Desktop\\personal-projects\\ml-personal-train\\venv\\lib\\site-packages\\sklearn\\linear_model\\_logistic.py:458: ConvergenceWarning: lbfgs failed to converge (status=1):\n",
      "STOP: TOTAL NO. of ITERATIONS REACHED LIMIT.\n",
      "\n",
      "Increase the number of iterations (max_iter) or scale the data as shown in:\n",
      "    https://scikit-learn.org/stable/modules/preprocessing.html\n",
      "Please also refer to the documentation for alternative solver options:\n",
      "    https://scikit-learn.org/stable/modules/linear_model.html#logistic-regression\n",
      "  n_iter_i = _check_optimize_result(\n"
     ]
    },
    {
     "name": "stdout",
     "output_type": "stream",
     "text": [
      "[CV 2/4] END logisticregression__C=5, logisticregression__solver=lbfgs, selectkbest__k=25;, score=0.696 total time=   1.2s\n"
     ]
    },
    {
     "name": "stderr",
     "output_type": "stream",
     "text": [
      "c:\\Users\\cleme\\Desktop\\personal-projects\\ml-personal-train\\venv\\lib\\site-packages\\sklearn\\linear_model\\_logistic.py:458: ConvergenceWarning: lbfgs failed to converge (status=1):\n",
      "STOP: TOTAL NO. of ITERATIONS REACHED LIMIT.\n",
      "\n",
      "Increase the number of iterations (max_iter) or scale the data as shown in:\n",
      "    https://scikit-learn.org/stable/modules/preprocessing.html\n",
      "Please also refer to the documentation for alternative solver options:\n",
      "    https://scikit-learn.org/stable/modules/linear_model.html#logistic-regression\n",
      "  n_iter_i = _check_optimize_result(\n"
     ]
    },
    {
     "name": "stdout",
     "output_type": "stream",
     "text": [
      "[CV 3/4] END logisticregression__C=5, logisticregression__solver=lbfgs, selectkbest__k=25;, score=0.667 total time=   1.4s\n"
     ]
    },
    {
     "name": "stderr",
     "output_type": "stream",
     "text": [
      "c:\\Users\\cleme\\Desktop\\personal-projects\\ml-personal-train\\venv\\lib\\site-packages\\sklearn\\linear_model\\_logistic.py:458: ConvergenceWarning: lbfgs failed to converge (status=1):\n",
      "STOP: TOTAL NO. of ITERATIONS REACHED LIMIT.\n",
      "\n",
      "Increase the number of iterations (max_iter) or scale the data as shown in:\n",
      "    https://scikit-learn.org/stable/modules/preprocessing.html\n",
      "Please also refer to the documentation for alternative solver options:\n",
      "    https://scikit-learn.org/stable/modules/linear_model.html#logistic-regression\n",
      "  n_iter_i = _check_optimize_result(\n"
     ]
    },
    {
     "name": "stdout",
     "output_type": "stream",
     "text": [
      "[CV 4/4] END logisticregression__C=5, logisticregression__solver=lbfgs, selectkbest__k=25;, score=0.744 total time=   1.5s\n",
      "[CV 1/4] END logisticregression__C=5, logisticregression__solver=liblinear, selectkbest__k=5;, score=0.687 total time=   0.7s\n",
      "[CV 2/4] END logisticregression__C=5, logisticregression__solver=liblinear, selectkbest__k=5;, score=0.696 total time=   0.6s\n",
      "[CV 3/4] END logisticregression__C=5, logisticregression__solver=liblinear, selectkbest__k=5;, score=0.662 total time=   0.6s\n",
      "[CV 4/4] END logisticregression__C=5, logisticregression__solver=liblinear, selectkbest__k=5;, score=0.720 total time=   0.6s\n",
      "[CV 1/4] END logisticregression__C=5, logisticregression__solver=liblinear, selectkbest__k=15;, score=0.718 total time=   1.3s\n",
      "[CV 2/4] END logisticregression__C=5, logisticregression__solver=liblinear, selectkbest__k=15;, score=0.704 total time=   1.0s\n",
      "[CV 3/4] END logisticregression__C=5, logisticregression__solver=liblinear, selectkbest__k=15;, score=0.675 total time=   1.0s\n",
      "[CV 4/4] END logisticregression__C=5, logisticregression__solver=liblinear, selectkbest__k=15;, score=0.752 total time=   1.1s\n",
      "[CV 1/4] END logisticregression__C=5, logisticregression__solver=liblinear, selectkbest__k=25;, score=0.709 total time=   2.5s\n",
      "[CV 2/4] END logisticregression__C=5, logisticregression__solver=liblinear, selectkbest__k=25;, score=0.696 total time=   3.6s\n",
      "[CV 3/4] END logisticregression__C=5, logisticregression__solver=liblinear, selectkbest__k=25;, score=0.667 total time=   2.3s\n",
      "[CV 4/4] END logisticregression__C=5, logisticregression__solver=liblinear, selectkbest__k=25;, score=0.744 total time=   2.2s\n",
      "Fitting 4 folds for each of 18 candidates, totalling 72 fits\n",
      "[CV 1/4] END logisticregression__C=0.1, logisticregression__solver=lbfgs, selectkbest__k=5;, score=0.768 total time=   0.4s\n",
      "[CV 2/4] END logisticregression__C=0.1, logisticregression__solver=lbfgs, selectkbest__k=5;, score=0.667 total time=   0.4s\n",
      "[CV 3/4] END logisticregression__C=0.1, logisticregression__solver=lbfgs, selectkbest__k=5;, score=0.692 total time=   0.4s\n",
      "[CV 4/4] END logisticregression__C=0.1, logisticregression__solver=lbfgs, selectkbest__k=5;, score=0.628 total time=   0.4s\n",
      "[CV 1/4] END logisticregression__C=0.1, logisticregression__solver=lbfgs, selectkbest__k=15;, score=0.773 total time=   0.6s\n",
      "[CV 2/4] END logisticregression__C=0.1, logisticregression__solver=lbfgs, selectkbest__k=15;, score=0.708 total time=   0.6s\n",
      "[CV 3/4] END logisticregression__C=0.1, logisticregression__solver=lbfgs, selectkbest__k=15;, score=0.728 total time=   0.6s\n",
      "[CV 4/4] END logisticregression__C=0.1, logisticregression__solver=lbfgs, selectkbest__k=15;, score=0.691 total time=   0.7s\n",
      "[CV 1/4] END logisticregression__C=0.1, logisticregression__solver=lbfgs, selectkbest__k=25;, score=0.761 total time=   0.9s\n",
      "[CV 2/4] END logisticregression__C=0.1, logisticregression__solver=lbfgs, selectkbest__k=25;, score=0.704 total time=   1.1s\n"
     ]
    },
    {
     "name": "stderr",
     "output_type": "stream",
     "text": [
      "c:\\Users\\cleme\\Desktop\\personal-projects\\ml-personal-train\\venv\\lib\\site-packages\\sklearn\\linear_model\\_logistic.py:458: ConvergenceWarning: lbfgs failed to converge (status=1):\n",
      "STOP: TOTAL NO. of ITERATIONS REACHED LIMIT.\n",
      "\n",
      "Increase the number of iterations (max_iter) or scale the data as shown in:\n",
      "    https://scikit-learn.org/stable/modules/preprocessing.html\n",
      "Please also refer to the documentation for alternative solver options:\n",
      "    https://scikit-learn.org/stable/modules/linear_model.html#logistic-regression\n",
      "  n_iter_i = _check_optimize_result(\n"
     ]
    },
    {
     "name": "stdout",
     "output_type": "stream",
     "text": [
      "[CV 3/4] END logisticregression__C=0.1, logisticregression__solver=lbfgs, selectkbest__k=25;, score=0.713 total time=   1.3s\n",
      "[CV 4/4] END logisticregression__C=0.1, logisticregression__solver=lbfgs, selectkbest__k=25;, score=0.714 total time=   1.1s\n",
      "[CV 1/4] END logisticregression__C=0.1, logisticregression__solver=liblinear, selectkbest__k=5;, score=0.748 total time=   0.4s\n",
      "[CV 2/4] END logisticregression__C=0.1, logisticregression__solver=liblinear, selectkbest__k=5;, score=0.667 total time=   0.4s\n",
      "[CV 3/4] END logisticregression__C=0.1, logisticregression__solver=liblinear, selectkbest__k=5;, score=0.700 total time=   0.4s\n",
      "[CV 4/4] END logisticregression__C=0.1, logisticregression__solver=liblinear, selectkbest__k=5;, score=0.628 total time=   0.4s\n",
      "[CV 1/4] END logisticregression__C=0.1, logisticregression__solver=liblinear, selectkbest__k=15;, score=0.773 total time=   0.9s\n",
      "[CV 2/4] END logisticregression__C=0.1, logisticregression__solver=liblinear, selectkbest__k=15;, score=0.700 total time=   0.9s\n",
      "[CV 3/4] END logisticregression__C=0.1, logisticregression__solver=liblinear, selectkbest__k=15;, score=0.713 total time=   0.8s\n",
      "[CV 4/4] END logisticregression__C=0.1, logisticregression__solver=liblinear, selectkbest__k=15;, score=0.662 total time=   0.9s\n",
      "[CV 1/4] END logisticregression__C=0.1, logisticregression__solver=liblinear, selectkbest__k=25;, score=0.768 total time=   2.0s\n",
      "[CV 2/4] END logisticregression__C=0.1, logisticregression__solver=liblinear, selectkbest__k=25;, score=0.692 total time=   1.9s\n",
      "[CV 3/4] END logisticregression__C=0.1, logisticregression__solver=liblinear, selectkbest__k=25;, score=0.717 total time=   2.0s\n",
      "[CV 4/4] END logisticregression__C=0.1, logisticregression__solver=liblinear, selectkbest__k=25;, score=0.687 total time=   1.9s\n",
      "[CV 1/4] END logisticregression__C=1, logisticregression__solver=lbfgs, selectkbest__k=5;, score=0.768 total time=   0.4s\n",
      "[CV 2/4] END logisticregression__C=1, logisticregression__solver=lbfgs, selectkbest__k=5;, score=0.667 total time=   0.3s\n",
      "[CV 3/4] END logisticregression__C=1, logisticregression__solver=lbfgs, selectkbest__k=5;, score=0.692 total time=   0.4s\n",
      "[CV 4/4] END logisticregression__C=1, logisticregression__solver=lbfgs, selectkbest__k=5;, score=0.628 total time=   0.3s\n",
      "[CV 1/4] END logisticregression__C=1, logisticregression__solver=lbfgs, selectkbest__k=15;, score=0.761 total time=   0.8s\n",
      "[CV 2/4] END logisticregression__C=1, logisticregression__solver=lbfgs, selectkbest__k=15;, score=0.708 total time=   0.7s\n",
      "[CV 3/4] END logisticregression__C=1, logisticregression__solver=lbfgs, selectkbest__k=15;, score=0.736 total time=   0.7s\n",
      "[CV 4/4] END logisticregression__C=1, logisticregression__solver=lbfgs, selectkbest__k=15;, score=0.699 total time=   0.7s\n",
      "[CV 1/4] END logisticregression__C=1, logisticregression__solver=lbfgs, selectkbest__k=25;, score=0.748 total time=   1.2s\n"
     ]
    },
    {
     "name": "stderr",
     "output_type": "stream",
     "text": [
      "c:\\Users\\cleme\\Desktop\\personal-projects\\ml-personal-train\\venv\\lib\\site-packages\\sklearn\\linear_model\\_logistic.py:458: ConvergenceWarning: lbfgs failed to converge (status=1):\n",
      "STOP: TOTAL NO. of ITERATIONS REACHED LIMIT.\n",
      "\n",
      "Increase the number of iterations (max_iter) or scale the data as shown in:\n",
      "    https://scikit-learn.org/stable/modules/preprocessing.html\n",
      "Please also refer to the documentation for alternative solver options:\n",
      "    https://scikit-learn.org/stable/modules/linear_model.html#logistic-regression\n",
      "  n_iter_i = _check_optimize_result(\n"
     ]
    },
    {
     "name": "stdout",
     "output_type": "stream",
     "text": [
      "[CV 2/4] END logisticregression__C=1, logisticregression__solver=lbfgs, selectkbest__k=25;, score=0.699 total time=   1.1s\n"
     ]
    },
    {
     "name": "stderr",
     "output_type": "stream",
     "text": [
      "c:\\Users\\cleme\\Desktop\\personal-projects\\ml-personal-train\\venv\\lib\\site-packages\\sklearn\\linear_model\\_logistic.py:458: ConvergenceWarning: lbfgs failed to converge (status=1):\n",
      "STOP: TOTAL NO. of ITERATIONS REACHED LIMIT.\n",
      "\n",
      "Increase the number of iterations (max_iter) or scale the data as shown in:\n",
      "    https://scikit-learn.org/stable/modules/preprocessing.html\n",
      "Please also refer to the documentation for alternative solver options:\n",
      "    https://scikit-learn.org/stable/modules/linear_model.html#logistic-regression\n",
      "  n_iter_i = _check_optimize_result(\n"
     ]
    },
    {
     "name": "stdout",
     "output_type": "stream",
     "text": [
      "[CV 3/4] END logisticregression__C=1, logisticregression__solver=lbfgs, selectkbest__k=25;, score=0.704 total time=   1.2s\n"
     ]
    },
    {
     "name": "stderr",
     "output_type": "stream",
     "text": [
      "c:\\Users\\cleme\\Desktop\\personal-projects\\ml-personal-train\\venv\\lib\\site-packages\\sklearn\\linear_model\\_logistic.py:458: ConvergenceWarning: lbfgs failed to converge (status=1):\n",
      "STOP: TOTAL NO. of ITERATIONS REACHED LIMIT.\n",
      "\n",
      "Increase the number of iterations (max_iter) or scale the data as shown in:\n",
      "    https://scikit-learn.org/stable/modules/preprocessing.html\n",
      "Please also refer to the documentation for alternative solver options:\n",
      "    https://scikit-learn.org/stable/modules/linear_model.html#logistic-regression\n",
      "  n_iter_i = _check_optimize_result(\n"
     ]
    },
    {
     "name": "stdout",
     "output_type": "stream",
     "text": [
      "[CV 4/4] END logisticregression__C=1, logisticregression__solver=lbfgs, selectkbest__k=25;, score=0.718 total time=   1.1s\n",
      "[CV 1/4] END logisticregression__C=1, logisticregression__solver=liblinear, selectkbest__k=5;, score=0.768 total time=   0.4s\n",
      "[CV 2/4] END logisticregression__C=1, logisticregression__solver=liblinear, selectkbest__k=5;, score=0.667 total time=   0.4s\n",
      "[CV 3/4] END logisticregression__C=1, logisticregression__solver=liblinear, selectkbest__k=5;, score=0.688 total time=   0.5s\n",
      "[CV 4/4] END logisticregression__C=1, logisticregression__solver=liblinear, selectkbest__k=5;, score=0.628 total time=   0.5s\n",
      "[CV 1/4] END logisticregression__C=1, logisticregression__solver=liblinear, selectkbest__k=15;, score=0.773 total time=   0.9s\n",
      "[CV 2/4] END logisticregression__C=1, logisticregression__solver=liblinear, selectkbest__k=15;, score=0.708 total time=   0.9s\n",
      "[CV 3/4] END logisticregression__C=1, logisticregression__solver=liblinear, selectkbest__k=15;, score=0.728 total time=   0.9s\n",
      "[CV 4/4] END logisticregression__C=1, logisticregression__solver=liblinear, selectkbest__k=15;, score=0.691 total time=   0.9s\n",
      "[CV 1/4] END logisticregression__C=1, logisticregression__solver=liblinear, selectkbest__k=25;, score=0.768 total time=   2.0s\n",
      "[CV 2/4] END logisticregression__C=1, logisticregression__solver=liblinear, selectkbest__k=25;, score=0.704 total time=   2.7s\n",
      "[CV 3/4] END logisticregression__C=1, logisticregression__solver=liblinear, selectkbest__k=25;, score=0.704 total time=   2.1s\n",
      "[CV 4/4] END logisticregression__C=1, logisticregression__solver=liblinear, selectkbest__k=25;, score=0.714 total time=   2.2s\n",
      "[CV 1/4] END logisticregression__C=5, logisticregression__solver=lbfgs, selectkbest__k=5;, score=0.768 total time=   0.4s\n",
      "[CV 2/4] END logisticregression__C=5, logisticregression__solver=lbfgs, selectkbest__k=5;, score=0.667 total time=   0.4s\n",
      "[CV 3/4] END logisticregression__C=5, logisticregression__solver=lbfgs, selectkbest__k=5;, score=0.692 total time=   0.4s\n",
      "[CV 4/4] END logisticregression__C=5, logisticregression__solver=lbfgs, selectkbest__k=5;, score=0.628 total time=   0.4s\n",
      "[CV 1/4] END logisticregression__C=5, logisticregression__solver=lbfgs, selectkbest__k=15;, score=0.761 total time=   0.6s\n",
      "[CV 2/4] END logisticregression__C=5, logisticregression__solver=lbfgs, selectkbest__k=15;, score=0.708 total time=   0.6s\n",
      "[CV 3/4] END logisticregression__C=5, logisticregression__solver=lbfgs, selectkbest__k=15;, score=0.736 total time=   0.6s\n",
      "[CV 4/4] END logisticregression__C=5, logisticregression__solver=lbfgs, selectkbest__k=15;, score=0.707 total time=   0.6s\n"
     ]
    },
    {
     "name": "stderr",
     "output_type": "stream",
     "text": [
      "c:\\Users\\cleme\\Desktop\\personal-projects\\ml-personal-train\\venv\\lib\\site-packages\\sklearn\\linear_model\\_logistic.py:458: ConvergenceWarning: lbfgs failed to converge (status=1):\n",
      "STOP: TOTAL NO. of ITERATIONS REACHED LIMIT.\n",
      "\n",
      "Increase the number of iterations (max_iter) or scale the data as shown in:\n",
      "    https://scikit-learn.org/stable/modules/preprocessing.html\n",
      "Please also refer to the documentation for alternative solver options:\n",
      "    https://scikit-learn.org/stable/modules/linear_model.html#logistic-regression\n",
      "  n_iter_i = _check_optimize_result(\n"
     ]
    },
    {
     "name": "stdout",
     "output_type": "stream",
     "text": [
      "[CV 1/4] END logisticregression__C=5, logisticregression__solver=lbfgs, selectkbest__k=25;, score=0.748 total time=   1.0s\n"
     ]
    },
    {
     "name": "stderr",
     "output_type": "stream",
     "text": [
      "c:\\Users\\cleme\\Desktop\\personal-projects\\ml-personal-train\\venv\\lib\\site-packages\\sklearn\\linear_model\\_logistic.py:458: ConvergenceWarning: lbfgs failed to converge (status=1):\n",
      "STOP: TOTAL NO. of ITERATIONS REACHED LIMIT.\n",
      "\n",
      "Increase the number of iterations (max_iter) or scale the data as shown in:\n",
      "    https://scikit-learn.org/stable/modules/preprocessing.html\n",
      "Please also refer to the documentation for alternative solver options:\n",
      "    https://scikit-learn.org/stable/modules/linear_model.html#logistic-regression\n",
      "  n_iter_i = _check_optimize_result(\n"
     ]
    },
    {
     "name": "stdout",
     "output_type": "stream",
     "text": [
      "[CV 2/4] END logisticregression__C=5, logisticregression__solver=lbfgs, selectkbest__k=25;, score=0.699 total time=   1.2s\n"
     ]
    },
    {
     "name": "stderr",
     "output_type": "stream",
     "text": [
      "c:\\Users\\cleme\\Desktop\\personal-projects\\ml-personal-train\\venv\\lib\\site-packages\\sklearn\\linear_model\\_logistic.py:458: ConvergenceWarning: lbfgs failed to converge (status=1):\n",
      "STOP: TOTAL NO. of ITERATIONS REACHED LIMIT.\n",
      "\n",
      "Increase the number of iterations (max_iter) or scale the data as shown in:\n",
      "    https://scikit-learn.org/stable/modules/preprocessing.html\n",
      "Please also refer to the documentation for alternative solver options:\n",
      "    https://scikit-learn.org/stable/modules/linear_model.html#logistic-regression\n",
      "  n_iter_i = _check_optimize_result(\n"
     ]
    },
    {
     "name": "stdout",
     "output_type": "stream",
     "text": [
      "[CV 3/4] END logisticregression__C=5, logisticregression__solver=lbfgs, selectkbest__k=25;, score=0.713 total time=   1.5s\n"
     ]
    },
    {
     "name": "stderr",
     "output_type": "stream",
     "text": [
      "c:\\Users\\cleme\\Desktop\\personal-projects\\ml-personal-train\\venv\\lib\\site-packages\\sklearn\\linear_model\\_logistic.py:458: ConvergenceWarning: lbfgs failed to converge (status=1):\n",
      "STOP: TOTAL NO. of ITERATIONS REACHED LIMIT.\n",
      "\n",
      "Increase the number of iterations (max_iter) or scale the data as shown in:\n",
      "    https://scikit-learn.org/stable/modules/preprocessing.html\n",
      "Please also refer to the documentation for alternative solver options:\n",
      "    https://scikit-learn.org/stable/modules/linear_model.html#logistic-regression\n",
      "  n_iter_i = _check_optimize_result(\n"
     ]
    },
    {
     "name": "stdout",
     "output_type": "stream",
     "text": [
      "[CV 4/4] END logisticregression__C=5, logisticregression__solver=lbfgs, selectkbest__k=25;, score=0.718 total time=   1.3s\n",
      "[CV 1/4] END logisticregression__C=5, logisticregression__solver=liblinear, selectkbest__k=5;, score=0.768 total time=   0.4s\n",
      "[CV 2/4] END logisticregression__C=5, logisticregression__solver=liblinear, selectkbest__k=5;, score=0.667 total time=   0.4s\n",
      "[CV 3/4] END logisticregression__C=5, logisticregression__solver=liblinear, selectkbest__k=5;, score=0.688 total time=   0.5s\n",
      "[CV 4/4] END logisticregression__C=5, logisticregression__solver=liblinear, selectkbest__k=5;, score=0.628 total time=   0.5s\n",
      "[CV 1/4] END logisticregression__C=5, logisticregression__solver=liblinear, selectkbest__k=15;, score=0.768 total time=   0.9s\n",
      "[CV 2/4] END logisticregression__C=5, logisticregression__solver=liblinear, selectkbest__k=15;, score=0.708 total time=   0.9s\n",
      "[CV 3/4] END logisticregression__C=5, logisticregression__solver=liblinear, selectkbest__k=15;, score=0.736 total time=   1.0s\n",
      "[CV 4/4] END logisticregression__C=5, logisticregression__solver=liblinear, selectkbest__k=15;, score=0.699 total time=   1.0s\n",
      "[CV 1/4] END logisticregression__C=5, logisticregression__solver=liblinear, selectkbest__k=25;, score=0.748 total time=   2.3s\n",
      "[CV 2/4] END logisticregression__C=5, logisticregression__solver=liblinear, selectkbest__k=25;, score=0.699 total time=   4.0s\n",
      "[CV 3/4] END logisticregression__C=5, logisticregression__solver=liblinear, selectkbest__k=25;, score=0.704 total time=   2.6s\n",
      "[CV 4/4] END logisticregression__C=5, logisticregression__solver=liblinear, selectkbest__k=25;, score=0.718 total time=   3.7s\n",
      "Fitting 4 folds for each of 18 candidates, totalling 72 fits\n",
      "[CV 1/4] END logisticregression__C=0.1, logisticregression__solver=lbfgs, selectkbest__k=5;, score=0.712 total time=   0.4s\n",
      "[CV 2/4] END logisticregression__C=0.1, logisticregression__solver=lbfgs, selectkbest__k=5;, score=0.726 total time=   0.4s\n",
      "[CV 3/4] END logisticregression__C=0.1, logisticregression__solver=lbfgs, selectkbest__k=5;, score=0.711 total time=   0.4s\n",
      "[CV 4/4] END logisticregression__C=0.1, logisticregression__solver=lbfgs, selectkbest__k=5;, score=0.606 total time=   0.4s\n",
      "[CV 1/4] END logisticregression__C=0.1, logisticregression__solver=lbfgs, selectkbest__k=15;, score=0.712 total time=   0.5s\n",
      "[CV 2/4] END logisticregression__C=0.1, logisticregression__solver=lbfgs, selectkbest__k=15;, score=0.715 total time=   0.8s\n",
      "[CV 3/4] END logisticregression__C=0.1, logisticregression__solver=lbfgs, selectkbest__k=15;, score=0.739 total time=   0.8s\n",
      "[CV 4/4] END logisticregression__C=0.1, logisticregression__solver=lbfgs, selectkbest__k=15;, score=0.650 total time=   0.7s\n",
      "[CV 1/4] END logisticregression__C=0.1, logisticregression__solver=lbfgs, selectkbest__k=25;, score=0.711 total time=   1.4s\n",
      "[CV 2/4] END logisticregression__C=0.1, logisticregression__solver=lbfgs, selectkbest__k=25;, score=0.726 total time=   1.1s\n",
      "[CV 3/4] END logisticregression__C=0.1, logisticregression__solver=lbfgs, selectkbest__k=25;, score=0.744 total time=   1.5s\n",
      "[CV 4/4] END logisticregression__C=0.1, logisticregression__solver=lbfgs, selectkbest__k=25;, score=0.667 total time=   1.4s\n",
      "[CV 1/4] END logisticregression__C=0.1, logisticregression__solver=liblinear, selectkbest__k=5;, score=0.712 total time=   0.7s\n",
      "[CV 2/4] END logisticregression__C=0.1, logisticregression__solver=liblinear, selectkbest__k=5;, score=0.719 total time=   0.7s\n",
      "[CV 3/4] END logisticregression__C=0.1, logisticregression__solver=liblinear, selectkbest__k=5;, score=0.711 total time=   0.6s\n",
      "[CV 4/4] END logisticregression__C=0.1, logisticregression__solver=liblinear, selectkbest__k=5;, score=0.606 total time=   0.7s\n",
      "[CV 1/4] END logisticregression__C=0.1, logisticregression__solver=liblinear, selectkbest__k=15;, score=0.716 total time=   1.0s\n",
      "[CV 2/4] END logisticregression__C=0.1, logisticregression__solver=liblinear, selectkbest__k=15;, score=0.723 total time=   1.1s\n",
      "[CV 3/4] END logisticregression__C=0.1, logisticregression__solver=liblinear, selectkbest__k=15;, score=0.719 total time=   1.1s\n",
      "[CV 4/4] END logisticregression__C=0.1, logisticregression__solver=liblinear, selectkbest__k=15;, score=0.646 total time=   1.1s\n",
      "[CV 1/4] END logisticregression__C=0.1, logisticregression__solver=liblinear, selectkbest__k=25;, score=0.707 total time=   2.0s\n",
      "[CV 2/4] END logisticregression__C=0.1, logisticregression__solver=liblinear, selectkbest__k=25;, score=0.719 total time=   2.0s\n",
      "[CV 3/4] END logisticregression__C=0.1, logisticregression__solver=liblinear, selectkbest__k=25;, score=0.719 total time=   1.8s\n",
      "[CV 4/4] END logisticregression__C=0.1, logisticregression__solver=liblinear, selectkbest__k=25;, score=0.671 total time=   1.7s\n",
      "[CV 1/4] END logisticregression__C=1, logisticregression__solver=lbfgs, selectkbest__k=5;, score=0.712 total time=   0.4s\n",
      "[CV 2/4] END logisticregression__C=1, logisticregression__solver=lbfgs, selectkbest__k=5;, score=0.726 total time=   0.4s\n",
      "[CV 3/4] END logisticregression__C=1, logisticregression__solver=lbfgs, selectkbest__k=5;, score=0.711 total time=   0.3s\n",
      "[CV 4/4] END logisticregression__C=1, logisticregression__solver=lbfgs, selectkbest__k=5;, score=0.603 total time=   0.3s\n",
      "[CV 1/4] END logisticregression__C=1, logisticregression__solver=lbfgs, selectkbest__k=15;, score=0.712 total time=   0.6s\n",
      "[CV 2/4] END logisticregression__C=1, logisticregression__solver=lbfgs, selectkbest__k=15;, score=0.723 total time=   0.7s\n",
      "[CV 3/4] END logisticregression__C=1, logisticregression__solver=lbfgs, selectkbest__k=15;, score=0.726 total time=   0.6s\n",
      "[CV 4/4] END logisticregression__C=1, logisticregression__solver=lbfgs, selectkbest__k=15;, score=0.658 total time=   0.6s\n",
      "[CV 1/4] END logisticregression__C=1, logisticregression__solver=lbfgs, selectkbest__k=25;, score=0.719 total time=   1.5s\n"
     ]
    },
    {
     "name": "stderr",
     "output_type": "stream",
     "text": [
      "c:\\Users\\cleme\\Desktop\\personal-projects\\ml-personal-train\\venv\\lib\\site-packages\\sklearn\\linear_model\\_logistic.py:458: ConvergenceWarning: lbfgs failed to converge (status=1):\n",
      "STOP: TOTAL NO. of ITERATIONS REACHED LIMIT.\n",
      "\n",
      "Increase the number of iterations (max_iter) or scale the data as shown in:\n",
      "    https://scikit-learn.org/stable/modules/preprocessing.html\n",
      "Please also refer to the documentation for alternative solver options:\n",
      "    https://scikit-learn.org/stable/modules/linear_model.html#logistic-regression\n",
      "  n_iter_i = _check_optimize_result(\n"
     ]
    },
    {
     "name": "stdout",
     "output_type": "stream",
     "text": [
      "[CV 2/4] END logisticregression__C=1, logisticregression__solver=lbfgs, selectkbest__k=25;, score=0.726 total time=   1.6s\n",
      "[CV 3/4] END logisticregression__C=1, logisticregression__solver=lbfgs, selectkbest__k=25;, score=0.735 total time=   1.4s\n",
      "[CV 4/4] END logisticregression__C=1, logisticregression__solver=lbfgs, selectkbest__k=25;, score=0.687 total time=   1.2s\n",
      "[CV 1/4] END logisticregression__C=1, logisticregression__solver=liblinear, selectkbest__k=5;, score=0.712 total time=   0.7s\n",
      "[CV 2/4] END logisticregression__C=1, logisticregression__solver=liblinear, selectkbest__k=5;, score=0.726 total time=   0.6s\n",
      "[CV 3/4] END logisticregression__C=1, logisticregression__solver=liblinear, selectkbest__k=5;, score=0.711 total time=   0.6s\n",
      "[CV 4/4] END logisticregression__C=1, logisticregression__solver=liblinear, selectkbest__k=5;, score=0.606 total time=   0.5s\n",
      "[CV 1/4] END logisticregression__C=1, logisticregression__solver=liblinear, selectkbest__k=15;, score=0.712 total time=   1.1s\n",
      "[CV 2/4] END logisticregression__C=1, logisticregression__solver=liblinear, selectkbest__k=15;, score=0.715 total time=   1.0s\n",
      "[CV 3/4] END logisticregression__C=1, logisticregression__solver=liblinear, selectkbest__k=15;, score=0.726 total time=   1.1s\n",
      "[CV 4/4] END logisticregression__C=1, logisticregression__solver=liblinear, selectkbest__k=15;, score=0.658 total time=   1.1s\n",
      "[CV 1/4] END logisticregression__C=1, logisticregression__solver=liblinear, selectkbest__k=25;, score=0.711 total time=   2.0s\n",
      "[CV 2/4] END logisticregression__C=1, logisticregression__solver=liblinear, selectkbest__k=25;, score=0.726 total time=   2.6s\n",
      "[CV 3/4] END logisticregression__C=1, logisticregression__solver=liblinear, selectkbest__k=25;, score=0.735 total time=   2.2s\n",
      "[CV 4/4] END logisticregression__C=1, logisticregression__solver=liblinear, selectkbest__k=25;, score=0.691 total time=   2.4s\n",
      "[CV 1/4] END logisticregression__C=5, logisticregression__solver=lbfgs, selectkbest__k=5;, score=0.712 total time=   0.5s\n",
      "[CV 2/4] END logisticregression__C=5, logisticregression__solver=lbfgs, selectkbest__k=5;, score=0.726 total time=   0.5s\n",
      "[CV 3/4] END logisticregression__C=5, logisticregression__solver=lbfgs, selectkbest__k=5;, score=0.711 total time=   0.5s\n",
      "[CV 4/4] END logisticregression__C=5, logisticregression__solver=lbfgs, selectkbest__k=5;, score=0.603 total time=   0.6s\n",
      "[CV 1/4] END logisticregression__C=5, logisticregression__solver=lbfgs, selectkbest__k=15;, score=0.712 total time=   0.8s\n",
      "[CV 2/4] END logisticregression__C=5, logisticregression__solver=lbfgs, selectkbest__k=15;, score=0.719 total time=   0.8s\n",
      "[CV 3/4] END logisticregression__C=5, logisticregression__solver=lbfgs, selectkbest__k=15;, score=0.726 total time=   0.8s\n",
      "[CV 4/4] END logisticregression__C=5, logisticregression__solver=lbfgs, selectkbest__k=15;, score=0.667 total time=   0.7s\n",
      "[CV 1/4] END logisticregression__C=5, logisticregression__solver=lbfgs, selectkbest__k=25;, score=0.719 total time=   1.2s\n"
     ]
    },
    {
     "name": "stderr",
     "output_type": "stream",
     "text": [
      "c:\\Users\\cleme\\Desktop\\personal-projects\\ml-personal-train\\venv\\lib\\site-packages\\sklearn\\linear_model\\_logistic.py:458: ConvergenceWarning: lbfgs failed to converge (status=1):\n",
      "STOP: TOTAL NO. of ITERATIONS REACHED LIMIT.\n",
      "\n",
      "Increase the number of iterations (max_iter) or scale the data as shown in:\n",
      "    https://scikit-learn.org/stable/modules/preprocessing.html\n",
      "Please also refer to the documentation for alternative solver options:\n",
      "    https://scikit-learn.org/stable/modules/linear_model.html#logistic-regression\n",
      "  n_iter_i = _check_optimize_result(\n"
     ]
    },
    {
     "name": "stdout",
     "output_type": "stream",
     "text": [
      "[CV 2/4] END logisticregression__C=5, logisticregression__solver=lbfgs, selectkbest__k=25;, score=0.726 total time=   1.6s\n",
      "[CV 3/4] END logisticregression__C=5, logisticregression__solver=lbfgs, selectkbest__k=25;, score=0.744 total time=   1.7s\n",
      "[CV 4/4] END logisticregression__C=5, logisticregression__solver=lbfgs, selectkbest__k=25;, score=0.687 total time=   1.3s\n",
      "[CV 1/4] END logisticregression__C=5, logisticregression__solver=liblinear, selectkbest__k=5;, score=0.712 total time=   0.6s\n",
      "[CV 2/4] END logisticregression__C=5, logisticregression__solver=liblinear, selectkbest__k=5;, score=0.726 total time=   0.6s\n",
      "[CV 3/4] END logisticregression__C=5, logisticregression__solver=liblinear, selectkbest__k=5;, score=0.711 total time=   0.5s\n",
      "[CV 4/4] END logisticregression__C=5, logisticregression__solver=liblinear, selectkbest__k=5;, score=0.603 total time=   0.5s\n",
      "[CV 1/4] END logisticregression__C=5, logisticregression__solver=liblinear, selectkbest__k=15;, score=0.712 total time=   1.1s\n",
      "[CV 2/4] END logisticregression__C=5, logisticregression__solver=liblinear, selectkbest__k=15;, score=0.719 total time=   1.1s\n",
      "[CV 3/4] END logisticregression__C=5, logisticregression__solver=liblinear, selectkbest__k=15;, score=0.726 total time=   1.1s\n",
      "[CV 4/4] END logisticregression__C=5, logisticregression__solver=liblinear, selectkbest__k=15;, score=0.658 total time=   1.2s\n",
      "[CV 1/4] END logisticregression__C=5, logisticregression__solver=liblinear, selectkbest__k=25;, score=0.719 total time=   2.1s\n",
      "[CV 2/4] END logisticregression__C=5, logisticregression__solver=liblinear, selectkbest__k=25;, score=0.726 total time=   2.7s\n",
      "[CV 3/4] END logisticregression__C=5, logisticregression__solver=liblinear, selectkbest__k=25;, score=0.744 total time=   2.4s\n",
      "[CV 4/4] END logisticregression__C=5, logisticregression__solver=liblinear, selectkbest__k=25;, score=0.687 total time=   2.4s\n",
      "The average f1 score for 10 is:  0.7099868116138167\n"
     ]
    }
   ],
   "source": [
    "from sklearn.model_selection import train_test_split\n",
    "f1_score_list = []\n",
    "k=10\n",
    "for _ in range(k):\n",
    "    # Split data\n",
    "    X_train, X_test, y_train, y_test = train_test_split(df.drop(['Class'], axis=1), df['Class'], test_size=0.2)\n",
    "    \n",
    "    # Train model\n",
    "    grid = GridSearchCV(pipeline, param_grid=params_grid, cv=4, scoring=\"f1\", verbose=3)\n",
    "    grid.fit(X_train, y_train)\n",
    "    model = grid.best_estimator_\n",
    "    model.fit(X_train, y_train)\n",
    "\n",
    "    # Evaluate model\n",
    "    y_pred = pd.DataFrame(model.predict_proba(X_test)[:,-1].round())\n",
    "    y_test = pd.DataFrame(y_test)\n",
    "    f1_score_list.append(f1_score(y_test, y_pred))\n",
    "\n",
    "print(f\"The average f1 score for {k} is: \", sum(f1_score_list)/k)\n"
   ]
  },
  {
   "cell_type": "markdown",
   "metadata": {},
   "source": [
    "For LogisticRegression, we manage to have an average f1 score of 0.71 for 10 differents train/test splits."
   ]
  },
  {
   "cell_type": "code",
   "execution_count": null,
   "metadata": {},
   "outputs": [],
   "source": []
  },
  {
   "attachments": {},
   "cell_type": "markdown",
   "metadata": {},
   "source": [
    "### More model evaluation & results visualization"
   ]
  },
  {
   "cell_type": "code",
   "execution_count": 126,
   "metadata": {},
   "outputs": [
    {
     "data": {
      "text/html": [
       "<div>\n",
       "<style scoped>\n",
       "    .dataframe tbody tr th:only-of-type {\n",
       "        vertical-align: middle;\n",
       "    }\n",
       "\n",
       "    .dataframe tbody tr th {\n",
       "        vertical-align: top;\n",
       "    }\n",
       "\n",
       "    .dataframe thead th {\n",
       "        text-align: right;\n",
       "    }\n",
       "</style>\n",
       "<table border=\"1\" class=\"dataframe\">\n",
       "  <thead>\n",
       "    <tr style=\"text-align: right;\">\n",
       "      <th></th>\n",
       "      <th>Not Fraud</th>\n",
       "      <th>Fraud</th>\n",
       "      <th>accuracy</th>\n",
       "      <th>macro avg</th>\n",
       "      <th>weighted avg</th>\n",
       "    </tr>\n",
       "  </thead>\n",
       "  <tbody>\n",
       "    <tr>\n",
       "      <th>precision</th>\n",
       "      <td>0.999297</td>\n",
       "      <td>0.917808</td>\n",
       "      <td>0.999192</td>\n",
       "      <td>0.958553</td>\n",
       "      <td>0.999144</td>\n",
       "    </tr>\n",
       "    <tr>\n",
       "      <th>recall</th>\n",
       "      <td>0.999894</td>\n",
       "      <td>0.626168</td>\n",
       "      <td>0.999192</td>\n",
       "      <td>0.813031</td>\n",
       "      <td>0.999192</td>\n",
       "    </tr>\n",
       "    <tr>\n",
       "      <th>f1-score</th>\n",
       "      <td>0.999596</td>\n",
       "      <td>0.744444</td>\n",
       "      <td>0.999192</td>\n",
       "      <td>0.872020</td>\n",
       "      <td>0.999116</td>\n",
       "    </tr>\n",
       "    <tr>\n",
       "      <th>support</th>\n",
       "      <td>56855.000000</td>\n",
       "      <td>107.000000</td>\n",
       "      <td>0.999192</td>\n",
       "      <td>56962.000000</td>\n",
       "      <td>56962.000000</td>\n",
       "    </tr>\n",
       "  </tbody>\n",
       "</table>\n",
       "</div>"
      ],
      "text/plain": [
       "              Not Fraud       Fraud  accuracy     macro avg  weighted avg\n",
       "precision      0.999297    0.917808  0.999192      0.958553      0.999144\n",
       "recall         0.999894    0.626168  0.999192      0.813031      0.999192\n",
       "f1-score       0.999596    0.744444  0.999192      0.872020      0.999116\n",
       "support    56855.000000  107.000000  0.999192  56962.000000  56962.000000"
      ]
     },
     "execution_count": 126,
     "metadata": {},
     "output_type": "execute_result"
    }
   ],
   "source": [
    "from sklearn import metrics\n",
    "pd.DataFrame(metrics.classification_report(y_test, y_pred, output_dict=True, target_names=['Not Fraud', 'Fraud']))"
   ]
  },
  {
   "cell_type": "code",
   "execution_count": 127,
   "metadata": {},
   "outputs": [
    {
     "data": {
      "text/plain": [
       "<Axes: xlabel='Predicted', ylabel='Actual'>"
      ]
     },
     "execution_count": 127,
     "metadata": {},
     "output_type": "execute_result"
    },
    {
     "data": {
      "image/png": "[encoded data removed]",
      "text/plain": [
       "<Figure size 640x480 with 2 Axes>"
      ]
     },
     "metadata": {},
     "output_type": "display_data"
    }
   ],
   "source": [
    "import seaborn as sns\n",
    "confusion_matrix = pd.crosstab(y_test.values.T, y_pred.values.T, rownames=['Actual'], colnames=['Predicted'])\n",
    "sns.heatmap(confusion_matrix, annot=True, cmap='Blues', fmt='g')"
   ]
  }
 ],
 "metadata": {
  "kernelspec": {
   "display_name": "venv",
   "language": "python",
   "name": "python3"
  },
  "language_info": {
   "codemirror_mode": {
    "name": "ipython",
    "version": 3
   },
   "file_extension": ".py",
   "mimetype": "text/x-python",
   "name": "python",
   "nbconvert_exporter": "python",
   "pygments_lexer": "ipython3",
   "version": "3.9.13"
  },
  "orig_nbformat": 4
 },
 "nbformat": 4,
 "nbformat_minor": 2
}
