{
 "cells": [
  {
   "attachments": {},
   "cell_type": "markdown",
   "metadata": {},
   "source": [
    "# Pipeline"
   ]
  },
  {
   "attachments": {},
   "cell_type": "markdown",
   "metadata": {},
   "source": [
    "### Data input"
   ]
  },
  {
   "cell_type": "code",
   "execution_count": 11,
   "metadata": {},
   "outputs": [
    {
     "ename": "KeyboardInterrupt",
     "evalue": "",
     "output_type": "error",
     "traceback": [
      "\u001b[1;31m---------------------------------------------------------------------------\u001b[0m",
      "\u001b[1;31mKeyboardInterrupt\u001b[0m                         Traceback (most recent call last)",
      "Cell \u001b[1;32mIn[11], line 5\u001b[0m\n\u001b[0;32m      3\u001b[0m \u001b[39m# Importing the dataset\u001b[39;00m\n\u001b[0;32m      4\u001b[0m df \u001b[39m=\u001b[39m pd\u001b[39m.\u001b[39mread_csv(\u001b[39m'\u001b[39m\u001b[39mdata/creditcard.csv\u001b[39m\u001b[39m'\u001b[39m)\n\u001b[1;32m----> 5\u001b[0m df \u001b[39m=\u001b[39m df\u001b[39m.\u001b[39;49mdrop([\u001b[39m'\u001b[39;49m\u001b[39mTime\u001b[39;49m\u001b[39m'\u001b[39;49m], axis\u001b[39m=\u001b[39;49m\u001b[39m1\u001b[39;49m)\n\u001b[0;32m      6\u001b[0m df\u001b[39m.\u001b[39mreset_index(drop\u001b[39m=\u001b[39m\u001b[39mTrue\u001b[39;00m, inplace\u001b[39m=\u001b[39m\u001b[39mTrue\u001b[39;00m)\n",
      "File \u001b[1;32mc:\\Users\\cleme\\Desktop\\personal-projects\\creditcard-fraud-ML\\venv\\lib\\site-packages\\pandas\\core\\frame.py:5258\u001b[0m, in \u001b[0;36mDataFrame.drop\u001b[1;34m(self, labels, axis, index, columns, level, inplace, errors)\u001b[0m\n\u001b[0;32m   5110\u001b[0m \u001b[39mdef\u001b[39;00m \u001b[39mdrop\u001b[39m(\n\u001b[0;32m   5111\u001b[0m     \u001b[39mself\u001b[39m,\n\u001b[0;32m   5112\u001b[0m     labels: IndexLabel \u001b[39m=\u001b[39m \u001b[39mNone\u001b[39;00m,\n\u001b[1;32m   (...)\u001b[0m\n\u001b[0;32m   5119\u001b[0m     errors: IgnoreRaise \u001b[39m=\u001b[39m \u001b[39m\"\u001b[39m\u001b[39mraise\u001b[39m\u001b[39m\"\u001b[39m,\n\u001b[0;32m   5120\u001b[0m ) \u001b[39m-\u001b[39m\u001b[39m>\u001b[39m DataFrame \u001b[39m|\u001b[39m \u001b[39mNone\u001b[39;00m:\n\u001b[0;32m   5121\u001b[0m \u001b[39m    \u001b[39m\u001b[39m\"\"\"\u001b[39;00m\n\u001b[0;32m   5122\u001b[0m \u001b[39m    Drop specified labels from rows or columns.\u001b[39;00m\n\u001b[0;32m   5123\u001b[0m \n\u001b[1;32m   (...)\u001b[0m\n\u001b[0;32m   5256\u001b[0m \u001b[39m            weight  1.0     0.8\u001b[39;00m\n\u001b[0;32m   5257\u001b[0m \u001b[39m    \"\"\"\u001b[39;00m\n\u001b[1;32m-> 5258\u001b[0m     \u001b[39mreturn\u001b[39;00m \u001b[39msuper\u001b[39;49m()\u001b[39m.\u001b[39;49mdrop(\n\u001b[0;32m   5259\u001b[0m         labels\u001b[39m=\u001b[39;49mlabels,\n\u001b[0;32m   5260\u001b[0m         axis\u001b[39m=\u001b[39;49maxis,\n\u001b[0;32m   5261\u001b[0m         index\u001b[39m=\u001b[39;49mindex,\n\u001b[0;32m   5262\u001b[0m         columns\u001b[39m=\u001b[39;49mcolumns,\n\u001b[0;32m   5263\u001b[0m         level\u001b[39m=\u001b[39;49mlevel,\n\u001b[0;32m   5264\u001b[0m         inplace\u001b[39m=\u001b[39;49minplace,\n\u001b[0;32m   5265\u001b[0m         errors\u001b[39m=\u001b[39;49merrors,\n\u001b[0;32m   5266\u001b[0m     )\n",
      "File \u001b[1;32mc:\\Users\\cleme\\Desktop\\personal-projects\\creditcard-fraud-ML\\venv\\lib\\site-packages\\pandas\\core\\generic.py:4549\u001b[0m, in \u001b[0;36mNDFrame.drop\u001b[1;34m(self, labels, axis, index, columns, level, inplace, errors)\u001b[0m\n\u001b[0;32m   4547\u001b[0m \u001b[39mfor\u001b[39;00m axis, labels \u001b[39min\u001b[39;00m axes\u001b[39m.\u001b[39mitems():\n\u001b[0;32m   4548\u001b[0m     \u001b[39mif\u001b[39;00m labels \u001b[39mis\u001b[39;00m \u001b[39mnot\u001b[39;00m \u001b[39mNone\u001b[39;00m:\n\u001b[1;32m-> 4549\u001b[0m         obj \u001b[39m=\u001b[39m obj\u001b[39m.\u001b[39;49m_drop_axis(labels, axis, level\u001b[39m=\u001b[39;49mlevel, errors\u001b[39m=\u001b[39;49merrors)\n\u001b[0;32m   4551\u001b[0m \u001b[39mif\u001b[39;00m inplace:\n\u001b[0;32m   4552\u001b[0m     \u001b[39mself\u001b[39m\u001b[39m.\u001b[39m_update_inplace(obj)\n",
      "File \u001b[1;32mc:\\Users\\cleme\\Desktop\\personal-projects\\creditcard-fraud-ML\\venv\\lib\\site-packages\\pandas\\core\\generic.py:4630\u001b[0m, in \u001b[0;36mNDFrame._drop_axis\u001b[1;34m(self, labels, axis, level, errors, only_slice)\u001b[0m\n\u001b[0;32m   4627\u001b[0m     new_axis \u001b[39m=\u001b[39m axis\u001b[39m.\u001b[39mtake(indexer)\n\u001b[0;32m   4629\u001b[0m bm_axis \u001b[39m=\u001b[39m \u001b[39mself\u001b[39m\u001b[39m.\u001b[39mndim \u001b[39m-\u001b[39m axis_num \u001b[39m-\u001b[39m \u001b[39m1\u001b[39m\n\u001b[1;32m-> 4630\u001b[0m new_mgr \u001b[39m=\u001b[39m \u001b[39mself\u001b[39;49m\u001b[39m.\u001b[39;49m_mgr\u001b[39m.\u001b[39;49mreindex_indexer(\n\u001b[0;32m   4631\u001b[0m     new_axis,\n\u001b[0;32m   4632\u001b[0m     indexer,\n\u001b[0;32m   4633\u001b[0m     axis\u001b[39m=\u001b[39;49mbm_axis,\n\u001b[0;32m   4634\u001b[0m     allow_dups\u001b[39m=\u001b[39;49m\u001b[39mTrue\u001b[39;49;00m,\n\u001b[0;32m   4635\u001b[0m     copy\u001b[39m=\u001b[39;49m\u001b[39mNone\u001b[39;49;00m,\n\u001b[0;32m   4636\u001b[0m     only_slice\u001b[39m=\u001b[39;49monly_slice,\n\u001b[0;32m   4637\u001b[0m )\n\u001b[0;32m   4638\u001b[0m result \u001b[39m=\u001b[39m \u001b[39mself\u001b[39m\u001b[39m.\u001b[39m_constructor(new_mgr)\n\u001b[0;32m   4639\u001b[0m \u001b[39mif\u001b[39;00m \u001b[39mself\u001b[39m\u001b[39m.\u001b[39mndim \u001b[39m==\u001b[39m \u001b[39m1\u001b[39m:\n",
      "File \u001b[1;32mc:\\Users\\cleme\\Desktop\\personal-projects\\creditcard-fraud-ML\\venv\\lib\\site-packages\\pandas\\core\\internals\\managers.py:740\u001b[0m, in \u001b[0;36mBaseBlockManager.reindex_indexer\u001b[1;34m(self, new_axis, indexer, axis, fill_value, allow_dups, copy, only_slice, use_na_proxy)\u001b[0m\n\u001b[0;32m    737\u001b[0m     \u001b[39mraise\u001b[39;00m \u001b[39mIndexError\u001b[39;00m(\u001b[39m\"\u001b[39m\u001b[39mRequested axis not found in manager\u001b[39m\u001b[39m\"\u001b[39m)\n\u001b[0;32m    739\u001b[0m \u001b[39mif\u001b[39;00m axis \u001b[39m==\u001b[39m \u001b[39m0\u001b[39m:\n\u001b[1;32m--> 740\u001b[0m     new_blocks \u001b[39m=\u001b[39m \u001b[39mself\u001b[39;49m\u001b[39m.\u001b[39;49m_slice_take_blocks_ax0(\n\u001b[0;32m    741\u001b[0m         indexer,\n\u001b[0;32m    742\u001b[0m         fill_value\u001b[39m=\u001b[39;49mfill_value,\n\u001b[0;32m    743\u001b[0m         only_slice\u001b[39m=\u001b[39;49monly_slice,\n\u001b[0;32m    744\u001b[0m         use_na_proxy\u001b[39m=\u001b[39;49muse_na_proxy,\n\u001b[0;32m    745\u001b[0m     )\n\u001b[0;32m    746\u001b[0m \u001b[39melse\u001b[39;00m:\n\u001b[0;32m    747\u001b[0m     new_blocks \u001b[39m=\u001b[39m [\n\u001b[0;32m    748\u001b[0m         blk\u001b[39m.\u001b[39mtake_nd(\n\u001b[0;32m    749\u001b[0m             indexer,\n\u001b[1;32m   (...)\u001b[0m\n\u001b[0;32m    755\u001b[0m         \u001b[39mfor\u001b[39;00m blk \u001b[39min\u001b[39;00m \u001b[39mself\u001b[39m\u001b[39m.\u001b[39mblocks\n\u001b[0;32m    756\u001b[0m     ]\n",
      "File \u001b[1;32mc:\\Users\\cleme\\Desktop\\personal-projects\\creditcard-fraud-ML\\venv\\lib\\site-packages\\pandas\\core\\internals\\managers.py:898\u001b[0m, in \u001b[0;36mBaseBlockManager._slice_take_blocks_ax0\u001b[1;34m(self, slice_or_indexer, fill_value, only_slice, use_na_proxy)\u001b[0m\n\u001b[0;32m    896\u001b[0m                     blocks\u001b[39m.\u001b[39mappend(nb)\n\u001b[0;32m    897\u001b[0m             \u001b[39melse\u001b[39;00m:\n\u001b[1;32m--> 898\u001b[0m                 nb \u001b[39m=\u001b[39m blk\u001b[39m.\u001b[39;49mtake_nd(taker, axis\u001b[39m=\u001b[39;49m\u001b[39m0\u001b[39;49m, new_mgr_locs\u001b[39m=\u001b[39;49mmgr_locs)\n\u001b[0;32m    899\u001b[0m                 blocks\u001b[39m.\u001b[39mappend(nb)\n\u001b[0;32m    901\u001b[0m \u001b[39mreturn\u001b[39;00m blocks\n",
      "File \u001b[1;32mc:\\Users\\cleme\\Desktop\\personal-projects\\creditcard-fraud-ML\\venv\\lib\\site-packages\\pandas\\core\\internals\\blocks.py:945\u001b[0m, in \u001b[0;36mBlock.take_nd\u001b[1;34m(self, indexer, axis, new_mgr_locs, fill_value)\u001b[0m\n\u001b[0;32m    942\u001b[0m     allow_fill \u001b[39m=\u001b[39m \u001b[39mTrue\u001b[39;00m\n\u001b[0;32m    944\u001b[0m \u001b[39m# Note: algos.take_nd has upcast logic similar to coerce_to_target_dtype\u001b[39;00m\n\u001b[1;32m--> 945\u001b[0m new_values \u001b[39m=\u001b[39m algos\u001b[39m.\u001b[39;49mtake_nd(\n\u001b[0;32m    946\u001b[0m     values, indexer, axis\u001b[39m=\u001b[39;49maxis, allow_fill\u001b[39m=\u001b[39;49mallow_fill, fill_value\u001b[39m=\u001b[39;49mfill_value\n\u001b[0;32m    947\u001b[0m )\n\u001b[0;32m    949\u001b[0m \u001b[39m# Called from three places in managers, all of which satisfy\u001b[39;00m\n\u001b[0;32m    950\u001b[0m \u001b[39m#  these assertions\u001b[39;00m\n\u001b[0;32m    951\u001b[0m \u001b[39mif\u001b[39;00m \u001b[39misinstance\u001b[39m(\u001b[39mself\u001b[39m, ExtensionBlock):\n\u001b[0;32m    952\u001b[0m     \u001b[39m# NB: in this case, the 'axis' kwarg will be ignored in the\u001b[39;00m\n\u001b[0;32m    953\u001b[0m     \u001b[39m#  algos.take_nd call above.\u001b[39;00m\n",
      "File \u001b[1;32mc:\\Users\\cleme\\Desktop\\personal-projects\\creditcard-fraud-ML\\venv\\lib\\site-packages\\pandas\\core\\array_algos\\take.py:117\u001b[0m, in \u001b[0;36mtake_nd\u001b[1;34m(arr, indexer, axis, fill_value, allow_fill)\u001b[0m\n\u001b[0;32m    114\u001b[0m     \u001b[39mreturn\u001b[39;00m arr\u001b[39m.\u001b[39mtake(indexer, fill_value\u001b[39m=\u001b[39mfill_value, allow_fill\u001b[39m=\u001b[39mallow_fill)\n\u001b[0;32m    116\u001b[0m arr \u001b[39m=\u001b[39m np\u001b[39m.\u001b[39masarray(arr)\n\u001b[1;32m--> 117\u001b[0m \u001b[39mreturn\u001b[39;00m _take_nd_ndarray(arr, indexer, axis, fill_value, allow_fill)\n",
      "\u001b[1;31mKeyboardInterrupt\u001b[0m: "
     ]
    }
   ],
   "source": [
    "import pandas as pd\n",
    "import matplotlib.pyplot as plt\n",
    "\n",
    "# Importing the dataset\n",
    "df = pd.read_csv('data/creditcard.csv')\n",
    "df = df.drop(['Time'], axis=1)\n",
    "df.reset_index(drop=True, inplace=True)"
   ]
  },
  {
   "attachments": {},
   "cell_type": "markdown",
   "metadata": {},
   "source": [
    "### Data preprocessing"
   ]
  },
  {
   "attachments": {},
   "cell_type": "markdown",
   "metadata": {},
   "source": [
    "### Model hyperparameter tuning"
   ]
  },
  {
   "cell_type": "code",
   "execution_count": 44,
   "metadata": {},
   "outputs": [],
   "source": [
    "from sklearn.preprocessing import RobustScaler\n",
    "from sklearn.pipeline import make_pipeline\n",
    "from sklearn.model_selection import GridSearchCV\n",
    "from sklearn.feature_selection import SelectKBest\n",
    "from sklearn.linear_model import LogisticRegression\n",
    "from sklearn.metrics import f1_score, make_scorer \n",
    "\n",
    "pipeline = make_pipeline(\n",
    "    RobustScaler(),\n",
    "    SelectKBest(),\n",
    "    LogisticRegression()\n",
    ")\n",
    "\n",
    "params_grid = {\n",
    "    'selectkbest__k': [5, 15, 25],\n",
    "    'logisticregression__C': [ 0.1, 1, 5],\n",
    "    'logisticregression__solver': ['lbfgs', 'liblinear'],\n",
    "}"
   ]
  },
  {
   "attachments": {},
   "cell_type": "markdown",
   "metadata": {},
   "source": [
    "As the data set in really unbalanced, we will use the F1 score as the metric to evaluate the model performance."
   ]
  },
  {
   "cell_type": "code",
   "execution_count": 46,
   "metadata": {},
   "outputs": [
    {
     "name": "stdout",
     "output_type": "stream",
     "text": [
      "Fitting 4 folds for each of 18 candidates, totalling 72 fits\n",
      "[CV 1/4] END logisticregression__C=0.1, logisticregression__solver=lbfgs, selectkbest__k=5;, score=0.658 total time=   0.5s\n",
      "[CV 2/4] END logisticregression__C=0.1, logisticregression__solver=lbfgs, selectkbest__k=5;, score=0.704 total time=   0.5s\n",
      "[CV 3/4] END logisticregression__C=0.1, logisticregression__solver=lbfgs, selectkbest__k=5;, score=0.649 total time=   0.5s\n",
      "[CV 4/4] END logisticregression__C=0.1, logisticregression__solver=lbfgs, selectkbest__k=5;, score=0.704 total time=   0.4s\n",
      "[CV 1/4] END logisticregression__C=0.1, logisticregression__solver=lbfgs, selectkbest__k=15;, score=0.675 total time=   0.8s\n",
      "[CV 2/4] END logisticregression__C=0.1, logisticregression__solver=lbfgs, selectkbest__k=15;, score=0.759 total time=   0.7s\n",
      "[CV 3/4] END logisticregression__C=0.1, logisticregression__solver=lbfgs, selectkbest__k=15;, score=0.679 total time=   0.7s\n",
      "[CV 4/4] END logisticregression__C=0.1, logisticregression__solver=lbfgs, selectkbest__k=15;, score=0.713 total time=   0.8s\n"
     ]
    },
    {
     "name": "stderr",
     "output_type": "stream",
     "text": [
      "c:\\Users\\cleme\\Desktop\\personal-projects\\creditcard-fraud-ML\\venv\\lib\\site-packages\\sklearn\\linear_model\\_logistic.py:458: ConvergenceWarning: lbfgs failed to converge (status=1):\n",
      "STOP: TOTAL NO. of ITERATIONS REACHED LIMIT.\n",
      "\n",
      "Increase the number of iterations (max_iter) or scale the data as shown in:\n",
      "    https://scikit-learn.org/stable/modules/preprocessing.html\n",
      "Please also refer to the documentation for alternative solver options:\n",
      "    https://scikit-learn.org/stable/modules/linear_model.html#logistic-regression\n",
      "  n_iter_i = _check_optimize_result(\n"
     ]
    },
    {
     "name": "stdout",
     "output_type": "stream",
     "text": [
      "[CV 1/4] END logisticregression__C=0.1, logisticregression__solver=lbfgs, selectkbest__k=25;, score=0.680 total time=   1.5s\n",
      "[CV 2/4] END logisticregression__C=0.1, logisticregression__solver=lbfgs, selectkbest__k=25;, score=0.724 total time=   1.3s\n",
      "[CV 3/4] END logisticregression__C=0.1, logisticregression__solver=lbfgs, selectkbest__k=25;, score=0.708 total time=   1.3s\n"
     ]
    },
    {
     "name": "stderr",
     "output_type": "stream",
     "text": [
      "c:\\Users\\cleme\\Desktop\\personal-projects\\creditcard-fraud-ML\\venv\\lib\\site-packages\\sklearn\\linear_model\\_logistic.py:458: ConvergenceWarning: lbfgs failed to converge (status=1):\n",
      "STOP: TOTAL NO. of ITERATIONS REACHED LIMIT.\n",
      "\n",
      "Increase the number of iterations (max_iter) or scale the data as shown in:\n",
      "    https://scikit-learn.org/stable/modules/preprocessing.html\n",
      "Please also refer to the documentation for alternative solver options:\n",
      "    https://scikit-learn.org/stable/modules/linear_model.html#logistic-regression\n",
      "  n_iter_i = _check_optimize_result(\n"
     ]
    },
    {
     "name": "stdout",
     "output_type": "stream",
     "text": [
      "[CV 4/4] END logisticregression__C=0.1, logisticregression__solver=lbfgs, selectkbest__k=25;, score=0.692 total time=   1.6s\n",
      "[CV 1/4] END logisticregression__C=0.1, logisticregression__solver=liblinear, selectkbest__k=5;, score=0.658 total time=   0.5s\n",
      "[CV 2/4] END logisticregression__C=0.1, logisticregression__solver=liblinear, selectkbest__k=5;, score=0.708 total time=   0.5s\n",
      "[CV 3/4] END logisticregression__C=0.1, logisticregression__solver=liblinear, selectkbest__k=5;, score=0.636 total time=   0.6s\n",
      "[CV 4/4] END logisticregression__C=0.1, logisticregression__solver=liblinear, selectkbest__k=5;, score=0.688 total time=   0.5s\n",
      "[CV 1/4] END logisticregression__C=0.1, logisticregression__solver=liblinear, selectkbest__k=15;, score=0.667 total time=   0.9s\n",
      "[CV 2/4] END logisticregression__C=0.1, logisticregression__solver=liblinear, selectkbest__k=15;, score=0.736 total time=   0.9s\n",
      "[CV 3/4] END logisticregression__C=0.1, logisticregression__solver=liblinear, selectkbest__k=15;, score=0.645 total time=   0.9s\n",
      "[CV 4/4] END logisticregression__C=0.1, logisticregression__solver=liblinear, selectkbest__k=15;, score=0.709 total time=   1.0s\n",
      "[CV 1/4] END logisticregression__C=0.1, logisticregression__solver=liblinear, selectkbest__k=25;, score=0.675 total time=   2.2s\n",
      "[CV 2/4] END logisticregression__C=0.1, logisticregression__solver=liblinear, selectkbest__k=25;, score=0.728 total time=   1.8s\n",
      "[CV 3/4] END logisticregression__C=0.1, logisticregression__solver=liblinear, selectkbest__k=25;, score=0.684 total time=   2.0s\n",
      "[CV 4/4] END logisticregression__C=0.1, logisticregression__solver=liblinear, selectkbest__k=25;, score=0.675 total time=   1.9s\n",
      "[CV 1/4] END logisticregression__C=1, logisticregression__solver=lbfgs, selectkbest__k=5;, score=0.658 total time=   0.4s\n",
      "[CV 2/4] END logisticregression__C=1, logisticregression__solver=lbfgs, selectkbest__k=5;, score=0.704 total time=   0.5s\n",
      "[CV 3/4] END logisticregression__C=1, logisticregression__solver=lbfgs, selectkbest__k=5;, score=0.649 total time=   0.5s\n",
      "[CV 4/4] END logisticregression__C=1, logisticregression__solver=lbfgs, selectkbest__k=5;, score=0.704 total time=   0.5s\n",
      "[CV 1/4] END logisticregression__C=1, logisticregression__solver=lbfgs, selectkbest__k=15;, score=0.671 total time=   0.8s\n",
      "[CV 2/4] END logisticregression__C=1, logisticregression__solver=lbfgs, selectkbest__k=15;, score=0.774 total time=   0.8s\n",
      "[CV 3/4] END logisticregression__C=1, logisticregression__solver=lbfgs, selectkbest__k=15;, score=0.688 total time=   0.8s\n",
      "[CV 4/4] END logisticregression__C=1, logisticregression__solver=lbfgs, selectkbest__k=15;, score=0.688 total time=   0.8s\n"
     ]
    },
    {
     "name": "stderr",
     "output_type": "stream",
     "text": [
      "c:\\Users\\cleme\\Desktop\\personal-projects\\creditcard-fraud-ML\\venv\\lib\\site-packages\\sklearn\\linear_model\\_logistic.py:458: ConvergenceWarning: lbfgs failed to converge (status=1):\n",
      "STOP: TOTAL NO. of ITERATIONS REACHED LIMIT.\n",
      "\n",
      "Increase the number of iterations (max_iter) or scale the data as shown in:\n",
      "    https://scikit-learn.org/stable/modules/preprocessing.html\n",
      "Please also refer to the documentation for alternative solver options:\n",
      "    https://scikit-learn.org/stable/modules/linear_model.html#logistic-regression\n",
      "  n_iter_i = _check_optimize_result(\n"
     ]
    },
    {
     "name": "stdout",
     "output_type": "stream",
     "text": [
      "[CV 1/4] END logisticregression__C=1, logisticregression__solver=lbfgs, selectkbest__k=25;, score=0.675 total time=   1.4s\n"
     ]
    },
    {
     "name": "stderr",
     "output_type": "stream",
     "text": [
      "c:\\Users\\cleme\\Desktop\\personal-projects\\creditcard-fraud-ML\\venv\\lib\\site-packages\\sklearn\\linear_model\\_logistic.py:458: ConvergenceWarning: lbfgs failed to converge (status=1):\n",
      "STOP: TOTAL NO. of ITERATIONS REACHED LIMIT.\n",
      "\n",
      "Increase the number of iterations (max_iter) or scale the data as shown in:\n",
      "    https://scikit-learn.org/stable/modules/preprocessing.html\n",
      "Please also refer to the documentation for alternative solver options:\n",
      "    https://scikit-learn.org/stable/modules/linear_model.html#logistic-regression\n",
      "  n_iter_i = _check_optimize_result(\n"
     ]
    },
    {
     "name": "stdout",
     "output_type": "stream",
     "text": [
      "[CV 2/4] END logisticregression__C=1, logisticregression__solver=lbfgs, selectkbest__k=25;, score=0.727 total time=   1.5s\n",
      "[CV 3/4] END logisticregression__C=1, logisticregression__solver=lbfgs, selectkbest__k=25;, score=0.728 total time=   1.2s\n"
     ]
    },
    {
     "name": "stderr",
     "output_type": "stream",
     "text": [
      "c:\\Users\\cleme\\Desktop\\personal-projects\\creditcard-fraud-ML\\venv\\lib\\site-packages\\sklearn\\linear_model\\_logistic.py:458: ConvergenceWarning: lbfgs failed to converge (status=1):\n",
      "STOP: TOTAL NO. of ITERATIONS REACHED LIMIT.\n",
      "\n",
      "Increase the number of iterations (max_iter) or scale the data as shown in:\n",
      "    https://scikit-learn.org/stable/modules/preprocessing.html\n",
      "Please also refer to the documentation for alternative solver options:\n",
      "    https://scikit-learn.org/stable/modules/linear_model.html#logistic-regression\n",
      "  n_iter_i = _check_optimize_result(\n"
     ]
    },
    {
     "name": "stdout",
     "output_type": "stream",
     "text": [
      "[CV 4/4] END logisticregression__C=1, logisticregression__solver=lbfgs, selectkbest__k=25;, score=0.692 total time=   1.5s\n",
      "[CV 1/4] END logisticregression__C=1, logisticregression__solver=liblinear, selectkbest__k=5;, score=0.658 total time=   0.5s\n",
      "[CV 2/4] END logisticregression__C=1, logisticregression__solver=liblinear, selectkbest__k=5;, score=0.704 total time=   0.6s\n",
      "[CV 3/4] END logisticregression__C=1, logisticregression__solver=liblinear, selectkbest__k=5;, score=0.649 total time=   0.6s\n",
      "[CV 4/4] END logisticregression__C=1, logisticregression__solver=liblinear, selectkbest__k=5;, score=0.704 total time=   0.5s\n",
      "[CV 1/4] END logisticregression__C=1, logisticregression__solver=liblinear, selectkbest__k=15;, score=0.675 total time=   1.0s\n",
      "[CV 2/4] END logisticregression__C=1, logisticregression__solver=liblinear, selectkbest__k=15;, score=0.766 total time=   1.2s\n",
      "[CV 3/4] END logisticregression__C=1, logisticregression__solver=liblinear, selectkbest__k=15;, score=0.679 total time=   1.0s\n",
      "[CV 4/4] END logisticregression__C=1, logisticregression__solver=liblinear, selectkbest__k=15;, score=0.713 total time=   1.1s\n",
      "[CV 1/4] END logisticregression__C=1, logisticregression__solver=liblinear, selectkbest__k=25;, score=0.680 total time=   3.3s\n",
      "[CV 2/4] END logisticregression__C=1, logisticregression__solver=liblinear, selectkbest__k=25;, score=0.732 total time=   2.1s\n",
      "[CV 3/4] END logisticregression__C=1, logisticregression__solver=liblinear, selectkbest__k=25;, score=0.713 total time=   1.9s\n",
      "[CV 4/4] END logisticregression__C=1, logisticregression__solver=liblinear, selectkbest__k=25;, score=0.684 total time=   2.2s\n",
      "[CV 1/4] END logisticregression__C=5, logisticregression__solver=lbfgs, selectkbest__k=5;, score=0.658 total time=   0.6s\n",
      "[CV 2/4] END logisticregression__C=5, logisticregression__solver=lbfgs, selectkbest__k=5;, score=0.704 total time=   0.5s\n",
      "[CV 3/4] END logisticregression__C=5, logisticregression__solver=lbfgs, selectkbest__k=5;, score=0.649 total time=   0.4s\n",
      "[CV 4/4] END logisticregression__C=5, logisticregression__solver=lbfgs, selectkbest__k=5;, score=0.704 total time=   0.5s\n",
      "[CV 1/4] END logisticregression__C=5, logisticregression__solver=lbfgs, selectkbest__k=15;, score=0.671 total time=   0.7s\n",
      "[CV 2/4] END logisticregression__C=5, logisticregression__solver=lbfgs, selectkbest__k=15;, score=0.774 total time=   0.8s\n",
      "[CV 3/4] END logisticregression__C=5, logisticregression__solver=lbfgs, selectkbest__k=15;, score=0.688 total time=   0.7s\n",
      "[CV 4/4] END logisticregression__C=5, logisticregression__solver=lbfgs, selectkbest__k=15;, score=0.688 total time=   0.8s\n"
     ]
    },
    {
     "name": "stderr",
     "output_type": "stream",
     "text": [
      "c:\\Users\\cleme\\Desktop\\personal-projects\\creditcard-fraud-ML\\venv\\lib\\site-packages\\sklearn\\linear_model\\_logistic.py:458: ConvergenceWarning: lbfgs failed to converge (status=1):\n",
      "STOP: TOTAL NO. of ITERATIONS REACHED LIMIT.\n",
      "\n",
      "Increase the number of iterations (max_iter) or scale the data as shown in:\n",
      "    https://scikit-learn.org/stable/modules/preprocessing.html\n",
      "Please also refer to the documentation for alternative solver options:\n",
      "    https://scikit-learn.org/stable/modules/linear_model.html#logistic-regression\n",
      "  n_iter_i = _check_optimize_result(\n"
     ]
    },
    {
     "name": "stdout",
     "output_type": "stream",
     "text": [
      "[CV 1/4] END logisticregression__C=5, logisticregression__solver=lbfgs, selectkbest__k=25;, score=0.675 total time=   1.4s\n"
     ]
    },
    {
     "name": "stderr",
     "output_type": "stream",
     "text": [
      "c:\\Users\\cleme\\Desktop\\personal-projects\\creditcard-fraud-ML\\venv\\lib\\site-packages\\sklearn\\linear_model\\_logistic.py:458: ConvergenceWarning: lbfgs failed to converge (status=1):\n",
      "STOP: TOTAL NO. of ITERATIONS REACHED LIMIT.\n",
      "\n",
      "Increase the number of iterations (max_iter) or scale the data as shown in:\n",
      "    https://scikit-learn.org/stable/modules/preprocessing.html\n",
      "Please also refer to the documentation for alternative solver options:\n",
      "    https://scikit-learn.org/stable/modules/linear_model.html#logistic-regression\n",
      "  n_iter_i = _check_optimize_result(\n"
     ]
    },
    {
     "name": "stdout",
     "output_type": "stream",
     "text": [
      "[CV 2/4] END logisticregression__C=5, logisticregression__solver=lbfgs, selectkbest__k=25;, score=0.735 total time=   1.5s\n",
      "[CV 3/4] END logisticregression__C=5, logisticregression__solver=lbfgs, selectkbest__k=25;, score=0.728 total time=   1.3s\n"
     ]
    },
    {
     "name": "stderr",
     "output_type": "stream",
     "text": [
      "c:\\Users\\cleme\\Desktop\\personal-projects\\creditcard-fraud-ML\\venv\\lib\\site-packages\\sklearn\\linear_model\\_logistic.py:458: ConvergenceWarning: lbfgs failed to converge (status=1):\n",
      "STOP: TOTAL NO. of ITERATIONS REACHED LIMIT.\n",
      "\n",
      "Increase the number of iterations (max_iter) or scale the data as shown in:\n",
      "    https://scikit-learn.org/stable/modules/preprocessing.html\n",
      "Please also refer to the documentation for alternative solver options:\n",
      "    https://scikit-learn.org/stable/modules/linear_model.html#logistic-regression\n",
      "  n_iter_i = _check_optimize_result(\n"
     ]
    },
    {
     "name": "stdout",
     "output_type": "stream",
     "text": [
      "[CV 4/4] END logisticregression__C=5, logisticregression__solver=lbfgs, selectkbest__k=25;, score=0.692 total time=   1.5s\n",
      "[CV 1/4] END logisticregression__C=5, logisticregression__solver=liblinear, selectkbest__k=5;, score=0.658 total time=   0.7s\n",
      "[CV 2/4] END logisticregression__C=5, logisticregression__solver=liblinear, selectkbest__k=5;, score=0.704 total time=   0.6s\n",
      "[CV 3/4] END logisticregression__C=5, logisticregression__solver=liblinear, selectkbest__k=5;, score=0.649 total time=   0.5s\n",
      "[CV 4/4] END logisticregression__C=5, logisticregression__solver=liblinear, selectkbest__k=5;, score=0.704 total time=   0.6s\n",
      "[CV 1/4] END logisticregression__C=5, logisticregression__solver=liblinear, selectkbest__k=15;, score=0.671 total time=   1.1s\n",
      "[CV 2/4] END logisticregression__C=5, logisticregression__solver=liblinear, selectkbest__k=15;, score=0.774 total time=   1.3s\n",
      "[CV 3/4] END logisticregression__C=5, logisticregression__solver=liblinear, selectkbest__k=15;, score=0.688 total time=   1.1s\n",
      "[CV 4/4] END logisticregression__C=5, logisticregression__solver=liblinear, selectkbest__k=15;, score=0.692 total time=   1.0s\n",
      "[CV 1/4] END logisticregression__C=5, logisticregression__solver=liblinear, selectkbest__k=25;, score=0.675 total time=   2.3s\n",
      "[CV 2/4] END logisticregression__C=5, logisticregression__solver=liblinear, selectkbest__k=25;, score=0.727 total time=   2.2s\n",
      "[CV 3/4] END logisticregression__C=5, logisticregression__solver=liblinear, selectkbest__k=25;, score=0.728 total time=   2.1s\n",
      "[CV 4/4] END logisticregression__C=5, logisticregression__solver=liblinear, selectkbest__k=25;, score=0.692 total time=   2.4s\n"
     ]
    }
   ],
   "source": [
    "from sklearn.model_selection import train_test_split\n",
    "f1_score_list_lg = []\n",
    "k=5\n",
    "\n",
    "# Split data\n",
    "X_train, X_test, y_train, y_test = train_test_split(df.drop(['Class'], axis=1), df['Class'], test_size=0.2)\n",
    "\n",
    "# Train model\n",
    "grid = GridSearchCV(pipeline, param_grid=params_grid, cv=4, scoring=\"f1\", verbose=3)\n",
    "grid.fit(X_train, y_train)\n",
    "model = grid.best_estimator_\n",
    "\n",
    "for _ in range(k):\n",
    "    # Evaluate model\n",
    "    X_train, X_test, y_train, y_test = train_test_split(df.drop(['Class'], axis=1), df['Class'], test_size=0.2)\n",
    "    model.fit(X_train, y_train)\n",
    "    y_pred = pd.DataFrame(model.predict_proba(X_test)[:,-1] > 0.2)\n",
    "    y_test = pd.DataFrame(y_test)\n",
    "    f1_score_list_lg.append(f1_score(y_test, y_pred))"
   ]
  },
  {
   "cell_type": "code",
   "execution_count": 49,
   "metadata": {},
   "outputs": [
    {
     "name": "stdout",
     "output_type": "stream",
     "text": [
      "The average f1 score for 5 LogisticRegression is: 0.7801885253330916, with the following parameters:\n",
      " {'logisticregression__C': 1, 'logisticregression__solver': 'liblinear', 'selectkbest__k': 15}\n"
     ]
    }
   ],
   "source": [
    "print(f\"The average f1 score for {k} LogisticRegression is: {sum(f1_score_list_lg)/k}, with the following parameters:\\n {grid.best_params_}\")"
   ]
  },
  {
   "cell_type": "markdown",
   "metadata": {},
   "source": [
    "For LogisticRegression, we manage to have an average f1 score of 0.78 for 5 differents train/test splits. We take 0.2 as the threshold of the model, to better recognize the fraud."
   ]
  },
  {
   "cell_type": "code",
   "execution_count": 52,
   "metadata": {},
   "outputs": [],
   "source": [
    "import xgboost as xgb\n",
    "\n",
    "pipeline = make_pipeline(\n",
    "    RobustScaler(),\n",
    "    SelectKBest(),\n",
    "    xgb.XGBClassifier(early_stopping_rounds=2, tree_method='hist')\n",
    ")\n",
    "\n",
    "params_grid = {\n",
    "    'selectkbest__k': [5, 15, 25],\n",
    "    'xgbclassifier__max_depth': [3, 5, 7],\n",
    "    'xgbclassifier__learning_rate': [0.1, 0.01, 0.05],\n",
    "}"
   ]
  },
  {
   "cell_type": "code",
   "execution_count": 55,
   "metadata": {},
   "outputs": [
    {
     "name": "stderr",
     "output_type": "stream",
     "text": [
      "c:\\Users\\cleme\\Desktop\\personal-projects\\creditcard-fraud-ML\\venv\\lib\\site-packages\\xgboost\\core.py:617: FutureWarning: Pass `evals` as keyword args.\n",
      "  warnings.warn(msg, FutureWarning)\n"
     ]
    },
    {
     "name": "stdout",
     "output_type": "stream",
     "text": [
      "[0]\teval-logloss:0.64452\ttrain-logloss:0.64451\n",
      "[10]\teval-logloss:0.33755\ttrain-logloss:0.33745\n",
      "[20]\teval-logloss:0.19091\ttrain-logloss:0.19075\n",
      "[30]\teval-logloss:0.11201\ttrain-logloss:0.11177\n",
      "[40]\teval-logloss:0.06722\ttrain-logloss:0.06693\n",
      "[50]\teval-logloss:0.04111\ttrain-logloss:0.04077\n",
      "[60]\teval-logloss:0.02567\ttrain-logloss:0.02528\n",
      "[70]\teval-logloss:0.01647\ttrain-logloss:0.01604\n",
      "[80]\teval-logloss:0.01097\ttrain-logloss:0.01049\n",
      "[90]\teval-logloss:0.00769\ttrain-logloss:0.00716\n",
      "[99]\teval-logloss:0.00588\ttrain-logloss:0.00530\n",
      "[0]\teval-logloss:0.64452\ttrain-logloss:0.64451\n",
      "[10]\teval-logloss:0.33755\ttrain-logloss:0.33745\n"
     ]
    },
    {
     "name": "stderr",
     "output_type": "stream",
     "text": [
      "c:\\Users\\cleme\\Desktop\\personal-projects\\creditcard-fraud-ML\\venv\\lib\\site-packages\\xgboost\\core.py:617: FutureWarning: Pass `evals` as keyword args.\n",
      "  warnings.warn(msg, FutureWarning)\n"
     ]
    },
    {
     "name": "stdout",
     "output_type": "stream",
     "text": [
      "[20]\teval-logloss:0.19091\ttrain-logloss:0.19075\n",
      "[30]\teval-logloss:0.11201\ttrain-logloss:0.11177\n",
      "[40]\teval-logloss:0.06722\ttrain-logloss:0.06693\n",
      "[50]\teval-logloss:0.04111\ttrain-logloss:0.04077\n",
      "[60]\teval-logloss:0.02567\ttrain-logloss:0.02528\n",
      "[70]\teval-logloss:0.01647\ttrain-logloss:0.01604\n",
      "[80]\teval-logloss:0.01097\ttrain-logloss:0.01049\n",
      "[90]\teval-logloss:0.00769\ttrain-logloss:0.00716\n",
      "[99]\teval-logloss:0.00588\ttrain-logloss:0.00530\n",
      "[0]\teval-logloss:0.64452\ttrain-logloss:0.64451\n",
      "[10]\teval-logloss:0.33755\ttrain-logloss:0.33745\n"
     ]
    },
    {
     "name": "stderr",
     "output_type": "stream",
     "text": [
      "c:\\Users\\cleme\\Desktop\\personal-projects\\creditcard-fraud-ML\\venv\\lib\\site-packages\\xgboost\\core.py:617: FutureWarning: Pass `evals` as keyword args.\n",
      "  warnings.warn(msg, FutureWarning)\n"
     ]
    },
    {
     "name": "stdout",
     "output_type": "stream",
     "text": [
      "[20]\teval-logloss:0.19091\ttrain-logloss:0.19075\n",
      "[30]\teval-logloss:0.11201\ttrain-logloss:0.11177\n",
      "[40]\teval-logloss:0.06722\ttrain-logloss:0.06693\n",
      "[50]\teval-logloss:0.04111\ttrain-logloss:0.04077\n",
      "[60]\teval-logloss:0.02567\ttrain-logloss:0.02528\n",
      "[70]\teval-logloss:0.01647\ttrain-logloss:0.01604\n",
      "[80]\teval-logloss:0.01097\ttrain-logloss:0.01049\n",
      "[90]\teval-logloss:0.00769\ttrain-logloss:0.00716\n",
      "[99]\teval-logloss:0.00588\ttrain-logloss:0.00530\n",
      "[0]\teval-logloss:0.64452\ttrain-logloss:0.64451\n"
     ]
    },
    {
     "name": "stderr",
     "output_type": "stream",
     "text": [
      "c:\\Users\\cleme\\Desktop\\personal-projects\\creditcard-fraud-ML\\venv\\lib\\site-packages\\xgboost\\core.py:617: FutureWarning: Pass `evals` as keyword args.\n",
      "  warnings.warn(msg, FutureWarning)\n"
     ]
    },
    {
     "name": "stdout",
     "output_type": "stream",
     "text": [
      "[10]\teval-logloss:0.33755\ttrain-logloss:0.33745\n",
      "[20]\teval-logloss:0.19091\ttrain-logloss:0.19075\n",
      "[30]\teval-logloss:0.11201\ttrain-logloss:0.11177\n",
      "[40]\teval-logloss:0.06722\ttrain-logloss:0.06693\n",
      "[50]\teval-logloss:0.04111\ttrain-logloss:0.04077\n",
      "[60]\teval-logloss:0.02567\ttrain-logloss:0.02528\n",
      "[70]\teval-logloss:0.01647\ttrain-logloss:0.01604\n",
      "[80]\teval-logloss:0.01097\ttrain-logloss:0.01049\n",
      "[90]\teval-logloss:0.00769\ttrain-logloss:0.00716\n",
      "[99]\teval-logloss:0.00588\ttrain-logloss:0.00530\n"
     ]
    },
    {
     "name": "stderr",
     "output_type": "stream",
     "text": [
      "c:\\Users\\cleme\\Desktop\\personal-projects\\creditcard-fraud-ML\\venv\\lib\\site-packages\\xgboost\\core.py:617: FutureWarning: Pass `evals` as keyword args.\n",
      "  warnings.warn(msg, FutureWarning)\n"
     ]
    },
    {
     "name": "stdout",
     "output_type": "stream",
     "text": [
      "[0]\teval-logloss:0.64452\ttrain-logloss:0.64451\n",
      "[10]\teval-logloss:0.33755\ttrain-logloss:0.33744\n",
      "[20]\teval-logloss:0.19092\ttrain-logloss:0.19074\n",
      "[30]\teval-logloss:0.11201\ttrain-logloss:0.11176\n",
      "[40]\teval-logloss:0.06718\ttrain-logloss:0.06688\n",
      "[50]\teval-logloss:0.04102\ttrain-logloss:0.04069\n",
      "[60]\teval-logloss:0.02555\ttrain-logloss:0.02518\n",
      "[70]\teval-logloss:0.01634\ttrain-logloss:0.01592\n",
      "[80]\teval-logloss:0.01085\ttrain-logloss:0.01037\n",
      "[90]\teval-logloss:0.00757\ttrain-logloss:0.00703\n",
      "[99]\teval-logloss:0.00576\ttrain-logloss:0.00517\n",
      "[0]\teval-logloss:0.64452\ttrain-logloss:0.64451\n"
     ]
    },
    {
     "name": "stderr",
     "output_type": "stream",
     "text": [
      "c:\\Users\\cleme\\Desktop\\personal-projects\\creditcard-fraud-ML\\venv\\lib\\site-packages\\xgboost\\core.py:617: FutureWarning: Pass `evals` as keyword args.\n",
      "  warnings.warn(msg, FutureWarning)\n"
     ]
    },
    {
     "name": "stdout",
     "output_type": "stream",
     "text": [
      "[10]\teval-logloss:0.33755\ttrain-logloss:0.33744\n",
      "[20]\teval-logloss:0.19092\ttrain-logloss:0.19074\n",
      "[30]\teval-logloss:0.11201\ttrain-logloss:0.11176\n",
      "[40]\teval-logloss:0.06718\ttrain-logloss:0.06688\n",
      "[50]\teval-logloss:0.04102\ttrain-logloss:0.04069\n",
      "[60]\teval-logloss:0.02555\ttrain-logloss:0.02518\n",
      "[70]\teval-logloss:0.01634\ttrain-logloss:0.01592\n",
      "[80]\teval-logloss:0.01085\ttrain-logloss:0.01037\n",
      "[90]\teval-logloss:0.00757\ttrain-logloss:0.00703\n",
      "[99]\teval-logloss:0.00576\ttrain-logloss:0.00517\n",
      "[0]\teval-logloss:0.64452\ttrain-logloss:0.64451\n"
     ]
    },
    {
     "name": "stderr",
     "output_type": "stream",
     "text": [
      "c:\\Users\\cleme\\Desktop\\personal-projects\\creditcard-fraud-ML\\venv\\lib\\site-packages\\xgboost\\core.py:617: FutureWarning: Pass `evals` as keyword args.\n",
      "  warnings.warn(msg, FutureWarning)\n"
     ]
    },
    {
     "name": "stdout",
     "output_type": "stream",
     "text": [
      "[10]\teval-logloss:0.33755\ttrain-logloss:0.33744\n",
      "[20]\teval-logloss:0.19092\ttrain-logloss:0.19074\n",
      "[30]\teval-logloss:0.11201\ttrain-logloss:0.11176\n",
      "[40]\teval-logloss:0.06718\ttrain-logloss:0.06688\n",
      "[50]\teval-logloss:0.04102\ttrain-logloss:0.04069\n",
      "[60]\teval-logloss:0.02555\ttrain-logloss:0.02518\n",
      "[70]\teval-logloss:0.01634\ttrain-logloss:0.01592\n",
      "[80]\teval-logloss:0.01085\ttrain-logloss:0.01037\n",
      "[90]\teval-logloss:0.00757\ttrain-logloss:0.00703\n",
      "[99]\teval-logloss:0.00576\ttrain-logloss:0.00517\n",
      "[0]\teval-logloss:0.64452\ttrain-logloss:0.64451\n"
     ]
    },
    {
     "name": "stderr",
     "output_type": "stream",
     "text": [
      "c:\\Users\\cleme\\Desktop\\personal-projects\\creditcard-fraud-ML\\venv\\lib\\site-packages\\xgboost\\core.py:617: FutureWarning: Pass `evals` as keyword args.\n",
      "  warnings.warn(msg, FutureWarning)\n"
     ]
    },
    {
     "name": "stdout",
     "output_type": "stream",
     "text": [
      "[10]\teval-logloss:0.33755\ttrain-logloss:0.33744\n",
      "[20]\teval-logloss:0.19092\ttrain-logloss:0.19074\n",
      "[30]\teval-logloss:0.11201\ttrain-logloss:0.11176\n",
      "[40]\teval-logloss:0.06718\ttrain-logloss:0.06688\n",
      "[50]\teval-logloss:0.04102\ttrain-logloss:0.04069\n",
      "[60]\teval-logloss:0.02555\ttrain-logloss:0.02518\n",
      "[70]\teval-logloss:0.01634\ttrain-logloss:0.01592\n",
      "[80]\teval-logloss:0.01085\ttrain-logloss:0.01037\n",
      "[90]\teval-logloss:0.00757\ttrain-logloss:0.00703\n",
      "[99]\teval-logloss:0.00576\ttrain-logloss:0.00517\n"
     ]
    },
    {
     "name": "stderr",
     "output_type": "stream",
     "text": [
      "c:\\Users\\cleme\\Desktop\\personal-projects\\creditcard-fraud-ML\\venv\\lib\\site-packages\\xgboost\\core.py:617: FutureWarning: Pass `evals` as keyword args.\n",
      "  warnings.warn(msg, FutureWarning)\n"
     ]
    },
    {
     "name": "stdout",
     "output_type": "stream",
     "text": [
      "[0]\teval-logloss:0.64452\ttrain-logloss:0.64451\n",
      "[10]\teval-logloss:0.33763\ttrain-logloss:0.33753\n",
      "[20]\teval-logloss:0.19100\ttrain-logloss:0.19081\n",
      "[30]\teval-logloss:0.11204\ttrain-logloss:0.11177\n",
      "[40]\teval-logloss:0.06723\ttrain-logloss:0.06687\n",
      "[50]\teval-logloss:0.04113\ttrain-logloss:0.04068\n",
      "[60]\teval-logloss:0.02567\ttrain-logloss:0.02518\n",
      "[70]\teval-logloss:0.01645\ttrain-logloss:0.01591\n",
      "[80]\teval-logloss:0.01095\ttrain-logloss:0.01037\n",
      "[90]\teval-logloss:0.00765\ttrain-logloss:0.00703\n",
      "[99]\teval-logloss:0.00584\ttrain-logloss:0.00517\n"
     ]
    },
    {
     "name": "stderr",
     "output_type": "stream",
     "text": [
      "c:\\Users\\cleme\\Desktop\\personal-projects\\creditcard-fraud-ML\\venv\\lib\\site-packages\\xgboost\\core.py:617: FutureWarning: Pass `evals` as keyword args.\n",
      "  warnings.warn(msg, FutureWarning)\n"
     ]
    },
    {
     "name": "stdout",
     "output_type": "stream",
     "text": [
      "[0]\teval-logloss:0.64452\ttrain-logloss:0.64451\n",
      "[10]\teval-logloss:0.33763\ttrain-logloss:0.33753\n",
      "[20]\teval-logloss:0.19100\ttrain-logloss:0.19081\n",
      "[30]\teval-logloss:0.11204\ttrain-logloss:0.11177\n",
      "[40]\teval-logloss:0.06723\ttrain-logloss:0.06687\n",
      "[50]\teval-logloss:0.04113\ttrain-logloss:0.04068\n",
      "[60]\teval-logloss:0.02567\ttrain-logloss:0.02518\n",
      "[70]\teval-logloss:0.01645\ttrain-logloss:0.01591\n",
      "[80]\teval-logloss:0.01095\ttrain-logloss:0.01037\n",
      "[90]\teval-logloss:0.00765\ttrain-logloss:0.00703\n",
      "[99]\teval-logloss:0.00584\ttrain-logloss:0.00517\n",
      "[0]\teval-logloss:0.64452\ttrain-logloss:0.64451\n"
     ]
    },
    {
     "name": "stderr",
     "output_type": "stream",
     "text": [
      "c:\\Users\\cleme\\Desktop\\personal-projects\\creditcard-fraud-ML\\venv\\lib\\site-packages\\xgboost\\core.py:617: FutureWarning: Pass `evals` as keyword args.\n",
      "  warnings.warn(msg, FutureWarning)\n"
     ]
    },
    {
     "name": "stdout",
     "output_type": "stream",
     "text": [
      "[10]\teval-logloss:0.33763\ttrain-logloss:0.33753\n",
      "[20]\teval-logloss:0.19100\ttrain-logloss:0.19081\n",
      "[30]\teval-logloss:0.11204\ttrain-logloss:0.11177\n",
      "[40]\teval-logloss:0.06723\ttrain-logloss:0.06687\n",
      "[50]\teval-logloss:0.04113\ttrain-logloss:0.04068\n",
      "[60]\teval-logloss:0.02567\ttrain-logloss:0.02518\n",
      "[70]\teval-logloss:0.01645\ttrain-logloss:0.01591\n",
      "[80]\teval-logloss:0.01095\ttrain-logloss:0.01037\n",
      "[90]\teval-logloss:0.00765\ttrain-logloss:0.00703\n",
      "[99]\teval-logloss:0.00584\ttrain-logloss:0.00517\n"
     ]
    },
    {
     "name": "stderr",
     "output_type": "stream",
     "text": [
      "c:\\Users\\cleme\\Desktop\\personal-projects\\creditcard-fraud-ML\\venv\\lib\\site-packages\\xgboost\\core.py:617: FutureWarning: Pass `evals` as keyword args.\n",
      "  warnings.warn(msg, FutureWarning)\n"
     ]
    },
    {
     "name": "stdout",
     "output_type": "stream",
     "text": [
      "[0]\teval-logloss:0.64452\ttrain-logloss:0.64451\n",
      "[10]\teval-logloss:0.33763\ttrain-logloss:0.33753\n",
      "[20]\teval-logloss:0.19100\ttrain-logloss:0.19081\n",
      "[30]\teval-logloss:0.11204\ttrain-logloss:0.11177\n",
      "[40]\teval-logloss:0.06723\ttrain-logloss:0.06687\n",
      "[50]\teval-logloss:0.04113\ttrain-logloss:0.04068\n",
      "[60]\teval-logloss:0.02567\ttrain-logloss:0.02518\n",
      "[70]\teval-logloss:0.01645\ttrain-logloss:0.01591\n",
      "[80]\teval-logloss:0.01095\ttrain-logloss:0.01037\n",
      "[90]\teval-logloss:0.00765\ttrain-logloss:0.00703\n",
      "[99]\teval-logloss:0.00584\ttrain-logloss:0.00517\n"
     ]
    },
    {
     "name": "stderr",
     "output_type": "stream",
     "text": [
      "c:\\Users\\cleme\\Desktop\\personal-projects\\creditcard-fraud-ML\\venv\\lib\\site-packages\\xgboost\\core.py:617: FutureWarning: Pass `evals` as keyword args.\n",
      "  warnings.warn(msg, FutureWarning)\n"
     ]
    },
    {
     "name": "stdout",
     "output_type": "stream",
     "text": [
      "[0]\teval-logloss:0.64449\ttrain-logloss:0.64449\n",
      "[10]\teval-logloss:0.33738\ttrain-logloss:0.33725\n",
      "[20]\teval-logloss:0.19069\ttrain-logloss:0.19043\n",
      "[30]\teval-logloss:0.11172\ttrain-logloss:0.11138\n",
      "[40]\teval-logloss:0.06691\ttrain-logloss:0.06650\n",
      "[50]\teval-logloss:0.04078\ttrain-logloss:0.04032\n",
      "[60]\teval-logloss:0.02533\ttrain-logloss:0.02476\n",
      "[70]\teval-logloss:0.01612\ttrain-logloss:0.01544\n",
      "[80]\teval-logloss:0.01062\ttrain-logloss:0.00983\n",
      "[90]\teval-logloss:0.00735\ttrain-logloss:0.00645\n",
      "[99]\teval-logloss:0.00554\ttrain-logloss:0.00452\n",
      "[0]\teval-logloss:0.64449\ttrain-logloss:0.64449\n"
     ]
    },
    {
     "name": "stderr",
     "output_type": "stream",
     "text": [
      "c:\\Users\\cleme\\Desktop\\personal-projects\\creditcard-fraud-ML\\venv\\lib\\site-packages\\xgboost\\core.py:617: FutureWarning: Pass `evals` as keyword args.\n",
      "  warnings.warn(msg, FutureWarning)\n"
     ]
    },
    {
     "name": "stdout",
     "output_type": "stream",
     "text": [
      "[10]\teval-logloss:0.33738\ttrain-logloss:0.33725\n",
      "[20]\teval-logloss:0.19069\ttrain-logloss:0.19043\n",
      "[30]\teval-logloss:0.11172\ttrain-logloss:0.11138\n",
      "[40]\teval-logloss:0.06691\ttrain-logloss:0.06650\n",
      "[50]\teval-logloss:0.04078\ttrain-logloss:0.04032\n",
      "[60]\teval-logloss:0.02533\ttrain-logloss:0.02476\n",
      "[70]\teval-logloss:0.01612\ttrain-logloss:0.01544\n",
      "[80]\teval-logloss:0.01062\ttrain-logloss:0.00983\n",
      "[90]\teval-logloss:0.00735\ttrain-logloss:0.00645\n",
      "[99]\teval-logloss:0.00554\ttrain-logloss:0.00452\n",
      "[0]\teval-logloss:0.64449\ttrain-logloss:0.64449\n"
     ]
    },
    {
     "name": "stderr",
     "output_type": "stream",
     "text": [
      "c:\\Users\\cleme\\Desktop\\personal-projects\\creditcard-fraud-ML\\venv\\lib\\site-packages\\xgboost\\core.py:617: FutureWarning: Pass `evals` as keyword args.\n",
      "  warnings.warn(msg, FutureWarning)\n"
     ]
    },
    {
     "name": "stdout",
     "output_type": "stream",
     "text": [
      "[10]\teval-logloss:0.33738\ttrain-logloss:0.33725\n",
      "[20]\teval-logloss:0.19069\ttrain-logloss:0.19043\n",
      "[30]\teval-logloss:0.11172\ttrain-logloss:0.11138\n",
      "[40]\teval-logloss:0.06691\ttrain-logloss:0.06650\n",
      "[50]\teval-logloss:0.04078\ttrain-logloss:0.04032\n",
      "[60]\teval-logloss:0.02533\ttrain-logloss:0.02476\n",
      "[70]\teval-logloss:0.01612\ttrain-logloss:0.01544\n",
      "[80]\teval-logloss:0.01062\ttrain-logloss:0.00983\n",
      "[90]\teval-logloss:0.00735\ttrain-logloss:0.00645\n",
      "[99]\teval-logloss:0.00554\ttrain-logloss:0.00452\n",
      "[0]\teval-logloss:0.64449\ttrain-logloss:0.64449\n"
     ]
    },
    {
     "name": "stderr",
     "output_type": "stream",
     "text": [
      "c:\\Users\\cleme\\Desktop\\personal-projects\\creditcard-fraud-ML\\venv\\lib\\site-packages\\xgboost\\core.py:617: FutureWarning: Pass `evals` as keyword args.\n",
      "  warnings.warn(msg, FutureWarning)\n"
     ]
    },
    {
     "name": "stdout",
     "output_type": "stream",
     "text": [
      "[10]\teval-logloss:0.33738\ttrain-logloss:0.33725\n",
      "[20]\teval-logloss:0.19069\ttrain-logloss:0.19043\n",
      "[30]\teval-logloss:0.11172\ttrain-logloss:0.11138\n",
      "[40]\teval-logloss:0.06691\ttrain-logloss:0.06650\n",
      "[50]\teval-logloss:0.04078\ttrain-logloss:0.04032\n",
      "[60]\teval-logloss:0.02533\ttrain-logloss:0.02476\n",
      "[70]\teval-logloss:0.01612\ttrain-logloss:0.01544\n",
      "[80]\teval-logloss:0.01062\ttrain-logloss:0.00983\n",
      "[90]\teval-logloss:0.00735\ttrain-logloss:0.00645\n",
      "[99]\teval-logloss:0.00554\ttrain-logloss:0.00452\n",
      "[0]\teval-logloss:0.64449\ttrain-logloss:0.64449\n"
     ]
    },
    {
     "name": "stderr",
     "output_type": "stream",
     "text": [
      "c:\\Users\\cleme\\Desktop\\personal-projects\\creditcard-fraud-ML\\venv\\lib\\site-packages\\xgboost\\core.py:617: FutureWarning: Pass `evals` as keyword args.\n",
      "  warnings.warn(msg, FutureWarning)\n"
     ]
    },
    {
     "name": "stdout",
     "output_type": "stream",
     "text": [
      "[10]\teval-logloss:0.33737\ttrain-logloss:0.33724\n",
      "[20]\teval-logloss:0.19068\ttrain-logloss:0.19042\n",
      "[30]\teval-logloss:0.11173\ttrain-logloss:0.11138\n",
      "[40]\teval-logloss:0.06688\ttrain-logloss:0.06649\n",
      "[50]\teval-logloss:0.04075\ttrain-logloss:0.04028\n",
      "[60]\teval-logloss:0.02528\ttrain-logloss:0.02473\n",
      "[70]\teval-logloss:0.01607\ttrain-logloss:0.01543\n",
      "[80]\teval-logloss:0.01056\ttrain-logloss:0.00983\n",
      "[90]\teval-logloss:0.00728\ttrain-logloss:0.00643\n",
      "[99]\teval-logloss:0.00547\ttrain-logloss:0.00453\n",
      "[0]\teval-logloss:0.64449\ttrain-logloss:0.64449\n"
     ]
    },
    {
     "name": "stderr",
     "output_type": "stream",
     "text": [
      "c:\\Users\\cleme\\Desktop\\personal-projects\\creditcard-fraud-ML\\venv\\lib\\site-packages\\xgboost\\core.py:617: FutureWarning: Pass `evals` as keyword args.\n",
      "  warnings.warn(msg, FutureWarning)\n"
     ]
    },
    {
     "name": "stdout",
     "output_type": "stream",
     "text": [
      "[10]\teval-logloss:0.33737\ttrain-logloss:0.33724\n",
      "[20]\teval-logloss:0.19068\ttrain-logloss:0.19042\n",
      "[30]\teval-logloss:0.11173\ttrain-logloss:0.11138\n",
      "[40]\teval-logloss:0.06688\ttrain-logloss:0.06649\n",
      "[50]\teval-logloss:0.04075\ttrain-logloss:0.04028\n",
      "[60]\teval-logloss:0.02528\ttrain-logloss:0.02473\n",
      "[70]\teval-logloss:0.01607\ttrain-logloss:0.01543\n",
      "[80]\teval-logloss:0.01056\ttrain-logloss:0.00983\n",
      "[90]\teval-logloss:0.00728\ttrain-logloss:0.00643\n",
      "[99]\teval-logloss:0.00547\ttrain-logloss:0.00453\n",
      "[0]\teval-logloss:0.64449\ttrain-logloss:0.64449\n"
     ]
    },
    {
     "name": "stderr",
     "output_type": "stream",
     "text": [
      "c:\\Users\\cleme\\Desktop\\personal-projects\\creditcard-fraud-ML\\venv\\lib\\site-packages\\xgboost\\core.py:617: FutureWarning: Pass `evals` as keyword args.\n",
      "  warnings.warn(msg, FutureWarning)\n"
     ]
    },
    {
     "name": "stdout",
     "output_type": "stream",
     "text": [
      "[10]\teval-logloss:0.33737\ttrain-logloss:0.33724\n",
      "[20]\teval-logloss:0.19068\ttrain-logloss:0.19042\n",
      "[30]\teval-logloss:0.11173\ttrain-logloss:0.11138\n",
      "[40]\teval-logloss:0.06688\ttrain-logloss:0.06649\n",
      "[50]\teval-logloss:0.04075\ttrain-logloss:0.04028\n",
      "[60]\teval-logloss:0.02528\ttrain-logloss:0.02473\n",
      "[70]\teval-logloss:0.01607\ttrain-logloss:0.01543\n",
      "[80]\teval-logloss:0.01056\ttrain-logloss:0.00983\n",
      "[90]\teval-logloss:0.00728\ttrain-logloss:0.00643\n",
      "[99]\teval-logloss:0.00547\ttrain-logloss:0.00453\n"
     ]
    },
    {
     "name": "stderr",
     "output_type": "stream",
     "text": [
      "c:\\Users\\cleme\\Desktop\\personal-projects\\creditcard-fraud-ML\\venv\\lib\\site-packages\\xgboost\\core.py:617: FutureWarning: Pass `evals` as keyword args.\n",
      "  warnings.warn(msg, FutureWarning)\n"
     ]
    },
    {
     "name": "stdout",
     "output_type": "stream",
     "text": [
      "[0]\teval-logloss:0.64449\ttrain-logloss:0.64449\n",
      "[10]\teval-logloss:0.33737\ttrain-logloss:0.33724\n",
      "[20]\teval-logloss:0.19068\ttrain-logloss:0.19042\n",
      "[30]\teval-logloss:0.11173\ttrain-logloss:0.11138\n",
      "[40]\teval-logloss:0.06688\ttrain-logloss:0.06649\n",
      "[50]\teval-logloss:0.04075\ttrain-logloss:0.04028\n",
      "[60]\teval-logloss:0.02528\ttrain-logloss:0.02473\n",
      "[70]\teval-logloss:0.01607\ttrain-logloss:0.01543\n",
      "[80]\teval-logloss:0.01056\ttrain-logloss:0.00983\n",
      "[90]\teval-logloss:0.00728\ttrain-logloss:0.00643\n",
      "[99]\teval-logloss:0.00547\ttrain-logloss:0.00453\n"
     ]
    },
    {
     "name": "stderr",
     "output_type": "stream",
     "text": [
      "c:\\Users\\cleme\\Desktop\\personal-projects\\creditcard-fraud-ML\\venv\\lib\\site-packages\\xgboost\\core.py:617: FutureWarning: Pass `evals` as keyword args.\n",
      "  warnings.warn(msg, FutureWarning)\n"
     ]
    },
    {
     "name": "stdout",
     "output_type": "stream",
     "text": [
      "[0]\teval-logloss:0.64449\ttrain-logloss:0.64447\n",
      "[10]\teval-logloss:0.33742\ttrain-logloss:0.33722\n",
      "[20]\teval-logloss:0.19075\ttrain-logloss:0.19040\n",
      "[30]\teval-logloss:0.11179\ttrain-logloss:0.11136\n",
      "[40]\teval-logloss:0.06699\ttrain-logloss:0.06648\n",
      "[50]\teval-logloss:0.04087\ttrain-logloss:0.04029\n",
      "[60]\teval-logloss:0.02541\ttrain-logloss:0.02474\n",
      "[70]\teval-logloss:0.01620\ttrain-logloss:0.01542\n",
      "[80]\teval-logloss:0.01070\ttrain-logloss:0.00981\n",
      "[90]\teval-logloss:0.00741\ttrain-logloss:0.00642\n",
      "[99]\teval-logloss:0.00559\ttrain-logloss:0.00453\n"
     ]
    },
    {
     "name": "stderr",
     "output_type": "stream",
     "text": [
      "c:\\Users\\cleme\\Desktop\\personal-projects\\creditcard-fraud-ML\\venv\\lib\\site-packages\\xgboost\\core.py:617: FutureWarning: Pass `evals` as keyword args.\n",
      "  warnings.warn(msg, FutureWarning)\n"
     ]
    },
    {
     "name": "stdout",
     "output_type": "stream",
     "text": [
      "[0]\teval-logloss:0.64449\ttrain-logloss:0.64447\n",
      "[10]\teval-logloss:0.33742\ttrain-logloss:0.33722\n",
      "[20]\teval-logloss:0.19075\ttrain-logloss:0.19040\n",
      "[30]\teval-logloss:0.11179\ttrain-logloss:0.11136\n",
      "[40]\teval-logloss:0.06699\ttrain-logloss:0.06648\n",
      "[50]\teval-logloss:0.04087\ttrain-logloss:0.04029\n",
      "[60]\teval-logloss:0.02541\ttrain-logloss:0.02474\n",
      "[70]\teval-logloss:0.01620\ttrain-logloss:0.01542\n",
      "[80]\teval-logloss:0.01070\ttrain-logloss:0.00981\n",
      "[90]\teval-logloss:0.00741\ttrain-logloss:0.00642\n",
      "[99]\teval-logloss:0.00559\ttrain-logloss:0.00453\n"
     ]
    },
    {
     "name": "stderr",
     "output_type": "stream",
     "text": [
      "c:\\Users\\cleme\\Desktop\\personal-projects\\creditcard-fraud-ML\\venv\\lib\\site-packages\\xgboost\\core.py:617: FutureWarning: Pass `evals` as keyword args.\n",
      "  warnings.warn(msg, FutureWarning)\n"
     ]
    },
    {
     "name": "stdout",
     "output_type": "stream",
     "text": [
      "[0]\teval-logloss:0.64449\ttrain-logloss:0.64447\n",
      "[10]\teval-logloss:0.33742\ttrain-logloss:0.33722\n",
      "[20]\teval-logloss:0.19075\ttrain-logloss:0.19040\n",
      "[30]\teval-logloss:0.11179\ttrain-logloss:0.11136\n",
      "[40]\teval-logloss:0.06699\ttrain-logloss:0.06648\n",
      "[50]\teval-logloss:0.04087\ttrain-logloss:0.04029\n",
      "[60]\teval-logloss:0.02541\ttrain-logloss:0.02474\n",
      "[70]\teval-logloss:0.01620\ttrain-logloss:0.01542\n",
      "[80]\teval-logloss:0.01070\ttrain-logloss:0.00981\n",
      "[90]\teval-logloss:0.00741\ttrain-logloss:0.00642\n",
      "[99]\teval-logloss:0.00559\ttrain-logloss:0.00453\n"
     ]
    },
    {
     "name": "stderr",
     "output_type": "stream",
     "text": [
      "c:\\Users\\cleme\\Desktop\\personal-projects\\creditcard-fraud-ML\\venv\\lib\\site-packages\\xgboost\\core.py:617: FutureWarning: Pass `evals` as keyword args.\n",
      "  warnings.warn(msg, FutureWarning)\n"
     ]
    },
    {
     "name": "stdout",
     "output_type": "stream",
     "text": [
      "[0]\teval-logloss:0.64449\ttrain-logloss:0.64447\n",
      "[10]\teval-logloss:0.33742\ttrain-logloss:0.33722\n",
      "[20]\teval-logloss:0.19075\ttrain-logloss:0.19040\n",
      "[30]\teval-logloss:0.11179\ttrain-logloss:0.11136\n",
      "[40]\teval-logloss:0.06699\ttrain-logloss:0.06648\n",
      "[50]\teval-logloss:0.04087\ttrain-logloss:0.04029\n",
      "[60]\teval-logloss:0.02541\ttrain-logloss:0.02474\n",
      "[70]\teval-logloss:0.01620\ttrain-logloss:0.01542\n",
      "[80]\teval-logloss:0.01070\ttrain-logloss:0.00981\n",
      "[90]\teval-logloss:0.00741\ttrain-logloss:0.00642\n",
      "[99]\teval-logloss:0.00559\ttrain-logloss:0.00453\n"
     ]
    },
    {
     "name": "stderr",
     "output_type": "stream",
     "text": [
      "c:\\Users\\cleme\\Desktop\\personal-projects\\creditcard-fraud-ML\\venv\\lib\\site-packages\\xgboost\\core.py:617: FutureWarning: Pass `evals` as keyword args.\n",
      "  warnings.warn(msg, FutureWarning)\n"
     ]
    },
    {
     "name": "stdout",
     "output_type": "stream",
     "text": [
      "[0]\teval-logloss:0.59838\ttrain-logloss:0.59836\n",
      "[10]\teval-logloss:0.17809\ttrain-logloss:0.17792\n",
      "[20]\teval-logloss:0.06288\ttrain-logloss:0.06259\n",
      "[30]\teval-logloss:0.02413\ttrain-logloss:0.02373\n",
      "[40]\teval-logloss:0.01042\ttrain-logloss:0.00993\n",
      "[50]\teval-logloss:0.00553\ttrain-logloss:0.00493\n",
      "[60]\teval-logloss:0.00382\ttrain-logloss:0.00310\n",
      "[70]\teval-logloss:0.00325\ttrain-logloss:0.00236\n",
      "[80]\teval-logloss:0.00305\ttrain-logloss:0.00202\n",
      "[90]\teval-logloss:0.00299\ttrain-logloss:0.00184\n",
      "[99]\teval-logloss:0.00295\ttrain-logloss:0.00169\n",
      "[0]\teval-logloss:0.59838\ttrain-logloss:0.59836\n"
     ]
    },
    {
     "name": "stderr",
     "output_type": "stream",
     "text": [
      "c:\\Users\\cleme\\Desktop\\personal-projects\\creditcard-fraud-ML\\venv\\lib\\site-packages\\xgboost\\core.py:617: FutureWarning: Pass `evals` as keyword args.\n",
      "  warnings.warn(msg, FutureWarning)\n"
     ]
    },
    {
     "name": "stdout",
     "output_type": "stream",
     "text": [
      "[10]\teval-logloss:0.17809\ttrain-logloss:0.17792\n",
      "[20]\teval-logloss:0.06288\ttrain-logloss:0.06259\n",
      "[30]\teval-logloss:0.02413\ttrain-logloss:0.02373\n",
      "[40]\teval-logloss:0.01042\ttrain-logloss:0.00993\n",
      "[50]\teval-logloss:0.00553\ttrain-logloss:0.00493\n",
      "[60]\teval-logloss:0.00382\ttrain-logloss:0.00310\n",
      "[70]\teval-logloss:0.00325\ttrain-logloss:0.00236\n",
      "[80]\teval-logloss:0.00305\ttrain-logloss:0.00202\n",
      "[90]\teval-logloss:0.00299\ttrain-logloss:0.00184\n",
      "[99]\teval-logloss:0.00295\ttrain-logloss:0.00169\n",
      "[0]\teval-logloss:0.59838\ttrain-logloss:0.59836\n"
     ]
    },
    {
     "name": "stderr",
     "output_type": "stream",
     "text": [
      "c:\\Users\\cleme\\Desktop\\personal-projects\\creditcard-fraud-ML\\venv\\lib\\site-packages\\xgboost\\core.py:617: FutureWarning: Pass `evals` as keyword args.\n",
      "  warnings.warn(msg, FutureWarning)\n"
     ]
    },
    {
     "name": "stdout",
     "output_type": "stream",
     "text": [
      "[10]\teval-logloss:0.17809\ttrain-logloss:0.17792\n",
      "[20]\teval-logloss:0.06288\ttrain-logloss:0.06259\n",
      "[30]\teval-logloss:0.02413\ttrain-logloss:0.02373\n",
      "[40]\teval-logloss:0.01042\ttrain-logloss:0.00993\n",
      "[50]\teval-logloss:0.00553\ttrain-logloss:0.00493\n",
      "[60]\teval-logloss:0.00382\ttrain-logloss:0.00310\n",
      "[70]\teval-logloss:0.00325\ttrain-logloss:0.00236\n",
      "[80]\teval-logloss:0.00305\ttrain-logloss:0.00202\n",
      "[90]\teval-logloss:0.00299\ttrain-logloss:0.00184\n",
      "[99]\teval-logloss:0.00295\ttrain-logloss:0.00169\n",
      "[0]\teval-logloss:0.59838\ttrain-logloss:0.59836\n"
     ]
    },
    {
     "name": "stderr",
     "output_type": "stream",
     "text": [
      "c:\\Users\\cleme\\Desktop\\personal-projects\\creditcard-fraud-ML\\venv\\lib\\site-packages\\xgboost\\core.py:617: FutureWarning: Pass `evals` as keyword args.\n",
      "  warnings.warn(msg, FutureWarning)\n"
     ]
    },
    {
     "name": "stdout",
     "output_type": "stream",
     "text": [
      "[10]\teval-logloss:0.17809\ttrain-logloss:0.17792\n",
      "[20]\teval-logloss:0.06288\ttrain-logloss:0.06259\n",
      "[30]\teval-logloss:0.02413\ttrain-logloss:0.02373\n",
      "[40]\teval-logloss:0.01042\ttrain-logloss:0.00993\n",
      "[50]\teval-logloss:0.00553\ttrain-logloss:0.00493\n",
      "[60]\teval-logloss:0.00382\ttrain-logloss:0.00310\n",
      "[70]\teval-logloss:0.00325\ttrain-logloss:0.00236\n",
      "[80]\teval-logloss:0.00305\ttrain-logloss:0.00202\n",
      "[90]\teval-logloss:0.00299\ttrain-logloss:0.00184\n",
      "[99]\teval-logloss:0.00295\ttrain-logloss:0.00169\n",
      "[0]\teval-logloss:0.59837\ttrain-logloss:0.59835\n"
     ]
    },
    {
     "name": "stderr",
     "output_type": "stream",
     "text": [
      "c:\\Users\\cleme\\Desktop\\personal-projects\\creditcard-fraud-ML\\venv\\lib\\site-packages\\xgboost\\core.py:617: FutureWarning: Pass `evals` as keyword args.\n",
      "  warnings.warn(msg, FutureWarning)\n"
     ]
    },
    {
     "name": "stdout",
     "output_type": "stream",
     "text": [
      "[10]\teval-logloss:0.17810\ttrain-logloss:0.17791\n",
      "[20]\teval-logloss:0.06282\ttrain-logloss:0.06253\n",
      "[30]\teval-logloss:0.02399\ttrain-logloss:0.02361\n",
      "[40]\teval-logloss:0.01028\ttrain-logloss:0.00980\n",
      "[50]\teval-logloss:0.00540\ttrain-logloss:0.00480\n",
      "[60]\teval-logloss:0.00367\ttrain-logloss:0.00297\n",
      "[70]\teval-logloss:0.00311\ttrain-logloss:0.00224\n",
      "[80]\teval-logloss:0.00291\ttrain-logloss:0.00191\n",
      "[90]\teval-logloss:0.00287\ttrain-logloss:0.00171\n",
      "[99]\teval-logloss:0.00285\ttrain-logloss:0.00158\n",
      "[0]\teval-logloss:0.59837\ttrain-logloss:0.59835\n"
     ]
    },
    {
     "name": "stderr",
     "output_type": "stream",
     "text": [
      "c:\\Users\\cleme\\Desktop\\personal-projects\\creditcard-fraud-ML\\venv\\lib\\site-packages\\xgboost\\core.py:617: FutureWarning: Pass `evals` as keyword args.\n",
      "  warnings.warn(msg, FutureWarning)\n"
     ]
    },
    {
     "name": "stdout",
     "output_type": "stream",
     "text": [
      "[10]\teval-logloss:0.17810\ttrain-logloss:0.17791\n",
      "[20]\teval-logloss:0.06282\ttrain-logloss:0.06253\n",
      "[30]\teval-logloss:0.02399\ttrain-logloss:0.02361\n",
      "[40]\teval-logloss:0.01028\ttrain-logloss:0.00980\n",
      "[50]\teval-logloss:0.00540\ttrain-logloss:0.00480\n",
      "[60]\teval-logloss:0.00367\ttrain-logloss:0.00297\n",
      "[70]\teval-logloss:0.00311\ttrain-logloss:0.00224\n",
      "[80]\teval-logloss:0.00291\ttrain-logloss:0.00191\n",
      "[90]\teval-logloss:0.00287\ttrain-logloss:0.00171\n",
      "[99]\teval-logloss:0.00285\ttrain-logloss:0.00158\n",
      "[0]\teval-logloss:0.59837\ttrain-logloss:0.59835\n"
     ]
    },
    {
     "name": "stderr",
     "output_type": "stream",
     "text": [
      "c:\\Users\\cleme\\Desktop\\personal-projects\\creditcard-fraud-ML\\venv\\lib\\site-packages\\xgboost\\core.py:617: FutureWarning: Pass `evals` as keyword args.\n",
      "  warnings.warn(msg, FutureWarning)\n"
     ]
    },
    {
     "name": "stdout",
     "output_type": "stream",
     "text": [
      "[10]\teval-logloss:0.17810\ttrain-logloss:0.17791\n",
      "[20]\teval-logloss:0.06282\ttrain-logloss:0.06253\n",
      "[30]\teval-logloss:0.02399\ttrain-logloss:0.02361\n",
      "[40]\teval-logloss:0.01028\ttrain-logloss:0.00980\n",
      "[50]\teval-logloss:0.00540\ttrain-logloss:0.00480\n",
      "[60]\teval-logloss:0.00367\ttrain-logloss:0.00297\n",
      "[70]\teval-logloss:0.00311\ttrain-logloss:0.00224\n",
      "[80]\teval-logloss:0.00291\ttrain-logloss:0.00191\n",
      "[90]\teval-logloss:0.00287\ttrain-logloss:0.00171\n",
      "[99]\teval-logloss:0.00285\ttrain-logloss:0.00158\n",
      "[0]\teval-logloss:0.59837\ttrain-logloss:0.59835\n"
     ]
    },
    {
     "name": "stderr",
     "output_type": "stream",
     "text": [
      "c:\\Users\\cleme\\Desktop\\personal-projects\\creditcard-fraud-ML\\venv\\lib\\site-packages\\xgboost\\core.py:617: FutureWarning: Pass `evals` as keyword args.\n",
      "  warnings.warn(msg, FutureWarning)\n"
     ]
    },
    {
     "name": "stdout",
     "output_type": "stream",
     "text": [
      "[10]\teval-logloss:0.17810\ttrain-logloss:0.17791\n",
      "[20]\teval-logloss:0.06282\ttrain-logloss:0.06253\n",
      "[30]\teval-logloss:0.02399\ttrain-logloss:0.02361\n",
      "[40]\teval-logloss:0.01028\ttrain-logloss:0.00980\n",
      "[50]\teval-logloss:0.00540\ttrain-logloss:0.00480\n",
      "[60]\teval-logloss:0.00367\ttrain-logloss:0.00297\n",
      "[70]\teval-logloss:0.00311\ttrain-logloss:0.00224\n",
      "[80]\teval-logloss:0.00291\ttrain-logloss:0.00191\n",
      "[90]\teval-logloss:0.00287\ttrain-logloss:0.00171\n",
      "[99]\teval-logloss:0.00285\ttrain-logloss:0.00158\n",
      "[0]\teval-logloss:0.59839\ttrain-logloss:0.59836\n"
     ]
    },
    {
     "name": "stderr",
     "output_type": "stream",
     "text": [
      "c:\\Users\\cleme\\Desktop\\personal-projects\\creditcard-fraud-ML\\venv\\lib\\site-packages\\xgboost\\core.py:617: FutureWarning: Pass `evals` as keyword args.\n",
      "  warnings.warn(msg, FutureWarning)\n"
     ]
    },
    {
     "name": "stdout",
     "output_type": "stream",
     "text": [
      "[10]\teval-logloss:0.17818\ttrain-logloss:0.17798\n",
      "[20]\teval-logloss:0.06289\ttrain-logloss:0.06253\n",
      "[30]\teval-logloss:0.02413\ttrain-logloss:0.02363\n",
      "[40]\teval-logloss:0.01038\ttrain-logloss:0.00981\n",
      "[50]\teval-logloss:0.00547\ttrain-logloss:0.00482\n",
      "[60]\teval-logloss:0.00374\ttrain-logloss:0.00297\n",
      "[70]\teval-logloss:0.00319\ttrain-logloss:0.00223\n",
      "[80]\teval-logloss:0.00299\ttrain-logloss:0.00189\n",
      "[90]\teval-logloss:0.00296\ttrain-logloss:0.00171\n",
      "[99]\teval-logloss:0.00294\ttrain-logloss:0.00158\n",
      "[0]\teval-logloss:0.59839\ttrain-logloss:0.59836\n"
     ]
    },
    {
     "name": "stderr",
     "output_type": "stream",
     "text": [
      "c:\\Users\\cleme\\Desktop\\personal-projects\\creditcard-fraud-ML\\venv\\lib\\site-packages\\xgboost\\core.py:617: FutureWarning: Pass `evals` as keyword args.\n",
      "  warnings.warn(msg, FutureWarning)\n"
     ]
    },
    {
     "name": "stdout",
     "output_type": "stream",
     "text": [
      "[10]\teval-logloss:0.17818\ttrain-logloss:0.17798\n",
      "[20]\teval-logloss:0.06289\ttrain-logloss:0.06253\n",
      "[30]\teval-logloss:0.02413\ttrain-logloss:0.02363\n",
      "[40]\teval-logloss:0.01038\ttrain-logloss:0.00981\n",
      "[50]\teval-logloss:0.00547\ttrain-logloss:0.00482\n",
      "[60]\teval-logloss:0.00374\ttrain-logloss:0.00297\n",
      "[70]\teval-logloss:0.00319\ttrain-logloss:0.00223\n",
      "[80]\teval-logloss:0.00299\ttrain-logloss:0.00189\n",
      "[90]\teval-logloss:0.00296\ttrain-logloss:0.00171\n",
      "[99]\teval-logloss:0.00294\ttrain-logloss:0.00158\n",
      "[0]\teval-logloss:0.59839\ttrain-logloss:0.59836\n"
     ]
    },
    {
     "name": "stderr",
     "output_type": "stream",
     "text": [
      "c:\\Users\\cleme\\Desktop\\personal-projects\\creditcard-fraud-ML\\venv\\lib\\site-packages\\xgboost\\core.py:617: FutureWarning: Pass `evals` as keyword args.\n",
      "  warnings.warn(msg, FutureWarning)\n"
     ]
    },
    {
     "name": "stdout",
     "output_type": "stream",
     "text": [
      "[10]\teval-logloss:0.17818\ttrain-logloss:0.17798\n",
      "[20]\teval-logloss:0.06289\ttrain-logloss:0.06253\n",
      "[30]\teval-logloss:0.02413\ttrain-logloss:0.02363\n",
      "[40]\teval-logloss:0.01038\ttrain-logloss:0.00981\n",
      "[50]\teval-logloss:0.00547\ttrain-logloss:0.00482\n",
      "[60]\teval-logloss:0.00374\ttrain-logloss:0.00297\n",
      "[70]\teval-logloss:0.00319\ttrain-logloss:0.00223\n",
      "[80]\teval-logloss:0.00299\ttrain-logloss:0.00189\n",
      "[90]\teval-logloss:0.00296\ttrain-logloss:0.00171\n",
      "[99]\teval-logloss:0.00294\ttrain-logloss:0.00158\n",
      "[0]\teval-logloss:0.59839\ttrain-logloss:0.59836\n"
     ]
    },
    {
     "name": "stderr",
     "output_type": "stream",
     "text": [
      "c:\\Users\\cleme\\Desktop\\personal-projects\\creditcard-fraud-ML\\venv\\lib\\site-packages\\xgboost\\core.py:617: FutureWarning: Pass `evals` as keyword args.\n",
      "  warnings.warn(msg, FutureWarning)\n"
     ]
    },
    {
     "name": "stdout",
     "output_type": "stream",
     "text": [
      "[10]\teval-logloss:0.17818\ttrain-logloss:0.17798\n",
      "[20]\teval-logloss:0.06289\ttrain-logloss:0.06253\n",
      "[30]\teval-logloss:0.02413\ttrain-logloss:0.02363\n",
      "[40]\teval-logloss:0.01038\ttrain-logloss:0.00981\n",
      "[50]\teval-logloss:0.00547\ttrain-logloss:0.00482\n",
      "[60]\teval-logloss:0.00374\ttrain-logloss:0.00297\n",
      "[70]\teval-logloss:0.00319\ttrain-logloss:0.00223\n",
      "[80]\teval-logloss:0.00299\ttrain-logloss:0.00189\n",
      "[90]\teval-logloss:0.00296\ttrain-logloss:0.00171\n",
      "[99]\teval-logloss:0.00294\ttrain-logloss:0.00158\n"
     ]
    },
    {
     "name": "stderr",
     "output_type": "stream",
     "text": [
      "c:\\Users\\cleme\\Desktop\\personal-projects\\creditcard-fraud-ML\\venv\\lib\\site-packages\\xgboost\\core.py:617: FutureWarning: Pass `evals` as keyword args.\n",
      "  warnings.warn(msg, FutureWarning)\n"
     ]
    },
    {
     "name": "stdout",
     "output_type": "stream",
     "text": [
      "[0]\teval-logloss:0.59833\ttrain-logloss:0.59832\n",
      "[10]\teval-logloss:0.17786\ttrain-logloss:0.17760\n",
      "[20]\teval-logloss:0.06258\ttrain-logloss:0.06216\n",
      "[30]\teval-logloss:0.02378\ttrain-logloss:0.02321\n",
      "[40]\teval-logloss:0.01006\ttrain-logloss:0.00927\n",
      "[50]\teval-logloss:0.00518\ttrain-logloss:0.00414\n",
      "[60]\teval-logloss:0.00349\ttrain-logloss:0.00213\n",
      "[70]\teval-logloss:0.00294\ttrain-logloss:0.00125\n",
      "[80]\teval-logloss:0.00281\ttrain-logloss:0.00080\n",
      "[90]\teval-logloss:0.00280\ttrain-logloss:0.00054\n",
      "[99]\teval-logloss:0.00283\ttrain-logloss:0.00038\n",
      "[0]\teval-logloss:0.59833\ttrain-logloss:0.59832\n"
     ]
    },
    {
     "name": "stderr",
     "output_type": "stream",
     "text": [
      "c:\\Users\\cleme\\Desktop\\personal-projects\\creditcard-fraud-ML\\venv\\lib\\site-packages\\xgboost\\core.py:617: FutureWarning: Pass `evals` as keyword args.\n",
      "  warnings.warn(msg, FutureWarning)\n"
     ]
    },
    {
     "name": "stdout",
     "output_type": "stream",
     "text": [
      "[10]\teval-logloss:0.17786\ttrain-logloss:0.17760\n",
      "[20]\teval-logloss:0.06258\ttrain-logloss:0.06216\n",
      "[30]\teval-logloss:0.02378\ttrain-logloss:0.02321\n",
      "[40]\teval-logloss:0.01006\ttrain-logloss:0.00927\n",
      "[50]\teval-logloss:0.00518\ttrain-logloss:0.00414\n",
      "[60]\teval-logloss:0.00349\ttrain-logloss:0.00213\n",
      "[70]\teval-logloss:0.00294\ttrain-logloss:0.00125\n",
      "[80]\teval-logloss:0.00281\ttrain-logloss:0.00080\n",
      "[90]\teval-logloss:0.00280\ttrain-logloss:0.00054\n",
      "[99]\teval-logloss:0.00283\ttrain-logloss:0.00038\n",
      "[0]\teval-logloss:0.59833\ttrain-logloss:0.59832\n"
     ]
    },
    {
     "name": "stderr",
     "output_type": "stream",
     "text": [
      "c:\\Users\\cleme\\Desktop\\personal-projects\\creditcard-fraud-ML\\venv\\lib\\site-packages\\xgboost\\core.py:617: FutureWarning: Pass `evals` as keyword args.\n",
      "  warnings.warn(msg, FutureWarning)\n"
     ]
    },
    {
     "name": "stdout",
     "output_type": "stream",
     "text": [
      "[10]\teval-logloss:0.17786\ttrain-logloss:0.17760\n",
      "[20]\teval-logloss:0.06258\ttrain-logloss:0.06216\n",
      "[30]\teval-logloss:0.02378\ttrain-logloss:0.02321\n",
      "[40]\teval-logloss:0.01006\ttrain-logloss:0.00927\n",
      "[50]\teval-logloss:0.00518\ttrain-logloss:0.00414\n",
      "[60]\teval-logloss:0.00349\ttrain-logloss:0.00213\n",
      "[70]\teval-logloss:0.00294\ttrain-logloss:0.00125\n",
      "[80]\teval-logloss:0.00281\ttrain-logloss:0.00080\n",
      "[90]\teval-logloss:0.00280\ttrain-logloss:0.00054\n",
      "[99]\teval-logloss:0.00283\ttrain-logloss:0.00038\n",
      "[0]\teval-logloss:0.59833\ttrain-logloss:0.59832\n"
     ]
    },
    {
     "name": "stderr",
     "output_type": "stream",
     "text": [
      "c:\\Users\\cleme\\Desktop\\personal-projects\\creditcard-fraud-ML\\venv\\lib\\site-packages\\xgboost\\core.py:617: FutureWarning: Pass `evals` as keyword args.\n",
      "  warnings.warn(msg, FutureWarning)\n"
     ]
    },
    {
     "name": "stdout",
     "output_type": "stream",
     "text": [
      "[10]\teval-logloss:0.17786\ttrain-logloss:0.17760\n",
      "[20]\teval-logloss:0.06258\ttrain-logloss:0.06216\n",
      "[30]\teval-logloss:0.02378\ttrain-logloss:0.02321\n",
      "[40]\teval-logloss:0.01006\ttrain-logloss:0.00927\n",
      "[50]\teval-logloss:0.00518\ttrain-logloss:0.00414\n",
      "[60]\teval-logloss:0.00349\ttrain-logloss:0.00213\n",
      "[70]\teval-logloss:0.00294\ttrain-logloss:0.00125\n",
      "[80]\teval-logloss:0.00281\ttrain-logloss:0.00080\n",
      "[90]\teval-logloss:0.00280\ttrain-logloss:0.00054\n",
      "[99]\teval-logloss:0.00283\ttrain-logloss:0.00038\n",
      "[0]\teval-logloss:0.59833\ttrain-logloss:0.59831\n"
     ]
    },
    {
     "name": "stderr",
     "output_type": "stream",
     "text": [
      "c:\\Users\\cleme\\Desktop\\personal-projects\\creditcard-fraud-ML\\venv\\lib\\site-packages\\xgboost\\core.py:617: FutureWarning: Pass `evals` as keyword args.\n",
      "  warnings.warn(msg, FutureWarning)\n"
     ]
    },
    {
     "name": "stdout",
     "output_type": "stream",
     "text": [
      "[10]\teval-logloss:0.17785\ttrain-logloss:0.17760\n",
      "[20]\teval-logloss:0.06252\ttrain-logloss:0.06214\n",
      "[30]\teval-logloss:0.02371\ttrain-logloss:0.02319\n",
      "[40]\teval-logloss:0.00998\ttrain-logloss:0.00927\n",
      "[50]\teval-logloss:0.00510\ttrain-logloss:0.00417\n",
      "[60]\teval-logloss:0.00340\ttrain-logloss:0.00216\n",
      "[70]\teval-logloss:0.00283\ttrain-logloss:0.00128\n",
      "[80]\teval-logloss:0.00273\ttrain-logloss:0.00082\n",
      "[90]\teval-logloss:0.00268\ttrain-logloss:0.00054\n",
      "[99]\teval-logloss:0.00273\ttrain-logloss:0.00039\n",
      "[0]\teval-logloss:0.59833\ttrain-logloss:0.59831\n"
     ]
    },
    {
     "name": "stderr",
     "output_type": "stream",
     "text": [
      "c:\\Users\\cleme\\Desktop\\personal-projects\\creditcard-fraud-ML\\venv\\lib\\site-packages\\xgboost\\core.py:617: FutureWarning: Pass `evals` as keyword args.\n",
      "  warnings.warn(msg, FutureWarning)\n"
     ]
    },
    {
     "name": "stdout",
     "output_type": "stream",
     "text": [
      "[10]\teval-logloss:0.17785\ttrain-logloss:0.17760\n",
      "[20]\teval-logloss:0.06252\ttrain-logloss:0.06214\n",
      "[30]\teval-logloss:0.02371\ttrain-logloss:0.02319\n",
      "[40]\teval-logloss:0.00998\ttrain-logloss:0.00927\n",
      "[50]\teval-logloss:0.00510\ttrain-logloss:0.00417\n",
      "[60]\teval-logloss:0.00340\ttrain-logloss:0.00216\n",
      "[70]\teval-logloss:0.00283\ttrain-logloss:0.00128\n",
      "[80]\teval-logloss:0.00273\ttrain-logloss:0.00082\n",
      "[90]\teval-logloss:0.00268\ttrain-logloss:0.00054\n",
      "[99]\teval-logloss:0.00273\ttrain-logloss:0.00039\n",
      "[0]\teval-logloss:0.59833\ttrain-logloss:0.59831\n"
     ]
    },
    {
     "name": "stderr",
     "output_type": "stream",
     "text": [
      "c:\\Users\\cleme\\Desktop\\personal-projects\\creditcard-fraud-ML\\venv\\lib\\site-packages\\xgboost\\core.py:617: FutureWarning: Pass `evals` as keyword args.\n",
      "  warnings.warn(msg, FutureWarning)\n"
     ]
    },
    {
     "name": "stdout",
     "output_type": "stream",
     "text": [
      "[10]\teval-logloss:0.17785\ttrain-logloss:0.17760\n",
      "[20]\teval-logloss:0.06252\ttrain-logloss:0.06214\n",
      "[30]\teval-logloss:0.02371\ttrain-logloss:0.02319\n",
      "[40]\teval-logloss:0.00998\ttrain-logloss:0.00927\n",
      "[50]\teval-logloss:0.00510\ttrain-logloss:0.00417\n",
      "[60]\teval-logloss:0.00340\ttrain-logloss:0.00216\n",
      "[70]\teval-logloss:0.00283\ttrain-logloss:0.00128\n",
      "[80]\teval-logloss:0.00273\ttrain-logloss:0.00082\n",
      "[90]\teval-logloss:0.00268\ttrain-logloss:0.00054\n",
      "[99]\teval-logloss:0.00273\ttrain-logloss:0.00039\n",
      "[0]\teval-logloss:0.59833\ttrain-logloss:0.59831\n"
     ]
    },
    {
     "name": "stderr",
     "output_type": "stream",
     "text": [
      "c:\\Users\\cleme\\Desktop\\personal-projects\\creditcard-fraud-ML\\venv\\lib\\site-packages\\xgboost\\core.py:617: FutureWarning: Pass `evals` as keyword args.\n",
      "  warnings.warn(msg, FutureWarning)\n"
     ]
    },
    {
     "name": "stdout",
     "output_type": "stream",
     "text": [
      "[10]\teval-logloss:0.17785\ttrain-logloss:0.17760\n",
      "[20]\teval-logloss:0.06252\ttrain-logloss:0.06214\n",
      "[30]\teval-logloss:0.02371\ttrain-logloss:0.02319\n",
      "[40]\teval-logloss:0.00998\ttrain-logloss:0.00927\n",
      "[50]\teval-logloss:0.00510\ttrain-logloss:0.00417\n",
      "[60]\teval-logloss:0.00340\ttrain-logloss:0.00216\n",
      "[70]\teval-logloss:0.00283\ttrain-logloss:0.00128\n",
      "[80]\teval-logloss:0.00273\ttrain-logloss:0.00082\n",
      "[90]\teval-logloss:0.00268\ttrain-logloss:0.00054\n",
      "[99]\teval-logloss:0.00273\ttrain-logloss:0.00039\n"
     ]
    },
    {
     "name": "stderr",
     "output_type": "stream",
     "text": [
      "c:\\Users\\cleme\\Desktop\\personal-projects\\creditcard-fraud-ML\\venv\\lib\\site-packages\\xgboost\\core.py:617: FutureWarning: Pass `evals` as keyword args.\n",
      "  warnings.warn(msg, FutureWarning)\n"
     ]
    },
    {
     "name": "stdout",
     "output_type": "stream",
     "text": [
      "[0]\teval-logloss:0.59833\ttrain-logloss:0.59829\n",
      "[10]\teval-logloss:0.17793\ttrain-logloss:0.17756\n",
      "[20]\teval-logloss:0.06264\ttrain-logloss:0.06214\n",
      "[30]\teval-logloss:0.02384\ttrain-logloss:0.02319\n",
      "[40]\teval-logloss:0.01012\ttrain-logloss:0.00924\n",
      "[50]\teval-logloss:0.00522\ttrain-logloss:0.00414\n",
      "[60]\teval-logloss:0.00350\ttrain-logloss:0.00212\n",
      "[70]\teval-logloss:0.00290\ttrain-logloss:0.00125\n",
      "[80]\teval-logloss:0.00277\ttrain-logloss:0.00081\n",
      "[90]\teval-logloss:0.00273\ttrain-logloss:0.00053\n",
      "[99]\teval-logloss:0.00276\ttrain-logloss:0.00037\n"
     ]
    },
    {
     "name": "stderr",
     "output_type": "stream",
     "text": [
      "c:\\Users\\cleme\\Desktop\\personal-projects\\creditcard-fraud-ML\\venv\\lib\\site-packages\\xgboost\\core.py:617: FutureWarning: Pass `evals` as keyword args.\n",
      "  warnings.warn(msg, FutureWarning)\n"
     ]
    },
    {
     "name": "stdout",
     "output_type": "stream",
     "text": [
      "[0]\teval-logloss:0.59833\ttrain-logloss:0.59829\n",
      "[10]\teval-logloss:0.17793\ttrain-logloss:0.17756\n",
      "[20]\teval-logloss:0.06264\ttrain-logloss:0.06214\n",
      "[30]\teval-logloss:0.02384\ttrain-logloss:0.02319\n",
      "[40]\teval-logloss:0.01012\ttrain-logloss:0.00924\n",
      "[50]\teval-logloss:0.00522\ttrain-logloss:0.00414\n",
      "[60]\teval-logloss:0.00350\ttrain-logloss:0.00212\n",
      "[70]\teval-logloss:0.00290\ttrain-logloss:0.00125\n",
      "[80]\teval-logloss:0.00277\ttrain-logloss:0.00081\n",
      "[90]\teval-logloss:0.00273\ttrain-logloss:0.00053\n",
      "[99]\teval-logloss:0.00276\ttrain-logloss:0.00037\n"
     ]
    },
    {
     "name": "stderr",
     "output_type": "stream",
     "text": [
      "c:\\Users\\cleme\\Desktop\\personal-projects\\creditcard-fraud-ML\\venv\\lib\\site-packages\\xgboost\\core.py:617: FutureWarning: Pass `evals` as keyword args.\n",
      "  warnings.warn(msg, FutureWarning)\n"
     ]
    },
    {
     "name": "stdout",
     "output_type": "stream",
     "text": [
      "[0]\teval-logloss:0.59833\ttrain-logloss:0.59829\n",
      "[10]\teval-logloss:0.17793\ttrain-logloss:0.17756\n",
      "[20]\teval-logloss:0.06264\ttrain-logloss:0.06214\n",
      "[30]\teval-logloss:0.02384\ttrain-logloss:0.02319\n",
      "[40]\teval-logloss:0.01012\ttrain-logloss:0.00924\n",
      "[50]\teval-logloss:0.00522\ttrain-logloss:0.00414\n",
      "[60]\teval-logloss:0.00350\ttrain-logloss:0.00212\n",
      "[70]\teval-logloss:0.00290\ttrain-logloss:0.00125\n",
      "[80]\teval-logloss:0.00277\ttrain-logloss:0.00081\n",
      "[90]\teval-logloss:0.00273\ttrain-logloss:0.00053\n",
      "[99]\teval-logloss:0.00276\ttrain-logloss:0.00037\n"
     ]
    },
    {
     "name": "stderr",
     "output_type": "stream",
     "text": [
      "c:\\Users\\cleme\\Desktop\\personal-projects\\creditcard-fraud-ML\\venv\\lib\\site-packages\\xgboost\\core.py:617: FutureWarning: Pass `evals` as keyword args.\n",
      "  warnings.warn(msg, FutureWarning)\n"
     ]
    },
    {
     "name": "stdout",
     "output_type": "stream",
     "text": [
      "[0]\teval-logloss:0.59833\ttrain-logloss:0.59829\n",
      "[10]\teval-logloss:0.17793\ttrain-logloss:0.17756\n",
      "[20]\teval-logloss:0.06264\ttrain-logloss:0.06214\n",
      "[30]\teval-logloss:0.02384\ttrain-logloss:0.02319\n",
      "[40]\teval-logloss:0.01012\ttrain-logloss:0.00924\n",
      "[50]\teval-logloss:0.00522\ttrain-logloss:0.00414\n",
      "[60]\teval-logloss:0.00350\ttrain-logloss:0.00212\n",
      "[70]\teval-logloss:0.00290\ttrain-logloss:0.00125\n",
      "[80]\teval-logloss:0.00277\ttrain-logloss:0.00081\n",
      "[90]\teval-logloss:0.00273\ttrain-logloss:0.00053\n",
      "[99]\teval-logloss:0.00276\ttrain-logloss:0.00037\n"
     ]
    },
    {
     "name": "stderr",
     "output_type": "stream",
     "text": [
      "c:\\Users\\cleme\\Desktop\\personal-projects\\creditcard-fraud-ML\\venv\\lib\\site-packages\\xgboost\\core.py:617: FutureWarning: Pass `evals` as keyword args.\n",
      "  warnings.warn(msg, FutureWarning)\n"
     ]
    },
    {
     "name": "stdout",
     "output_type": "stream",
     "text": [
      "[0]\teval-logloss:0.31422\ttrain-logloss:0.31414\n",
      "[10]\teval-logloss:0.00431\ttrain-logloss:0.00362\n",
      "[20]\teval-logloss:0.00302\ttrain-logloss:0.00156\n",
      "[30]\teval-logloss:0.00295\ttrain-logloss:0.00104\n",
      "[40]\teval-logloss:0.00293\ttrain-logloss:0.00071\n",
      "[50]\teval-logloss:0.00298\ttrain-logloss:0.00047\n",
      "[60]\teval-logloss:0.00298\ttrain-logloss:0.00030\n",
      "[70]\teval-logloss:0.00311\ttrain-logloss:0.00021\n",
      "[80]\teval-logloss:0.00319\ttrain-logloss:0.00015\n",
      "[90]\teval-logloss:0.00325\ttrain-logloss:0.00011\n",
      "[99]\teval-logloss:0.00335\ttrain-logloss:0.00009\n",
      "[0]\teval-logloss:0.31422\ttrain-logloss:0.31414\n"
     ]
    },
    {
     "name": "stderr",
     "output_type": "stream",
     "text": [
      "c:\\Users\\cleme\\Desktop\\personal-projects\\creditcard-fraud-ML\\venv\\lib\\site-packages\\xgboost\\core.py:617: FutureWarning: Pass `evals` as keyword args.\n",
      "  warnings.warn(msg, FutureWarning)\n"
     ]
    },
    {
     "name": "stdout",
     "output_type": "stream",
     "text": [
      "[10]\teval-logloss:0.00431\ttrain-logloss:0.00362\n",
      "[20]\teval-logloss:0.00302\ttrain-logloss:0.00156\n",
      "[30]\teval-logloss:0.00295\ttrain-logloss:0.00104\n",
      "[40]\teval-logloss:0.00293\ttrain-logloss:0.00071\n",
      "[50]\teval-logloss:0.00298\ttrain-logloss:0.00047\n",
      "[60]\teval-logloss:0.00298\ttrain-logloss:0.00030\n",
      "[70]\teval-logloss:0.00311\ttrain-logloss:0.00021\n",
      "[80]\teval-logloss:0.00319\ttrain-logloss:0.00015\n",
      "[90]\teval-logloss:0.00325\ttrain-logloss:0.00011\n",
      "[99]\teval-logloss:0.00335\ttrain-logloss:0.00009\n",
      "[0]\teval-logloss:0.31422\ttrain-logloss:0.31414\n"
     ]
    },
    {
     "name": "stderr",
     "output_type": "stream",
     "text": [
      "c:\\Users\\cleme\\Desktop\\personal-projects\\creditcard-fraud-ML\\venv\\lib\\site-packages\\xgboost\\core.py:617: FutureWarning: Pass `evals` as keyword args.\n",
      "  warnings.warn(msg, FutureWarning)\n"
     ]
    },
    {
     "name": "stdout",
     "output_type": "stream",
     "text": [
      "[10]\teval-logloss:0.00431\ttrain-logloss:0.00362\n",
      "[20]\teval-logloss:0.00302\ttrain-logloss:0.00156\n",
      "[30]\teval-logloss:0.00295\ttrain-logloss:0.00104\n",
      "[40]\teval-logloss:0.00293\ttrain-logloss:0.00071\n",
      "[50]\teval-logloss:0.00298\ttrain-logloss:0.00047\n",
      "[60]\teval-logloss:0.00298\ttrain-logloss:0.00030\n",
      "[70]\teval-logloss:0.00311\ttrain-logloss:0.00021\n",
      "[80]\teval-logloss:0.00319\ttrain-logloss:0.00015\n",
      "[90]\teval-logloss:0.00325\ttrain-logloss:0.00011\n",
      "[99]\teval-logloss:0.00335\ttrain-logloss:0.00009\n",
      "[0]\teval-logloss:0.31422\ttrain-logloss:0.31414\n"
     ]
    },
    {
     "name": "stderr",
     "output_type": "stream",
     "text": [
      "c:\\Users\\cleme\\Desktop\\personal-projects\\creditcard-fraud-ML\\venv\\lib\\site-packages\\xgboost\\core.py:617: FutureWarning: Pass `evals` as keyword args.\n",
      "  warnings.warn(msg, FutureWarning)\n"
     ]
    },
    {
     "name": "stdout",
     "output_type": "stream",
     "text": [
      "[10]\teval-logloss:0.00431\ttrain-logloss:0.00362\n",
      "[20]\teval-logloss:0.00302\ttrain-logloss:0.00156\n",
      "[30]\teval-logloss:0.00295\ttrain-logloss:0.00104\n",
      "[40]\teval-logloss:0.00293\ttrain-logloss:0.00071\n",
      "[50]\teval-logloss:0.00298\ttrain-logloss:0.00047\n",
      "[60]\teval-logloss:0.00298\ttrain-logloss:0.00030\n",
      "[70]\teval-logloss:0.00311\ttrain-logloss:0.00021\n",
      "[80]\teval-logloss:0.00319\ttrain-logloss:0.00015\n",
      "[90]\teval-logloss:0.00325\ttrain-logloss:0.00011\n",
      "[99]\teval-logloss:0.00335\ttrain-logloss:0.00009\n"
     ]
    },
    {
     "name": "stderr",
     "output_type": "stream",
     "text": [
      "c:\\Users\\cleme\\Desktop\\personal-projects\\creditcard-fraud-ML\\venv\\lib\\site-packages\\xgboost\\core.py:617: FutureWarning: Pass `evals` as keyword args.\n",
      "  warnings.warn(msg, FutureWarning)\n"
     ]
    },
    {
     "name": "stdout",
     "output_type": "stream",
     "text": [
      "[0]\teval-logloss:0.31422\ttrain-logloss:0.31413\n",
      "[10]\teval-logloss:0.00424\ttrain-logloss:0.00355\n",
      "[20]\teval-logloss:0.00299\ttrain-logloss:0.00150\n",
      "[30]\teval-logloss:0.00298\ttrain-logloss:0.00099\n",
      "[40]\teval-logloss:0.00304\ttrain-logloss:0.00063\n",
      "[50]\teval-logloss:0.00309\ttrain-logloss:0.00042\n",
      "[60]\teval-logloss:0.00320\ttrain-logloss:0.00027\n",
      "[70]\teval-logloss:0.00329\ttrain-logloss:0.00019\n",
      "[80]\teval-logloss:0.00345\ttrain-logloss:0.00013\n",
      "[90]\teval-logloss:0.00354\ttrain-logloss:0.00010\n",
      "[99]\teval-logloss:0.00360\ttrain-logloss:0.00008\n"
     ]
    },
    {
     "name": "stderr",
     "output_type": "stream",
     "text": [
      "c:\\Users\\cleme\\Desktop\\personal-projects\\creditcard-fraud-ML\\venv\\lib\\site-packages\\xgboost\\core.py:617: FutureWarning: Pass `evals` as keyword args.\n",
      "  warnings.warn(msg, FutureWarning)\n"
     ]
    },
    {
     "name": "stdout",
     "output_type": "stream",
     "text": [
      "[0]\teval-logloss:0.31422\ttrain-logloss:0.31413\n",
      "[10]\teval-logloss:0.00424\ttrain-logloss:0.00355\n",
      "[20]\teval-logloss:0.00299\ttrain-logloss:0.00150\n",
      "[30]\teval-logloss:0.00298\ttrain-logloss:0.00099\n",
      "[40]\teval-logloss:0.00304\ttrain-logloss:0.00063\n",
      "[50]\teval-logloss:0.00309\ttrain-logloss:0.00042\n",
      "[60]\teval-logloss:0.00320\ttrain-logloss:0.00027\n",
      "[70]\teval-logloss:0.00329\ttrain-logloss:0.00019\n",
      "[80]\teval-logloss:0.00345\ttrain-logloss:0.00013\n",
      "[90]\teval-logloss:0.00354\ttrain-logloss:0.00010\n",
      "[99]\teval-logloss:0.00360\ttrain-logloss:0.00008\n"
     ]
    },
    {
     "name": "stderr",
     "output_type": "stream",
     "text": [
      "c:\\Users\\cleme\\Desktop\\personal-projects\\creditcard-fraud-ML\\venv\\lib\\site-packages\\xgboost\\core.py:617: FutureWarning: Pass `evals` as keyword args.\n",
      "  warnings.warn(msg, FutureWarning)\n"
     ]
    },
    {
     "name": "stdout",
     "output_type": "stream",
     "text": [
      "[0]\teval-logloss:0.31422\ttrain-logloss:0.31413\n",
      "[10]\teval-logloss:0.00424\ttrain-logloss:0.00355\n",
      "[20]\teval-logloss:0.00299\ttrain-logloss:0.00150\n",
      "[30]\teval-logloss:0.00298\ttrain-logloss:0.00099\n",
      "[40]\teval-logloss:0.00304\ttrain-logloss:0.00063\n",
      "[50]\teval-logloss:0.00309\ttrain-logloss:0.00042\n",
      "[60]\teval-logloss:0.00320\ttrain-logloss:0.00027\n",
      "[70]\teval-logloss:0.00329\ttrain-logloss:0.00019\n",
      "[80]\teval-logloss:0.00345\ttrain-logloss:0.00013\n",
      "[90]\teval-logloss:0.00354\ttrain-logloss:0.00010\n",
      "[99]\teval-logloss:0.00360\ttrain-logloss:0.00008\n"
     ]
    },
    {
     "name": "stderr",
     "output_type": "stream",
     "text": [
      "c:\\Users\\cleme\\Desktop\\personal-projects\\creditcard-fraud-ML\\venv\\lib\\site-packages\\xgboost\\core.py:617: FutureWarning: Pass `evals` as keyword args.\n",
      "  warnings.warn(msg, FutureWarning)\n"
     ]
    },
    {
     "name": "stdout",
     "output_type": "stream",
     "text": [
      "[0]\teval-logloss:0.31422\ttrain-logloss:0.31413\n",
      "[10]\teval-logloss:0.00424\ttrain-logloss:0.00355\n",
      "[20]\teval-logloss:0.00299\ttrain-logloss:0.00150\n",
      "[30]\teval-logloss:0.00298\ttrain-logloss:0.00099\n",
      "[40]\teval-logloss:0.00304\ttrain-logloss:0.00063\n",
      "[50]\teval-logloss:0.00309\ttrain-logloss:0.00042\n",
      "[60]\teval-logloss:0.00320\ttrain-logloss:0.00027\n",
      "[70]\teval-logloss:0.00329\ttrain-logloss:0.00019\n",
      "[80]\teval-logloss:0.00345\ttrain-logloss:0.00013\n",
      "[90]\teval-logloss:0.00354\ttrain-logloss:0.00010\n",
      "[99]\teval-logloss:0.00360\ttrain-logloss:0.00008\n"
     ]
    },
    {
     "name": "stderr",
     "output_type": "stream",
     "text": [
      "c:\\Users\\cleme\\Desktop\\personal-projects\\creditcard-fraud-ML\\venv\\lib\\site-packages\\xgboost\\core.py:617: FutureWarning: Pass `evals` as keyword args.\n",
      "  warnings.warn(msg, FutureWarning)\n"
     ]
    },
    {
     "name": "stdout",
     "output_type": "stream",
     "text": [
      "[0]\teval-logloss:0.31426\ttrain-logloss:0.31414\n",
      "[10]\teval-logloss:0.00428\ttrain-logloss:0.00348\n",
      "[20]\teval-logloss:0.00300\ttrain-logloss:0.00146\n",
      "[30]\teval-logloss:0.00313\ttrain-logloss:0.00095\n",
      "[40]\teval-logloss:0.00312\ttrain-logloss:0.00063\n",
      "[50]\teval-logloss:0.00318\ttrain-logloss:0.00040\n",
      "[60]\teval-logloss:0.00325\ttrain-logloss:0.00024\n",
      "[70]\teval-logloss:0.00331\ttrain-logloss:0.00015\n",
      "[80]\teval-logloss:0.00340\ttrain-logloss:0.00012\n",
      "[90]\teval-logloss:0.00348\ttrain-logloss:0.00009\n",
      "[99]\teval-logloss:0.00354\ttrain-logloss:0.00008\n"
     ]
    },
    {
     "name": "stderr",
     "output_type": "stream",
     "text": [
      "c:\\Users\\cleme\\Desktop\\personal-projects\\creditcard-fraud-ML\\venv\\lib\\site-packages\\xgboost\\core.py:617: FutureWarning: Pass `evals` as keyword args.\n",
      "  warnings.warn(msg, FutureWarning)\n"
     ]
    },
    {
     "name": "stdout",
     "output_type": "stream",
     "text": [
      "[0]\teval-logloss:0.31426\ttrain-logloss:0.31414\n",
      "[10]\teval-logloss:0.00428\ttrain-logloss:0.00348\n",
      "[20]\teval-logloss:0.00300\ttrain-logloss:0.00146\n",
      "[30]\teval-logloss:0.00313\ttrain-logloss:0.00095\n",
      "[40]\teval-logloss:0.00312\ttrain-logloss:0.00063\n",
      "[50]\teval-logloss:0.00318\ttrain-logloss:0.00040\n",
      "[60]\teval-logloss:0.00325\ttrain-logloss:0.00024\n",
      "[70]\teval-logloss:0.00331\ttrain-logloss:0.00015\n",
      "[80]\teval-logloss:0.00340\ttrain-logloss:0.00012\n",
      "[90]\teval-logloss:0.00348\ttrain-logloss:0.00009\n",
      "[99]\teval-logloss:0.00354\ttrain-logloss:0.00008\n"
     ]
    },
    {
     "name": "stderr",
     "output_type": "stream",
     "text": [
      "c:\\Users\\cleme\\Desktop\\personal-projects\\creditcard-fraud-ML\\venv\\lib\\site-packages\\xgboost\\core.py:617: FutureWarning: Pass `evals` as keyword args.\n",
      "  warnings.warn(msg, FutureWarning)\n"
     ]
    },
    {
     "name": "stdout",
     "output_type": "stream",
     "text": [
      "[0]\teval-logloss:0.31426\ttrain-logloss:0.31414\n",
      "[10]\teval-logloss:0.00428\ttrain-logloss:0.00348\n",
      "[20]\teval-logloss:0.00300\ttrain-logloss:0.00146\n",
      "[30]\teval-logloss:0.00313\ttrain-logloss:0.00095\n",
      "[40]\teval-logloss:0.00312\ttrain-logloss:0.00063\n",
      "[50]\teval-logloss:0.00318\ttrain-logloss:0.00040\n",
      "[60]\teval-logloss:0.00325\ttrain-logloss:0.00024\n",
      "[70]\teval-logloss:0.00331\ttrain-logloss:0.00015\n",
      "[80]\teval-logloss:0.00340\ttrain-logloss:0.00012\n",
      "[90]\teval-logloss:0.00348\ttrain-logloss:0.00009\n",
      "[99]\teval-logloss:0.00354\ttrain-logloss:0.00008\n"
     ]
    },
    {
     "name": "stderr",
     "output_type": "stream",
     "text": [
      "c:\\Users\\cleme\\Desktop\\personal-projects\\creditcard-fraud-ML\\venv\\lib\\site-packages\\xgboost\\core.py:617: FutureWarning: Pass `evals` as keyword args.\n",
      "  warnings.warn(msg, FutureWarning)\n"
     ]
    },
    {
     "name": "stdout",
     "output_type": "stream",
     "text": [
      "[0]\teval-logloss:0.31426\ttrain-logloss:0.31414\n",
      "[10]\teval-logloss:0.00428\ttrain-logloss:0.00348\n",
      "[20]\teval-logloss:0.00300\ttrain-logloss:0.00146\n",
      "[30]\teval-logloss:0.00313\ttrain-logloss:0.00095\n",
      "[40]\teval-logloss:0.00312\ttrain-logloss:0.00063\n",
      "[50]\teval-logloss:0.00318\ttrain-logloss:0.00040\n",
      "[60]\teval-logloss:0.00325\ttrain-logloss:0.00024\n",
      "[70]\teval-logloss:0.00331\ttrain-logloss:0.00015\n",
      "[80]\teval-logloss:0.00340\ttrain-logloss:0.00012\n",
      "[90]\teval-logloss:0.00348\ttrain-logloss:0.00009\n",
      "[99]\teval-logloss:0.00354\ttrain-logloss:0.00008\n"
     ]
    },
    {
     "name": "stderr",
     "output_type": "stream",
     "text": [
      "c:\\Users\\cleme\\Desktop\\personal-projects\\creditcard-fraud-ML\\venv\\lib\\site-packages\\xgboost\\core.py:617: FutureWarning: Pass `evals` as keyword args.\n",
      "  warnings.warn(msg, FutureWarning)\n"
     ]
    },
    {
     "name": "stdout",
     "output_type": "stream",
     "text": [
      "[0]\teval-logloss:0.31403\ttrain-logloss:0.31396\n",
      "[10]\teval-logloss:0.00408\ttrain-logloss:0.00279\n",
      "[20]\teval-logloss:0.00296\ttrain-logloss:0.00035\n",
      "[30]\teval-logloss:0.00320\ttrain-logloss:0.00011\n",
      "[40]\teval-logloss:0.00337\ttrain-logloss:0.00007\n",
      "[50]\teval-logloss:0.00351\ttrain-logloss:0.00006\n",
      "[60]\teval-logloss:0.00355\ttrain-logloss:0.00005\n",
      "[70]\teval-logloss:0.00363\ttrain-logloss:0.00004\n",
      "[80]\teval-logloss:0.00366\ttrain-logloss:0.00004\n",
      "[90]\teval-logloss:0.00369\ttrain-logloss:0.00003\n",
      "[99]\teval-logloss:0.00370\ttrain-logloss:0.00003\n",
      "[0]\teval-logloss:0.31403\ttrain-logloss:0.31396\n"
     ]
    },
    {
     "name": "stderr",
     "output_type": "stream",
     "text": [
      "c:\\Users\\cleme\\Desktop\\personal-projects\\creditcard-fraud-ML\\venv\\lib\\site-packages\\xgboost\\core.py:617: FutureWarning: Pass `evals` as keyword args.\n",
      "  warnings.warn(msg, FutureWarning)\n"
     ]
    },
    {
     "name": "stdout",
     "output_type": "stream",
     "text": [
      "[10]\teval-logloss:0.00408\ttrain-logloss:0.00279\n",
      "[20]\teval-logloss:0.00296\ttrain-logloss:0.00035\n",
      "[30]\teval-logloss:0.00320\ttrain-logloss:0.00011\n",
      "[40]\teval-logloss:0.00337\ttrain-logloss:0.00007\n",
      "[50]\teval-logloss:0.00351\ttrain-logloss:0.00006\n",
      "[60]\teval-logloss:0.00355\ttrain-logloss:0.00005\n",
      "[70]\teval-logloss:0.00363\ttrain-logloss:0.00004\n",
      "[80]\teval-logloss:0.00366\ttrain-logloss:0.00004\n",
      "[90]\teval-logloss:0.00369\ttrain-logloss:0.00003\n",
      "[99]\teval-logloss:0.00370\ttrain-logloss:0.00003\n",
      "[0]\teval-logloss:0.31403\ttrain-logloss:0.31396\n"
     ]
    },
    {
     "name": "stderr",
     "output_type": "stream",
     "text": [
      "c:\\Users\\cleme\\Desktop\\personal-projects\\creditcard-fraud-ML\\venv\\lib\\site-packages\\xgboost\\core.py:617: FutureWarning: Pass `evals` as keyword args.\n",
      "  warnings.warn(msg, FutureWarning)\n"
     ]
    },
    {
     "name": "stdout",
     "output_type": "stream",
     "text": [
      "[10]\teval-logloss:0.00408\ttrain-logloss:0.00279\n",
      "[20]\teval-logloss:0.00296\ttrain-logloss:0.00035\n",
      "[30]\teval-logloss:0.00320\ttrain-logloss:0.00011\n",
      "[40]\teval-logloss:0.00337\ttrain-logloss:0.00007\n",
      "[50]\teval-logloss:0.00351\ttrain-logloss:0.00006\n",
      "[60]\teval-logloss:0.00355\ttrain-logloss:0.00005\n",
      "[70]\teval-logloss:0.00363\ttrain-logloss:0.00004\n",
      "[80]\teval-logloss:0.00366\ttrain-logloss:0.00004\n",
      "[90]\teval-logloss:0.00369\ttrain-logloss:0.00003\n",
      "[99]\teval-logloss:0.00370\ttrain-logloss:0.00003\n",
      "[0]\teval-logloss:0.31403\ttrain-logloss:0.31396\n"
     ]
    },
    {
     "name": "stderr",
     "output_type": "stream",
     "text": [
      "c:\\Users\\cleme\\Desktop\\personal-projects\\creditcard-fraud-ML\\venv\\lib\\site-packages\\xgboost\\core.py:617: FutureWarning: Pass `evals` as keyword args.\n",
      "  warnings.warn(msg, FutureWarning)\n"
     ]
    },
    {
     "name": "stdout",
     "output_type": "stream",
     "text": [
      "[10]\teval-logloss:0.00408\ttrain-logloss:0.00279\n",
      "[20]\teval-logloss:0.00296\ttrain-logloss:0.00035\n",
      "[30]\teval-logloss:0.00320\ttrain-logloss:0.00011\n",
      "[40]\teval-logloss:0.00337\ttrain-logloss:0.00007\n",
      "[50]\teval-logloss:0.00351\ttrain-logloss:0.00006\n",
      "[60]\teval-logloss:0.00355\ttrain-logloss:0.00005\n",
      "[70]\teval-logloss:0.00363\ttrain-logloss:0.00004\n",
      "[80]\teval-logloss:0.00366\ttrain-logloss:0.00004\n",
      "[90]\teval-logloss:0.00369\ttrain-logloss:0.00003\n",
      "[99]\teval-logloss:0.00370\ttrain-logloss:0.00003\n",
      "[0]\teval-logloss:0.31402\ttrain-logloss:0.31396\n"
     ]
    },
    {
     "name": "stderr",
     "output_type": "stream",
     "text": [
      "c:\\Users\\cleme\\Desktop\\personal-projects\\creditcard-fraud-ML\\venv\\lib\\site-packages\\xgboost\\core.py:617: FutureWarning: Pass `evals` as keyword args.\n",
      "  warnings.warn(msg, FutureWarning)\n"
     ]
    },
    {
     "name": "stdout",
     "output_type": "stream",
     "text": [
      "[10]\teval-logloss:0.00398\ttrain-logloss:0.00284\n",
      "[20]\teval-logloss:0.00282\ttrain-logloss:0.00038\n",
      "[30]\teval-logloss:0.00308\ttrain-logloss:0.00012\n",
      "[40]\teval-logloss:0.00328\ttrain-logloss:0.00007\n",
      "[50]\teval-logloss:0.00338\ttrain-logloss:0.00005\n",
      "[60]\teval-logloss:0.00347\ttrain-logloss:0.00004\n",
      "[70]\teval-logloss:0.00355\ttrain-logloss:0.00004\n",
      "[80]\teval-logloss:0.00361\ttrain-logloss:0.00004\n",
      "[90]\teval-logloss:0.00365\ttrain-logloss:0.00003\n",
      "[99]\teval-logloss:0.00369\ttrain-logloss:0.00003\n"
     ]
    },
    {
     "name": "stderr",
     "output_type": "stream",
     "text": [
      "c:\\Users\\cleme\\Desktop\\personal-projects\\creditcard-fraud-ML\\venv\\lib\\site-packages\\xgboost\\core.py:617: FutureWarning: Pass `evals` as keyword args.\n",
      "  warnings.warn(msg, FutureWarning)\n"
     ]
    },
    {
     "name": "stdout",
     "output_type": "stream",
     "text": [
      "[0]\teval-logloss:0.31402\ttrain-logloss:0.31396\n",
      "[10]\teval-logloss:0.00398\ttrain-logloss:0.00284\n",
      "[20]\teval-logloss:0.00282\ttrain-logloss:0.00038\n",
      "[30]\teval-logloss:0.00308\ttrain-logloss:0.00012\n",
      "[40]\teval-logloss:0.00328\ttrain-logloss:0.00007\n",
      "[50]\teval-logloss:0.00338\ttrain-logloss:0.00005\n",
      "[60]\teval-logloss:0.00347\ttrain-logloss:0.00004\n",
      "[70]\teval-logloss:0.00355\ttrain-logloss:0.00004\n",
      "[80]\teval-logloss:0.00361\ttrain-logloss:0.00004\n",
      "[90]\teval-logloss:0.00365\ttrain-logloss:0.00003\n",
      "[99]\teval-logloss:0.00369\ttrain-logloss:0.00003\n"
     ]
    },
    {
     "name": "stderr",
     "output_type": "stream",
     "text": [
      "c:\\Users\\cleme\\Desktop\\personal-projects\\creditcard-fraud-ML\\venv\\lib\\site-packages\\xgboost\\core.py:617: FutureWarning: Pass `evals` as keyword args.\n",
      "  warnings.warn(msg, FutureWarning)\n"
     ]
    },
    {
     "name": "stdout",
     "output_type": "stream",
     "text": [
      "[0]\teval-logloss:0.31402\ttrain-logloss:0.31396\n",
      "[10]\teval-logloss:0.00398\ttrain-logloss:0.00284\n",
      "[20]\teval-logloss:0.00282\ttrain-logloss:0.00038\n",
      "[30]\teval-logloss:0.00308\ttrain-logloss:0.00012\n",
      "[40]\teval-logloss:0.00328\ttrain-logloss:0.00007\n",
      "[50]\teval-logloss:0.00338\ttrain-logloss:0.00005\n",
      "[60]\teval-logloss:0.00347\ttrain-logloss:0.00004\n",
      "[70]\teval-logloss:0.00355\ttrain-logloss:0.00004\n",
      "[80]\teval-logloss:0.00361\ttrain-logloss:0.00004\n",
      "[90]\teval-logloss:0.00365\ttrain-logloss:0.00003\n",
      "[99]\teval-logloss:0.00369\ttrain-logloss:0.00003\n"
     ]
    },
    {
     "name": "stderr",
     "output_type": "stream",
     "text": [
      "c:\\Users\\cleme\\Desktop\\personal-projects\\creditcard-fraud-ML\\venv\\lib\\site-packages\\xgboost\\core.py:617: FutureWarning: Pass `evals` as keyword args.\n",
      "  warnings.warn(msg, FutureWarning)\n"
     ]
    },
    {
     "name": "stdout",
     "output_type": "stream",
     "text": [
      "[0]\teval-logloss:0.31402\ttrain-logloss:0.31396\n",
      "[10]\teval-logloss:0.00398\ttrain-logloss:0.00284\n",
      "[20]\teval-logloss:0.00282\ttrain-logloss:0.00038\n",
      "[30]\teval-logloss:0.00308\ttrain-logloss:0.00012\n",
      "[40]\teval-logloss:0.00328\ttrain-logloss:0.00007\n",
      "[50]\teval-logloss:0.00338\ttrain-logloss:0.00005\n",
      "[60]\teval-logloss:0.00347\ttrain-logloss:0.00004\n",
      "[70]\teval-logloss:0.00355\ttrain-logloss:0.00004\n",
      "[80]\teval-logloss:0.00361\ttrain-logloss:0.00004\n",
      "[90]\teval-logloss:0.00365\ttrain-logloss:0.00003\n",
      "[99]\teval-logloss:0.00369\ttrain-logloss:0.00003\n"
     ]
    },
    {
     "name": "stderr",
     "output_type": "stream",
     "text": [
      "c:\\Users\\cleme\\Desktop\\personal-projects\\creditcard-fraud-ML\\venv\\lib\\site-packages\\xgboost\\core.py:617: FutureWarning: Pass `evals` as keyword args.\n",
      "  warnings.warn(msg, FutureWarning)\n"
     ]
    },
    {
     "name": "stdout",
     "output_type": "stream",
     "text": [
      "[0]\teval-logloss:0.31404\ttrain-logloss:0.31385\n",
      "[10]\teval-logloss:0.00397\ttrain-logloss:0.00284\n",
      "[20]\teval-logloss:0.00291\ttrain-logloss:0.00034\n",
      "[30]\teval-logloss:0.00322\ttrain-logloss:0.00011\n",
      "[40]\teval-logloss:0.00344\ttrain-logloss:0.00007\n",
      "[50]\teval-logloss:0.00353\ttrain-logloss:0.00005\n",
      "[60]\teval-logloss:0.00359\ttrain-logloss:0.00004\n",
      "[70]\teval-logloss:0.00366\ttrain-logloss:0.00004\n",
      "[80]\teval-logloss:0.00371\ttrain-logloss:0.00003\n",
      "[90]\teval-logloss:0.00373\ttrain-logloss:0.00003\n",
      "[99]\teval-logloss:0.00378\ttrain-logloss:0.00003\n"
     ]
    },
    {
     "name": "stderr",
     "output_type": "stream",
     "text": [
      "c:\\Users\\cleme\\Desktop\\personal-projects\\creditcard-fraud-ML\\venv\\lib\\site-packages\\xgboost\\core.py:617: FutureWarning: Pass `evals` as keyword args.\n",
      "  warnings.warn(msg, FutureWarning)\n"
     ]
    },
    {
     "name": "stdout",
     "output_type": "stream",
     "text": [
      "[0]\teval-logloss:0.31404\ttrain-logloss:0.31385\n",
      "[10]\teval-logloss:0.00397\ttrain-logloss:0.00284\n",
      "[20]\teval-logloss:0.00291\ttrain-logloss:0.00034\n",
      "[30]\teval-logloss:0.00322\ttrain-logloss:0.00011\n",
      "[40]\teval-logloss:0.00344\ttrain-logloss:0.00007\n",
      "[50]\teval-logloss:0.00353\ttrain-logloss:0.00005\n",
      "[60]\teval-logloss:0.00359\ttrain-logloss:0.00004\n",
      "[70]\teval-logloss:0.00366\ttrain-logloss:0.00004\n",
      "[80]\teval-logloss:0.00371\ttrain-logloss:0.00003\n",
      "[90]\teval-logloss:0.00373\ttrain-logloss:0.00003\n",
      "[99]\teval-logloss:0.00378\ttrain-logloss:0.00003\n"
     ]
    },
    {
     "name": "stderr",
     "output_type": "stream",
     "text": [
      "c:\\Users\\cleme\\Desktop\\personal-projects\\creditcard-fraud-ML\\venv\\lib\\site-packages\\xgboost\\core.py:617: FutureWarning: Pass `evals` as keyword args.\n",
      "  warnings.warn(msg, FutureWarning)\n"
     ]
    },
    {
     "name": "stdout",
     "output_type": "stream",
     "text": [
      "[0]\teval-logloss:0.31404\ttrain-logloss:0.31385\n",
      "[10]\teval-logloss:0.00397\ttrain-logloss:0.00284\n",
      "[20]\teval-logloss:0.00291\ttrain-logloss:0.00034\n",
      "[30]\teval-logloss:0.00322\ttrain-logloss:0.00011\n",
      "[40]\teval-logloss:0.00344\ttrain-logloss:0.00007\n",
      "[50]\teval-logloss:0.00353\ttrain-logloss:0.00005\n",
      "[60]\teval-logloss:0.00359\ttrain-logloss:0.00004\n",
      "[70]\teval-logloss:0.00366\ttrain-logloss:0.00004\n",
      "[80]\teval-logloss:0.00371\ttrain-logloss:0.00003\n",
      "[90]\teval-logloss:0.00373\ttrain-logloss:0.00003\n",
      "[99]\teval-logloss:0.00378\ttrain-logloss:0.00003\n"
     ]
    },
    {
     "name": "stderr",
     "output_type": "stream",
     "text": [
      "c:\\Users\\cleme\\Desktop\\personal-projects\\creditcard-fraud-ML\\venv\\lib\\site-packages\\xgboost\\core.py:617: FutureWarning: Pass `evals` as keyword args.\n",
      "  warnings.warn(msg, FutureWarning)\n"
     ]
    },
    {
     "name": "stdout",
     "output_type": "stream",
     "text": [
      "[0]\teval-logloss:0.31404\ttrain-logloss:0.31385\n",
      "[10]\teval-logloss:0.00397\ttrain-logloss:0.00284\n",
      "[20]\teval-logloss:0.00291\ttrain-logloss:0.00034\n",
      "[30]\teval-logloss:0.00322\ttrain-logloss:0.00011\n",
      "[40]\teval-logloss:0.00344\ttrain-logloss:0.00007\n",
      "[50]\teval-logloss:0.00353\ttrain-logloss:0.00005\n",
      "[60]\teval-logloss:0.00359\ttrain-logloss:0.00004\n",
      "[70]\teval-logloss:0.00366\ttrain-logloss:0.00004\n",
      "[80]\teval-logloss:0.00371\ttrain-logloss:0.00003\n",
      "[90]\teval-logloss:0.00373\ttrain-logloss:0.00003\n",
      "[99]\teval-logloss:0.00378\ttrain-logloss:0.00003\n"
     ]
    }
   ],
   "source": [
    "# Split data\n",
    "from sklearn.model_selection import train_test_split\n",
    "train, test = train_test_split(df, test_size=0.2)\n",
    "train, validation = train_test_split(train, test_size=0.2)\n",
    "Dtrain = xgb.DMatrix(train.drop(['Class'], axis=1), label=train['Class'])\n",
    "Dval = xgb.DMatrix(validation.drop(['Class'], axis=1), label=validation['Class'])\n",
    "Dtest = xgb.DMatrix(test.drop(['Class'], axis=1), label=test['Class'])\n",
    "\n",
    "search_cv = []\n",
    "\n",
    "for eta in [0.05, 0.1, 0.5]:\n",
    "    for mdepth in [3, 7]:\n",
    "        for tree_method in ['hist', 'approx', 'auto']:\n",
    "            for threshold in [0.2, 0.3, 0.4, 0.5]:\n",
    "                # Train model\n",
    "                param = {\n",
    "                    'max_depth': mdepth,\n",
    "                    'eta': eta,\n",
    "                    'objective': 'binary:logistic',\n",
    "                    'tree_method': tree_method,\n",
    "                }\n",
    "\n",
    "                # Evaluate model\n",
    "                num_round = 100\n",
    "                eval_list = [(Dval, 'eval'), (Dtrain, 'train')]\n",
    "                bst = xgb.train(param, Dtrain, num_round, eval_list, early_stopping_rounds=5, verbose_eval=10)\n",
    "\n",
    "                # Model evaluation\n",
    "                y_pred = pd.DataFrame(bst.predict(Dval) > threshold)\n",
    "                y_val = pd.DataFrame(validation['Class'])\n",
    "                f1_score(y_val, y_pred)\n",
    "                search_cv.append([param, f1_score(y_val, y_pred), threshold])"
   ]
  },
  {
   "cell_type": "code",
   "execution_count": 56,
   "metadata": {},
   "outputs": [],
   "source": [
    "def best_param_xgb(search_cv):\n",
    "    best = 0\n",
    "    for m in search_cv:\n",
    "        if m[1] > best:\n",
    "            best = m[1]\n",
    "            param = m[0]\n",
    "            threshold = m[2]\n",
    "    return param, threshold"
   ]
  },
  {
   "cell_type": "code",
   "execution_count": 57,
   "metadata": {},
   "outputs": [
    {
     "name": "stderr",
     "output_type": "stream",
     "text": [
      "c:\\Users\\cleme\\Desktop\\personal-projects\\creditcard-fraud-ML\\venv\\lib\\site-packages\\xgboost\\core.py:617: FutureWarning: Pass `evals` as keyword args.\n",
      "  warnings.warn(msg, FutureWarning)\n"
     ]
    },
    {
     "name": "stdout",
     "output_type": "stream",
     "text": [
      "[0]\teval-logloss:0.59833\ttrain-logloss:0.59831\n",
      "[10]\teval-logloss:0.17785\ttrain-logloss:0.17760\n",
      "[20]\teval-logloss:0.06252\ttrain-logloss:0.06214\n",
      "[30]\teval-logloss:0.02371\ttrain-logloss:0.02319\n",
      "[40]\teval-logloss:0.00998\ttrain-logloss:0.00927\n",
      "[50]\teval-logloss:0.00510\ttrain-logloss:0.00417\n",
      "[60]\teval-logloss:0.00340\ttrain-logloss:0.00216\n",
      "[70]\teval-logloss:0.00283\ttrain-logloss:0.00128\n",
      "[80]\teval-logloss:0.00273\ttrain-logloss:0.00082\n",
      "[90]\teval-logloss:0.00268\ttrain-logloss:0.00054\n",
      "[99]\teval-logloss:0.00273\ttrain-logloss:0.00039\n",
      "We obtain a score of 0.8712871287128713 for xgboost with the following parameters: {'max_depth': 7, 'eta': 0.1, 'objective': 'binary:logistic', 'tree_method': 'approx'} and threshold: 0.3\n"
     ]
    }
   ],
   "source": [
    "b_param, threshold = best_param_xgb(search_cv)\n",
    "eval_list = [(Dval, 'eval'), (Dtrain, 'train')]\n",
    "best_bst = xgb.train(b_param, Dtrain, num_round, eval_list, early_stopping_rounds=5, verbose_eval=10)\n",
    "y_pred = pd.DataFrame(best_bst.predict(Dtest) > threshold)\n",
    "y_test = pd.DataFrame(test['Class'])\n",
    "print(f\"We obtain a score of {f1_score(y_test, y_pred)} for xgboost with the following parameters: {b_param} and threshold: {threshold}\")"
   ]
  },
  {
   "cell_type": "markdown",
   "metadata": {},
   "source": [
    "With the XGBoost model, we manage to have an f1 score of 0.87. We take 0.3 as the threshold of the model, to better recognize the fraud."
   ]
  },
  {
   "attachments": {},
   "cell_type": "markdown",
   "metadata": {},
   "source": [
    "### More model evaluation & results visualization"
   ]
  },
  {
   "cell_type": "code",
   "execution_count": 58,
   "metadata": {},
   "outputs": [
    {
     "data": {
      "text/html": [
       "<div>\n",
       "<style scoped>\n",
       "    .dataframe tbody tr th:only-of-type {\n",
       "        vertical-align: middle;\n",
       "    }\n",
       "\n",
       "    .dataframe tbody tr th {\n",
       "        vertical-align: top;\n",
       "    }\n",
       "\n",
       "    .dataframe thead th {\n",
       "        text-align: right;\n",
       "    }\n",
       "</style>\n",
       "<table border=\"1\" class=\"dataframe\">\n",
       "  <thead>\n",
       "    <tr style=\"text-align: right;\">\n",
       "      <th></th>\n",
       "      <th>Not Fraud</th>\n",
       "      <th>Fraud</th>\n",
       "      <th>accuracy</th>\n",
       "      <th>macro avg</th>\n",
       "      <th>weighted avg</th>\n",
       "    </tr>\n",
       "  </thead>\n",
       "  <tbody>\n",
       "    <tr>\n",
       "      <th>precision</th>\n",
       "      <td>0.999613</td>\n",
       "      <td>0.956522</td>\n",
       "      <td>0.999544</td>\n",
       "      <td>0.978067</td>\n",
       "      <td>0.999530</td>\n",
       "    </tr>\n",
       "    <tr>\n",
       "      <th>recall</th>\n",
       "      <td>0.999930</td>\n",
       "      <td>0.800000</td>\n",
       "      <td>0.999544</td>\n",
       "      <td>0.899965</td>\n",
       "      <td>0.999544</td>\n",
       "    </tr>\n",
       "    <tr>\n",
       "      <th>f1-score</th>\n",
       "      <td>0.999771</td>\n",
       "      <td>0.871287</td>\n",
       "      <td>0.999544</td>\n",
       "      <td>0.935529</td>\n",
       "      <td>0.999523</td>\n",
       "    </tr>\n",
       "    <tr>\n",
       "      <th>support</th>\n",
       "      <td>56852.000000</td>\n",
       "      <td>110.000000</td>\n",
       "      <td>0.999544</td>\n",
       "      <td>56962.000000</td>\n",
       "      <td>56962.000000</td>\n",
       "    </tr>\n",
       "  </tbody>\n",
       "</table>\n",
       "</div>"
      ],
      "text/plain": [
       "              Not Fraud       Fraud  accuracy     macro avg  weighted avg\n",
       "precision      0.999613    0.956522  0.999544      0.978067      0.999530\n",
       "recall         0.999930    0.800000  0.999544      0.899965      0.999544\n",
       "f1-score       0.999771    0.871287  0.999544      0.935529      0.999523\n",
       "support    56852.000000  110.000000  0.999544  56962.000000  56962.000000"
      ]
     },
     "execution_count": 58,
     "metadata": {},
     "output_type": "execute_result"
    }
   ],
   "source": [
    "from sklearn import metrics\n",
    "pd.DataFrame(metrics.classification_report(y_test, y_pred, output_dict=True, target_names=['Not Fraud', 'Fraud']))"
   ]
  },
  {
   "cell_type": "code",
   "execution_count": 59,
   "metadata": {},
   "outputs": [
    {
     "data": {
      "text/plain": [
       "<Axes: xlabel='Predicted', ylabel='Actual'>"
      ]
     },
     "execution_count": 59,
     "metadata": {},
     "output_type": "execute_result"
    },
    {
     "data": {
      "image/png": "[encoded data removed]",
      "text/plain": [
       "<Figure size 640x480 with 2 Axes>"
      ]
     },
     "metadata": {},
     "output_type": "display_data"
    }
   ],
   "source": [
    "import seaborn as sns\n",
    "confusion_matrix = pd.crosstab(y_test.values.T, y_pred.values.T, rownames=['Actual'], colnames=['Predicted'])\n",
    "sns.heatmap(confusion_matrix, annot=True, cmap='Blues', fmt='g')"
   ]
  }
 ],
 "metadata": {
  "kernelspec": {
   "display_name": "venv",
   "language": "python",
   "name": "python3"
  },
  "language_info": {
   "codemirror_mode": {
    "name": "ipython",
    "version": 3
   },
   "file_extension": ".py",
   "mimetype": "text/x-python",
   "name": "python",
   "nbconvert_exporter": "python",
   "pygments_lexer": "ipython3",
   "version": "3.9.13"
  },
  "orig_nbformat": 4
 },
 "nbformat": 4,
 "nbformat_minor": 2
}
