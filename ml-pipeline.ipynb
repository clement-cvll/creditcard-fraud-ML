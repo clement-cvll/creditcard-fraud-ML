{
 "cells": [
  {
   "attachments": {},
   "cell_type": "markdown",
   "metadata": {},
   "source": [
    "# Pipeline"
   ]
  },
  {
   "attachments": {},
   "cell_type": "markdown",
   "metadata": {},
   "source": [
    "### Data input"
   ]
  },
  {
   "cell_type": "code",
   "execution_count": 6,
   "metadata": {},
   "outputs": [],
   "source": [
    "import pandas as pd\n",
    "import matplotlib.pyplot as plt\n",
    "\n",
    "# Importing the dataset\n",
    "df = pd.read_csv('creditcard.csv')\n",
    "df = df.drop(['Time'], axis=1)\n",
    "df.reset_index(drop=True, inplace=True)"
   ]
  },
  {
   "attachments": {},
   "cell_type": "markdown",
   "metadata": {},
   "source": [
    "### Data preprocessing"
   ]
  },
  {
   "attachments": {},
   "cell_type": "markdown",
   "metadata": {},
   "source": [
    "### Model hyperparameter tuning"
   ]
  },
  {
   "cell_type": "code",
   "execution_count": 7,
   "metadata": {},
   "outputs": [],
   "source": [
    "from sklearn.preprocessing import RobustScaler\n",
    "from sklearn.pipeline import make_pipeline\n",
    "from sklearn.model_selection import GridSearchCV\n",
    "from sklearn.feature_selection import SelectKBest\n",
    "from sklearn.linear_model import LogisticRegression\n",
    "from sklearn.metrics import f1_score, make_scorer \n",
    "\n",
    "pipeline = make_pipeline(\n",
    "    RobustScaler(),\n",
    "    SelectKBest(),\n",
    "    LogisticRegression()\n",
    ")\n",
    "\n",
    "params_grid = {\n",
    "    'selectkbest__k': [5, 15, 25],\n",
    "    'logisticregression__C': [ 0.1, 1, 5],\n",
    "    'logisticregression__solver': ['lbfgs', 'liblinear'],\n",
    "}"
   ]
  },
  {
   "attachments": {},
   "cell_type": "markdown",
   "metadata": {},
   "source": [
    "As the data set in very unbalanced, we will use the F1 score as the metric to evaluate the model performance."
   ]
  },
  {
   "cell_type": "code",
   "execution_count": 8,
   "metadata": {},
   "outputs": [
    {
     "name": "stdout",
     "output_type": "stream",
     "text": [
      "Fitting 4 folds for each of 18 candidates, totalling 72 fits\n",
      "[CV 1/4] END logisticregression__C=0.1, logisticregression__solver=lbfgs, selectkbest__k=5;, score=0.646 total time=   0.5s\n",
      "[CV 2/4] END logisticregression__C=0.1, logisticregression__solver=lbfgs, selectkbest__k=5;, score=0.663 total time=   0.4s\n",
      "[CV 3/4] END logisticregression__C=0.1, logisticregression__solver=lbfgs, selectkbest__k=5;, score=0.732 total time=   0.4s\n",
      "[CV 4/4] END logisticregression__C=0.1, logisticregression__solver=lbfgs, selectkbest__k=5;, score=0.756 total time=   0.4s\n",
      "[CV 1/4] END logisticregression__C=0.1, logisticregression__solver=lbfgs, selectkbest__k=15;, score=0.646 total time=   0.6s\n",
      "[CV 2/4] END logisticregression__C=0.1, logisticregression__solver=lbfgs, selectkbest__k=15;, score=0.713 total time=   0.7s\n",
      "[CV 3/4] END logisticregression__C=0.1, logisticregression__solver=lbfgs, selectkbest__k=15;, score=0.739 total time=   0.8s\n",
      "[CV 4/4] END logisticregression__C=0.1, logisticregression__solver=lbfgs, selectkbest__k=15;, score=0.753 total time=   0.8s\n",
      "[CV 1/4] END logisticregression__C=0.1, logisticregression__solver=lbfgs, selectkbest__k=25;, score=0.646 total time=   2.8s\n",
      "[CV 2/4] END logisticregression__C=0.1, logisticregression__solver=lbfgs, selectkbest__k=25;, score=0.710 total time=   2.1s\n",
      "[CV 3/4] END logisticregression__C=0.1, logisticregression__solver=lbfgs, selectkbest__k=25;, score=0.714 total time=   1.8s\n"
     ]
    },
    {
     "name": "stderr",
     "output_type": "stream",
     "text": [
      "c:\\Users\\cleme\\Desktop\\projects\\creditcard-fraud-ML\\venv\\Lib\\site-packages\\sklearn\\linear_model\\_logistic.py:460: ConvergenceWarning: lbfgs failed to converge (status=1):\n",
      "STOP: TOTAL NO. of ITERATIONS REACHED LIMIT.\n",
      "\n",
      "Increase the number of iterations (max_iter) or scale the data as shown in:\n",
      "    https://scikit-learn.org/stable/modules/preprocessing.html\n",
      "Please also refer to the documentation for alternative solver options:\n",
      "    https://scikit-learn.org/stable/modules/linear_model.html#logistic-regression\n",
      "  n_iter_i = _check_optimize_result(\n"
     ]
    },
    {
     "name": "stdout",
     "output_type": "stream",
     "text": [
      "[CV 4/4] END logisticregression__C=0.1, logisticregression__solver=lbfgs, selectkbest__k=25;, score=0.743 total time=   1.9s\n",
      "[CV 1/4] END logisticregression__C=0.1, logisticregression__solver=liblinear, selectkbest__k=5;, score=0.637 total time=   0.5s\n",
      "[CV 2/4] END logisticregression__C=0.1, logisticregression__solver=liblinear, selectkbest__k=5;, score=0.663 total time=   0.5s\n",
      "[CV 3/4] END logisticregression__C=0.1, logisticregression__solver=liblinear, selectkbest__k=5;, score=0.724 total time=   0.4s\n",
      "[CV 4/4] END logisticregression__C=0.1, logisticregression__solver=liblinear, selectkbest__k=5;, score=0.756 total time=   0.5s\n",
      "[CV 1/4] END logisticregression__C=0.1, logisticregression__solver=liblinear, selectkbest__k=15;, score=0.654 total time=   0.7s\n",
      "[CV 2/4] END logisticregression__C=0.1, logisticregression__solver=liblinear, selectkbest__k=15;, score=0.702 total time=   0.8s\n",
      "[CV 3/4] END logisticregression__C=0.1, logisticregression__solver=liblinear, selectkbest__k=15;, score=0.724 total time=   0.8s\n",
      "[CV 4/4] END logisticregression__C=0.1, logisticregression__solver=liblinear, selectkbest__k=15;, score=0.766 total time=   0.8s\n",
      "[CV 1/4] END logisticregression__C=0.1, logisticregression__solver=liblinear, selectkbest__k=25;, score=0.662 total time=   1.6s\n",
      "[CV 2/4] END logisticregression__C=0.1, logisticregression__solver=liblinear, selectkbest__k=25;, score=0.702 total time=   1.5s\n",
      "[CV 3/4] END logisticregression__C=0.1, logisticregression__solver=liblinear, selectkbest__k=25;, score=0.724 total time=   1.8s\n",
      "[CV 4/4] END logisticregression__C=0.1, logisticregression__solver=liblinear, selectkbest__k=25;, score=0.744 total time=   1.6s\n",
      "[CV 1/4] END logisticregression__C=1, logisticregression__solver=lbfgs, selectkbest__k=5;, score=0.646 total time=   0.4s\n",
      "[CV 2/4] END logisticregression__C=1, logisticregression__solver=lbfgs, selectkbest__k=5;, score=0.663 total time=   0.5s\n",
      "[CV 3/4] END logisticregression__C=1, logisticregression__solver=lbfgs, selectkbest__k=5;, score=0.732 total time=   0.4s\n",
      "[CV 4/4] END logisticregression__C=1, logisticregression__solver=lbfgs, selectkbest__k=5;, score=0.756 total time=   0.4s\n",
      "[CV 1/4] END logisticregression__C=1, logisticregression__solver=lbfgs, selectkbest__k=15;, score=0.654 total time=   0.7s\n",
      "[CV 2/4] END logisticregression__C=1, logisticregression__solver=lbfgs, selectkbest__k=15;, score=0.713 total time=   0.7s\n",
      "[CV 3/4] END logisticregression__C=1, logisticregression__solver=lbfgs, selectkbest__k=15;, score=0.739 total time=   0.7s\n",
      "[CV 4/4] END logisticregression__C=1, logisticregression__solver=lbfgs, selectkbest__k=15;, score=0.760 total time=   0.7s\n"
     ]
    },
    {
     "name": "stderr",
     "output_type": "stream",
     "text": [
      "c:\\Users\\cleme\\Desktop\\projects\\creditcard-fraud-ML\\venv\\Lib\\site-packages\\sklearn\\linear_model\\_logistic.py:460: ConvergenceWarning: lbfgs failed to converge (status=1):\n",
      "STOP: TOTAL NO. of ITERATIONS REACHED LIMIT.\n",
      "\n",
      "Increase the number of iterations (max_iter) or scale the data as shown in:\n",
      "    https://scikit-learn.org/stable/modules/preprocessing.html\n",
      "Please also refer to the documentation for alternative solver options:\n",
      "    https://scikit-learn.org/stable/modules/linear_model.html#logistic-regression\n",
      "  n_iter_i = _check_optimize_result(\n"
     ]
    },
    {
     "name": "stdout",
     "output_type": "stream",
     "text": [
      "[CV 1/4] END logisticregression__C=1, logisticregression__solver=lbfgs, selectkbest__k=25;, score=0.646 total time=   1.9s\n"
     ]
    },
    {
     "name": "stderr",
     "output_type": "stream",
     "text": [
      "c:\\Users\\cleme\\Desktop\\projects\\creditcard-fraud-ML\\venv\\Lib\\site-packages\\sklearn\\linear_model\\_logistic.py:460: ConvergenceWarning: lbfgs failed to converge (status=1):\n",
      "STOP: TOTAL NO. of ITERATIONS REACHED LIMIT.\n",
      "\n",
      "Increase the number of iterations (max_iter) or scale the data as shown in:\n",
      "    https://scikit-learn.org/stable/modules/preprocessing.html\n",
      "Please also refer to the documentation for alternative solver options:\n",
      "    https://scikit-learn.org/stable/modules/linear_model.html#logistic-regression\n",
      "  n_iter_i = _check_optimize_result(\n"
     ]
    },
    {
     "name": "stdout",
     "output_type": "stream",
     "text": [
      "[CV 2/4] END logisticregression__C=1, logisticregression__solver=lbfgs, selectkbest__k=25;, score=0.718 total time=   1.7s\n"
     ]
    },
    {
     "name": "stderr",
     "output_type": "stream",
     "text": [
      "c:\\Users\\cleme\\Desktop\\projects\\creditcard-fraud-ML\\venv\\Lib\\site-packages\\sklearn\\linear_model\\_logistic.py:460: ConvergenceWarning: lbfgs failed to converge (status=1):\n",
      "STOP: TOTAL NO. of ITERATIONS REACHED LIMIT.\n",
      "\n",
      "Increase the number of iterations (max_iter) or scale the data as shown in:\n",
      "    https://scikit-learn.org/stable/modules/preprocessing.html\n",
      "Please also refer to the documentation for alternative solver options:\n",
      "    https://scikit-learn.org/stable/modules/linear_model.html#logistic-regression\n",
      "  n_iter_i = _check_optimize_result(\n"
     ]
    },
    {
     "name": "stdout",
     "output_type": "stream",
     "text": [
      "[CV 3/4] END logisticregression__C=1, logisticregression__solver=lbfgs, selectkbest__k=25;, score=0.726 total time=   1.7s\n"
     ]
    },
    {
     "name": "stderr",
     "output_type": "stream",
     "text": [
      "c:\\Users\\cleme\\Desktop\\projects\\creditcard-fraud-ML\\venv\\Lib\\site-packages\\sklearn\\linear_model\\_logistic.py:460: ConvergenceWarning: lbfgs failed to converge (status=1):\n",
      "STOP: TOTAL NO. of ITERATIONS REACHED LIMIT.\n",
      "\n",
      "Increase the number of iterations (max_iter) or scale the data as shown in:\n",
      "    https://scikit-learn.org/stable/modules/preprocessing.html\n",
      "Please also refer to the documentation for alternative solver options:\n",
      "    https://scikit-learn.org/stable/modules/linear_model.html#logistic-regression\n",
      "  n_iter_i = _check_optimize_result(\n"
     ]
    },
    {
     "name": "stdout",
     "output_type": "stream",
     "text": [
      "[CV 4/4] END logisticregression__C=1, logisticregression__solver=lbfgs, selectkbest__k=25;, score=0.735 total time=   1.9s\n",
      "[CV 1/4] END logisticregression__C=1, logisticregression__solver=liblinear, selectkbest__k=5;, score=0.646 total time=   0.4s\n",
      "[CV 2/4] END logisticregression__C=1, logisticregression__solver=liblinear, selectkbest__k=5;, score=0.663 total time=   0.5s\n",
      "[CV 3/4] END logisticregression__C=1, logisticregression__solver=liblinear, selectkbest__k=5;, score=0.732 total time=   0.5s\n",
      "[CV 4/4] END logisticregression__C=1, logisticregression__solver=liblinear, selectkbest__k=5;, score=0.756 total time=   0.5s\n",
      "[CV 1/4] END logisticregression__C=1, logisticregression__solver=liblinear, selectkbest__k=15;, score=0.658 total time=   0.9s\n",
      "[CV 2/4] END logisticregression__C=1, logisticregression__solver=liblinear, selectkbest__k=15;, score=0.713 total time=   0.9s\n",
      "[CV 3/4] END logisticregression__C=1, logisticregression__solver=liblinear, selectkbest__k=15;, score=0.739 total time=   0.9s\n",
      "[CV 4/4] END logisticregression__C=1, logisticregression__solver=liblinear, selectkbest__k=15;, score=0.753 total time=   0.9s\n",
      "[CV 1/4] END logisticregression__C=1, logisticregression__solver=liblinear, selectkbest__k=25;, score=0.646 total time=   1.9s\n",
      "[CV 2/4] END logisticregression__C=1, logisticregression__solver=liblinear, selectkbest__k=25;, score=0.725 total time=   1.9s\n",
      "[CV 3/4] END logisticregression__C=1, logisticregression__solver=liblinear, selectkbest__k=25;, score=0.726 total time=   2.7s\n",
      "[CV 4/4] END logisticregression__C=1, logisticregression__solver=liblinear, selectkbest__k=25;, score=0.743 total time=   2.0s\n",
      "[CV 1/4] END logisticregression__C=5, logisticregression__solver=lbfgs, selectkbest__k=5;, score=0.646 total time=   0.4s\n",
      "[CV 2/4] END logisticregression__C=5, logisticregression__solver=lbfgs, selectkbest__k=5;, score=0.663 total time=   0.4s\n",
      "[CV 3/4] END logisticregression__C=5, logisticregression__solver=lbfgs, selectkbest__k=5;, score=0.732 total time=   0.4s\n",
      "[CV 4/4] END logisticregression__C=5, logisticregression__solver=lbfgs, selectkbest__k=5;, score=0.756 total time=   0.4s\n",
      "[CV 1/4] END logisticregression__C=5, logisticregression__solver=lbfgs, selectkbest__k=15;, score=0.654 total time=   0.7s\n",
      "[CV 2/4] END logisticregression__C=5, logisticregression__solver=lbfgs, selectkbest__k=15;, score=0.713 total time=   0.7s\n",
      "[CV 3/4] END logisticregression__C=5, logisticregression__solver=lbfgs, selectkbest__k=15;, score=0.739 total time=   0.7s\n",
      "[CV 4/4] END logisticregression__C=5, logisticregression__solver=lbfgs, selectkbest__k=15;, score=0.760 total time=   0.7s\n"
     ]
    },
    {
     "name": "stderr",
     "output_type": "stream",
     "text": [
      "c:\\Users\\cleme\\Desktop\\projects\\creditcard-fraud-ML\\venv\\Lib\\site-packages\\sklearn\\linear_model\\_logistic.py:460: ConvergenceWarning: lbfgs failed to converge (status=1):\n",
      "STOP: TOTAL NO. of ITERATIONS REACHED LIMIT.\n",
      "\n",
      "Increase the number of iterations (max_iter) or scale the data as shown in:\n",
      "    https://scikit-learn.org/stable/modules/preprocessing.html\n",
      "Please also refer to the documentation for alternative solver options:\n",
      "    https://scikit-learn.org/stable/modules/linear_model.html#logistic-regression\n",
      "  n_iter_i = _check_optimize_result(\n"
     ]
    },
    {
     "name": "stdout",
     "output_type": "stream",
     "text": [
      "[CV 1/4] END logisticregression__C=5, logisticregression__solver=lbfgs, selectkbest__k=25;, score=0.646 total time=   2.0s\n"
     ]
    },
    {
     "name": "stderr",
     "output_type": "stream",
     "text": [
      "c:\\Users\\cleme\\Desktop\\projects\\creditcard-fraud-ML\\venv\\Lib\\site-packages\\sklearn\\linear_model\\_logistic.py:460: ConvergenceWarning: lbfgs failed to converge (status=1):\n",
      "STOP: TOTAL NO. of ITERATIONS REACHED LIMIT.\n",
      "\n",
      "Increase the number of iterations (max_iter) or scale the data as shown in:\n",
      "    https://scikit-learn.org/stable/modules/preprocessing.html\n",
      "Please also refer to the documentation for alternative solver options:\n",
      "    https://scikit-learn.org/stable/modules/linear_model.html#logistic-regression\n",
      "  n_iter_i = _check_optimize_result(\n"
     ]
    },
    {
     "name": "stdout",
     "output_type": "stream",
     "text": [
      "[CV 2/4] END logisticregression__C=5, logisticregression__solver=lbfgs, selectkbest__k=25;, score=0.718 total time=   2.0s\n"
     ]
    },
    {
     "name": "stderr",
     "output_type": "stream",
     "text": [
      "c:\\Users\\cleme\\Desktop\\projects\\creditcard-fraud-ML\\venv\\Lib\\site-packages\\sklearn\\linear_model\\_logistic.py:460: ConvergenceWarning: lbfgs failed to converge (status=1):\n",
      "STOP: TOTAL NO. of ITERATIONS REACHED LIMIT.\n",
      "\n",
      "Increase the number of iterations (max_iter) or scale the data as shown in:\n",
      "    https://scikit-learn.org/stable/modules/preprocessing.html\n",
      "Please also refer to the documentation for alternative solver options:\n",
      "    https://scikit-learn.org/stable/modules/linear_model.html#logistic-regression\n",
      "  n_iter_i = _check_optimize_result(\n"
     ]
    },
    {
     "name": "stdout",
     "output_type": "stream",
     "text": [
      "[CV 3/4] END logisticregression__C=5, logisticregression__solver=lbfgs, selectkbest__k=25;, score=0.726 total time=   1.8s\n"
     ]
    },
    {
     "name": "stderr",
     "output_type": "stream",
     "text": [
      "c:\\Users\\cleme\\Desktop\\projects\\creditcard-fraud-ML\\venv\\Lib\\site-packages\\sklearn\\linear_model\\_logistic.py:460: ConvergenceWarning: lbfgs failed to converge (status=1):\n",
      "STOP: TOTAL NO. of ITERATIONS REACHED LIMIT.\n",
      "\n",
      "Increase the number of iterations (max_iter) or scale the data as shown in:\n",
      "    https://scikit-learn.org/stable/modules/preprocessing.html\n",
      "Please also refer to the documentation for alternative solver options:\n",
      "    https://scikit-learn.org/stable/modules/linear_model.html#logistic-regression\n",
      "  n_iter_i = _check_optimize_result(\n"
     ]
    },
    {
     "name": "stdout",
     "output_type": "stream",
     "text": [
      "[CV 4/4] END logisticregression__C=5, logisticregression__solver=lbfgs, selectkbest__k=25;, score=0.735 total time=   1.8s\n",
      "[CV 1/4] END logisticregression__C=5, logisticregression__solver=liblinear, selectkbest__k=5;, score=0.646 total time=   0.4s\n",
      "[CV 2/4] END logisticregression__C=5, logisticregression__solver=liblinear, selectkbest__k=5;, score=0.663 total time=   0.4s\n",
      "[CV 3/4] END logisticregression__C=5, logisticregression__solver=liblinear, selectkbest__k=5;, score=0.732 total time=   0.4s\n",
      "[CV 4/4] END logisticregression__C=5, logisticregression__solver=liblinear, selectkbest__k=5;, score=0.756 total time=   0.5s\n",
      "[CV 1/4] END logisticregression__C=5, logisticregression__solver=liblinear, selectkbest__k=15;, score=0.654 total time=   0.9s\n",
      "[CV 2/4] END logisticregression__C=5, logisticregression__solver=liblinear, selectkbest__k=15;, score=0.713 total time=   0.9s\n",
      "[CV 3/4] END logisticregression__C=5, logisticregression__solver=liblinear, selectkbest__k=15;, score=0.739 total time=   0.8s\n",
      "[CV 4/4] END logisticregression__C=5, logisticregression__solver=liblinear, selectkbest__k=15;, score=0.760 total time=   0.9s\n",
      "[CV 1/4] END logisticregression__C=5, logisticregression__solver=liblinear, selectkbest__k=25;, score=0.646 total time=   1.9s\n",
      "[CV 2/4] END logisticregression__C=5, logisticregression__solver=liblinear, selectkbest__k=25;, score=0.725 total time=   2.0s\n",
      "[CV 3/4] END logisticregression__C=5, logisticregression__solver=liblinear, selectkbest__k=25;, score=0.726 total time=   2.8s\n",
      "[CV 4/4] END logisticregression__C=5, logisticregression__solver=liblinear, selectkbest__k=25;, score=0.735 total time=   2.0s\n"
     ]
    }
   ],
   "source": [
    "from sklearn.model_selection import train_test_split\n",
    "f1_score_list_lg = []\n",
    "k=5\n",
    "\n",
    "# Split data\n",
    "X_train, X_test, y_train, y_test = train_test_split(df.drop(['Class'], axis=1), df['Class'], test_size=0.2, random_state=42)\n",
    "\n",
    "# Train model\n",
    "grid = GridSearchCV(pipeline, param_grid=params_grid, cv=4, scoring=\"f1\", verbose=3)\n",
    "grid.fit(X_train, y_train)\n",
    "model = grid.best_estimator_\n",
    "\n",
    "for ind in range(k):\n",
    "    # Evaluate model\n",
    "    X_train, X_test, y_train, y_test = train_test_split(df.drop(['Class'], axis=1), df['Class'], test_size=0.2, random_state=42 + ind)\n",
    "    model.fit(X_train, y_train)\n",
    "    y_pred = pd.DataFrame(model.predict_proba(X_test)[:,-1] > 0.2)\n",
    "    y_test = pd.DataFrame(y_test)\n",
    "    f1_score_list_lg.append(f1_score(y_test, y_pred))"
   ]
  },
  {
   "cell_type": "code",
   "execution_count": 9,
   "metadata": {},
   "outputs": [
    {
     "name": "stdout",
     "output_type": "stream",
     "text": [
      "The average f1 score for 5 LogisticRegression is: 0.7453694595317019, with the following parameters:\n",
      " {'logisticregression__C': 1, 'logisticregression__solver': 'lbfgs', 'selectkbest__k': 15}\n"
     ]
    }
   ],
   "source": [
    "print(f\"The average f1 score for {k} LogisticRegression is: {sum(f1_score_list_lg)/k}, with the following parameters:\\n {grid.best_params_}\")"
   ]
  },
  {
   "cell_type": "markdown",
   "metadata": {},
   "source": [
    "For LogisticRegression, we manage to have an average f1 score of 0.75 for 5 differents train/test splits. We take 0.2 as the threshold of the model, to better recognize the fraud."
   ]
  },
  {
   "cell_type": "code",
   "execution_count": 10,
   "metadata": {},
   "outputs": [],
   "source": [
    "import xgboost as xgb\n",
    "\n",
    "pipeline = make_pipeline(\n",
    "    RobustScaler(),\n",
    "    SelectKBest(),\n",
    "    xgb.XGBClassifier(early_stopping_rounds=2, tree_method='hist')\n",
    ")\n",
    "\n",
    "params_grid = {\n",
    "    'selectkbest__k': [5, 15, 25],\n",
    "    'xgbclassifier__max_depth': [3, 5, 7],\n",
    "    'xgbclassifier__learning_rate': [0.1, 0.01, 0.05],\n",
    "}"
   ]
  },
  {
   "cell_type": "code",
   "execution_count": 11,
   "metadata": {},
   "outputs": [
    {
     "name": "stderr",
     "output_type": "stream",
     "text": [
      "c:\\Users\\cleme\\Desktop\\projects\\creditcard-fraud-ML\\venv\\Lib\\site-packages\\xgboost\\data.py:335: FutureWarning: is_sparse is deprecated and will be removed in a future version. Check `isinstance(dtype, pd.SparseDtype)` instead.\n",
      "  if is_sparse(dtype):\n",
      "c:\\Users\\cleme\\Desktop\\projects\\creditcard-fraud-ML\\venv\\Lib\\site-packages\\xgboost\\data.py:338: FutureWarning: is_categorical_dtype is deprecated and will be removed in a future version. Use isinstance(dtype, CategoricalDtype) instead\n",
      "  is_categorical_dtype(dtype) or is_pa_ext_categorical_dtype(dtype)\n",
      "c:\\Users\\cleme\\Desktop\\projects\\creditcard-fraud-ML\\venv\\Lib\\site-packages\\xgboost\\data.py:384: FutureWarning: is_categorical_dtype is deprecated and will be removed in a future version. Use isinstance(dtype, CategoricalDtype) instead\n",
      "  if is_categorical_dtype(dtype):\n",
      "c:\\Users\\cleme\\Desktop\\projects\\creditcard-fraud-ML\\venv\\Lib\\site-packages\\xgboost\\data.py:359: FutureWarning: is_categorical_dtype is deprecated and will be removed in a future version. Use isinstance(dtype, CategoricalDtype) instead\n",
      "  return is_int or is_bool or is_float or is_categorical_dtype(dtype)\n",
      "c:\\Users\\cleme\\Desktop\\projects\\creditcard-fraud-ML\\venv\\Lib\\site-packages\\xgboost\\data.py:520: FutureWarning: is_sparse is deprecated and will be removed in a future version. Check `isinstance(dtype, pd.SparseDtype)` instead.\n",
      "  if is_sparse(data):\n",
      "c:\\Users\\cleme\\Desktop\\projects\\creditcard-fraud-ML\\venv\\Lib\\site-packages\\xgboost\\data.py:335: FutureWarning: is_sparse is deprecated and will be removed in a future version. Check `isinstance(dtype, pd.SparseDtype)` instead.\n",
      "  if is_sparse(dtype):\n",
      "c:\\Users\\cleme\\Desktop\\projects\\creditcard-fraud-ML\\venv\\Lib\\site-packages\\xgboost\\data.py:338: FutureWarning: is_categorical_dtype is deprecated and will be removed in a future version. Use isinstance(dtype, CategoricalDtype) instead\n",
      "  is_categorical_dtype(dtype) or is_pa_ext_categorical_dtype(dtype)\n",
      "c:\\Users\\cleme\\Desktop\\projects\\creditcard-fraud-ML\\venv\\Lib\\site-packages\\xgboost\\data.py:384: FutureWarning: is_categorical_dtype is deprecated and will be removed in a future version. Use isinstance(dtype, CategoricalDtype) instead\n",
      "  if is_categorical_dtype(dtype):\n",
      "c:\\Users\\cleme\\Desktop\\projects\\creditcard-fraud-ML\\venv\\Lib\\site-packages\\xgboost\\data.py:359: FutureWarning: is_categorical_dtype is deprecated and will be removed in a future version. Use isinstance(dtype, CategoricalDtype) instead\n",
      "  return is_int or is_bool or is_float or is_categorical_dtype(dtype)\n",
      "c:\\Users\\cleme\\Desktop\\projects\\creditcard-fraud-ML\\venv\\Lib\\site-packages\\xgboost\\data.py:520: FutureWarning: is_sparse is deprecated and will be removed in a future version. Check `isinstance(dtype, pd.SparseDtype)` instead.\n",
      "  if is_sparse(data):\n",
      "c:\\Users\\cleme\\Desktop\\projects\\creditcard-fraud-ML\\venv\\Lib\\site-packages\\xgboost\\data.py:335: FutureWarning: is_sparse is deprecated and will be removed in a future version. Check `isinstance(dtype, pd.SparseDtype)` instead.\n",
      "  if is_sparse(dtype):\n",
      "c:\\Users\\cleme\\Desktop\\projects\\creditcard-fraud-ML\\venv\\Lib\\site-packages\\xgboost\\data.py:338: FutureWarning: is_categorical_dtype is deprecated and will be removed in a future version. Use isinstance(dtype, CategoricalDtype) instead\n",
      "  is_categorical_dtype(dtype) or is_pa_ext_categorical_dtype(dtype)\n",
      "c:\\Users\\cleme\\Desktop\\projects\\creditcard-fraud-ML\\venv\\Lib\\site-packages\\xgboost\\data.py:384: FutureWarning: is_categorical_dtype is deprecated and will be removed in a future version. Use isinstance(dtype, CategoricalDtype) instead\n",
      "  if is_categorical_dtype(dtype):\n",
      "c:\\Users\\cleme\\Desktop\\projects\\creditcard-fraud-ML\\venv\\Lib\\site-packages\\xgboost\\data.py:359: FutureWarning: is_categorical_dtype is deprecated and will be removed in a future version. Use isinstance(dtype, CategoricalDtype) instead\n",
      "  return is_int or is_bool or is_float or is_categorical_dtype(dtype)\n",
      "c:\\Users\\cleme\\Desktop\\projects\\creditcard-fraud-ML\\venv\\Lib\\site-packages\\xgboost\\data.py:520: FutureWarning: is_sparse is deprecated and will be removed in a future version. Check `isinstance(dtype, pd.SparseDtype)` instead.\n",
      "  if is_sparse(data):\n",
      "c:\\Users\\cleme\\Desktop\\projects\\creditcard-fraud-ML\\venv\\Lib\\site-packages\\xgboost\\core.py:726: FutureWarning: Pass `evals` as keyword args.\n",
      "  warnings.warn(msg, FutureWarning)\n"
     ]
    },
    {
     "name": "stdout",
     "output_type": "stream",
     "text": [
      "[0]\teval-logloss:0.12407\ttrain-logloss:0.12407\n",
      "[10]\teval-logloss:0.07356\ttrain-logloss:0.07372\n",
      "[20]\teval-logloss:0.04460\ttrain-logloss:0.04481\n",
      "[30]\teval-logloss:0.02752\ttrain-logloss:0.02779\n",
      "[40]\teval-logloss:0.01736\ttrain-logloss:0.01767\n",
      "[50]\teval-logloss:0.01127\ttrain-logloss:0.01162\n",
      "[60]\teval-logloss:0.00758\ttrain-logloss:0.00797\n",
      "[70]\teval-logloss:0.00536\ttrain-logloss:0.00576\n",
      "[80]\teval-logloss:0.00403\ttrain-logloss:0.00443\n",
      "[90]\teval-logloss:0.00324\ttrain-logloss:0.00361\n",
      "[99]\teval-logloss:0.00282\ttrain-logloss:0.00315\n",
      "[0]\teval-logloss:0.12407\ttrain-logloss:0.12407\n",
      "[10]\teval-logloss:0.07356\ttrain-logloss:0.07372\n"
     ]
    },
    {
     "name": "stderr",
     "output_type": "stream",
     "text": [
      "c:\\Users\\cleme\\Desktop\\projects\\creditcard-fraud-ML\\venv\\Lib\\site-packages\\xgboost\\core.py:726: FutureWarning: Pass `evals` as keyword args.\n",
      "  warnings.warn(msg, FutureWarning)\n"
     ]
    },
    {
     "name": "stdout",
     "output_type": "stream",
     "text": [
      "[20]\teval-logloss:0.04460\ttrain-logloss:0.04481\n",
      "[30]\teval-logloss:0.02752\ttrain-logloss:0.02779\n",
      "[40]\teval-logloss:0.01736\ttrain-logloss:0.01767\n",
      "[50]\teval-logloss:0.01127\ttrain-logloss:0.01162\n",
      "[60]\teval-logloss:0.00758\ttrain-logloss:0.00797\n",
      "[70]\teval-logloss:0.00536\ttrain-logloss:0.00576\n",
      "[80]\teval-logloss:0.00403\ttrain-logloss:0.00443\n",
      "[90]\teval-logloss:0.00324\ttrain-logloss:0.00361\n",
      "[99]\teval-logloss:0.00282\ttrain-logloss:0.00315\n",
      "[0]\teval-logloss:0.12407\ttrain-logloss:0.12407\n",
      "[10]\teval-logloss:0.07356\ttrain-logloss:0.07372\n"
     ]
    },
    {
     "name": "stderr",
     "output_type": "stream",
     "text": [
      "c:\\Users\\cleme\\Desktop\\projects\\creditcard-fraud-ML\\venv\\Lib\\site-packages\\xgboost\\core.py:726: FutureWarning: Pass `evals` as keyword args.\n",
      "  warnings.warn(msg, FutureWarning)\n"
     ]
    },
    {
     "name": "stdout",
     "output_type": "stream",
     "text": [
      "[20]\teval-logloss:0.04460\ttrain-logloss:0.04481\n",
      "[30]\teval-logloss:0.02752\ttrain-logloss:0.02779\n",
      "[40]\teval-logloss:0.01736\ttrain-logloss:0.01767\n",
      "[50]\teval-logloss:0.01127\ttrain-logloss:0.01162\n",
      "[60]\teval-logloss:0.00758\ttrain-logloss:0.00797\n",
      "[70]\teval-logloss:0.00536\ttrain-logloss:0.00576\n",
      "[80]\teval-logloss:0.00403\ttrain-logloss:0.00443\n",
      "[90]\teval-logloss:0.00324\ttrain-logloss:0.00361\n",
      "[99]\teval-logloss:0.00282\ttrain-logloss:0.00315\n",
      "[0]\teval-logloss:0.12407\ttrain-logloss:0.12407\n",
      "[10]\teval-logloss:0.07356\ttrain-logloss:0.07372\n"
     ]
    },
    {
     "name": "stderr",
     "output_type": "stream",
     "text": [
      "c:\\Users\\cleme\\Desktop\\projects\\creditcard-fraud-ML\\venv\\Lib\\site-packages\\xgboost\\core.py:726: FutureWarning: Pass `evals` as keyword args.\n",
      "  warnings.warn(msg, FutureWarning)\n"
     ]
    },
    {
     "name": "stdout",
     "output_type": "stream",
     "text": [
      "[20]\teval-logloss:0.04460\ttrain-logloss:0.04481\n",
      "[30]\teval-logloss:0.02752\ttrain-logloss:0.02779\n",
      "[40]\teval-logloss:0.01736\ttrain-logloss:0.01767\n",
      "[50]\teval-logloss:0.01127\ttrain-logloss:0.01162\n",
      "[60]\teval-logloss:0.00758\ttrain-logloss:0.00797\n",
      "[70]\teval-logloss:0.00536\ttrain-logloss:0.00576\n",
      "[80]\teval-logloss:0.00403\ttrain-logloss:0.00443\n",
      "[90]\teval-logloss:0.00324\ttrain-logloss:0.00361\n",
      "[99]\teval-logloss:0.00282\ttrain-logloss:0.00315\n"
     ]
    },
    {
     "name": "stderr",
     "output_type": "stream",
     "text": [
      "c:\\Users\\cleme\\Desktop\\projects\\creditcard-fraud-ML\\venv\\Lib\\site-packages\\xgboost\\core.py:726: FutureWarning: Pass `evals` as keyword args.\n",
      "  warnings.warn(msg, FutureWarning)\n"
     ]
    },
    {
     "name": "stdout",
     "output_type": "stream",
     "text": [
      "[0]\teval-logloss:0.12407\ttrain-logloss:0.12407\n",
      "[10]\teval-logloss:0.07357\ttrain-logloss:0.07370\n",
      "[20]\teval-logloss:0.04457\ttrain-logloss:0.04476\n",
      "[30]\teval-logloss:0.02751\ttrain-logloss:0.02772\n",
      "[40]\teval-logloss:0.01734\ttrain-logloss:0.01758\n",
      "[50]\teval-logloss:0.01126\ttrain-logloss:0.01152\n",
      "[60]\teval-logloss:0.00757\ttrain-logloss:0.00788\n",
      "[70]\teval-logloss:0.00535\ttrain-logloss:0.00568\n",
      "[80]\teval-logloss:0.00402\ttrain-logloss:0.00433\n",
      "[90]\teval-logloss:0.00323\ttrain-logloss:0.00352\n",
      "[99]\teval-logloss:0.00281\ttrain-logloss:0.00305\n",
      "[0]\teval-logloss:0.12407\ttrain-logloss:0.12407\n"
     ]
    },
    {
     "name": "stderr",
     "output_type": "stream",
     "text": [
      "c:\\Users\\cleme\\Desktop\\projects\\creditcard-fraud-ML\\venv\\Lib\\site-packages\\xgboost\\core.py:726: FutureWarning: Pass `evals` as keyword args.\n",
      "  warnings.warn(msg, FutureWarning)\n"
     ]
    },
    {
     "name": "stdout",
     "output_type": "stream",
     "text": [
      "[10]\teval-logloss:0.07357\ttrain-logloss:0.07370\n",
      "[20]\teval-logloss:0.04457\ttrain-logloss:0.04476\n",
      "[30]\teval-logloss:0.02751\ttrain-logloss:0.02772\n",
      "[40]\teval-logloss:0.01734\ttrain-logloss:0.01758\n",
      "[50]\teval-logloss:0.01126\ttrain-logloss:0.01152\n",
      "[60]\teval-logloss:0.00757\ttrain-logloss:0.00788\n",
      "[70]\teval-logloss:0.00535\ttrain-logloss:0.00568\n",
      "[80]\teval-logloss:0.00402\ttrain-logloss:0.00433\n",
      "[90]\teval-logloss:0.00323\ttrain-logloss:0.00352\n",
      "[99]\teval-logloss:0.00281\ttrain-logloss:0.00305\n",
      "[0]\teval-logloss:0.12407\ttrain-logloss:0.12407\n"
     ]
    },
    {
     "name": "stderr",
     "output_type": "stream",
     "text": [
      "c:\\Users\\cleme\\Desktop\\projects\\creditcard-fraud-ML\\venv\\Lib\\site-packages\\xgboost\\core.py:726: FutureWarning: Pass `evals` as keyword args.\n",
      "  warnings.warn(msg, FutureWarning)\n"
     ]
    },
    {
     "name": "stdout",
     "output_type": "stream",
     "text": [
      "[10]\teval-logloss:0.07357\ttrain-logloss:0.07370\n",
      "[20]\teval-logloss:0.04457\ttrain-logloss:0.04476\n",
      "[30]\teval-logloss:0.02751\ttrain-logloss:0.02772\n",
      "[40]\teval-logloss:0.01734\ttrain-logloss:0.01758\n",
      "[50]\teval-logloss:0.01126\ttrain-logloss:0.01152\n",
      "[60]\teval-logloss:0.00757\ttrain-logloss:0.00788\n",
      "[70]\teval-logloss:0.00535\ttrain-logloss:0.00568\n",
      "[80]\teval-logloss:0.00402\ttrain-logloss:0.00433\n",
      "[90]\teval-logloss:0.00323\ttrain-logloss:0.00352\n",
      "[99]\teval-logloss:0.00281\ttrain-logloss:0.00305\n",
      "[0]\teval-logloss:0.12407\ttrain-logloss:0.12407\n"
     ]
    },
    {
     "name": "stderr",
     "output_type": "stream",
     "text": [
      "c:\\Users\\cleme\\Desktop\\projects\\creditcard-fraud-ML\\venv\\Lib\\site-packages\\xgboost\\core.py:726: FutureWarning: Pass `evals` as keyword args.\n",
      "  warnings.warn(msg, FutureWarning)\n"
     ]
    },
    {
     "name": "stdout",
     "output_type": "stream",
     "text": [
      "[10]\teval-logloss:0.07357\ttrain-logloss:0.07370\n",
      "[20]\teval-logloss:0.04457\ttrain-logloss:0.04476\n",
      "[30]\teval-logloss:0.02751\ttrain-logloss:0.02772\n",
      "[40]\teval-logloss:0.01734\ttrain-logloss:0.01758\n",
      "[50]\teval-logloss:0.01126\ttrain-logloss:0.01152\n",
      "[60]\teval-logloss:0.00757\ttrain-logloss:0.00788\n",
      "[70]\teval-logloss:0.00535\ttrain-logloss:0.00568\n",
      "[80]\teval-logloss:0.00402\ttrain-logloss:0.00433\n",
      "[90]\teval-logloss:0.00323\ttrain-logloss:0.00352\n",
      "[99]\teval-logloss:0.00281\ttrain-logloss:0.00305\n"
     ]
    },
    {
     "name": "stderr",
     "output_type": "stream",
     "text": [
      "c:\\Users\\cleme\\Desktop\\projects\\creditcard-fraud-ML\\venv\\Lib\\site-packages\\xgboost\\core.py:726: FutureWarning: Pass `evals` as keyword args.\n",
      "  warnings.warn(msg, FutureWarning)\n"
     ]
    },
    {
     "name": "stdout",
     "output_type": "stream",
     "text": [
      "[0]\teval-logloss:0.12407\ttrain-logloss:0.12407\n",
      "[10]\teval-logloss:0.07356\ttrain-logloss:0.07372\n",
      "[20]\teval-logloss:0.04460\ttrain-logloss:0.04481\n",
      "[30]\teval-logloss:0.02752\ttrain-logloss:0.02779\n",
      "[40]\teval-logloss:0.01736\ttrain-logloss:0.01767\n",
      "[50]\teval-logloss:0.01127\ttrain-logloss:0.01162\n",
      "[60]\teval-logloss:0.00758\ttrain-logloss:0.00797\n",
      "[70]\teval-logloss:0.00536\ttrain-logloss:0.00576\n",
      "[80]\teval-logloss:0.00403\ttrain-logloss:0.00443\n",
      "[90]\teval-logloss:0.00324\ttrain-logloss:0.00361\n",
      "[99]\teval-logloss:0.00282\ttrain-logloss:0.00315\n",
      "[0]\teval-logloss:0.12407\ttrain-logloss:0.12407\n",
      "[10]\teval-logloss:0.07356\ttrain-logloss:0.07372\n"
     ]
    },
    {
     "name": "stderr",
     "output_type": "stream",
     "text": [
      "c:\\Users\\cleme\\Desktop\\projects\\creditcard-fraud-ML\\venv\\Lib\\site-packages\\xgboost\\core.py:726: FutureWarning: Pass `evals` as keyword args.\n",
      "  warnings.warn(msg, FutureWarning)\n"
     ]
    },
    {
     "name": "stdout",
     "output_type": "stream",
     "text": [
      "[20]\teval-logloss:0.04460\ttrain-logloss:0.04481\n",
      "[30]\teval-logloss:0.02752\ttrain-logloss:0.02779\n",
      "[40]\teval-logloss:0.01736\ttrain-logloss:0.01767\n",
      "[50]\teval-logloss:0.01127\ttrain-logloss:0.01162\n",
      "[60]\teval-logloss:0.00758\ttrain-logloss:0.00797\n",
      "[70]\teval-logloss:0.00536\ttrain-logloss:0.00576\n",
      "[80]\teval-logloss:0.00403\ttrain-logloss:0.00443\n",
      "[90]\teval-logloss:0.00324\ttrain-logloss:0.00361\n",
      "[99]\teval-logloss:0.00282\ttrain-logloss:0.00315\n",
      "[0]\teval-logloss:0.12407\ttrain-logloss:0.12407\n",
      "[10]\teval-logloss:0.07356\ttrain-logloss:0.07372\n"
     ]
    },
    {
     "name": "stderr",
     "output_type": "stream",
     "text": [
      "c:\\Users\\cleme\\Desktop\\projects\\creditcard-fraud-ML\\venv\\Lib\\site-packages\\xgboost\\core.py:726: FutureWarning: Pass `evals` as keyword args.\n",
      "  warnings.warn(msg, FutureWarning)\n"
     ]
    },
    {
     "name": "stdout",
     "output_type": "stream",
     "text": [
      "[20]\teval-logloss:0.04460\ttrain-logloss:0.04481\n",
      "[30]\teval-logloss:0.02752\ttrain-logloss:0.02779\n",
      "[40]\teval-logloss:0.01736\ttrain-logloss:0.01767\n",
      "[50]\teval-logloss:0.01127\ttrain-logloss:0.01162\n",
      "[60]\teval-logloss:0.00758\ttrain-logloss:0.00797\n",
      "[70]\teval-logloss:0.00536\ttrain-logloss:0.00576\n",
      "[80]\teval-logloss:0.00403\ttrain-logloss:0.00443\n",
      "[90]\teval-logloss:0.00324\ttrain-logloss:0.00361\n",
      "[99]\teval-logloss:0.00282\ttrain-logloss:0.00315\n",
      "[0]\teval-logloss:0.12407\ttrain-logloss:0.12407\n",
      "[10]\teval-logloss:0.07356\ttrain-logloss:0.07372\n"
     ]
    },
    {
     "name": "stderr",
     "output_type": "stream",
     "text": [
      "c:\\Users\\cleme\\Desktop\\projects\\creditcard-fraud-ML\\venv\\Lib\\site-packages\\xgboost\\core.py:726: FutureWarning: Pass `evals` as keyword args.\n",
      "  warnings.warn(msg, FutureWarning)\n"
     ]
    },
    {
     "name": "stdout",
     "output_type": "stream",
     "text": [
      "[20]\teval-logloss:0.04460\ttrain-logloss:0.04481\n",
      "[30]\teval-logloss:0.02752\ttrain-logloss:0.02779\n",
      "[40]\teval-logloss:0.01736\ttrain-logloss:0.01767\n",
      "[50]\teval-logloss:0.01127\ttrain-logloss:0.01162\n",
      "[60]\teval-logloss:0.00758\ttrain-logloss:0.00797\n",
      "[70]\teval-logloss:0.00536\ttrain-logloss:0.00576\n",
      "[80]\teval-logloss:0.00403\ttrain-logloss:0.00443\n",
      "[90]\teval-logloss:0.00324\ttrain-logloss:0.00361\n",
      "[99]\teval-logloss:0.00282\ttrain-logloss:0.00315\n",
      "[0]\teval-logloss:0.12404\ttrain-logloss:0.12404\n",
      "[10]\teval-logloss:0.07344\ttrain-logloss:0.07353\n"
     ]
    },
    {
     "name": "stderr",
     "output_type": "stream",
     "text": [
      "c:\\Users\\cleme\\Desktop\\projects\\creditcard-fraud-ML\\venv\\Lib\\site-packages\\xgboost\\core.py:726: FutureWarning: Pass `evals` as keyword args.\n",
      "  warnings.warn(msg, FutureWarning)\n"
     ]
    },
    {
     "name": "stdout",
     "output_type": "stream",
     "text": [
      "[20]\teval-logloss:0.04441\ttrain-logloss:0.04453\n",
      "[30]\teval-logloss:0.02728\ttrain-logloss:0.02738\n",
      "[40]\teval-logloss:0.01708\ttrain-logloss:0.01713\n",
      "[50]\teval-logloss:0.01098\ttrain-logloss:0.01094\n",
      "[60]\teval-logloss:0.00731\ttrain-logloss:0.00716\n",
      "[70]\teval-logloss:0.00509\ttrain-logloss:0.00482\n",
      "[80]\teval-logloss:0.00378\ttrain-logloss:0.00336\n",
      "[90]\teval-logloss:0.00299\ttrain-logloss:0.00244\n",
      "[99]\teval-logloss:0.00253\ttrain-logloss:0.00187\n",
      "[0]\teval-logloss:0.12404\ttrain-logloss:0.12404\n",
      "[10]\teval-logloss:0.07344\ttrain-logloss:0.07353\n"
     ]
    },
    {
     "name": "stderr",
     "output_type": "stream",
     "text": [
      "c:\\Users\\cleme\\Desktop\\projects\\creditcard-fraud-ML\\venv\\Lib\\site-packages\\xgboost\\core.py:726: FutureWarning: Pass `evals` as keyword args.\n",
      "  warnings.warn(msg, FutureWarning)\n"
     ]
    },
    {
     "name": "stdout",
     "output_type": "stream",
     "text": [
      "[20]\teval-logloss:0.04441\ttrain-logloss:0.04453\n",
      "[30]\teval-logloss:0.02728\ttrain-logloss:0.02738\n",
      "[40]\teval-logloss:0.01708\ttrain-logloss:0.01713\n",
      "[50]\teval-logloss:0.01098\ttrain-logloss:0.01094\n",
      "[60]\teval-logloss:0.00731\ttrain-logloss:0.00716\n",
      "[70]\teval-logloss:0.00509\ttrain-logloss:0.00482\n",
      "[80]\teval-logloss:0.00378\ttrain-logloss:0.00336\n",
      "[90]\teval-logloss:0.00299\ttrain-logloss:0.00244\n",
      "[99]\teval-logloss:0.00253\ttrain-logloss:0.00187\n",
      "[0]\teval-logloss:0.12404\ttrain-logloss:0.12404\n"
     ]
    },
    {
     "name": "stderr",
     "output_type": "stream",
     "text": [
      "c:\\Users\\cleme\\Desktop\\projects\\creditcard-fraud-ML\\venv\\Lib\\site-packages\\xgboost\\core.py:726: FutureWarning: Pass `evals` as keyword args.\n",
      "  warnings.warn(msg, FutureWarning)\n"
     ]
    },
    {
     "name": "stdout",
     "output_type": "stream",
     "text": [
      "[10]\teval-logloss:0.07344\ttrain-logloss:0.07353\n",
      "[20]\teval-logloss:0.04441\ttrain-logloss:0.04453\n",
      "[30]\teval-logloss:0.02728\ttrain-logloss:0.02738\n",
      "[40]\teval-logloss:0.01708\ttrain-logloss:0.01713\n",
      "[50]\teval-logloss:0.01098\ttrain-logloss:0.01094\n",
      "[60]\teval-logloss:0.00731\ttrain-logloss:0.00716\n",
      "[70]\teval-logloss:0.00509\ttrain-logloss:0.00482\n",
      "[80]\teval-logloss:0.00378\ttrain-logloss:0.00336\n",
      "[90]\teval-logloss:0.00299\ttrain-logloss:0.00244\n",
      "[99]\teval-logloss:0.00253\ttrain-logloss:0.00187\n",
      "[0]\teval-logloss:0.12404\ttrain-logloss:0.12404\n",
      "[10]\teval-logloss:0.07344\ttrain-logloss:0.07353\n"
     ]
    },
    {
     "name": "stderr",
     "output_type": "stream",
     "text": [
      "c:\\Users\\cleme\\Desktop\\projects\\creditcard-fraud-ML\\venv\\Lib\\site-packages\\xgboost\\core.py:726: FutureWarning: Pass `evals` as keyword args.\n",
      "  warnings.warn(msg, FutureWarning)\n"
     ]
    },
    {
     "name": "stdout",
     "output_type": "stream",
     "text": [
      "[20]\teval-logloss:0.04441\ttrain-logloss:0.04453\n",
      "[30]\teval-logloss:0.02728\ttrain-logloss:0.02738\n",
      "[40]\teval-logloss:0.01708\ttrain-logloss:0.01713\n",
      "[50]\teval-logloss:0.01098\ttrain-logloss:0.01094\n",
      "[60]\teval-logloss:0.00731\ttrain-logloss:0.00716\n",
      "[70]\teval-logloss:0.00509\ttrain-logloss:0.00482\n",
      "[80]\teval-logloss:0.00378\ttrain-logloss:0.00336\n",
      "[90]\teval-logloss:0.00299\ttrain-logloss:0.00244\n",
      "[99]\teval-logloss:0.00253\ttrain-logloss:0.00187\n",
      "[0]\teval-logloss:0.12404\ttrain-logloss:0.12404\n"
     ]
    },
    {
     "name": "stderr",
     "output_type": "stream",
     "text": [
      "c:\\Users\\cleme\\Desktop\\projects\\creditcard-fraud-ML\\venv\\Lib\\site-packages\\xgboost\\core.py:726: FutureWarning: Pass `evals` as keyword args.\n",
      "  warnings.warn(msg, FutureWarning)\n"
     ]
    },
    {
     "name": "stdout",
     "output_type": "stream",
     "text": [
      "[10]\teval-logloss:0.07342\ttrain-logloss:0.07352\n",
      "[20]\teval-logloss:0.04438\ttrain-logloss:0.04450\n",
      "[30]\teval-logloss:0.02726\ttrain-logloss:0.02735\n",
      "[40]\teval-logloss:0.01705\ttrain-logloss:0.01711\n",
      "[50]\teval-logloss:0.01095\ttrain-logloss:0.01092\n",
      "[60]\teval-logloss:0.00729\ttrain-logloss:0.00716\n",
      "[70]\teval-logloss:0.00509\ttrain-logloss:0.00483\n",
      "[80]\teval-logloss:0.00378\ttrain-logloss:0.00337\n",
      "[90]\teval-logloss:0.00298\ttrain-logloss:0.00245\n",
      "[99]\teval-logloss:0.00253\ttrain-logloss:0.00188\n",
      "[0]\teval-logloss:0.12404\ttrain-logloss:0.12404\n"
     ]
    },
    {
     "name": "stderr",
     "output_type": "stream",
     "text": [
      "c:\\Users\\cleme\\Desktop\\projects\\creditcard-fraud-ML\\venv\\Lib\\site-packages\\xgboost\\core.py:726: FutureWarning: Pass `evals` as keyword args.\n",
      "  warnings.warn(msg, FutureWarning)\n"
     ]
    },
    {
     "name": "stdout",
     "output_type": "stream",
     "text": [
      "[10]\teval-logloss:0.07342\ttrain-logloss:0.07352\n",
      "[20]\teval-logloss:0.04438\ttrain-logloss:0.04450\n",
      "[30]\teval-logloss:0.02726\ttrain-logloss:0.02735\n",
      "[40]\teval-logloss:0.01705\ttrain-logloss:0.01711\n",
      "[50]\teval-logloss:0.01095\ttrain-logloss:0.01092\n",
      "[60]\teval-logloss:0.00729\ttrain-logloss:0.00716\n",
      "[70]\teval-logloss:0.00509\ttrain-logloss:0.00483\n",
      "[80]\teval-logloss:0.00378\ttrain-logloss:0.00337\n",
      "[90]\teval-logloss:0.00298\ttrain-logloss:0.00245\n",
      "[99]\teval-logloss:0.00253\ttrain-logloss:0.00188\n",
      "[0]\teval-logloss:0.12404\ttrain-logloss:0.12404\n"
     ]
    },
    {
     "name": "stderr",
     "output_type": "stream",
     "text": [
      "c:\\Users\\cleme\\Desktop\\projects\\creditcard-fraud-ML\\venv\\Lib\\site-packages\\xgboost\\core.py:726: FutureWarning: Pass `evals` as keyword args.\n",
      "  warnings.warn(msg, FutureWarning)\n"
     ]
    },
    {
     "name": "stdout",
     "output_type": "stream",
     "text": [
      "[10]\teval-logloss:0.07342\ttrain-logloss:0.07352\n",
      "[20]\teval-logloss:0.04438\ttrain-logloss:0.04450\n",
      "[30]\teval-logloss:0.02726\ttrain-logloss:0.02735\n",
      "[40]\teval-logloss:0.01705\ttrain-logloss:0.01711\n",
      "[50]\teval-logloss:0.01095\ttrain-logloss:0.01092\n",
      "[60]\teval-logloss:0.00729\ttrain-logloss:0.00716\n",
      "[70]\teval-logloss:0.00509\ttrain-logloss:0.00483\n",
      "[80]\teval-logloss:0.00378\ttrain-logloss:0.00337\n",
      "[90]\teval-logloss:0.00298\ttrain-logloss:0.00245\n",
      "[99]\teval-logloss:0.00253\ttrain-logloss:0.00188\n",
      "[0]\teval-logloss:0.12404\ttrain-logloss:0.12404\n"
     ]
    },
    {
     "name": "stderr",
     "output_type": "stream",
     "text": [
      "c:\\Users\\cleme\\Desktop\\projects\\creditcard-fraud-ML\\venv\\Lib\\site-packages\\xgboost\\core.py:726: FutureWarning: Pass `evals` as keyword args.\n",
      "  warnings.warn(msg, FutureWarning)\n"
     ]
    },
    {
     "name": "stdout",
     "output_type": "stream",
     "text": [
      "[10]\teval-logloss:0.07342\ttrain-logloss:0.07352\n",
      "[20]\teval-logloss:0.04438\ttrain-logloss:0.04450\n",
      "[30]\teval-logloss:0.02726\ttrain-logloss:0.02735\n",
      "[40]\teval-logloss:0.01705\ttrain-logloss:0.01711\n",
      "[50]\teval-logloss:0.01095\ttrain-logloss:0.01092\n",
      "[60]\teval-logloss:0.00729\ttrain-logloss:0.00716\n",
      "[70]\teval-logloss:0.00509\ttrain-logloss:0.00483\n",
      "[80]\teval-logloss:0.00378\ttrain-logloss:0.00337\n",
      "[90]\teval-logloss:0.00298\ttrain-logloss:0.00245\n",
      "[99]\teval-logloss:0.00253\ttrain-logloss:0.00188\n"
     ]
    },
    {
     "name": "stderr",
     "output_type": "stream",
     "text": [
      "c:\\Users\\cleme\\Desktop\\projects\\creditcard-fraud-ML\\venv\\Lib\\site-packages\\xgboost\\core.py:726: FutureWarning: Pass `evals` as keyword args.\n",
      "  warnings.warn(msg, FutureWarning)\n"
     ]
    },
    {
     "name": "stdout",
     "output_type": "stream",
     "text": [
      "[0]\teval-logloss:0.12404\ttrain-logloss:0.12404\n",
      "[10]\teval-logloss:0.07344\ttrain-logloss:0.07353\n",
      "[20]\teval-logloss:0.04441\ttrain-logloss:0.04453\n",
      "[30]\teval-logloss:0.02728\ttrain-logloss:0.02738\n",
      "[40]\teval-logloss:0.01708\ttrain-logloss:0.01713\n",
      "[50]\teval-logloss:0.01098\ttrain-logloss:0.01094\n",
      "[60]\teval-logloss:0.00731\ttrain-logloss:0.00716\n",
      "[70]\teval-logloss:0.00509\ttrain-logloss:0.00482\n",
      "[80]\teval-logloss:0.00378\ttrain-logloss:0.00336\n",
      "[90]\teval-logloss:0.00299\ttrain-logloss:0.00244\n",
      "[99]\teval-logloss:0.00253\ttrain-logloss:0.00187\n",
      "[0]\teval-logloss:0.12404\ttrain-logloss:0.12404\n"
     ]
    },
    {
     "name": "stderr",
     "output_type": "stream",
     "text": [
      "c:\\Users\\cleme\\Desktop\\projects\\creditcard-fraud-ML\\venv\\Lib\\site-packages\\xgboost\\core.py:726: FutureWarning: Pass `evals` as keyword args.\n",
      "  warnings.warn(msg, FutureWarning)\n"
     ]
    },
    {
     "name": "stdout",
     "output_type": "stream",
     "text": [
      "[10]\teval-logloss:0.07344\ttrain-logloss:0.07353\n",
      "[20]\teval-logloss:0.04441\ttrain-logloss:0.04453\n",
      "[30]\teval-logloss:0.02728\ttrain-logloss:0.02738\n",
      "[40]\teval-logloss:0.01708\ttrain-logloss:0.01713\n",
      "[50]\teval-logloss:0.01098\ttrain-logloss:0.01094\n",
      "[60]\teval-logloss:0.00731\ttrain-logloss:0.00716\n",
      "[70]\teval-logloss:0.00509\ttrain-logloss:0.00482\n",
      "[80]\teval-logloss:0.00378\ttrain-logloss:0.00336\n",
      "[90]\teval-logloss:0.00299\ttrain-logloss:0.00244\n",
      "[99]\teval-logloss:0.00253\ttrain-logloss:0.00187\n",
      "[0]\teval-logloss:0.12404\ttrain-logloss:0.12404\n",
      "[10]\teval-logloss:0.07344\ttrain-logloss:0.07353\n"
     ]
    },
    {
     "name": "stderr",
     "output_type": "stream",
     "text": [
      "c:\\Users\\cleme\\Desktop\\projects\\creditcard-fraud-ML\\venv\\Lib\\site-packages\\xgboost\\core.py:726: FutureWarning: Pass `evals` as keyword args.\n",
      "  warnings.warn(msg, FutureWarning)\n"
     ]
    },
    {
     "name": "stdout",
     "output_type": "stream",
     "text": [
      "[20]\teval-logloss:0.04441\ttrain-logloss:0.04453\n",
      "[30]\teval-logloss:0.02728\ttrain-logloss:0.02738\n",
      "[40]\teval-logloss:0.01708\ttrain-logloss:0.01713\n",
      "[50]\teval-logloss:0.01098\ttrain-logloss:0.01094\n",
      "[60]\teval-logloss:0.00731\ttrain-logloss:0.00716\n",
      "[70]\teval-logloss:0.00509\ttrain-logloss:0.00482\n",
      "[80]\teval-logloss:0.00378\ttrain-logloss:0.00336\n",
      "[90]\teval-logloss:0.00299\ttrain-logloss:0.00244\n",
      "[99]\teval-logloss:0.00253\ttrain-logloss:0.00187\n",
      "[0]\teval-logloss:0.12404\ttrain-logloss:0.12404\n"
     ]
    },
    {
     "name": "stderr",
     "output_type": "stream",
     "text": [
      "c:\\Users\\cleme\\Desktop\\projects\\creditcard-fraud-ML\\venv\\Lib\\site-packages\\xgboost\\core.py:726: FutureWarning: Pass `evals` as keyword args.\n",
      "  warnings.warn(msg, FutureWarning)\n"
     ]
    },
    {
     "name": "stdout",
     "output_type": "stream",
     "text": [
      "[10]\teval-logloss:0.07344\ttrain-logloss:0.07353\n",
      "[20]\teval-logloss:0.04441\ttrain-logloss:0.04453\n",
      "[30]\teval-logloss:0.02728\ttrain-logloss:0.02738\n",
      "[40]\teval-logloss:0.01708\ttrain-logloss:0.01713\n",
      "[50]\teval-logloss:0.01098\ttrain-logloss:0.01094\n",
      "[60]\teval-logloss:0.00731\ttrain-logloss:0.00716\n",
      "[70]\teval-logloss:0.00509\ttrain-logloss:0.00482\n",
      "[80]\teval-logloss:0.00378\ttrain-logloss:0.00336\n",
      "[90]\teval-logloss:0.00299\ttrain-logloss:0.00244\n",
      "[99]\teval-logloss:0.00253\ttrain-logloss:0.00187\n",
      "[0]\teval-logloss:0.11743\ttrain-logloss:0.11747\n"
     ]
    },
    {
     "name": "stderr",
     "output_type": "stream",
     "text": [
      "c:\\Users\\cleme\\Desktop\\projects\\creditcard-fraud-ML\\venv\\Lib\\site-packages\\xgboost\\core.py:726: FutureWarning: Pass `evals` as keyword args.\n",
      "  warnings.warn(msg, FutureWarning)\n"
     ]
    },
    {
     "name": "stdout",
     "output_type": "stream",
     "text": [
      "[10]\teval-logloss:0.04233\ttrain-logloss:0.04255\n",
      "[20]\teval-logloss:0.01653\ttrain-logloss:0.01685\n",
      "[30]\teval-logloss:0.00727\ttrain-logloss:0.00767\n",
      "[40]\teval-logloss:0.00391\ttrain-logloss:0.00432\n",
      "[50]\teval-logloss:0.00273\ttrain-logloss:0.00307\n",
      "[60]\teval-logloss:0.00230\ttrain-logloss:0.00254\n",
      "[70]\teval-logloss:0.00217\ttrain-logloss:0.00226\n",
      "[80]\teval-logloss:0.00210\ttrain-logloss:0.00207\n",
      "[90]\teval-logloss:0.00207\ttrain-logloss:0.00191\n",
      "[99]\teval-logloss:0.00207\ttrain-logloss:0.00177\n",
      "[0]\teval-logloss:0.11743\ttrain-logloss:0.11747\n"
     ]
    },
    {
     "name": "stderr",
     "output_type": "stream",
     "text": [
      "c:\\Users\\cleme\\Desktop\\projects\\creditcard-fraud-ML\\venv\\Lib\\site-packages\\xgboost\\core.py:726: FutureWarning: Pass `evals` as keyword args.\n",
      "  warnings.warn(msg, FutureWarning)\n"
     ]
    },
    {
     "name": "stdout",
     "output_type": "stream",
     "text": [
      "[10]\teval-logloss:0.04233\ttrain-logloss:0.04255\n",
      "[20]\teval-logloss:0.01653\ttrain-logloss:0.01685\n",
      "[30]\teval-logloss:0.00727\ttrain-logloss:0.00767\n",
      "[40]\teval-logloss:0.00391\ttrain-logloss:0.00432\n",
      "[50]\teval-logloss:0.00273\ttrain-logloss:0.00307\n",
      "[60]\teval-logloss:0.00230\ttrain-logloss:0.00254\n",
      "[70]\teval-logloss:0.00217\ttrain-logloss:0.00226\n",
      "[80]\teval-logloss:0.00210\ttrain-logloss:0.00207\n",
      "[90]\teval-logloss:0.00207\ttrain-logloss:0.00191\n",
      "[99]\teval-logloss:0.00207\ttrain-logloss:0.00177\n",
      "[0]\teval-logloss:0.11743\ttrain-logloss:0.11747\n",
      "[10]\teval-logloss:0.04233\ttrain-logloss:0.04255\n"
     ]
    },
    {
     "name": "stderr",
     "output_type": "stream",
     "text": [
      "c:\\Users\\cleme\\Desktop\\projects\\creditcard-fraud-ML\\venv\\Lib\\site-packages\\xgboost\\core.py:726: FutureWarning: Pass `evals` as keyword args.\n",
      "  warnings.warn(msg, FutureWarning)\n"
     ]
    },
    {
     "name": "stdout",
     "output_type": "stream",
     "text": [
      "[20]\teval-logloss:0.01653\ttrain-logloss:0.01685\n",
      "[30]\teval-logloss:0.00727\ttrain-logloss:0.00767\n",
      "[40]\teval-logloss:0.00391\ttrain-logloss:0.00432\n",
      "[50]\teval-logloss:0.00273\ttrain-logloss:0.00307\n",
      "[60]\teval-logloss:0.00230\ttrain-logloss:0.00254\n",
      "[70]\teval-logloss:0.00217\ttrain-logloss:0.00226\n",
      "[80]\teval-logloss:0.00210\ttrain-logloss:0.00207\n",
      "[90]\teval-logloss:0.00207\ttrain-logloss:0.00191\n",
      "[99]\teval-logloss:0.00207\ttrain-logloss:0.00177\n",
      "[0]\teval-logloss:0.11743\ttrain-logloss:0.11747\n",
      "[10]\teval-logloss:0.04233\ttrain-logloss:0.04255\n"
     ]
    },
    {
     "name": "stderr",
     "output_type": "stream",
     "text": [
      "c:\\Users\\cleme\\Desktop\\projects\\creditcard-fraud-ML\\venv\\Lib\\site-packages\\xgboost\\core.py:726: FutureWarning: Pass `evals` as keyword args.\n",
      "  warnings.warn(msg, FutureWarning)\n"
     ]
    },
    {
     "name": "stdout",
     "output_type": "stream",
     "text": [
      "[20]\teval-logloss:0.01653\ttrain-logloss:0.01685\n",
      "[30]\teval-logloss:0.00727\ttrain-logloss:0.00767\n",
      "[40]\teval-logloss:0.00391\ttrain-logloss:0.00432\n",
      "[50]\teval-logloss:0.00273\ttrain-logloss:0.00307\n",
      "[60]\teval-logloss:0.00230\ttrain-logloss:0.00254\n",
      "[70]\teval-logloss:0.00217\ttrain-logloss:0.00226\n",
      "[80]\teval-logloss:0.00210\ttrain-logloss:0.00207\n",
      "[90]\teval-logloss:0.00207\ttrain-logloss:0.00191\n",
      "[99]\teval-logloss:0.00207\ttrain-logloss:0.00177\n",
      "[0]\teval-logloss:0.11743\ttrain-logloss:0.11747\n"
     ]
    },
    {
     "name": "stderr",
     "output_type": "stream",
     "text": [
      "c:\\Users\\cleme\\Desktop\\projects\\creditcard-fraud-ML\\venv\\Lib\\site-packages\\xgboost\\core.py:726: FutureWarning: Pass `evals` as keyword args.\n",
      "  warnings.warn(msg, FutureWarning)\n"
     ]
    },
    {
     "name": "stdout",
     "output_type": "stream",
     "text": [
      "[10]\teval-logloss:0.04234\ttrain-logloss:0.04251\n",
      "[20]\teval-logloss:0.01654\ttrain-logloss:0.01677\n",
      "[30]\teval-logloss:0.00730\ttrain-logloss:0.00758\n",
      "[40]\teval-logloss:0.00393\ttrain-logloss:0.00423\n",
      "[50]\teval-logloss:0.00275\ttrain-logloss:0.00298\n",
      "[60]\teval-logloss:0.00234\ttrain-logloss:0.00245\n",
      "[70]\teval-logloss:0.00220\ttrain-logloss:0.00217\n",
      "[80]\teval-logloss:0.00215\ttrain-logloss:0.00199\n",
      "[90]\teval-logloss:0.00214\ttrain-logloss:0.00184\n",
      "[99]\teval-logloss:0.00211\ttrain-logloss:0.00174\n",
      "[0]\teval-logloss:0.11743\ttrain-logloss:0.11747\n"
     ]
    },
    {
     "name": "stderr",
     "output_type": "stream",
     "text": [
      "c:\\Users\\cleme\\Desktop\\projects\\creditcard-fraud-ML\\venv\\Lib\\site-packages\\xgboost\\core.py:726: FutureWarning: Pass `evals` as keyword args.\n",
      "  warnings.warn(msg, FutureWarning)\n"
     ]
    },
    {
     "name": "stdout",
     "output_type": "stream",
     "text": [
      "[10]\teval-logloss:0.04234\ttrain-logloss:0.04251\n",
      "[20]\teval-logloss:0.01654\ttrain-logloss:0.01677\n",
      "[30]\teval-logloss:0.00730\ttrain-logloss:0.00758\n",
      "[40]\teval-logloss:0.00393\ttrain-logloss:0.00423\n",
      "[50]\teval-logloss:0.00275\ttrain-logloss:0.00298\n",
      "[60]\teval-logloss:0.00234\ttrain-logloss:0.00245\n",
      "[70]\teval-logloss:0.00220\ttrain-logloss:0.00217\n",
      "[80]\teval-logloss:0.00215\ttrain-logloss:0.00199\n",
      "[90]\teval-logloss:0.00214\ttrain-logloss:0.00184\n",
      "[99]\teval-logloss:0.00211\ttrain-logloss:0.00174\n",
      "[0]\teval-logloss:0.11743\ttrain-logloss:0.11747\n"
     ]
    },
    {
     "name": "stderr",
     "output_type": "stream",
     "text": [
      "c:\\Users\\cleme\\Desktop\\projects\\creditcard-fraud-ML\\venv\\Lib\\site-packages\\xgboost\\core.py:726: FutureWarning: Pass `evals` as keyword args.\n",
      "  warnings.warn(msg, FutureWarning)\n"
     ]
    },
    {
     "name": "stdout",
     "output_type": "stream",
     "text": [
      "[10]\teval-logloss:0.04234\ttrain-logloss:0.04251\n",
      "[20]\teval-logloss:0.01654\ttrain-logloss:0.01677\n",
      "[30]\teval-logloss:0.00730\ttrain-logloss:0.00758\n",
      "[40]\teval-logloss:0.00393\ttrain-logloss:0.00423\n",
      "[50]\teval-logloss:0.00275\ttrain-logloss:0.00298\n",
      "[60]\teval-logloss:0.00234\ttrain-logloss:0.00245\n",
      "[70]\teval-logloss:0.00220\ttrain-logloss:0.00217\n",
      "[80]\teval-logloss:0.00215\ttrain-logloss:0.00199\n",
      "[90]\teval-logloss:0.00214\ttrain-logloss:0.00184\n",
      "[99]\teval-logloss:0.00211\ttrain-logloss:0.00174\n",
      "[0]\teval-logloss:0.11743\ttrain-logloss:0.11747\n"
     ]
    },
    {
     "name": "stderr",
     "output_type": "stream",
     "text": [
      "c:\\Users\\cleme\\Desktop\\projects\\creditcard-fraud-ML\\venv\\Lib\\site-packages\\xgboost\\core.py:726: FutureWarning: Pass `evals` as keyword args.\n",
      "  warnings.warn(msg, FutureWarning)\n"
     ]
    },
    {
     "name": "stdout",
     "output_type": "stream",
     "text": [
      "[10]\teval-logloss:0.04234\ttrain-logloss:0.04251\n",
      "[20]\teval-logloss:0.01654\ttrain-logloss:0.01677\n",
      "[30]\teval-logloss:0.00730\ttrain-logloss:0.00758\n",
      "[40]\teval-logloss:0.00393\ttrain-logloss:0.00423\n",
      "[50]\teval-logloss:0.00275\ttrain-logloss:0.00298\n",
      "[60]\teval-logloss:0.00234\ttrain-logloss:0.00245\n",
      "[70]\teval-logloss:0.00220\ttrain-logloss:0.00217\n",
      "[80]\teval-logloss:0.00215\ttrain-logloss:0.00199\n",
      "[90]\teval-logloss:0.00214\ttrain-logloss:0.00184\n",
      "[99]\teval-logloss:0.00211\ttrain-logloss:0.00174\n"
     ]
    },
    {
     "name": "stderr",
     "output_type": "stream",
     "text": [
      "c:\\Users\\cleme\\Desktop\\projects\\creditcard-fraud-ML\\venv\\Lib\\site-packages\\xgboost\\core.py:726: FutureWarning: Pass `evals` as keyword args.\n",
      "  warnings.warn(msg, FutureWarning)\n"
     ]
    },
    {
     "name": "stdout",
     "output_type": "stream",
     "text": [
      "[0]\teval-logloss:0.11743\ttrain-logloss:0.11747\n",
      "[10]\teval-logloss:0.04233\ttrain-logloss:0.04255\n",
      "[20]\teval-logloss:0.01653\ttrain-logloss:0.01685\n",
      "[30]\teval-logloss:0.00727\ttrain-logloss:0.00767\n",
      "[40]\teval-logloss:0.00391\ttrain-logloss:0.00432\n",
      "[50]\teval-logloss:0.00273\ttrain-logloss:0.00307\n",
      "[60]\teval-logloss:0.00230\ttrain-logloss:0.00254\n",
      "[70]\teval-logloss:0.00217\ttrain-logloss:0.00226\n",
      "[80]\teval-logloss:0.00210\ttrain-logloss:0.00207\n",
      "[90]\teval-logloss:0.00207\ttrain-logloss:0.00191\n",
      "[99]\teval-logloss:0.00207\ttrain-logloss:0.00177\n",
      "[0]\teval-logloss:0.11743\ttrain-logloss:0.11747\n",
      "[10]\teval-logloss:0.04233\ttrain-logloss:0.04255\n"
     ]
    },
    {
     "name": "stderr",
     "output_type": "stream",
     "text": [
      "c:\\Users\\cleme\\Desktop\\projects\\creditcard-fraud-ML\\venv\\Lib\\site-packages\\xgboost\\core.py:726: FutureWarning: Pass `evals` as keyword args.\n",
      "  warnings.warn(msg, FutureWarning)\n"
     ]
    },
    {
     "name": "stdout",
     "output_type": "stream",
     "text": [
      "[20]\teval-logloss:0.01653\ttrain-logloss:0.01685\n",
      "[30]\teval-logloss:0.00727\ttrain-logloss:0.00767\n",
      "[40]\teval-logloss:0.00391\ttrain-logloss:0.00432\n",
      "[50]\teval-logloss:0.00273\ttrain-logloss:0.00307\n",
      "[60]\teval-logloss:0.00230\ttrain-logloss:0.00254\n",
      "[70]\teval-logloss:0.00217\ttrain-logloss:0.00226\n",
      "[80]\teval-logloss:0.00210\ttrain-logloss:0.00207\n",
      "[90]\teval-logloss:0.00207\ttrain-logloss:0.00191\n",
      "[99]\teval-logloss:0.00207\ttrain-logloss:0.00177\n",
      "[0]\teval-logloss:0.11743\ttrain-logloss:0.11747\n",
      "[10]\teval-logloss:0.04233\ttrain-logloss:0.04255\n"
     ]
    },
    {
     "name": "stderr",
     "output_type": "stream",
     "text": [
      "c:\\Users\\cleme\\Desktop\\projects\\creditcard-fraud-ML\\venv\\Lib\\site-packages\\xgboost\\core.py:726: FutureWarning: Pass `evals` as keyword args.\n",
      "  warnings.warn(msg, FutureWarning)\n"
     ]
    },
    {
     "name": "stdout",
     "output_type": "stream",
     "text": [
      "[20]\teval-logloss:0.01653\ttrain-logloss:0.01685\n",
      "[30]\teval-logloss:0.00727\ttrain-logloss:0.00767\n",
      "[40]\teval-logloss:0.00391\ttrain-logloss:0.00432\n",
      "[50]\teval-logloss:0.00273\ttrain-logloss:0.00307\n",
      "[60]\teval-logloss:0.00230\ttrain-logloss:0.00254\n",
      "[70]\teval-logloss:0.00217\ttrain-logloss:0.00226\n",
      "[80]\teval-logloss:0.00210\ttrain-logloss:0.00207\n",
      "[90]\teval-logloss:0.00207\ttrain-logloss:0.00191\n",
      "[99]\teval-logloss:0.00207\ttrain-logloss:0.00177\n",
      "[0]\teval-logloss:0.11743\ttrain-logloss:0.11747\n",
      "[10]\teval-logloss:0.04233\ttrain-logloss:0.04255\n"
     ]
    },
    {
     "name": "stderr",
     "output_type": "stream",
     "text": [
      "c:\\Users\\cleme\\Desktop\\projects\\creditcard-fraud-ML\\venv\\Lib\\site-packages\\xgboost\\core.py:726: FutureWarning: Pass `evals` as keyword args.\n",
      "  warnings.warn(msg, FutureWarning)\n"
     ]
    },
    {
     "name": "stdout",
     "output_type": "stream",
     "text": [
      "[20]\teval-logloss:0.01653\ttrain-logloss:0.01685\n",
      "[30]\teval-logloss:0.00727\ttrain-logloss:0.00767\n",
      "[40]\teval-logloss:0.00391\ttrain-logloss:0.00432\n",
      "[50]\teval-logloss:0.00273\ttrain-logloss:0.00307\n",
      "[60]\teval-logloss:0.00230\ttrain-logloss:0.00254\n",
      "[70]\teval-logloss:0.00217\ttrain-logloss:0.00226\n",
      "[80]\teval-logloss:0.00210\ttrain-logloss:0.00207\n",
      "[90]\teval-logloss:0.00207\ttrain-logloss:0.00191\n",
      "[99]\teval-logloss:0.00207\ttrain-logloss:0.00177\n",
      "[0]\teval-logloss:0.11738\ttrain-logloss:0.11740\n",
      "[10]\teval-logloss:0.04214\ttrain-logloss:0.04227\n"
     ]
    },
    {
     "name": "stderr",
     "output_type": "stream",
     "text": [
      "c:\\Users\\cleme\\Desktop\\projects\\creditcard-fraud-ML\\venv\\Lib\\site-packages\\xgboost\\core.py:726: FutureWarning: Pass `evals` as keyword args.\n",
      "  warnings.warn(msg, FutureWarning)\n"
     ]
    },
    {
     "name": "stdout",
     "output_type": "stream",
     "text": [
      "[20]\teval-logloss:0.01626\ttrain-logloss:0.01631\n",
      "[30]\teval-logloss:0.00700\ttrain-logloss:0.00686\n",
      "[40]\teval-logloss:0.00368\ttrain-logloss:0.00325\n",
      "[50]\teval-logloss:0.00247\ttrain-logloss:0.00177\n",
      "[60]\teval-logloss:0.00211\ttrain-logloss:0.00110\n",
      "[70]\teval-logloss:0.00198\ttrain-logloss:0.00075\n",
      "[80]\teval-logloss:0.00194\ttrain-logloss:0.00052\n",
      "[90]\teval-logloss:0.00193\ttrain-logloss:0.00038\n",
      "[99]\teval-logloss:0.00194\ttrain-logloss:0.00030\n",
      "[0]\teval-logloss:0.11738\ttrain-logloss:0.11740\n",
      "[10]\teval-logloss:0.04214\ttrain-logloss:0.04227\n"
     ]
    },
    {
     "name": "stderr",
     "output_type": "stream",
     "text": [
      "c:\\Users\\cleme\\Desktop\\projects\\creditcard-fraud-ML\\venv\\Lib\\site-packages\\xgboost\\core.py:726: FutureWarning: Pass `evals` as keyword args.\n",
      "  warnings.warn(msg, FutureWarning)\n"
     ]
    },
    {
     "name": "stdout",
     "output_type": "stream",
     "text": [
      "[20]\teval-logloss:0.01626\ttrain-logloss:0.01631\n",
      "[30]\teval-logloss:0.00700\ttrain-logloss:0.00686\n",
      "[40]\teval-logloss:0.00368\ttrain-logloss:0.00325\n",
      "[50]\teval-logloss:0.00247\ttrain-logloss:0.00177\n",
      "[60]\teval-logloss:0.00211\ttrain-logloss:0.00110\n",
      "[70]\teval-logloss:0.00198\ttrain-logloss:0.00075\n",
      "[80]\teval-logloss:0.00194\ttrain-logloss:0.00052\n",
      "[90]\teval-logloss:0.00193\ttrain-logloss:0.00038\n",
      "[99]\teval-logloss:0.00194\ttrain-logloss:0.00030\n",
      "[0]\teval-logloss:0.11738\ttrain-logloss:0.11740\n",
      "[10]\teval-logloss:0.04214\ttrain-logloss:0.04227\n"
     ]
    },
    {
     "name": "stderr",
     "output_type": "stream",
     "text": [
      "c:\\Users\\cleme\\Desktop\\projects\\creditcard-fraud-ML\\venv\\Lib\\site-packages\\xgboost\\core.py:726: FutureWarning: Pass `evals` as keyword args.\n",
      "  warnings.warn(msg, FutureWarning)\n"
     ]
    },
    {
     "name": "stdout",
     "output_type": "stream",
     "text": [
      "[20]\teval-logloss:0.01626\ttrain-logloss:0.01631\n",
      "[30]\teval-logloss:0.00700\ttrain-logloss:0.00686\n",
      "[40]\teval-logloss:0.00368\ttrain-logloss:0.00325\n",
      "[50]\teval-logloss:0.00247\ttrain-logloss:0.00177\n",
      "[60]\teval-logloss:0.00211\ttrain-logloss:0.00110\n",
      "[70]\teval-logloss:0.00198\ttrain-logloss:0.00075\n",
      "[80]\teval-logloss:0.00194\ttrain-logloss:0.00052\n",
      "[90]\teval-logloss:0.00193\ttrain-logloss:0.00038\n",
      "[99]\teval-logloss:0.00194\ttrain-logloss:0.00030\n",
      "[0]\teval-logloss:0.11738\ttrain-logloss:0.11740\n",
      "[10]\teval-logloss:0.04214\ttrain-logloss:0.04227\n"
     ]
    },
    {
     "name": "stderr",
     "output_type": "stream",
     "text": [
      "c:\\Users\\cleme\\Desktop\\projects\\creditcard-fraud-ML\\venv\\Lib\\site-packages\\xgboost\\core.py:726: FutureWarning: Pass `evals` as keyword args.\n",
      "  warnings.warn(msg, FutureWarning)\n"
     ]
    },
    {
     "name": "stdout",
     "output_type": "stream",
     "text": [
      "[20]\teval-logloss:0.01626\ttrain-logloss:0.01631\n",
      "[30]\teval-logloss:0.00700\ttrain-logloss:0.00686\n",
      "[40]\teval-logloss:0.00368\ttrain-logloss:0.00325\n",
      "[50]\teval-logloss:0.00247\ttrain-logloss:0.00177\n",
      "[60]\teval-logloss:0.00211\ttrain-logloss:0.00110\n",
      "[70]\teval-logloss:0.00198\ttrain-logloss:0.00075\n",
      "[80]\teval-logloss:0.00194\ttrain-logloss:0.00052\n",
      "[90]\teval-logloss:0.00193\ttrain-logloss:0.00038\n",
      "[99]\teval-logloss:0.00194\ttrain-logloss:0.00030\n",
      "[0]\teval-logloss:0.11738\ttrain-logloss:0.11740\n"
     ]
    },
    {
     "name": "stderr",
     "output_type": "stream",
     "text": [
      "c:\\Users\\cleme\\Desktop\\projects\\creditcard-fraud-ML\\venv\\Lib\\site-packages\\xgboost\\core.py:726: FutureWarning: Pass `evals` as keyword args.\n",
      "  warnings.warn(msg, FutureWarning)\n"
     ]
    },
    {
     "name": "stdout",
     "output_type": "stream",
     "text": [
      "[10]\teval-logloss:0.04213\ttrain-logloss:0.04224\n",
      "[20]\teval-logloss:0.01623\ttrain-logloss:0.01629\n",
      "[30]\teval-logloss:0.00700\ttrain-logloss:0.00686\n",
      "[40]\teval-logloss:0.00367\ttrain-logloss:0.00326\n",
      "[50]\teval-logloss:0.00247\ttrain-logloss:0.00178\n",
      "[60]\teval-logloss:0.00207\ttrain-logloss:0.00111\n",
      "[70]\teval-logloss:0.00196\ttrain-logloss:0.00075\n",
      "[80]\teval-logloss:0.00193\ttrain-logloss:0.00052\n",
      "[90]\teval-logloss:0.00191\ttrain-logloss:0.00037\n",
      "[99]\teval-logloss:0.00190\ttrain-logloss:0.00029\n",
      "[0]\teval-logloss:0.11738\ttrain-logloss:0.11740\n"
     ]
    },
    {
     "name": "stderr",
     "output_type": "stream",
     "text": [
      "c:\\Users\\cleme\\Desktop\\projects\\creditcard-fraud-ML\\venv\\Lib\\site-packages\\xgboost\\core.py:726: FutureWarning: Pass `evals` as keyword args.\n",
      "  warnings.warn(msg, FutureWarning)\n"
     ]
    },
    {
     "name": "stdout",
     "output_type": "stream",
     "text": [
      "[10]\teval-logloss:0.04213\ttrain-logloss:0.04224\n",
      "[20]\teval-logloss:0.01623\ttrain-logloss:0.01629\n",
      "[30]\teval-logloss:0.00700\ttrain-logloss:0.00686\n",
      "[40]\teval-logloss:0.00367\ttrain-logloss:0.00326\n",
      "[50]\teval-logloss:0.00247\ttrain-logloss:0.00178\n",
      "[60]\teval-logloss:0.00207\ttrain-logloss:0.00111\n",
      "[70]\teval-logloss:0.00196\ttrain-logloss:0.00075\n",
      "[80]\teval-logloss:0.00193\ttrain-logloss:0.00052\n",
      "[90]\teval-logloss:0.00191\ttrain-logloss:0.00037\n",
      "[99]\teval-logloss:0.00190\ttrain-logloss:0.00029\n",
      "[0]\teval-logloss:0.11738\ttrain-logloss:0.11740\n"
     ]
    },
    {
     "name": "stderr",
     "output_type": "stream",
     "text": [
      "c:\\Users\\cleme\\Desktop\\projects\\creditcard-fraud-ML\\venv\\Lib\\site-packages\\xgboost\\core.py:726: FutureWarning: Pass `evals` as keyword args.\n",
      "  warnings.warn(msg, FutureWarning)\n"
     ]
    },
    {
     "name": "stdout",
     "output_type": "stream",
     "text": [
      "[10]\teval-logloss:0.04213\ttrain-logloss:0.04224\n",
      "[20]\teval-logloss:0.01623\ttrain-logloss:0.01629\n",
      "[30]\teval-logloss:0.00700\ttrain-logloss:0.00686\n",
      "[40]\teval-logloss:0.00367\ttrain-logloss:0.00326\n",
      "[50]\teval-logloss:0.00247\ttrain-logloss:0.00178\n",
      "[60]\teval-logloss:0.00207\ttrain-logloss:0.00111\n",
      "[70]\teval-logloss:0.00196\ttrain-logloss:0.00075\n",
      "[80]\teval-logloss:0.00193\ttrain-logloss:0.00052\n",
      "[90]\teval-logloss:0.00191\ttrain-logloss:0.00037\n",
      "[99]\teval-logloss:0.00190\ttrain-logloss:0.00029\n",
      "[0]\teval-logloss:0.11738\ttrain-logloss:0.11740\n"
     ]
    },
    {
     "name": "stderr",
     "output_type": "stream",
     "text": [
      "c:\\Users\\cleme\\Desktop\\projects\\creditcard-fraud-ML\\venv\\Lib\\site-packages\\xgboost\\core.py:726: FutureWarning: Pass `evals` as keyword args.\n",
      "  warnings.warn(msg, FutureWarning)\n"
     ]
    },
    {
     "name": "stdout",
     "output_type": "stream",
     "text": [
      "[10]\teval-logloss:0.04213\ttrain-logloss:0.04224\n",
      "[20]\teval-logloss:0.01623\ttrain-logloss:0.01629\n",
      "[30]\teval-logloss:0.00700\ttrain-logloss:0.00686\n",
      "[40]\teval-logloss:0.00367\ttrain-logloss:0.00326\n",
      "[50]\teval-logloss:0.00247\ttrain-logloss:0.00178\n",
      "[60]\teval-logloss:0.00207\ttrain-logloss:0.00111\n",
      "[70]\teval-logloss:0.00196\ttrain-logloss:0.00075\n",
      "[80]\teval-logloss:0.00193\ttrain-logloss:0.00052\n",
      "[90]\teval-logloss:0.00191\ttrain-logloss:0.00037\n",
      "[99]\teval-logloss:0.00190\ttrain-logloss:0.00029\n"
     ]
    },
    {
     "name": "stderr",
     "output_type": "stream",
     "text": [
      "c:\\Users\\cleme\\Desktop\\projects\\creditcard-fraud-ML\\venv\\Lib\\site-packages\\xgboost\\core.py:726: FutureWarning: Pass `evals` as keyword args.\n",
      "  warnings.warn(msg, FutureWarning)\n"
     ]
    },
    {
     "name": "stdout",
     "output_type": "stream",
     "text": [
      "[0]\teval-logloss:0.11738\ttrain-logloss:0.11740\n",
      "[10]\teval-logloss:0.04214\ttrain-logloss:0.04227\n",
      "[20]\teval-logloss:0.01626\ttrain-logloss:0.01631\n",
      "[30]\teval-logloss:0.00700\ttrain-logloss:0.00686\n",
      "[40]\teval-logloss:0.00368\ttrain-logloss:0.00325\n",
      "[50]\teval-logloss:0.00247\ttrain-logloss:0.00177\n",
      "[60]\teval-logloss:0.00211\ttrain-logloss:0.00110\n",
      "[70]\teval-logloss:0.00198\ttrain-logloss:0.00075\n",
      "[80]\teval-logloss:0.00194\ttrain-logloss:0.00052\n",
      "[90]\teval-logloss:0.00193\ttrain-logloss:0.00038\n",
      "[99]\teval-logloss:0.00194\ttrain-logloss:0.00030\n",
      "[0]\teval-logloss:0.11738\ttrain-logloss:0.11740\n",
      "[10]\teval-logloss:0.04214\ttrain-logloss:0.04227\n"
     ]
    },
    {
     "name": "stderr",
     "output_type": "stream",
     "text": [
      "c:\\Users\\cleme\\Desktop\\projects\\creditcard-fraud-ML\\venv\\Lib\\site-packages\\xgboost\\core.py:726: FutureWarning: Pass `evals` as keyword args.\n",
      "  warnings.warn(msg, FutureWarning)\n"
     ]
    },
    {
     "name": "stdout",
     "output_type": "stream",
     "text": [
      "[20]\teval-logloss:0.01626\ttrain-logloss:0.01631\n",
      "[30]\teval-logloss:0.00700\ttrain-logloss:0.00686\n",
      "[40]\teval-logloss:0.00368\ttrain-logloss:0.00325\n",
      "[50]\teval-logloss:0.00247\ttrain-logloss:0.00177\n",
      "[60]\teval-logloss:0.00211\ttrain-logloss:0.00110\n",
      "[70]\teval-logloss:0.00198\ttrain-logloss:0.00075\n",
      "[80]\teval-logloss:0.00194\ttrain-logloss:0.00052\n",
      "[90]\teval-logloss:0.00193\ttrain-logloss:0.00038\n",
      "[99]\teval-logloss:0.00194\ttrain-logloss:0.00030\n",
      "[0]\teval-logloss:0.11738\ttrain-logloss:0.11740\n",
      "[10]\teval-logloss:0.04214\ttrain-logloss:0.04227\n"
     ]
    },
    {
     "name": "stderr",
     "output_type": "stream",
     "text": [
      "c:\\Users\\cleme\\Desktop\\projects\\creditcard-fraud-ML\\venv\\Lib\\site-packages\\xgboost\\core.py:726: FutureWarning: Pass `evals` as keyword args.\n",
      "  warnings.warn(msg, FutureWarning)\n"
     ]
    },
    {
     "name": "stdout",
     "output_type": "stream",
     "text": [
      "[20]\teval-logloss:0.01626\ttrain-logloss:0.01631\n",
      "[30]\teval-logloss:0.00700\ttrain-logloss:0.00686\n",
      "[40]\teval-logloss:0.00368\ttrain-logloss:0.00325\n",
      "[50]\teval-logloss:0.00247\ttrain-logloss:0.00177\n",
      "[60]\teval-logloss:0.00211\ttrain-logloss:0.00110\n",
      "[70]\teval-logloss:0.00198\ttrain-logloss:0.00075\n",
      "[80]\teval-logloss:0.00194\ttrain-logloss:0.00052\n",
      "[90]\teval-logloss:0.00193\ttrain-logloss:0.00038\n",
      "[99]\teval-logloss:0.00194\ttrain-logloss:0.00030\n",
      "[0]\teval-logloss:0.11738\ttrain-logloss:0.11740\n",
      "[10]\teval-logloss:0.04214\ttrain-logloss:0.04227\n"
     ]
    },
    {
     "name": "stderr",
     "output_type": "stream",
     "text": [
      "c:\\Users\\cleme\\Desktop\\projects\\creditcard-fraud-ML\\venv\\Lib\\site-packages\\xgboost\\core.py:726: FutureWarning: Pass `evals` as keyword args.\n",
      "  warnings.warn(msg, FutureWarning)\n"
     ]
    },
    {
     "name": "stdout",
     "output_type": "stream",
     "text": [
      "[20]\teval-logloss:0.01626\ttrain-logloss:0.01631\n",
      "[30]\teval-logloss:0.00700\ttrain-logloss:0.00686\n",
      "[40]\teval-logloss:0.00368\ttrain-logloss:0.00325\n",
      "[50]\teval-logloss:0.00247\ttrain-logloss:0.00177\n",
      "[60]\teval-logloss:0.00211\ttrain-logloss:0.00110\n",
      "[70]\teval-logloss:0.00198\ttrain-logloss:0.00075\n",
      "[80]\teval-logloss:0.00194\ttrain-logloss:0.00052\n",
      "[90]\teval-logloss:0.00193\ttrain-logloss:0.00038\n",
      "[99]\teval-logloss:0.00194\ttrain-logloss:0.00030\n",
      "[0]\teval-logloss:0.07575\ttrain-logloss:0.07591\n",
      "[10]\teval-logloss:0.00251\ttrain-logloss:0.00268\n"
     ]
    },
    {
     "name": "stderr",
     "output_type": "stream",
     "text": [
      "c:\\Users\\cleme\\Desktop\\projects\\creditcard-fraud-ML\\venv\\Lib\\site-packages\\xgboost\\core.py:726: FutureWarning: Pass `evals` as keyword args.\n",
      "  warnings.warn(msg, FutureWarning)\n"
     ]
    },
    {
     "name": "stdout",
     "output_type": "stream",
     "text": [
      "[20]\teval-logloss:0.00210\ttrain-logloss:0.00164\n",
      "[30]\teval-logloss:0.00208\ttrain-logloss:0.00116\n",
      "[40]\teval-logloss:0.00201\ttrain-logloss:0.00079\n",
      "[50]\teval-logloss:0.00201\ttrain-logloss:0.00057\n",
      "[60]\teval-logloss:0.00198\ttrain-logloss:0.00040\n",
      "[70]\teval-logloss:0.00203\ttrain-logloss:0.00028\n",
      "[80]\teval-logloss:0.00207\ttrain-logloss:0.00021\n",
      "[90]\teval-logloss:0.00212\ttrain-logloss:0.00016\n",
      "[99]\teval-logloss:0.00214\ttrain-logloss:0.00013\n",
      "[0]\teval-logloss:0.07575\ttrain-logloss:0.07591\n",
      "[10]\teval-logloss:0.00251\ttrain-logloss:0.00268\n"
     ]
    },
    {
     "name": "stderr",
     "output_type": "stream",
     "text": [
      "c:\\Users\\cleme\\Desktop\\projects\\creditcard-fraud-ML\\venv\\Lib\\site-packages\\xgboost\\core.py:726: FutureWarning: Pass `evals` as keyword args.\n",
      "  warnings.warn(msg, FutureWarning)\n"
     ]
    },
    {
     "name": "stdout",
     "output_type": "stream",
     "text": [
      "[20]\teval-logloss:0.00210\ttrain-logloss:0.00164\n",
      "[30]\teval-logloss:0.00208\ttrain-logloss:0.00116\n",
      "[40]\teval-logloss:0.00201\ttrain-logloss:0.00079\n",
      "[50]\teval-logloss:0.00201\ttrain-logloss:0.00057\n",
      "[60]\teval-logloss:0.00198\ttrain-logloss:0.00040\n",
      "[70]\teval-logloss:0.00203\ttrain-logloss:0.00028\n",
      "[80]\teval-logloss:0.00207\ttrain-logloss:0.00021\n",
      "[90]\teval-logloss:0.00212\ttrain-logloss:0.00016\n",
      "[99]\teval-logloss:0.00214\ttrain-logloss:0.00013\n",
      "[0]\teval-logloss:0.07575\ttrain-logloss:0.07591\n",
      "[10]\teval-logloss:0.00251\ttrain-logloss:0.00268\n"
     ]
    },
    {
     "name": "stderr",
     "output_type": "stream",
     "text": [
      "c:\\Users\\cleme\\Desktop\\projects\\creditcard-fraud-ML\\venv\\Lib\\site-packages\\xgboost\\core.py:726: FutureWarning: Pass `evals` as keyword args.\n",
      "  warnings.warn(msg, FutureWarning)\n"
     ]
    },
    {
     "name": "stdout",
     "output_type": "stream",
     "text": [
      "[20]\teval-logloss:0.00210\ttrain-logloss:0.00164\n",
      "[30]\teval-logloss:0.00208\ttrain-logloss:0.00116\n",
      "[40]\teval-logloss:0.00201\ttrain-logloss:0.00079\n",
      "[50]\teval-logloss:0.00201\ttrain-logloss:0.00057\n",
      "[60]\teval-logloss:0.00198\ttrain-logloss:0.00040\n",
      "[70]\teval-logloss:0.00203\ttrain-logloss:0.00028\n",
      "[80]\teval-logloss:0.00207\ttrain-logloss:0.00021\n",
      "[90]\teval-logloss:0.00212\ttrain-logloss:0.00016\n",
      "[99]\teval-logloss:0.00214\ttrain-logloss:0.00013\n",
      "[0]\teval-logloss:0.07575\ttrain-logloss:0.07591\n",
      "[10]\teval-logloss:0.00251\ttrain-logloss:0.00268\n"
     ]
    },
    {
     "name": "stderr",
     "output_type": "stream",
     "text": [
      "c:\\Users\\cleme\\Desktop\\projects\\creditcard-fraud-ML\\venv\\Lib\\site-packages\\xgboost\\core.py:726: FutureWarning: Pass `evals` as keyword args.\n",
      "  warnings.warn(msg, FutureWarning)\n"
     ]
    },
    {
     "name": "stdout",
     "output_type": "stream",
     "text": [
      "[20]\teval-logloss:0.00210\ttrain-logloss:0.00164\n",
      "[30]\teval-logloss:0.00208\ttrain-logloss:0.00116\n",
      "[40]\teval-logloss:0.00201\ttrain-logloss:0.00079\n",
      "[50]\teval-logloss:0.00201\ttrain-logloss:0.00057\n",
      "[60]\teval-logloss:0.00198\ttrain-logloss:0.00040\n",
      "[70]\teval-logloss:0.00203\ttrain-logloss:0.00028\n",
      "[80]\teval-logloss:0.00207\ttrain-logloss:0.00021\n",
      "[90]\teval-logloss:0.00212\ttrain-logloss:0.00016\n",
      "[99]\teval-logloss:0.00214\ttrain-logloss:0.00013\n",
      "[0]\teval-logloss:0.07575\ttrain-logloss:0.07591\n"
     ]
    },
    {
     "name": "stderr",
     "output_type": "stream",
     "text": [
      "c:\\Users\\cleme\\Desktop\\projects\\creditcard-fraud-ML\\venv\\Lib\\site-packages\\xgboost\\core.py:726: FutureWarning: Pass `evals` as keyword args.\n",
      "  warnings.warn(msg, FutureWarning)\n"
     ]
    },
    {
     "name": "stdout",
     "output_type": "stream",
     "text": [
      "[10]\teval-logloss:0.00241\ttrain-logloss:0.00268\n",
      "[20]\teval-logloss:0.00200\ttrain-logloss:0.00163\n",
      "[30]\teval-logloss:0.00203\ttrain-logloss:0.00115\n",
      "[40]\teval-logloss:0.00202\ttrain-logloss:0.00089\n",
      "[50]\teval-logloss:0.00205\ttrain-logloss:0.00059\n",
      "[60]\teval-logloss:0.00204\ttrain-logloss:0.00043\n",
      "[70]\teval-logloss:0.00208\ttrain-logloss:0.00029\n",
      "[80]\teval-logloss:0.00211\ttrain-logloss:0.00020\n",
      "[90]\teval-logloss:0.00214\ttrain-logloss:0.00015\n",
      "[99]\teval-logloss:0.00212\ttrain-logloss:0.00012\n",
      "[0]\teval-logloss:0.07575\ttrain-logloss:0.07591\n"
     ]
    },
    {
     "name": "stderr",
     "output_type": "stream",
     "text": [
      "c:\\Users\\cleme\\Desktop\\projects\\creditcard-fraud-ML\\venv\\Lib\\site-packages\\xgboost\\core.py:726: FutureWarning: Pass `evals` as keyword args.\n",
      "  warnings.warn(msg, FutureWarning)\n"
     ]
    },
    {
     "name": "stdout",
     "output_type": "stream",
     "text": [
      "[10]\teval-logloss:0.00241\ttrain-logloss:0.00268\n",
      "[20]\teval-logloss:0.00200\ttrain-logloss:0.00163\n",
      "[30]\teval-logloss:0.00203\ttrain-logloss:0.00115\n",
      "[40]\teval-logloss:0.00202\ttrain-logloss:0.00089\n",
      "[50]\teval-logloss:0.00205\ttrain-logloss:0.00059\n",
      "[60]\teval-logloss:0.00204\ttrain-logloss:0.00043\n",
      "[70]\teval-logloss:0.00208\ttrain-logloss:0.00029\n",
      "[80]\teval-logloss:0.00211\ttrain-logloss:0.00020\n",
      "[90]\teval-logloss:0.00214\ttrain-logloss:0.00015\n",
      "[99]\teval-logloss:0.00212\ttrain-logloss:0.00012\n",
      "[0]\teval-logloss:0.07575\ttrain-logloss:0.07591\n"
     ]
    },
    {
     "name": "stderr",
     "output_type": "stream",
     "text": [
      "c:\\Users\\cleme\\Desktop\\projects\\creditcard-fraud-ML\\venv\\Lib\\site-packages\\xgboost\\core.py:726: FutureWarning: Pass `evals` as keyword args.\n",
      "  warnings.warn(msg, FutureWarning)\n"
     ]
    },
    {
     "name": "stdout",
     "output_type": "stream",
     "text": [
      "[10]\teval-logloss:0.00241\ttrain-logloss:0.00268\n",
      "[20]\teval-logloss:0.00200\ttrain-logloss:0.00163\n",
      "[30]\teval-logloss:0.00203\ttrain-logloss:0.00115\n",
      "[40]\teval-logloss:0.00202\ttrain-logloss:0.00089\n",
      "[50]\teval-logloss:0.00205\ttrain-logloss:0.00059\n",
      "[60]\teval-logloss:0.00204\ttrain-logloss:0.00043\n",
      "[70]\teval-logloss:0.00208\ttrain-logloss:0.00029\n",
      "[80]\teval-logloss:0.00211\ttrain-logloss:0.00020\n",
      "[90]\teval-logloss:0.00214\ttrain-logloss:0.00015\n",
      "[99]\teval-logloss:0.00212\ttrain-logloss:0.00012\n",
      "[0]\teval-logloss:0.07575\ttrain-logloss:0.07591\n"
     ]
    },
    {
     "name": "stderr",
     "output_type": "stream",
     "text": [
      "c:\\Users\\cleme\\Desktop\\projects\\creditcard-fraud-ML\\venv\\Lib\\site-packages\\xgboost\\core.py:726: FutureWarning: Pass `evals` as keyword args.\n",
      "  warnings.warn(msg, FutureWarning)\n"
     ]
    },
    {
     "name": "stdout",
     "output_type": "stream",
     "text": [
      "[10]\teval-logloss:0.00241\ttrain-logloss:0.00268\n",
      "[20]\teval-logloss:0.00200\ttrain-logloss:0.00163\n",
      "[30]\teval-logloss:0.00203\ttrain-logloss:0.00115\n",
      "[40]\teval-logloss:0.00202\ttrain-logloss:0.00089\n",
      "[50]\teval-logloss:0.00205\ttrain-logloss:0.00059\n",
      "[60]\teval-logloss:0.00204\ttrain-logloss:0.00043\n",
      "[70]\teval-logloss:0.00208\ttrain-logloss:0.00029\n",
      "[80]\teval-logloss:0.00211\ttrain-logloss:0.00020\n",
      "[90]\teval-logloss:0.00214\ttrain-logloss:0.00015\n",
      "[99]\teval-logloss:0.00212\ttrain-logloss:0.00012\n"
     ]
    },
    {
     "name": "stderr",
     "output_type": "stream",
     "text": [
      "c:\\Users\\cleme\\Desktop\\projects\\creditcard-fraud-ML\\venv\\Lib\\site-packages\\xgboost\\core.py:726: FutureWarning: Pass `evals` as keyword args.\n",
      "  warnings.warn(msg, FutureWarning)\n"
     ]
    },
    {
     "name": "stdout",
     "output_type": "stream",
     "text": [
      "[0]\teval-logloss:0.07575\ttrain-logloss:0.07591\n",
      "[10]\teval-logloss:0.00251\ttrain-logloss:0.00268\n",
      "[20]\teval-logloss:0.00210\ttrain-logloss:0.00164\n",
      "[30]\teval-logloss:0.00208\ttrain-logloss:0.00116\n",
      "[40]\teval-logloss:0.00201\ttrain-logloss:0.00079\n",
      "[50]\teval-logloss:0.00201\ttrain-logloss:0.00057\n",
      "[60]\teval-logloss:0.00198\ttrain-logloss:0.00040\n",
      "[70]\teval-logloss:0.00203\ttrain-logloss:0.00028\n",
      "[80]\teval-logloss:0.00207\ttrain-logloss:0.00021\n",
      "[90]\teval-logloss:0.00212\ttrain-logloss:0.00016\n",
      "[99]\teval-logloss:0.00214\ttrain-logloss:0.00013\n",
      "[0]\teval-logloss:0.07575\ttrain-logloss:0.07591\n",
      "[10]\teval-logloss:0.00251\ttrain-logloss:0.00268\n"
     ]
    },
    {
     "name": "stderr",
     "output_type": "stream",
     "text": [
      "c:\\Users\\cleme\\Desktop\\projects\\creditcard-fraud-ML\\venv\\Lib\\site-packages\\xgboost\\core.py:726: FutureWarning: Pass `evals` as keyword args.\n",
      "  warnings.warn(msg, FutureWarning)\n"
     ]
    },
    {
     "name": "stdout",
     "output_type": "stream",
     "text": [
      "[20]\teval-logloss:0.00210\ttrain-logloss:0.00164\n",
      "[30]\teval-logloss:0.00208\ttrain-logloss:0.00116\n",
      "[40]\teval-logloss:0.00201\ttrain-logloss:0.00079\n",
      "[50]\teval-logloss:0.00201\ttrain-logloss:0.00057\n",
      "[60]\teval-logloss:0.00198\ttrain-logloss:0.00040\n",
      "[70]\teval-logloss:0.00203\ttrain-logloss:0.00028\n",
      "[80]\teval-logloss:0.00207\ttrain-logloss:0.00021\n",
      "[90]\teval-logloss:0.00212\ttrain-logloss:0.00016\n",
      "[99]\teval-logloss:0.00214\ttrain-logloss:0.00013\n",
      "[0]\teval-logloss:0.07575\ttrain-logloss:0.07591\n"
     ]
    },
    {
     "name": "stderr",
     "output_type": "stream",
     "text": [
      "c:\\Users\\cleme\\Desktop\\projects\\creditcard-fraud-ML\\venv\\Lib\\site-packages\\xgboost\\core.py:726: FutureWarning: Pass `evals` as keyword args.\n",
      "  warnings.warn(msg, FutureWarning)\n"
     ]
    },
    {
     "name": "stdout",
     "output_type": "stream",
     "text": [
      "[10]\teval-logloss:0.00251\ttrain-logloss:0.00268\n",
      "[20]\teval-logloss:0.00210\ttrain-logloss:0.00164\n",
      "[30]\teval-logloss:0.00208\ttrain-logloss:0.00116\n",
      "[40]\teval-logloss:0.00201\ttrain-logloss:0.00079\n",
      "[50]\teval-logloss:0.00201\ttrain-logloss:0.00057\n",
      "[60]\teval-logloss:0.00198\ttrain-logloss:0.00040\n",
      "[70]\teval-logloss:0.00203\ttrain-logloss:0.00028\n",
      "[80]\teval-logloss:0.00207\ttrain-logloss:0.00021\n",
      "[90]\teval-logloss:0.00212\ttrain-logloss:0.00016\n",
      "[99]\teval-logloss:0.00214\ttrain-logloss:0.00013\n",
      "[0]\teval-logloss:0.07575\ttrain-logloss:0.07591\n",
      "[10]\teval-logloss:0.00251\ttrain-logloss:0.00268\n"
     ]
    },
    {
     "name": "stderr",
     "output_type": "stream",
     "text": [
      "c:\\Users\\cleme\\Desktop\\projects\\creditcard-fraud-ML\\venv\\Lib\\site-packages\\xgboost\\core.py:726: FutureWarning: Pass `evals` as keyword args.\n",
      "  warnings.warn(msg, FutureWarning)\n"
     ]
    },
    {
     "name": "stdout",
     "output_type": "stream",
     "text": [
      "[20]\teval-logloss:0.00210\ttrain-logloss:0.00164\n",
      "[30]\teval-logloss:0.00208\ttrain-logloss:0.00116\n",
      "[40]\teval-logloss:0.00201\ttrain-logloss:0.00079\n",
      "[50]\teval-logloss:0.00201\ttrain-logloss:0.00057\n",
      "[60]\teval-logloss:0.00198\ttrain-logloss:0.00040\n",
      "[70]\teval-logloss:0.00203\ttrain-logloss:0.00028\n",
      "[80]\teval-logloss:0.00207\ttrain-logloss:0.00021\n",
      "[90]\teval-logloss:0.00212\ttrain-logloss:0.00016\n",
      "[99]\teval-logloss:0.00214\ttrain-logloss:0.00013\n",
      "[0]\teval-logloss:0.07562\ttrain-logloss:0.07569\n"
     ]
    },
    {
     "name": "stderr",
     "output_type": "stream",
     "text": [
      "c:\\Users\\cleme\\Desktop\\projects\\creditcard-fraud-ML\\venv\\Lib\\site-packages\\xgboost\\core.py:726: FutureWarning: Pass `evals` as keyword args.\n",
      "  warnings.warn(msg, FutureWarning)\n"
     ]
    },
    {
     "name": "stdout",
     "output_type": "stream",
     "text": [
      "[10]\teval-logloss:0.00223\ttrain-logloss:0.00146\n",
      "[20]\teval-logloss:0.00201\ttrain-logloss:0.00026\n",
      "[30]\teval-logloss:0.00210\ttrain-logloss:0.00011\n",
      "[40]\teval-logloss:0.00212\ttrain-logloss:0.00008\n",
      "[50]\teval-logloss:0.00213\ttrain-logloss:0.00006\n",
      "[60]\teval-logloss:0.00214\ttrain-logloss:0.00005\n",
      "[70]\teval-logloss:0.00218\ttrain-logloss:0.00004\n",
      "[80]\teval-logloss:0.00220\ttrain-logloss:0.00004\n",
      "[90]\teval-logloss:0.00221\ttrain-logloss:0.00004\n",
      "[99]\teval-logloss:0.00222\ttrain-logloss:0.00003\n",
      "[0]\teval-logloss:0.07562\ttrain-logloss:0.07569\n"
     ]
    },
    {
     "name": "stderr",
     "output_type": "stream",
     "text": [
      "c:\\Users\\cleme\\Desktop\\projects\\creditcard-fraud-ML\\venv\\Lib\\site-packages\\xgboost\\core.py:726: FutureWarning: Pass `evals` as keyword args.\n",
      "  warnings.warn(msg, FutureWarning)\n"
     ]
    },
    {
     "name": "stdout",
     "output_type": "stream",
     "text": [
      "[10]\teval-logloss:0.00223\ttrain-logloss:0.00146\n",
      "[20]\teval-logloss:0.00201\ttrain-logloss:0.00026\n",
      "[30]\teval-logloss:0.00210\ttrain-logloss:0.00011\n",
      "[40]\teval-logloss:0.00212\ttrain-logloss:0.00008\n",
      "[50]\teval-logloss:0.00213\ttrain-logloss:0.00006\n",
      "[60]\teval-logloss:0.00214\ttrain-logloss:0.00005\n",
      "[70]\teval-logloss:0.00218\ttrain-logloss:0.00004\n",
      "[80]\teval-logloss:0.00220\ttrain-logloss:0.00004\n",
      "[90]\teval-logloss:0.00221\ttrain-logloss:0.00004\n",
      "[99]\teval-logloss:0.00222\ttrain-logloss:0.00003\n",
      "[0]\teval-logloss:0.07562\ttrain-logloss:0.07569\n"
     ]
    },
    {
     "name": "stderr",
     "output_type": "stream",
     "text": [
      "c:\\Users\\cleme\\Desktop\\projects\\creditcard-fraud-ML\\venv\\Lib\\site-packages\\xgboost\\core.py:726: FutureWarning: Pass `evals` as keyword args.\n",
      "  warnings.warn(msg, FutureWarning)\n"
     ]
    },
    {
     "name": "stdout",
     "output_type": "stream",
     "text": [
      "[10]\teval-logloss:0.00223\ttrain-logloss:0.00146\n",
      "[20]\teval-logloss:0.00201\ttrain-logloss:0.00026\n",
      "[30]\teval-logloss:0.00210\ttrain-logloss:0.00011\n",
      "[40]\teval-logloss:0.00212\ttrain-logloss:0.00008\n",
      "[50]\teval-logloss:0.00213\ttrain-logloss:0.00006\n",
      "[60]\teval-logloss:0.00214\ttrain-logloss:0.00005\n",
      "[70]\teval-logloss:0.00218\ttrain-logloss:0.00004\n",
      "[80]\teval-logloss:0.00220\ttrain-logloss:0.00004\n",
      "[90]\teval-logloss:0.00221\ttrain-logloss:0.00004\n",
      "[99]\teval-logloss:0.00222\ttrain-logloss:0.00003\n",
      "[0]\teval-logloss:0.07562\ttrain-logloss:0.07569\n"
     ]
    },
    {
     "name": "stderr",
     "output_type": "stream",
     "text": [
      "c:\\Users\\cleme\\Desktop\\projects\\creditcard-fraud-ML\\venv\\Lib\\site-packages\\xgboost\\core.py:726: FutureWarning: Pass `evals` as keyword args.\n",
      "  warnings.warn(msg, FutureWarning)\n"
     ]
    },
    {
     "name": "stdout",
     "output_type": "stream",
     "text": [
      "[10]\teval-logloss:0.00223\ttrain-logloss:0.00146\n",
      "[20]\teval-logloss:0.00201\ttrain-logloss:0.00026\n",
      "[30]\teval-logloss:0.00210\ttrain-logloss:0.00011\n",
      "[40]\teval-logloss:0.00212\ttrain-logloss:0.00008\n",
      "[50]\teval-logloss:0.00213\ttrain-logloss:0.00006\n",
      "[60]\teval-logloss:0.00214\ttrain-logloss:0.00005\n",
      "[70]\teval-logloss:0.00218\ttrain-logloss:0.00004\n",
      "[80]\teval-logloss:0.00220\ttrain-logloss:0.00004\n",
      "[90]\teval-logloss:0.00221\ttrain-logloss:0.00004\n",
      "[99]\teval-logloss:0.00222\ttrain-logloss:0.00003\n",
      "[0]\teval-logloss:0.07562\ttrain-logloss:0.07569\n"
     ]
    },
    {
     "name": "stderr",
     "output_type": "stream",
     "text": [
      "c:\\Users\\cleme\\Desktop\\projects\\creditcard-fraud-ML\\venv\\Lib\\site-packages\\xgboost\\core.py:726: FutureWarning: Pass `evals` as keyword args.\n",
      "  warnings.warn(msg, FutureWarning)\n"
     ]
    },
    {
     "name": "stdout",
     "output_type": "stream",
     "text": [
      "[10]\teval-logloss:0.00241\ttrain-logloss:0.00147\n",
      "[20]\teval-logloss:0.00214\ttrain-logloss:0.00025\n",
      "[30]\teval-logloss:0.00223\ttrain-logloss:0.00010\n",
      "[40]\teval-logloss:0.00228\ttrain-logloss:0.00007\n",
      "[50]\teval-logloss:0.00233\ttrain-logloss:0.00006\n",
      "[60]\teval-logloss:0.00233\ttrain-logloss:0.00005\n",
      "[70]\teval-logloss:0.00236\ttrain-logloss:0.00004\n",
      "[80]\teval-logloss:0.00235\ttrain-logloss:0.00004\n",
      "[90]\teval-logloss:0.00236\ttrain-logloss:0.00003\n",
      "[99]\teval-logloss:0.00237\ttrain-logloss:0.00003\n",
      "[0]\teval-logloss:0.07562\ttrain-logloss:0.07569\n"
     ]
    },
    {
     "name": "stderr",
     "output_type": "stream",
     "text": [
      "c:\\Users\\cleme\\Desktop\\projects\\creditcard-fraud-ML\\venv\\Lib\\site-packages\\xgboost\\core.py:726: FutureWarning: Pass `evals` as keyword args.\n",
      "  warnings.warn(msg, FutureWarning)\n"
     ]
    },
    {
     "name": "stdout",
     "output_type": "stream",
     "text": [
      "[10]\teval-logloss:0.00241\ttrain-logloss:0.00147\n",
      "[20]\teval-logloss:0.00214\ttrain-logloss:0.00025\n",
      "[30]\teval-logloss:0.00223\ttrain-logloss:0.00010\n",
      "[40]\teval-logloss:0.00228\ttrain-logloss:0.00007\n",
      "[50]\teval-logloss:0.00233\ttrain-logloss:0.00006\n",
      "[60]\teval-logloss:0.00233\ttrain-logloss:0.00005\n",
      "[70]\teval-logloss:0.00236\ttrain-logloss:0.00004\n",
      "[80]\teval-logloss:0.00235\ttrain-logloss:0.00004\n",
      "[90]\teval-logloss:0.00236\ttrain-logloss:0.00003\n",
      "[99]\teval-logloss:0.00237\ttrain-logloss:0.00003\n",
      "[0]\teval-logloss:0.07562\ttrain-logloss:0.07569\n"
     ]
    },
    {
     "name": "stderr",
     "output_type": "stream",
     "text": [
      "c:\\Users\\cleme\\Desktop\\projects\\creditcard-fraud-ML\\venv\\Lib\\site-packages\\xgboost\\core.py:726: FutureWarning: Pass `evals` as keyword args.\n",
      "  warnings.warn(msg, FutureWarning)\n"
     ]
    },
    {
     "name": "stdout",
     "output_type": "stream",
     "text": [
      "[10]\teval-logloss:0.00241\ttrain-logloss:0.00147\n",
      "[20]\teval-logloss:0.00214\ttrain-logloss:0.00025\n",
      "[30]\teval-logloss:0.00223\ttrain-logloss:0.00010\n",
      "[40]\teval-logloss:0.00228\ttrain-logloss:0.00007\n",
      "[50]\teval-logloss:0.00233\ttrain-logloss:0.00006\n",
      "[60]\teval-logloss:0.00233\ttrain-logloss:0.00005\n",
      "[70]\teval-logloss:0.00236\ttrain-logloss:0.00004\n",
      "[80]\teval-logloss:0.00235\ttrain-logloss:0.00004\n",
      "[90]\teval-logloss:0.00236\ttrain-logloss:0.00003\n",
      "[99]\teval-logloss:0.00237\ttrain-logloss:0.00003\n",
      "[0]\teval-logloss:0.07562\ttrain-logloss:0.07569\n"
     ]
    },
    {
     "name": "stderr",
     "output_type": "stream",
     "text": [
      "c:\\Users\\cleme\\Desktop\\projects\\creditcard-fraud-ML\\venv\\Lib\\site-packages\\xgboost\\core.py:726: FutureWarning: Pass `evals` as keyword args.\n",
      "  warnings.warn(msg, FutureWarning)\n"
     ]
    },
    {
     "name": "stdout",
     "output_type": "stream",
     "text": [
      "[10]\teval-logloss:0.00241\ttrain-logloss:0.00147\n",
      "[20]\teval-logloss:0.00214\ttrain-logloss:0.00025\n",
      "[30]\teval-logloss:0.00223\ttrain-logloss:0.00010\n",
      "[40]\teval-logloss:0.00228\ttrain-logloss:0.00007\n",
      "[50]\teval-logloss:0.00233\ttrain-logloss:0.00006\n",
      "[60]\teval-logloss:0.00233\ttrain-logloss:0.00005\n",
      "[70]\teval-logloss:0.00236\ttrain-logloss:0.00004\n",
      "[80]\teval-logloss:0.00235\ttrain-logloss:0.00004\n",
      "[90]\teval-logloss:0.00236\ttrain-logloss:0.00003\n",
      "[99]\teval-logloss:0.00237\ttrain-logloss:0.00003\n"
     ]
    },
    {
     "name": "stderr",
     "output_type": "stream",
     "text": [
      "c:\\Users\\cleme\\Desktop\\projects\\creditcard-fraud-ML\\venv\\Lib\\site-packages\\xgboost\\core.py:726: FutureWarning: Pass `evals` as keyword args.\n",
      "  warnings.warn(msg, FutureWarning)\n"
     ]
    },
    {
     "name": "stdout",
     "output_type": "stream",
     "text": [
      "[0]\teval-logloss:0.07562\ttrain-logloss:0.07569\n",
      "[10]\teval-logloss:0.00223\ttrain-logloss:0.00146\n",
      "[20]\teval-logloss:0.00201\ttrain-logloss:0.00026\n",
      "[30]\teval-logloss:0.00210\ttrain-logloss:0.00011\n",
      "[40]\teval-logloss:0.00212\ttrain-logloss:0.00008\n",
      "[50]\teval-logloss:0.00213\ttrain-logloss:0.00006\n",
      "[60]\teval-logloss:0.00214\ttrain-logloss:0.00005\n",
      "[70]\teval-logloss:0.00218\ttrain-logloss:0.00004\n",
      "[80]\teval-logloss:0.00220\ttrain-logloss:0.00004\n",
      "[90]\teval-logloss:0.00221\ttrain-logloss:0.00004\n",
      "[99]\teval-logloss:0.00222\ttrain-logloss:0.00003\n",
      "[0]\teval-logloss:0.07562\ttrain-logloss:0.07569\n",
      "[10]\teval-logloss:0.00223\ttrain-logloss:0.00146\n"
     ]
    },
    {
     "name": "stderr",
     "output_type": "stream",
     "text": [
      "c:\\Users\\cleme\\Desktop\\projects\\creditcard-fraud-ML\\venv\\Lib\\site-packages\\xgboost\\core.py:726: FutureWarning: Pass `evals` as keyword args.\n",
      "  warnings.warn(msg, FutureWarning)\n"
     ]
    },
    {
     "name": "stdout",
     "output_type": "stream",
     "text": [
      "[20]\teval-logloss:0.00201\ttrain-logloss:0.00026\n",
      "[30]\teval-logloss:0.00210\ttrain-logloss:0.00011\n",
      "[40]\teval-logloss:0.00212\ttrain-logloss:0.00008\n",
      "[50]\teval-logloss:0.00213\ttrain-logloss:0.00006\n",
      "[60]\teval-logloss:0.00214\ttrain-logloss:0.00005\n",
      "[70]\teval-logloss:0.00218\ttrain-logloss:0.00004\n",
      "[80]\teval-logloss:0.00220\ttrain-logloss:0.00004\n",
      "[90]\teval-logloss:0.00221\ttrain-logloss:0.00004\n",
      "[99]\teval-logloss:0.00222\ttrain-logloss:0.00003\n",
      "[0]\teval-logloss:0.07562\ttrain-logloss:0.07569\n"
     ]
    },
    {
     "name": "stderr",
     "output_type": "stream",
     "text": [
      "c:\\Users\\cleme\\Desktop\\projects\\creditcard-fraud-ML\\venv\\Lib\\site-packages\\xgboost\\core.py:726: FutureWarning: Pass `evals` as keyword args.\n",
      "  warnings.warn(msg, FutureWarning)\n"
     ]
    },
    {
     "name": "stdout",
     "output_type": "stream",
     "text": [
      "[10]\teval-logloss:0.00223\ttrain-logloss:0.00146\n",
      "[20]\teval-logloss:0.00201\ttrain-logloss:0.00026\n",
      "[30]\teval-logloss:0.00210\ttrain-logloss:0.00011\n",
      "[40]\teval-logloss:0.00212\ttrain-logloss:0.00008\n",
      "[50]\teval-logloss:0.00213\ttrain-logloss:0.00006\n",
      "[60]\teval-logloss:0.00214\ttrain-logloss:0.00005\n",
      "[70]\teval-logloss:0.00218\ttrain-logloss:0.00004\n",
      "[80]\teval-logloss:0.00220\ttrain-logloss:0.00004\n",
      "[90]\teval-logloss:0.00221\ttrain-logloss:0.00004\n",
      "[99]\teval-logloss:0.00222\ttrain-logloss:0.00003\n",
      "[0]\teval-logloss:0.07562\ttrain-logloss:0.07569\n"
     ]
    },
    {
     "name": "stderr",
     "output_type": "stream",
     "text": [
      "c:\\Users\\cleme\\Desktop\\projects\\creditcard-fraud-ML\\venv\\Lib\\site-packages\\xgboost\\core.py:726: FutureWarning: Pass `evals` as keyword args.\n",
      "  warnings.warn(msg, FutureWarning)\n"
     ]
    },
    {
     "name": "stdout",
     "output_type": "stream",
     "text": [
      "[10]\teval-logloss:0.00223\ttrain-logloss:0.00146\n",
      "[20]\teval-logloss:0.00201\ttrain-logloss:0.00026\n",
      "[30]\teval-logloss:0.00210\ttrain-logloss:0.00011\n",
      "[40]\teval-logloss:0.00212\ttrain-logloss:0.00008\n",
      "[50]\teval-logloss:0.00213\ttrain-logloss:0.00006\n",
      "[60]\teval-logloss:0.00214\ttrain-logloss:0.00005\n",
      "[70]\teval-logloss:0.00218\ttrain-logloss:0.00004\n",
      "[80]\teval-logloss:0.00220\ttrain-logloss:0.00004\n",
      "[90]\teval-logloss:0.00221\ttrain-logloss:0.00004\n",
      "[99]\teval-logloss:0.00222\ttrain-logloss:0.00003\n"
     ]
    }
   ],
   "source": [
    "# Split data\n",
    "from sklearn.model_selection import train_test_split\n",
    "train, test = train_test_split(df, test_size=0.2, random_state=42)\n",
    "train, validation = train_test_split(train, test_size=0.2)\n",
    "Dtrain = xgb.DMatrix(train.drop(['Class'], axis=1), label=train['Class'])\n",
    "Dval = xgb.DMatrix(validation.drop(['Class'], axis=1), label=validation['Class'])\n",
    "Dtest = xgb.DMatrix(test.drop(['Class'], axis=1), label=test['Class'])\n",
    "\n",
    "search_cv = []\n",
    "\n",
    "for eta in [0.05, 0.1, 0.5]:\n",
    "    for mdepth in [3, 7]:\n",
    "        for tree_method in ['hist', 'approx', 'auto']:\n",
    "            for threshold in [0.2, 0.3, 0.4, 0.5]:\n",
    "                # Train model\n",
    "                param = {\n",
    "                    'max_depth': mdepth,\n",
    "                    'eta': eta,\n",
    "                    'objective': 'binary:logistic',\n",
    "                    'tree_method': tree_method,\n",
    "                }\n",
    "\n",
    "                # Evaluate model\n",
    "                num_round = 100\n",
    "                eval_list = [(Dval, 'eval'), (Dtrain, 'train')]\n",
    "                bst = xgb.train(param, Dtrain, num_round, eval_list, early_stopping_rounds=5, verbose_eval=10)\n",
    "\n",
    "                # Model evaluation\n",
    "                y_pred = pd.DataFrame(bst.predict(Dval) > threshold)\n",
    "                y_val = pd.DataFrame(validation['Class'])\n",
    "                f1_score(y_val, y_pred)\n",
    "                search_cv.append([param, f1_score(y_val, y_pred), threshold])"
   ]
  },
  {
   "cell_type": "code",
   "execution_count": 12,
   "metadata": {},
   "outputs": [],
   "source": [
    "def best_param_xgb(search_cv):\n",
    "    best = 0\n",
    "    for m in search_cv:\n",
    "        if m[1] > best:\n",
    "            best = m[1]\n",
    "            param = m[0]\n",
    "            threshold = m[2]\n",
    "    return param, threshold"
   ]
  },
  {
   "cell_type": "code",
   "execution_count": 13,
   "metadata": {},
   "outputs": [
    {
     "name": "stdout",
     "output_type": "stream",
     "text": [
      "[0]\teval-logloss:0.12404\ttrain-logloss:0.12404\n"
     ]
    },
    {
     "name": "stderr",
     "output_type": "stream",
     "text": [
      "c:\\Users\\cleme\\Desktop\\projects\\creditcard-fraud-ML\\venv\\Lib\\site-packages\\xgboost\\core.py:726: FutureWarning: Pass `evals` as keyword args.\n",
      "  warnings.warn(msg, FutureWarning)\n"
     ]
    },
    {
     "name": "stdout",
     "output_type": "stream",
     "text": [
      "[10]\teval-logloss:0.07344\ttrain-logloss:0.07353\n",
      "[20]\teval-logloss:0.04441\ttrain-logloss:0.04453\n",
      "[30]\teval-logloss:0.02728\ttrain-logloss:0.02738\n",
      "[40]\teval-logloss:0.01708\ttrain-logloss:0.01713\n",
      "[50]\teval-logloss:0.01098\ttrain-logloss:0.01094\n",
      "[60]\teval-logloss:0.00731\ttrain-logloss:0.00716\n",
      "[70]\teval-logloss:0.00509\ttrain-logloss:0.00482\n",
      "[80]\teval-logloss:0.00378\ttrain-logloss:0.00336\n",
      "[90]\teval-logloss:0.00299\ttrain-logloss:0.00244\n",
      "[99]\teval-logloss:0.00253\ttrain-logloss:0.00187\n",
      "We obtain a score of 0.8663594470046084 for xgboost with the following parameters: {'max_depth': 7, 'eta': 0.05, 'objective': 'binary:logistic', 'tree_method': 'hist'} and threshold: 0.4\n"
     ]
    }
   ],
   "source": [
    "b_param, threshold = best_param_xgb(search_cv)\n",
    "eval_list = [(Dval, 'eval'), (Dtrain, 'train')]\n",
    "best_bst = xgb.train(b_param, Dtrain, num_round, eval_list, early_stopping_rounds=5, verbose_eval=10)\n",
    "y_pred = pd.DataFrame(best_bst.predict(Dtest) > threshold)\n",
    "y_test = pd.DataFrame(test['Class'])\n",
    "print(f\"We obtain a score of {f1_score(y_test, y_pred)} for xgboost with the following parameters: {b_param} and threshold: {threshold}\")"
   ]
  },
  {
   "cell_type": "markdown",
   "metadata": {},
   "source": [
    "With the XGBoost model, we manage to have an f1 score of 0.87. We take 0.3 as the threshold of the model, to better recognize the fraud."
   ]
  },
  {
   "attachments": {},
   "cell_type": "markdown",
   "metadata": {},
   "source": [
    "### More model evaluation & results visualization"
   ]
  },
  {
   "cell_type": "code",
   "execution_count": 14,
   "metadata": {},
   "outputs": [
    {
     "data": {
      "text/html": [
       "<div>\n",
       "<style scoped>\n",
       "    .dataframe tbody tr th:only-of-type {\n",
       "        vertical-align: middle;\n",
       "    }\n",
       "\n",
       "    .dataframe tbody tr th {\n",
       "        vertical-align: top;\n",
       "    }\n",
       "\n",
       "    .dataframe thead th {\n",
       "        text-align: right;\n",
       "    }\n",
       "</style>\n",
       "<table border=\"1\" class=\"dataframe\">\n",
       "  <thead>\n",
       "    <tr style=\"text-align: right;\">\n",
       "      <th></th>\n",
       "      <th>Not Fraud</th>\n",
       "      <th>Fraud</th>\n",
       "      <th>accuracy</th>\n",
       "      <th>macro avg</th>\n",
       "      <th>weighted avg</th>\n",
       "    </tr>\n",
       "  </thead>\n",
       "  <tbody>\n",
       "    <tr>\n",
       "      <th>precision</th>\n",
       "      <td>0.999648</td>\n",
       "      <td>0.912621</td>\n",
       "      <td>0.999491</td>\n",
       "      <td>0.956135</td>\n",
       "      <td>0.999474</td>\n",
       "    </tr>\n",
       "    <tr>\n",
       "      <th>recall</th>\n",
       "      <td>0.999842</td>\n",
       "      <td>0.824561</td>\n",
       "      <td>0.999491</td>\n",
       "      <td>0.912202</td>\n",
       "      <td>0.999491</td>\n",
       "    </tr>\n",
       "    <tr>\n",
       "      <th>f1-score</th>\n",
       "      <td>0.999745</td>\n",
       "      <td>0.866359</td>\n",
       "      <td>0.999491</td>\n",
       "      <td>0.933052</td>\n",
       "      <td>0.999478</td>\n",
       "    </tr>\n",
       "    <tr>\n",
       "      <th>support</th>\n",
       "      <td>56848.000000</td>\n",
       "      <td>114.000000</td>\n",
       "      <td>0.999491</td>\n",
       "      <td>56962.000000</td>\n",
       "      <td>56962.000000</td>\n",
       "    </tr>\n",
       "  </tbody>\n",
       "</table>\n",
       "</div>"
      ],
      "text/plain": [
       "              Not Fraud       Fraud  accuracy     macro avg  weighted avg\n",
       "precision      0.999648    0.912621  0.999491      0.956135      0.999474\n",
       "recall         0.999842    0.824561  0.999491      0.912202      0.999491\n",
       "f1-score       0.999745    0.866359  0.999491      0.933052      0.999478\n",
       "support    56848.000000  114.000000  0.999491  56962.000000  56962.000000"
      ]
     },
     "execution_count": 14,
     "metadata": {},
     "output_type": "execute_result"
    }
   ],
   "source": [
    "from sklearn import metrics\n",
    "pd.DataFrame(metrics.classification_report(y_test, y_pred, output_dict=True, target_names=['Not Fraud', 'Fraud']))"
   ]
  },
  {
   "cell_type": "code",
   "execution_count": 15,
   "metadata": {},
   "outputs": [
    {
     "data": {
      "image/png": "[encoded data removed]",
      "text/plain": [
       "<Figure size 640x480 with 2 Axes>"
      ]
     },
     "metadata": {},
     "output_type": "display_data"
    }
   ],
   "source": [
    "import seaborn as sns\n",
    "confusion_matrix = pd.crosstab(y_test.values.T, y_pred.values.T, rownames=['Actual'], colnames=['Predicted'])\n",
    "sns.heatmap(confusion_matrix, annot=True, cmap='Purples', fmt='g')\n",
    "plt.title('Confusion Matrix')\n",
    "plt.savefig('ressources/plots/confusion_matrix_ml.png')"
   ]
  }
 ],
 "metadata": {
  "kernelspec": {
   "display_name": "venv",
   "language": "python",
   "name": "python3"
  },
  "language_info": {
   "codemirror_mode": {
    "name": "ipython",
    "version": 3
   },
   "file_extension": ".py",
   "mimetype": "text/x-python",
   "name": "python",
   "nbconvert_exporter": "python",
   "pygments_lexer": "ipython3",
   "version": "3.11.6"
  },
  "orig_nbformat": 4
 },
 "nbformat": 4,
 "nbformat_minor": 2
}
