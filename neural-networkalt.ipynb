{
 "cells": [
  {
   "cell_type": "markdown",
   "metadata": {},
   "source": [
    "# Neural network"
   ]
  },
  {
   "cell_type": "markdown",
   "metadata": {},
   "source": [
    "### Data"
   ]
  },
  {
   "cell_type": "code",
   "execution_count": 5,
   "metadata": {},
   "outputs": [],
   "source": [
    "import pandas as pd\n",
    "import numpy as np\n",
    "import sklearn\n",
    "from sklearn.model_selection import train_test_split\n",
    "\n",
    "# Importing the dataset\n",
    "df = pd.read_csv('creditcard.csv')\n",
    "df = df.drop(['Time'], axis=1)\n",
    "df.reset_index(drop=True, inplace=True)\n",
    "\n",
    "# Feature Scaling\n",
    "X = (df.drop(['Class'], axis=1).values)\n",
    "medians = np.median(X)\n",
    "q1 = np.quantile(X, 0.25)\n",
    "q3 = np.quantile(X, 0.75)\n",
    "iqr = np.where(q3 - q1 == 0, 0.0001, q3 - q1)\n",
    "\n",
    "# Splitting the dataset into the Training set and Test set\n",
    "X_train, X_test, y_train, y_test = train_test_split((df.drop(['Class'], axis=1) - medians) / iqr, df['Class'], test_size = 0.2, random_state = 1)\n"
   ]
  },
  {
   "cell_type": "markdown",
   "metadata": {},
   "source": [
    "### Model"
   ]
  },
  {
   "cell_type": "code",
   "execution_count": 6,
   "metadata": {},
   "outputs": [
    {
     "name": "stdout",
     "output_type": "stream",
     "text": [
      "Epoch 1/10\n",
      "5697/5697 - 17s - loss: 19.7912 - accuracy: 0.9937 - val_loss: 0.0909 - val_accuracy: 0.9991 - 17s/epoch - 3ms/step\n",
      "Epoch 2/10\n",
      "5697/5697 - 16s - loss: 18.7945 - accuracy: 0.9956 - val_loss: 0.0817 - val_accuracy: 0.9990 - 16s/epoch - 3ms/step\n",
      "Epoch 3/10\n",
      "5697/5697 - 16s - loss: 14.9249 - accuracy: 0.9952 - val_loss: 0.0545 - val_accuracy: 0.9991 - 16s/epoch - 3ms/step\n",
      "Epoch 4/10\n",
      "5697/5697 - 17s - loss: 11.5144 - accuracy: 0.9952 - val_loss: 0.0738 - val_accuracy: 0.9991 - 17s/epoch - 3ms/step\n",
      "Epoch 5/10\n",
      "5697/5697 - 17s - loss: 13.9091 - accuracy: 0.9952 - val_loss: 0.2086 - val_accuracy: 0.9991 - 17s/epoch - 3ms/step\n"
     ]
    }
   ],
   "source": [
    "import tensorflow as tf\n",
    "from tensorflow import keras\n",
    "from tensorflow.keras import layers\n",
    "from sklearn.utils import class_weight\n",
    "\n",
    "indput_d = X_train.shape[1]\n",
    "\n",
    "# Compute class weights\n",
    "class_weights = class_weight.compute_class_weight( class_weight='balanced', classes=np.unique(y_train), y=y_train)\n",
    "class_weights_dict = {0: class_weights[0], 1: class_weights[1]}\n",
    "\n",
    "# Define the model\n",
    "model = keras.Sequential([\n",
    "    layers.Dense(indput_d, activation='relu', input_shape=[indput_d]),\n",
    "    layers.Dense(512, activation='relu'),\n",
    "    layers.Dropout(0.3),\n",
    "    layers.Dense(256, activation='relu'),\n",
    "    layers.Dropout(0.3),\n",
    "    layers.Dense(128, activation='relu'),\n",
    "    layers.Dropout(0.3),\n",
    "    layers.Dense(64, activation='relu'),\n",
    "    layers.Dense(2, activation='softmax'),\n",
    "])\n",
    "\n",
    "# Compile the model\n",
    "model.compile(\n",
    "    optimizer='RMSprop',\n",
    "    loss='sparse_categorical_crossentropy',\n",
    "    metrics=['accuracy'],\n",
    ")\n",
    "epochs = 10\n",
    "batch_size = 32\n",
    "callback = tf.keras.callbacks.EarlyStopping(monitor='accuracy', patience=3)\n",
    "\n",
    "# Train the model\n",
    "H = model.fit(\n",
    "    X_train, y_train,\n",
    "    validation_split=0.2,\n",
    "    batch_size=batch_size,\n",
    "    epochs=epochs,\n",
    "    verbose=2,\n",
    "    class_weight=class_weights_dict,\n",
    "    callbacks=[callback],\n",
    "    shuffle=True\n",
    ")"
   ]
  },
  {
   "cell_type": "code",
   "execution_count": 7,
   "metadata": {},
   "outputs": [
    {
     "name": "stdout",
     "output_type": "stream",
     "text": [
      "1781/1781 [==============================] - 2s 1ms/step\n"
     ]
    },
    {
     "data": {
      "text/html": [
       "<div>\n",
       "<style scoped>\n",
       "    .dataframe tbody tr th:only-of-type {\n",
       "        vertical-align: middle;\n",
       "    }\n",
       "\n",
       "    .dataframe tbody tr th {\n",
       "        vertical-align: top;\n",
       "    }\n",
       "\n",
       "    .dataframe thead th {\n",
       "        text-align: right;\n",
       "    }\n",
       "</style>\n",
       "<table border=\"1\" class=\"dataframe\">\n",
       "  <thead>\n",
       "    <tr style=\"text-align: right;\">\n",
       "      <th></th>\n",
       "      <th>Not Fraud</th>\n",
       "      <th>Fraud</th>\n",
       "      <th>accuracy</th>\n",
       "      <th>macro avg</th>\n",
       "      <th>weighted avg</th>\n",
       "    </tr>\n",
       "  </thead>\n",
       "  <tbody>\n",
       "    <tr>\n",
       "      <th>precision</th>\n",
       "      <td>0.999525</td>\n",
       "      <td>0.800000</td>\n",
       "      <td>0.999263</td>\n",
       "      <td>0.899763</td>\n",
       "      <td>0.999221</td>\n",
       "    </tr>\n",
       "    <tr>\n",
       "      <th>recall</th>\n",
       "      <td>0.999736</td>\n",
       "      <td>0.689655</td>\n",
       "      <td>0.999263</td>\n",
       "      <td>0.844696</td>\n",
       "      <td>0.999263</td>\n",
       "    </tr>\n",
       "    <tr>\n",
       "      <th>f1-score</th>\n",
       "      <td>0.999631</td>\n",
       "      <td>0.740741</td>\n",
       "      <td>0.999263</td>\n",
       "      <td>0.870186</td>\n",
       "      <td>0.999235</td>\n",
       "    </tr>\n",
       "    <tr>\n",
       "      <th>support</th>\n",
       "      <td>56875.000000</td>\n",
       "      <td>87.000000</td>\n",
       "      <td>0.999263</td>\n",
       "      <td>56962.000000</td>\n",
       "      <td>56962.000000</td>\n",
       "    </tr>\n",
       "  </tbody>\n",
       "</table>\n",
       "</div>"
      ],
      "text/plain": [
       "              Not Fraud      Fraud  accuracy     macro avg  weighted avg\n",
       "precision      0.999525   0.800000  0.999263      0.899763      0.999221\n",
       "recall         0.999736   0.689655  0.999263      0.844696      0.999263\n",
       "f1-score       0.999631   0.740741  0.999263      0.870186      0.999235\n",
       "support    56875.000000  87.000000  0.999263  56962.000000  56962.000000"
      ]
     },
     "execution_count": 7,
     "metadata": {},
     "output_type": "execute_result"
    }
   ],
   "source": [
    "# Classification report to evaluate the model\n",
    "from sklearn.metrics import classification_report\n",
    "\n",
    "y_pred = np.argmax(model.predict(X_test), axis=-1)\n",
    "pd.DataFrame(classification_report(y_test, y_pred, output_dict=True, target_names=['Not Fraud', 'Fraud']))"
   ]
  },
  {
   "cell_type": "markdown",
   "metadata": {},
   "source": [
    "We got a f1-score of around 0.87, which is as good as the ML models."
   ]
  },
  {
   "cell_type": "code",
   "execution_count": 8,
   "metadata": {},
   "outputs": [
    {
     "data": {
      "image/png": "[encoded data removed]",
      "text/plain": [
       "<Figure size 640x480 with 2 Axes>"
      ]
     },
     "metadata": {},
     "output_type": "display_data"
    }
   ],
   "source": [
    "# Plot confusion matrix\n",
    "import matplotlib.pyplot as plt\n",
    "import seaborn as sns\n",
    "\n",
    "confusion_matrix = pd.crosstab(y_test.T, y_pred.T, rownames=['Actual'], colnames=['Predicted'])\n",
    "sns.heatmap(confusion_matrix, annot=True, cmap='Purples', fmt='g')\n",
    "plt.title('Confusion Matrix')\n",
    "plt.savefig('ressources/plots/confusion_matrix_dl.png')"
   ]
  }
 ],
 "metadata": {
  "kernelspec": {
   "display_name": "venv",
   "language": "python",
   "name": "python3"
  },
  "language_info": {
   "codemirror_mode": {
    "name": "ipython",
    "version": 3
   },
   "file_extension": ".py",
   "mimetype": "text/x-python",
   "name": "python",
   "nbconvert_exporter": "python",
   "pygments_lexer": "ipython3",
   "version": "3.11.6"
  },
  "orig_nbformat": 4
 },
 "nbformat": 4,
 "nbformat_minor": 2
}
