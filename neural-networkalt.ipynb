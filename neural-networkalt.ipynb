{
 "cells": [
  {
   "cell_type": "markdown",
   "metadata": {},
   "source": [
    "# Neural network"
   ]
  },
  {
   "cell_type": "markdown",
   "metadata": {},
   "source": [
    "### Data"
   ]
  },
  {
   "cell_type": "code",
   "execution_count": 7,
   "metadata": {},
   "outputs": [],
   "source": [
    "import pandas as pd\n",
    "import numpy as np\n",
    "import sklearn\n",
    "from sklearn.model_selection import train_test_split\n",
    "\n",
    "# Importing the dataset\n",
    "df = pd.read_csv('data/creditcard.csv')\n",
    "df = df.drop(['Time'], axis=1)\n",
    "df.reset_index(drop=True, inplace=True)\n",
    "\n",
    "# Feature Scaling\n",
    "X = (df.drop(['Class'], axis=1).values)\n",
    "medians = np.median(X)\n",
    "q1 = np.quantile(X, 0.25)\n",
    "q3 = np.quantile(X, 0.75)\n",
    "iqr = np.where(q3 - q1 == 0, 0.0001, q3 - q1)\n",
    "\n",
    "# Splitting the dataset into the Training set and Test set\n",
    "X_train, X_test, y_train, y_test = train_test_split((df.drop(['Class'], axis=1) - medians) / iqr, df['Class'], test_size = 0.4, random_state = 1)\n",
    "X_val, X_test, y_val, y_test = train_test_split(X_test, y_test, test_size = 0.5, random_state = 1)\n"
   ]
  },
  {
   "cell_type": "markdown",
   "metadata": {},
   "source": [
    "### Model"
   ]
  },
  {
   "cell_type": "code",
   "execution_count": 8,
   "metadata": {},
   "outputs": [
    {
     "name": "stdout",
     "output_type": "stream",
     "text": [
      "Epoch 1/10\n",
      "5341/5341 - 24s - loss: 48.3077 - accuracy: 0.9984 - f1_score: 0.0273 - precision: 0.0274 - recall: 0.0274 - val_loss: 0.0757 - val_accuracy: 0.9992 - val_f1_score: 0.0320 - val_precision: 0.0320 - val_recall: 0.0320 - 24s/epoch - 4ms/step\n",
      "Epoch 2/10\n",
      "5341/5341 - 21s - loss: 44.3856 - accuracy: 0.9988 - f1_score: 0.0320 - precision: 0.0322 - recall: 0.0318 - val_loss: 0.0778 - val_accuracy: 0.9992 - val_f1_score: 0.0303 - val_precision: 0.0303 - val_recall: 0.0303 - 21s/epoch - 4ms/step\n",
      "Epoch 3/10\n",
      "5341/5341 - 21s - loss: 46.8300 - accuracy: 0.9987 - f1_score: 0.0301 - precision: 0.0303 - recall: 0.0302 - val_loss: 0.1651 - val_accuracy: 0.9993 - val_f1_score: 0.0343 - val_precision: 0.0343 - val_recall: 0.0343 - 21s/epoch - 4ms/step\n",
      "Epoch 4/10\n",
      "5341/5341 - 27s - loss: 48.5640 - accuracy: 0.9988 - f1_score: 0.0314 - precision: 0.0318 - recall: 0.0312 - val_loss: 0.1938 - val_accuracy: 0.9993 - val_f1_score: 0.0343 - val_precision: 0.0343 - val_recall: 0.0343 - 27s/epoch - 5ms/step\n",
      "Epoch 5/10\n",
      "5341/5341 - 22s - loss: 48.2005 - accuracy: 0.9988 - f1_score: 0.0323 - precision: 0.0324 - recall: 0.0325 - val_loss: 0.1348 - val_accuracy: 0.9993 - val_f1_score: 0.0343 - val_precision: 0.0343 - val_recall: 0.0343 - 22s/epoch - 4ms/step\n",
      "Epoch 6/10\n",
      "5341/5341 - 21s - loss: 44.9895 - accuracy: 0.9987 - f1_score: 0.0336 - precision: 0.0339 - recall: 0.0335 - val_loss: 0.1516 - val_accuracy: 0.9993 - val_f1_score: 0.0337 - val_precision: 0.0337 - val_recall: 0.0337 - 21s/epoch - 4ms/step\n",
      "Epoch 7/10\n",
      "5341/5341 - 25s - loss: 45.2719 - accuracy: 0.9988 - f1_score: 0.0340 - precision: 0.0340 - recall: 0.0341 - val_loss: 0.1370 - val_accuracy: 0.9993 - val_f1_score: 0.0337 - val_precision: 0.0337 - val_recall: 0.0337 - 25s/epoch - 5ms/step\n",
      "Epoch 8/10\n",
      "5341/5341 - 23s - loss: 46.6071 - accuracy: 0.9987 - f1_score: 0.0345 - precision: 0.0347 - recall: 0.0345 - val_loss: 0.1472 - val_accuracy: 0.9993 - val_f1_score: 0.0343 - val_precision: 0.0343 - val_recall: 0.0343 - 23s/epoch - 4ms/step\n"
     ]
    }
   ],
   "source": [
    "import tensorflow as tf\n",
    "from tensorflow import keras\n",
    "from tensorflow.keras import layers\n",
    "from sklearn.utils import class_weight\n",
    "from tensorflow.keras.metrics import F1Score\n",
    "\n",
    "indput_d = X_train.shape[1]\n",
    "\n",
    "# Compute class weights\n",
    "class_weights = class_weight.compute_class_weight( class_weight='balanced', classes=np.unique(y_train), y=y_train)\n",
    "class_weights_dict = {0: class_weights[0], 1: class_weights[1]}\n",
    "\n",
    "# Custom metrics\n",
    "def precision(y_true, y_pred):\n",
    "    true_positives = tf.keras.backend.sum(tf.keras.backend.round(tf.keras.backend.clip(y_true * y_pred, 0, 1)))\n",
    "    predicted_positives = tf.keras.backend.sum(tf.keras.backend.round(tf.keras.backend.clip(y_pred, 0, 1)))\n",
    "    precision_val = true_positives / (predicted_positives + tf.keras.backend.epsilon())\n",
    "    return precision_val\n",
    "\n",
    "def recall(y_true, y_pred):\n",
    "    true_positives = tf.keras.backend.sum(tf.keras.backend.round(tf.keras.backend.clip(y_true * y_pred, 0, 1)))\n",
    "    possible_positives = tf.keras.backend.sum(tf.keras.backend.round(tf.keras.backend.clip(y_true, 0, 1)))\n",
    "    recall_val = true_positives / (possible_positives + tf.keras.backend.epsilon())\n",
    "    return recall_val\n",
    "\n",
    "def f1_score(y_true, y_pred):\n",
    "    p = precision(y_true, y_pred)\n",
    "    r = recall(y_true, y_pred)\n",
    "    f1_val = 2 * (p * r) / (p + r + tf.keras.backend.epsilon())\n",
    "    return f1_val\n",
    "\n",
    "# Define the model\n",
    "model = keras.Sequential([\n",
    "    layers.Dense(512, activation='relu', input_shape=[indput_d]),\n",
    "    layers.Dropout(0.5),\n",
    "    layers.Dense(256, activation='relu'),\n",
    "    layers.Dropout(0.5),\n",
    "    layers.Dense(128, activation='relu'),\n",
    "    layers.Dropout(0.5),\n",
    "    layers.Dense(1, activation='sigmoid'),\n",
    "])\n",
    "\n",
    "# Compile the model\n",
    "model.compile(\n",
    "    optimizer='RMSprop',\n",
    "    loss='binary_crossentropy',\n",
    "    metrics=['accuracy', f1_score, precision, recall],\n",
    ")\n",
    "epochs = 10\n",
    "batch_size = 32\n",
    "callback = tf.keras.callbacks.EarlyStopping(monitor='accuracy', patience=3)\n",
    "\n",
    "# Train the model\n",
    "H = model.fit(\n",
    "    X_train, y_train,\n",
    "    validation_data=(X_val, y_val),\n",
    "    batch_size=batch_size,\n",
    "    epochs=epochs,\n",
    "    verbose=2,\n",
    "    class_weight=class_weights_dict,\n",
    "    callbacks=[callback]\n",
    ")"
   ]
  },
  {
   "cell_type": "code",
   "execution_count": 9,
   "metadata": {},
   "outputs": [
    {
     "name": "stdout",
     "output_type": "stream",
     "text": [
      "1781/1781 [==============================] - 4s 2ms/step - loss: 0.3335 - accuracy: 0.9991 - f1_score: 0.0339 - precision: 0.0340 - recall: 0.0340\n",
      "Score:  [0.3334958851337433, 0.9990695714950562, 0.033876094967126846, 0.03396967798471451, 0.03396967798471451]\n"
     ]
    }
   ],
   "source": [
    "# Evaluate the model\n",
    "score = model.evaluate(X_test, y_test, verbose=1)\n",
    "print(\"Score: \", score)"
   ]
  },
  {
   "cell_type": "code",
   "execution_count": 10,
   "metadata": {},
   "outputs": [],
   "source": [
    "def f1(y_pred, y_test):\n",
    "    y_pred = y_pred.flatten()\n",
    "    tp = (y_pred * y_test).sum()\n",
    "    fp = (y_pred * (1 - y_test)).sum()\n",
    "    fn = ((1 - y_pred) * y_test).sum()\n",
    "    precision = tp / (tp + fp)\n",
    "    recall = tp / (tp + fn)\n",
    "    f1 = 2 * (precision * recall) / (precision + recall)\n",
    "    return f1"
   ]
  },
  {
   "cell_type": "code",
   "execution_count": 11,
   "metadata": {},
   "outputs": [
    {
     "name": "stdout",
     "output_type": "stream",
     "text": [
      "1781/1781 [==============================] - 4s 2ms/step\n",
      "F1Score:  0.7005649717514125\n"
     ]
    },
    {
     "data": {
      "text/html": [
       "<div>\n",
       "<style scoped>\n",
       "    .dataframe tbody tr th:only-of-type {\n",
       "        vertical-align: middle;\n",
       "    }\n",
       "\n",
       "    .dataframe tbody tr th {\n",
       "        vertical-align: top;\n",
       "    }\n",
       "\n",
       "    .dataframe thead th {\n",
       "        text-align: right;\n",
       "    }\n",
       "</style>\n",
       "<table border=\"1\" class=\"dataframe\">\n",
       "  <thead>\n",
       "    <tr style=\"text-align: right;\">\n",
       "      <th></th>\n",
       "      <th>Not Fraud</th>\n",
       "      <th>Fraud</th>\n",
       "      <th>accuracy</th>\n",
       "      <th>macro avg</th>\n",
       "      <th>weighted avg</th>\n",
       "    </tr>\n",
       "  </thead>\n",
       "  <tbody>\n",
       "    <tr>\n",
       "      <th>precision</th>\n",
       "      <td>0.999367</td>\n",
       "      <td>0.784810</td>\n",
       "      <td>0.99907</td>\n",
       "      <td>0.892089</td>\n",
       "      <td>0.998998</td>\n",
       "    </tr>\n",
       "    <tr>\n",
       "      <th>recall</th>\n",
       "      <td>0.999701</td>\n",
       "      <td>0.632653</td>\n",
       "      <td>0.99907</td>\n",
       "      <td>0.816177</td>\n",
       "      <td>0.999070</td>\n",
       "    </tr>\n",
       "    <tr>\n",
       "      <th>f1-score</th>\n",
       "      <td>0.999534</td>\n",
       "      <td>0.700565</td>\n",
       "      <td>0.99907</td>\n",
       "      <td>0.850050</td>\n",
       "      <td>0.999020</td>\n",
       "    </tr>\n",
       "    <tr>\n",
       "      <th>support</th>\n",
       "      <td>56864.000000</td>\n",
       "      <td>98.000000</td>\n",
       "      <td>0.99907</td>\n",
       "      <td>56962.000000</td>\n",
       "      <td>56962.000000</td>\n",
       "    </tr>\n",
       "  </tbody>\n",
       "</table>\n",
       "</div>"
      ],
      "text/plain": [
       "              Not Fraud      Fraud  accuracy     macro avg  weighted avg\n",
       "precision      0.999367   0.784810   0.99907      0.892089      0.998998\n",
       "recall         0.999701   0.632653   0.99907      0.816177      0.999070\n",
       "f1-score       0.999534   0.700565   0.99907      0.850050      0.999020\n",
       "support    56864.000000  98.000000   0.99907  56962.000000  56962.000000"
      ]
     },
     "execution_count": 11,
     "metadata": {},
     "output_type": "execute_result"
    }
   ],
   "source": [
    "import seaborn as sns\n",
    "from sklearn.metrics import classification_report\n",
    "y_pred = (model.predict(X_test) > 0.5).astype(int)\n",
    "print('F1Score: ', f1( y_pred, y_test))\n",
    "pd.DataFrame(classification_report(y_test, y_pred, output_dict=True, target_names=['Not Fraud', 'Fraud']))"
   ]
  },
  {
   "cell_type": "code",
   "execution_count": 12,
   "metadata": {},
   "outputs": [
    {
     "data": {
      "text/plain": [
       "<Axes: xlabel='Predicted', ylabel='Actual'>"
      ]
     },
     "execution_count": 12,
     "metadata": {},
     "output_type": "execute_result"
    },
    {
     "data": {
      "image/png": "[encoded data removed]",
      "text/plain": [
       "<Figure size 640x480 with 2 Axes>"
      ]
     },
     "metadata": {},
     "output_type": "display_data"
    }
   ],
   "source": [
    "confusion_matrix = pd.crosstab(y_test.T, y_pred.T, rownames=['Actual'], colnames=['Predicted'])\n",
    "sns.heatmap(confusion_matrix, annot=True, cmap='Blues', fmt='g')"
   ]
  }
 ],
 "metadata": {
  "kernelspec": {
   "display_name": "venv",
   "language": "python",
   "name": "python3"
  },
  "language_info": {
   "codemirror_mode": {
    "name": "ipython",
    "version": 3
   },
   "file_extension": ".py",
   "mimetype": "text/x-python",
   "name": "python",
   "nbconvert_exporter": "python",
   "pygments_lexer": "ipython3",
   "version": "3.9.13"
  },
  "orig_nbformat": 4
 },
 "nbformat": 4,
 "nbformat_minor": 2
}
