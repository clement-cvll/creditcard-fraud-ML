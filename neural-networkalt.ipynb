{
 "cells": [
  {
   "cell_type": "markdown",
   "metadata": {},
   "source": [
    "# Neural network"
   ]
  },
  {
   "cell_type": "markdown",
   "metadata": {},
   "source": [
    "### Data"
   ]
  },
  {
   "cell_type": "code",
   "execution_count": 1,
   "metadata": {},
   "outputs": [],
   "source": [
    "import pandas as pd\n",
    "import numpy as np\n",
    "import sklearn\n",
    "from sklearn.model_selection import train_test_split\n",
    "\n",
    "# Importing the dataset\n",
    "df = pd.read_csv('data/creditcard.csv')\n",
    "df = df.drop(['Time'], axis=1)\n",
    "df.reset_index(drop=True, inplace=True)\n",
    "\n",
    "# Feature Scaling\n",
    "X = (df.drop(['Class'], axis=1).values)\n",
    "medians = np.median(X)\n",
    "q1 = np.quantile(X, 0.25)\n",
    "q3 = np.quantile(X, 0.75)\n",
    "iqr = np.where(q3 - q1 == 0, 0.0001, q3 - q1)\n",
    "\n",
    "# Splitting the dataset into the Training set and Test set\n",
    "X_train, X_test, y_train, y_test = train_test_split((df.drop(['Class'], axis=1) - medians) / iqr, df['Class'], test_size = 0.4, random_state = 1)\n",
    "X_val, X_test, y_val, y_test = train_test_split(X_test, y_test, test_size = 0.5, random_state = 1)\n"
   ]
  },
  {
   "cell_type": "markdown",
   "metadata": {},
   "source": [
    "### Model"
   ]
  },
  {
   "cell_type": "code",
   "execution_count": 2,
   "metadata": {},
   "outputs": [
    {
     "name": "stdout",
     "output_type": "stream",
     "text": [
      "Epoch 1/10\n",
      "5341/5341 - 45s - loss: 41.4103 - accuracy: 0.9985 - f1_score: 0.0275 - precision: 0.0275 - recall: 0.0277 - val_loss: 0.0762 - val_accuracy: 0.9993 - val_f1_score: 0.0337 - val_precision: 0.0337 - val_recall: 0.0337 - 45s/epoch - 9ms/step\n",
      "Epoch 2/10\n",
      "5341/5341 - 36s - loss: 40.3364 - accuracy: 0.9989 - f1_score: 0.0335 - precision: 0.0338 - recall: 0.0335 - val_loss: 0.0994 - val_accuracy: 0.9993 - val_f1_score: 0.0337 - val_precision: 0.0337 - val_recall: 0.0337 - 36s/epoch - 7ms/step\n",
      "Epoch 3/10\n",
      "5341/5341 - 38s - loss: 42.4799 - accuracy: 0.9988 - f1_score: 0.0305 - precision: 0.0308 - recall: 0.0304 - val_loss: 0.1421 - val_accuracy: 0.9993 - val_f1_score: 0.0348 - val_precision: 0.0348 - val_recall: 0.0348 - 38s/epoch - 7ms/step\n",
      "Epoch 4/10\n",
      "5341/5341 - 37s - loss: 46.9309 - accuracy: 0.9987 - f1_score: 0.0330 - precision: 0.0329 - recall: 0.0332 - val_loss: 0.0805 - val_accuracy: 0.9994 - val_f1_score: 0.0365 - val_precision: 0.0365 - val_recall: 0.0365 - 37s/epoch - 7ms/step\n",
      "Epoch 5/10\n",
      "5341/5341 - 37s - loss: 44.7505 - accuracy: 0.9987 - f1_score: 0.0311 - precision: 0.0313 - recall: 0.0311 - val_loss: 0.1546 - val_accuracy: 0.9993 - val_f1_score: 0.0337 - val_precision: 0.0337 - val_recall: 0.0337 - 37s/epoch - 7ms/step\n"
     ]
    }
   ],
   "source": [
    "import tensorflow as tf\n",
    "from tensorflow import keras\n",
    "from tensorflow.keras import layers\n",
    "from sklearn.utils import class_weight\n",
    "from tensorflow.keras.metrics import F1Score\n",
    "\n",
    "indput_d = X_train.shape[1]\n",
    "\n",
    "# Compute class weights\n",
    "class_weights = class_weight.compute_class_weight( class_weight='balanced', classes=np.unique(y_train), y=y_train)\n",
    "class_weights_dict = {0: class_weights[0], 1: class_weights[1]}\n",
    "\n",
    "# Custom metrics\n",
    "def precision(y_true, y_pred):\n",
    "    true_positives = tf.keras.backend.sum(tf.keras.backend.round(tf.keras.backend.clip(y_true * y_pred, 0, 1)))\n",
    "    predicted_positives = tf.keras.backend.sum(tf.keras.backend.round(tf.keras.backend.clip(y_pred, 0, 1)))\n",
    "    precision_val = true_positives / (predicted_positives + tf.keras.backend.epsilon())\n",
    "    return precision_val\n",
    "\n",
    "def recall(y_true, y_pred):\n",
    "    true_positives = tf.keras.backend.sum(tf.keras.backend.round(tf.keras.backend.clip(y_true * y_pred, 0, 1)))\n",
    "    possible_positives = tf.keras.backend.sum(tf.keras.backend.round(tf.keras.backend.clip(y_true, 0, 1)))\n",
    "    recall_val = true_positives / (possible_positives + tf.keras.backend.epsilon())\n",
    "    return recall_val\n",
    "\n",
    "def f1_score(y_true, y_pred):\n",
    "    p = precision(y_true, y_pred)\n",
    "    r = recall(y_true, y_pred)\n",
    "    f1_val = 2 * (p * r) / (p + r + tf.keras.backend.epsilon())\n",
    "    return f1_val\n",
    "\n",
    "# Define the model\n",
    "model = keras.Sequential([\n",
    "    layers.Dense(512, activation='relu', input_shape=[indput_d]),\n",
    "    layers.Dropout(0.5),\n",
    "    layers.Dense(256, activation='relu'),\n",
    "    layers.Dropout(0.5),\n",
    "    layers.Dense(128, activation='relu'),\n",
    "    layers.Dropout(0.5),\n",
    "    layers.Dense(1, activation='sigmoid'),\n",
    "])\n",
    "\n",
    "# Compile the model\n",
    "model.compile(\n",
    "    optimizer='RMSprop',\n",
    "    loss='binary_crossentropy',\n",
    "    metrics=['accuracy', f1_score, precision, recall],\n",
    ")\n",
    "epochs = 10\n",
    "batch_size = 32\n",
    "callback = tf.keras.callbacks.EarlyStopping(monitor='accuracy', patience=3)\n",
    "\n",
    "# Train the model\n",
    "H = model.fit(\n",
    "    X_train, y_train,\n",
    "    validation_data=(X_val, y_val),\n",
    "    batch_size=batch_size,\n",
    "    epochs=epochs,\n",
    "    verbose=2,\n",
    "    class_weight=class_weights_dict,\n",
    "    callbacks=[callback]\n",
    ")"
   ]
  },
  {
   "cell_type": "code",
   "execution_count": 3,
   "metadata": {},
   "outputs": [
    {
     "name": "stdout",
     "output_type": "stream",
     "text": [
      "1781/1781 [==============================] - 7s 4ms/step - loss: 0.3367 - accuracy: 0.9991 - f1_score: 0.0333 - precision: 0.0334 - recall: 0.0334\n",
      "Score:  [0.33673757314682007, 0.9990695714950562, 0.03331461548805237, 0.03340819478034973, 0.03340819478034973]\n"
     ]
    }
   ],
   "source": [
    "# Evaluate the model\n",
    "score = model.evaluate(X_test, y_test, verbose=1)\n",
    "print(\"Score: \", score)"
   ]
  },
  {
   "cell_type": "code",
   "execution_count": 4,
   "metadata": {},
   "outputs": [],
   "source": [
    "def f1(y_pred, y_test):\n",
    "    y_pred = y_pred.flatten()\n",
    "    tp = (y_pred * y_test).sum()\n",
    "    fp = (y_pred * (1 - y_test)).sum()\n",
    "    fn = ((1 - y_pred) * y_test).sum()\n",
    "    precision = tp / (tp + fp)\n",
    "    recall = tp / (tp + fn)\n",
    "    f1 = 2 * (precision * recall) / (precision + recall)\n",
    "    return f1"
   ]
  },
  {
   "cell_type": "code",
   "execution_count": 7,
   "metadata": {},
   "outputs": [
    {
     "name": "stdout",
     "output_type": "stream",
     "text": [
      "1781/1781 [==============================] - 6s 3ms/step\n",
      "F1Score:  0.6971428571428572\n"
     ]
    },
    {
     "data": {
      "text/html": [
       "<div>\n",
       "<style scoped>\n",
       "    .dataframe tbody tr th:only-of-type {\n",
       "        vertical-align: middle;\n",
       "    }\n",
       "\n",
       "    .dataframe tbody tr th {\n",
       "        vertical-align: top;\n",
       "    }\n",
       "\n",
       "    .dataframe thead th {\n",
       "        text-align: right;\n",
       "    }\n",
       "</style>\n",
       "<table border=\"1\" class=\"dataframe\">\n",
       "  <thead>\n",
       "    <tr style=\"text-align: right;\">\n",
       "      <th></th>\n",
       "      <th>Not Fraud</th>\n",
       "      <th>Fraud</th>\n",
       "      <th>accuracy</th>\n",
       "      <th>macro avg</th>\n",
       "      <th>weighted avg</th>\n",
       "    </tr>\n",
       "  </thead>\n",
       "  <tbody>\n",
       "    <tr>\n",
       "      <th>precision</th>\n",
       "      <td>0.999350</td>\n",
       "      <td>0.792208</td>\n",
       "      <td>0.99907</td>\n",
       "      <td>0.895779</td>\n",
       "      <td>0.998993</td>\n",
       "    </tr>\n",
       "    <tr>\n",
       "      <th>recall</th>\n",
       "      <td>0.999719</td>\n",
       "      <td>0.622449</td>\n",
       "      <td>0.99907</td>\n",
       "      <td>0.811084</td>\n",
       "      <td>0.999070</td>\n",
       "    </tr>\n",
       "    <tr>\n",
       "      <th>f1-score</th>\n",
       "      <td>0.999534</td>\n",
       "      <td>0.697143</td>\n",
       "      <td>0.99907</td>\n",
       "      <td>0.848338</td>\n",
       "      <td>0.999014</td>\n",
       "    </tr>\n",
       "    <tr>\n",
       "      <th>support</th>\n",
       "      <td>56864.000000</td>\n",
       "      <td>98.000000</td>\n",
       "      <td>0.99907</td>\n",
       "      <td>56962.000000</td>\n",
       "      <td>56962.000000</td>\n",
       "    </tr>\n",
       "  </tbody>\n",
       "</table>\n",
       "</div>"
      ],
      "text/plain": [
       "              Not Fraud      Fraud  accuracy     macro avg  weighted avg\n",
       "precision      0.999350   0.792208   0.99907      0.895779      0.998993\n",
       "recall         0.999719   0.622449   0.99907      0.811084      0.999070\n",
       "f1-score       0.999534   0.697143   0.99907      0.848338      0.999014\n",
       "support    56864.000000  98.000000   0.99907  56962.000000  56962.000000"
      ]
     },
     "execution_count": 7,
     "metadata": {},
     "output_type": "execute_result"
    }
   ],
   "source": [
    "import seaborn as sns\n",
    "from sklearn.metrics import classification_report\n",
    "import matplotlib.pyplot as plt\n",
    "y_pred = (model.predict(X_test) > 0.5).astype(int)\n",
    "print('F1Score: ', f1( y_pred, y_test))\n",
    "pd.DataFrame(classification_report(y_test, y_pred, output_dict=True, target_names=['Not Fraud', 'Fraud']))"
   ]
  },
  {
   "cell_type": "code",
   "execution_count": 10,
   "metadata": {},
   "outputs": [
    {
     "data": {
      "image/png": "[encoded data removed]",
      "text/plain": [
       "<Figure size 640x480 with 2 Axes>"
      ]
     },
     "metadata": {},
     "output_type": "display_data"
    }
   ],
   "source": [
    "confusion_matrix = pd.crosstab(y_test.T, y_pred.T, rownames=['Actual'], colnames=['Predicted'])\n",
    "sns.heatmap(confusion_matrix, annot=True, cmap='Purples', fmt='g')\n",
    "plt.title('Confusion Matrix')\n",
    "plt.savefig('ressources/plots/confusion_matrix_dl.png')"
   ]
  }
 ],
 "metadata": {
  "kernelspec": {
   "display_name": "venv",
   "language": "python",
   "name": "python3"
  },
  "language_info": {
   "codemirror_mode": {
    "name": "ipython",
    "version": 3
   },
   "file_extension": ".py",
   "mimetype": "text/x-python",
   "name": "python",
   "nbconvert_exporter": "python",
   "pygments_lexer": "ipython3",
   "version": "3.9.13"
  },
  "orig_nbformat": 4
 },
 "nbformat": 4,
 "nbformat_minor": 2
}
