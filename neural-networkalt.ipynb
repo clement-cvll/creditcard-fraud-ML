{
 "cells": [
  {
   "cell_type": "markdown",
   "metadata": {},
   "source": [
    "# Neural network"
   ]
  },
  {
   "cell_type": "markdown",
   "metadata": {},
   "source": [
    "### Data"
   ]
  },
  {
   "cell_type": "code",
   "execution_count": 3,
   "metadata": {},
   "outputs": [],
   "source": [
    "import pandas as pd\n",
    "import numpy as np\n",
    "import sklearn\n",
    "from sklearn.model_selection import train_test_split\n",
    "\n",
    "# Importing the dataset\n",
    "df = pd.read_csv('creditcard.csv')\n",
    "df = df.drop(['Time'], axis=1)\n",
    "df.reset_index(drop=True, inplace=True)\n",
    "\n",
    "# Feature Scaling\n",
    "X = (df.drop(['Class'], axis=1).values)\n",
    "medians = np.median(X)\n",
    "q1 = np.quantile(X, 0.25)\n",
    "q3 = np.quantile(X, 0.75)\n",
    "iqr = np.where(q3 - q1 == 0, 0.0001, q3 - q1)\n",
    "\n",
    "# Splitting the dataset into the Training set and Test set\n",
    "X_train, X_test, y_train, y_test = train_test_split((df.drop(['Class'], axis=1) - medians) / iqr, df['Class'], test_size = 0.4, random_state = 1)\n",
    "X_val, X_test, y_val, y_test = train_test_split(X_test, y_test, test_size = 0.5, random_state = 1)\n"
   ]
  },
  {
   "cell_type": "markdown",
   "metadata": {},
   "source": [
    "### Model"
   ]
  },
  {
   "cell_type": "code",
   "execution_count": 4,
   "metadata": {},
   "outputs": [
    {
     "name": "stdout",
     "output_type": "stream",
     "text": [
      "Epoch 1/10\n",
      "5341/5341 - 17s - loss: 34.7102 - accuracy: 0.9984 - f1_score: 0.0275 - precision: 0.0276 - recall: 0.0275 - val_loss: 0.1041 - val_accuracy: 0.9993 - val_f1_score: 0.0337 - val_precision: 0.0337 - val_recall: 0.0337 - 17s/epoch - 3ms/step\n",
      "Epoch 2/10\n",
      "5341/5341 - 16s - loss: 39.7972 - accuracy: 0.9987 - f1_score: 0.0330 - precision: 0.0330 - recall: 0.0332 - val_loss: 0.0978 - val_accuracy: 0.9993 - val_f1_score: 0.0348 - val_precision: 0.0348 - val_recall: 0.0348 - 16s/epoch - 3ms/step\n",
      "Epoch 3/10\n",
      "5341/5341 - 16s - loss: 46.4974 - accuracy: 0.9988 - f1_score: 0.0332 - precision: 0.0335 - recall: 0.0330 - val_loss: 0.1137 - val_accuracy: 0.9993 - val_f1_score: 0.0337 - val_precision: 0.0337 - val_recall: 0.0337 - 16s/epoch - 3ms/step\n",
      "Epoch 4/10\n",
      "5341/5341 - 15s - loss: 47.6709 - accuracy: 0.9988 - f1_score: 0.0335 - precision: 0.0335 - recall: 0.0335 - val_loss: 0.1320 - val_accuracy: 0.9993 - val_f1_score: 0.0348 - val_precision: 0.0348 - val_recall: 0.0348 - 15s/epoch - 3ms/step\n",
      "Epoch 5/10\n",
      "5341/5341 - 15s - loss: 51.3154 - accuracy: 0.9988 - f1_score: 0.0321 - precision: 0.0322 - recall: 0.0322 - val_loss: 0.1364 - val_accuracy: 0.9993 - val_f1_score: 0.0348 - val_precision: 0.0348 - val_recall: 0.0348 - 15s/epoch - 3ms/step\n",
      "Epoch 6/10\n",
      "5341/5341 - 15s - loss: 56.9389 - accuracy: 0.9989 - f1_score: 0.0335 - precision: 0.0338 - recall: 0.0334 - val_loss: 0.1794 - val_accuracy: 0.9993 - val_f1_score: 0.0348 - val_precision: 0.0348 - val_recall: 0.0348 - 15s/epoch - 3ms/step\n",
      "Epoch 7/10\n",
      "5341/5341 - 15s - loss: 54.7577 - accuracy: 0.9988 - f1_score: 0.0346 - precision: 0.0348 - recall: 0.0346 - val_loss: 0.1388 - val_accuracy: 0.9993 - val_f1_score: 0.0343 - val_precision: 0.0343 - val_recall: 0.0343 - 15s/epoch - 3ms/step\n",
      "Epoch 8/10\n",
      "5341/5341 - 15s - loss: 53.5740 - accuracy: 0.9987 - f1_score: 0.0356 - precision: 0.0358 - recall: 0.0356 - val_loss: 0.1425 - val_accuracy: 0.9993 - val_f1_score: 0.0348 - val_precision: 0.0348 - val_recall: 0.0348 - 15s/epoch - 3ms/step\n",
      "Epoch 9/10\n",
      "5341/5341 - 15s - loss: 52.8942 - accuracy: 0.9988 - f1_score: 0.0355 - precision: 0.0357 - recall: 0.0355 - val_loss: 0.0833 - val_accuracy: 0.9994 - val_f1_score: 0.0371 - val_precision: 0.0371 - val_recall: 0.0371 - 15s/epoch - 3ms/step\n"
     ]
    }
   ],
   "source": [
    "import tensorflow as tf\n",
    "from tensorflow import keras\n",
    "from tensorflow.keras import layers\n",
    "from sklearn.utils import class_weight\n",
    "from tensorflow.keras.metrics import F1Score\n",
    "\n",
    "indput_d = X_train.shape[1]\n",
    "\n",
    "# Compute class weights\n",
    "class_weights = class_weight.compute_class_weight( class_weight='balanced', classes=np.unique(y_train), y=y_train)\n",
    "class_weights_dict = {0: class_weights[0], 1: class_weights[1]}\n",
    "\n",
    "# Custom metrics\n",
    "def precision(y_true, y_pred):\n",
    "    true_positives = tf.keras.backend.sum(tf.keras.backend.round(tf.keras.backend.clip(y_true * y_pred, 0, 1)))\n",
    "    predicted_positives = tf.keras.backend.sum(tf.keras.backend.round(tf.keras.backend.clip(y_pred, 0, 1)))\n",
    "    precision_val = true_positives / (predicted_positives + tf.keras.backend.epsilon())\n",
    "    return precision_val\n",
    "\n",
    "def recall(y_true, y_pred):\n",
    "    true_positives = tf.keras.backend.sum(tf.keras.backend.round(tf.keras.backend.clip(y_true * y_pred, 0, 1)))\n",
    "    possible_positives = tf.keras.backend.sum(tf.keras.backend.round(tf.keras.backend.clip(y_true, 0, 1)))\n",
    "    recall_val = true_positives / (possible_positives + tf.keras.backend.epsilon())\n",
    "    return recall_val\n",
    "\n",
    "def f1_score(y_true, y_pred):\n",
    "    p = precision(y_true, y_pred)\n",
    "    r = recall(y_true, y_pred)\n",
    "    f1_val = 2 * (p * r) / (p + r + tf.keras.backend.epsilon())\n",
    "    return f1_val\n",
    "\n",
    "# Define the model\n",
    "model = keras.Sequential([\n",
    "    layers.Dense(512, activation='relu', input_shape=[indput_d]),\n",
    "    layers.Dropout(0.5),\n",
    "    layers.Dense(256, activation='relu'),\n",
    "    layers.Dropout(0.5),\n",
    "    layers.Dense(128, activation='relu'),\n",
    "    layers.Dropout(0.5),\n",
    "    layers.Dense(1, activation='sigmoid'),\n",
    "])\n",
    "\n",
    "# Compile the model\n",
    "model.compile(\n",
    "    optimizer='RMSprop',\n",
    "    loss='binary_crossentropy',\n",
    "    metrics=['accuracy', f1_score, precision, recall],\n",
    ")\n",
    "epochs = 10\n",
    "batch_size = 32\n",
    "callback = tf.keras.callbacks.EarlyStopping(monitor='accuracy', patience=3)\n",
    "\n",
    "# Train the model\n",
    "H = model.fit(\n",
    "    X_train, y_train,\n",
    "    validation_data=(X_val, y_val),\n",
    "    batch_size=batch_size,\n",
    "    epochs=epochs,\n",
    "    verbose=2,\n",
    "    class_weight=class_weights_dict,\n",
    "    callbacks=[callback]\n",
    ")"
   ]
  },
  {
   "cell_type": "code",
   "execution_count": 5,
   "metadata": {},
   "outputs": [
    {
     "name": "stdout",
     "output_type": "stream",
     "text": [
      "1781/1781 [==============================] - 2s 1ms/step - loss: 0.2035 - accuracy: 0.9991 - f1_score: 0.0356 - precision: 0.0357 - recall: 0.0357\n",
      "Score:  [0.20353715121746063, 0.9990519881248474, 0.035560544580221176, 0.03565412387251854, 0.03565412387251854]\n"
     ]
    }
   ],
   "source": [
    "# Evaluate the model\n",
    "score = model.evaluate(X_test, y_test, verbose=1)\n",
    "print(\"Score: \", score)"
   ]
  },
  {
   "cell_type": "code",
   "execution_count": 6,
   "metadata": {},
   "outputs": [],
   "source": [
    "def f1(y_pred, y_test):\n",
    "    y_pred = y_pred.flatten()\n",
    "    tp = (y_pred * y_test).sum()\n",
    "    fp = (y_pred * (1 - y_test)).sum()\n",
    "    fn = ((1 - y_pred) * y_test).sum()\n",
    "    precision = tp / (tp + fp)\n",
    "    recall = tp / (tp + fn)\n",
    "    f1 = 2 * (precision * recall) / (precision + recall)\n",
    "    return f1"
   ]
  },
  {
   "cell_type": "code",
   "execution_count": 7,
   "metadata": {},
   "outputs": [
    {
     "name": "stdout",
     "output_type": "stream",
     "text": [
      "1781/1781 [==============================] - 2s 1ms/step\n",
      "F1Score:  0.7065217391304347\n"
     ]
    },
    {
     "data": {
      "text/html": [
       "<div>\n",
       "<style scoped>\n",
       "    .dataframe tbody tr th:only-of-type {\n",
       "        vertical-align: middle;\n",
       "    }\n",
       "\n",
       "    .dataframe tbody tr th {\n",
       "        vertical-align: top;\n",
       "    }\n",
       "\n",
       "    .dataframe thead th {\n",
       "        text-align: right;\n",
       "    }\n",
       "</style>\n",
       "<table border=\"1\" class=\"dataframe\">\n",
       "  <thead>\n",
       "    <tr style=\"text-align: right;\">\n",
       "      <th></th>\n",
       "      <th>Not Fraud</th>\n",
       "      <th>Fraud</th>\n",
       "      <th>accuracy</th>\n",
       "      <th>macro avg</th>\n",
       "      <th>weighted avg</th>\n",
       "    </tr>\n",
       "  </thead>\n",
       "  <tbody>\n",
       "    <tr>\n",
       "      <th>precision</th>\n",
       "      <td>0.999420</td>\n",
       "      <td>0.755814</td>\n",
       "      <td>0.999052</td>\n",
       "      <td>0.877617</td>\n",
       "      <td>0.999001</td>\n",
       "    </tr>\n",
       "    <tr>\n",
       "      <th>recall</th>\n",
       "      <td>0.999631</td>\n",
       "      <td>0.663265</td>\n",
       "      <td>0.999052</td>\n",
       "      <td>0.831448</td>\n",
       "      <td>0.999052</td>\n",
       "    </tr>\n",
       "    <tr>\n",
       "      <th>f1-score</th>\n",
       "      <td>0.999525</td>\n",
       "      <td>0.706522</td>\n",
       "      <td>0.999052</td>\n",
       "      <td>0.853023</td>\n",
       "      <td>0.999021</td>\n",
       "    </tr>\n",
       "    <tr>\n",
       "      <th>support</th>\n",
       "      <td>56864.000000</td>\n",
       "      <td>98.000000</td>\n",
       "      <td>0.999052</td>\n",
       "      <td>56962.000000</td>\n",
       "      <td>56962.000000</td>\n",
       "    </tr>\n",
       "  </tbody>\n",
       "</table>\n",
       "</div>"
      ],
      "text/plain": [
       "              Not Fraud      Fraud  accuracy     macro avg  weighted avg\n",
       "precision      0.999420   0.755814  0.999052      0.877617      0.999001\n",
       "recall         0.999631   0.663265  0.999052      0.831448      0.999052\n",
       "f1-score       0.999525   0.706522  0.999052      0.853023      0.999021\n",
       "support    56864.000000  98.000000  0.999052  56962.000000  56962.000000"
      ]
     },
     "execution_count": 7,
     "metadata": {},
     "output_type": "execute_result"
    }
   ],
   "source": [
    "import seaborn as sns\n",
    "from sklearn.metrics import classification_report\n",
    "import matplotlib.pyplot as plt\n",
    "y_pred = (model.predict(X_test) > 0.5).astype(int)\n",
    "print('F1Score: ', f1( y_pred, y_test))\n",
    "pd.DataFrame(classification_report(y_test, y_pred, output_dict=True, target_names=['Not Fraud', 'Fraud']))"
   ]
  },
  {
   "cell_type": "code",
   "execution_count": 8,
   "metadata": {},
   "outputs": [
    {
     "data": {
      "image/png": "[encoded data removed]",
      "text/plain": [
       "<Figure size 640x480 with 2 Axes>"
      ]
     },
     "metadata": {},
     "output_type": "display_data"
    }
   ],
   "source": [
    "confusion_matrix = pd.crosstab(y_test.T, y_pred.T, rownames=['Actual'], colnames=['Predicted'])\n",
    "sns.heatmap(confusion_matrix, annot=True, cmap='Purples', fmt='g')\n",
    "plt.title('Confusion Matrix')\n",
    "plt.savefig('ressources/plots/confusion_matrix_dl.png')"
   ]
  }
 ],
 "metadata": {
  "kernelspec": {
   "display_name": "venv",
   "language": "python",
   "name": "python3"
  },
  "language_info": {
   "codemirror_mode": {
    "name": "ipython",
    "version": 3
   },
   "file_extension": ".py",
   "mimetype": "text/x-python",
   "name": "python",
   "nbconvert_exporter": "python",
   "pygments_lexer": "ipython3",
   "version": "3.11.6"
  },
  "orig_nbformat": 4
 },
 "nbformat": 4,
 "nbformat_minor": 2
}
